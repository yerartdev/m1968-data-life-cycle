{
 "cells": [
  {
   "cell_type": "markdown",
   "metadata": {},
   "source": [
    "# Alumno: Gerardo de Miguel González"
   ]
  },
  {
   "cell_type": "markdown",
   "metadata": {},
   "source": [
    "## OAI-PMH\n",
    "\n",
    "La documentación del protocolo la podéis encontrar aquí:\n",
    "\n",
    "https://www.openarchives.org/OAI/openarchivesprotocol.html\n",
    "\n",
    "## Bibliotecas necesarias para la práctica\n",
    "\n",
    "```python\n",
    "import xml.etree.ElementTree as ET\n",
    "import requests\n",
    "import json\n",
    "```"
   ]
  },
  {
   "cell_type": "markdown",
   "metadata": {},
   "source": [
    "**::GMG::** Como es habitual en mi, exploro caminos *alternativos*. Además de las bibliotecas que se\n",
    "indican, yo he encontrado las siguientes:\n",
    "\n",
    "- [lxml](https://lxml.de/) - XML and HTML with Python, \"*lxml is the most feature-rich and easy-to-use library for processing XML and HTML in the Python language.*\" (sic) y con la que [se puede](https://lxml.de/xpathxslt.html#xpath) usar [XPath](https://devhints.io/xpath)\n",
    "- Sickle ([PyPi](https://pypi.org/project/Sickle/), [Github](https://github.com/mloesch/sickle), [ReadTheDocs](https://sickle.readthedocs.io/en/latest/), [pdf](https://media.readthedocs.org/pdf/sickle/latest/sickle.pdf))\n",
    "- PyOAI ([PyPi](https://pypi.org/project/pyoai/), [Github](https://github.com/infrae/pyoai), [HomePage](http://infrae.com/download/OAI/pyoai))\n",
    "\n",
    "La primera es una alternativa a ET que dicen (ellos, los de lxml) que es mejor :)\n",
    "\n",
    "> The lxml XML toolkit is a Pythonic binding for the C libraries libxml2 and libxslt. It is unique in that it combines the speed and XML feature completeness of these libraries with the simplicity of a native Python API, mostly compatible but superior to the well-known ElementTree.\n",
    "\n",
    "**::nota::** Está *instalada* en DataScienceHub, por que la instalé yo (creo, con --user) en otra práctica :)"
   ]
  },
  {
   "cell_type": "code",
   "execution_count": 1,
   "metadata": {},
   "outputs": [
    {
     "name": "stdout",
     "output_type": "stream",
     "text": [
      "lxml         4.2.5      \n",
      "\u001b[33mYou are using pip version 18.0, however version 18.1 is available.\n",
      "You should consider upgrading via the 'pip install --upgrade pip' command.\u001b[0m\n"
     ]
    }
   ],
   "source": [
    "!pip3 list --user|egrep -i '(lxml)'"
   ]
  },
  {
   "cell_type": "markdown",
   "metadata": {},
   "source": [
    "**::GMG::** Las otras dos son bibliotecas específicas para OAI-PMH, que se llaman *harvesters*. Facilitan mucho la vida para trabajar\n",
    "con registros y colecciones, alejándose del manejo directo de documentos XML.\n",
    "\n",
    "No están instalados en DataScienceHub pero se pueden instalar :)\n",
    "\n",
    "```bash\n",
    "jovyan@cfbf9fe90c2c:~/work/m1968/oaipmh$ pip3 install --user pyoai\n",
    "\n",
    "Collecting pyoai\n",
    "  Downloading https://files.pythonhosted.org/packages/21/3c/0ad6e6d50fc355be718fe667541797a27d0252641983b7925df685ef2163/pyoai-2.5.0.tar.gz (106kB)\n",
    "    100% |████████████████████████████████| 112kB 1.1MB/s\n",
    "Requirement already satisfied: lxml in /home/jovyan/.local/lib/python3.6/site-packages (from pyoai) (4.2.5)\n",
    "Requirement already satisfied: six in /opt/conda/lib/python3.6/site-packages (from pyoai) (1.11.0)\n",
    "Building wheels for collected packages: pyoai\n",
    "  Running setup.py bdist_wheel for pyoai ... done\n",
    "  Stored in directory: /home/jovyan/.cache/pip/wheels/63/18/82/8019b0aebb613d05a5af7f7ed6276bd2a683333d9b1bbf6af0\n",
    "Successfully built pyoai\n",
    "Installing collected packages: pyoai\n",
    "Successfully installed pyoai-2.5.0\n",
    "\n",
    "jovyan@cfbf9fe90c2c:~/work/m1968/oaipmh$ pip3 install --user sickle\n",
    "Collecting sickle\n",
    "  Downloading https://files.pythonhosted.org/packages/78/73/f6d224de9c336418cc33be7e0101da0fda8f5afe2fb7e459279ba759e61a/Sickle-0.6.4-py3-none-any.whl\n",
    "Requirement already satisfied: requests>=1.1.0 in /opt/conda/lib/python3.6/site-packages (from sickle) (2.19.1)\n",
    "Requirement already satisfied: lxml>=3.2.3 in /home/jovyan/.local/lib/python3.6/site-packages (from sickle) (4.2.5)\n",
    "Requirement already satisfied: chardet<3.1.0,>=3.0.2 in /opt/conda/lib/python3.6/site-packages (from requests>=1.1.0->sickle) (3.0.4)\n",
    "Requirement already satisfied: idna<2.8,>=2.5 in /opt/conda/lib/python3.6/site-packages (from requests>=1.1.0->sickle) (2.7)\n",
    "Requirement already satisfied: urllib3<1.24,>=1.21.1 in /opt/conda/lib/python3.6/site-packages (from requests>=1.1.0->sickle) (1.23)\n",
    "Requirement already satisfied: certifi>=2017.4.17 in /opt/conda/lib/python3.6/site-packages (from requests>=1.1.0->sickle) (2018.8.13)\n",
    "Installing collected packages: sickle\n",
    "Successfully installed sickle-0.6.4\n",
    "```"
   ]
  },
  {
   "cell_type": "code",
   "execution_count": 2,
   "metadata": {},
   "outputs": [
    {
     "name": "stdout",
     "output_type": "stream",
     "text": [
      "lxml         4.2.5      \n",
      "pyoai        2.5.0      \n",
      "Sickle       0.6.4      \n",
      "\u001b[33mYou are using pip version 18.0, however version 18.1 is available.\n",
      "You should consider upgrading via the 'pip install --upgrade pip' command.\u001b[0m\n"
     ]
    }
   ],
   "source": [
    "!pip3 list --user|egrep -i '(lxml|pyoai|sickle)'"
   ]
  },
  {
   "cell_type": "code",
   "execution_count": 1,
   "metadata": {},
   "outputs": [],
   "source": [
    "#::GMG::Importo las bibliotecas \"oficiales\" para la práctica\n",
    "import xml.etree.ElementTree as ET\n",
    "import requests\n",
    "import json"
   ]
  },
  {
   "cell_type": "code",
   "execution_count": 2,
   "metadata": {},
   "outputs": [],
   "source": [
    "#::GMG::Importo mis bibliotecas\n",
    "from lxml import etree\n",
    "from sickle import Sickle\n",
    "#::nota::pyOAI\n",
    "from oaipmh.client import Client\n",
    "from oaipmh.metadata import MetadataRegistry, oai_dc_reader"
   ]
  },
  {
   "cell_type": "markdown",
   "metadata": {},
   "source": [
    "## Identify\n",
    "\n",
    "This verb is used to retrieve information about a repository. Some of the information returned is required as part of the OAI-PMH. Repositories may also employ the Identify verb to return additional descriptive information."
   ]
  },
  {
   "cell_type": "markdown",
   "metadata": {},
   "source": [
    "### ElementTree"
   ]
  },
  {
   "cell_type": "markdown",
   "metadata": {},
   "source": [
    "#### Zenodo, ET"
   ]
  },
  {
   "cell_type": "code",
   "execution_count": 5,
   "metadata": {},
   "outputs": [
    {
     "ename": "ParseError",
     "evalue": "mismatched tag: line 6, column 2 (<string>)",
     "output_type": "error",
     "traceback": [
      "Traceback \u001b[0;36m(most recent call last)\u001b[0m:\n",
      "  File \u001b[1;32m\"/opt/conda/lib/python3.6/site-packages/IPython/core/interactiveshell.py\"\u001b[0m, line \u001b[1;32m3267\u001b[0m, in \u001b[1;35mrun_code\u001b[0m\n    exec(code_obj, self.user_global_ns, self.user_ns)\n",
      "  File \u001b[1;32m\"<ipython-input-5-d39f2bd88b84>\"\u001b[0m, line \u001b[1;32m6\u001b[0m, in \u001b[1;35m<module>\u001b[0m\n    xmlTree = ET.fromstring(oai.text)\n",
      "\u001b[0;36m  File \u001b[0;32m\"/opt/conda/lib/python3.6/xml/etree/ElementTree.py\"\u001b[0;36m, line \u001b[0;32m1314\u001b[0;36m, in \u001b[0;35mXML\u001b[0;36m\u001b[0m\n\u001b[0;31m    parser.feed(text)\u001b[0m\n",
      "\u001b[0;36m  File \u001b[0;32m\"<string>\"\u001b[0;36m, line \u001b[0;32munknown\u001b[0m\n\u001b[0;31mParseError\u001b[0m\u001b[0;31m:\u001b[0m mismatched tag: line 6, column 2\n"
     ]
    }
   ],
   "source": [
    "#::GMG::Ejemplo visto en clase con Zenodo\n",
    "# https://developers.zenodo.org/#oai-pmh\n",
    "oai = requests.get('https://zenodo.org/oai2d?verb=Identify') #Peticion al servidor\n",
    "\n",
    "#Para crear el arbol XML\n",
    "xmlTree = ET.fromstring(oai.text)\n",
    "\n",
    "#Iterator para recorrer todos los elementos (incluso anidados)\n",
    "iterator = xmlTree.iter()\n",
    "for elem in iterator:\n",
    "    print(elem.tag+\": \"+elem.text)"
   ]
  },
  {
   "cell_type": "markdown",
   "metadata": {},
   "source": [
    "**::GMG::** En el momento de la ejecución al hacer la práctica no me ha funcionado el verbo `Identify`.\n",
    "Pongo el resultado aquí como noa histórica por si al ejecutarlo de nuevo si funciona:\n",
    "\n",
    "```Python\n",
    "Traceback (most recent call last):\n",
    "\n",
    "  File \"/opt/conda/lib/python3.6/site-packages/IPython/core/interactiveshell.py\", line 3267, in run_code\n",
    "    exec(code_obj, self.user_global_ns, self.user_ns)\n",
    "\n",
    "  File \"<ipython-input-5-d39f2bd88b84>\", line 6, in <module>\n",
    "    xmlTree = ET.fromstring(oai.text)\n",
    "\n",
    "  File \"/opt/conda/lib/python3.6/xml/etree/ElementTree.py\", line 1314, in XML\n",
    "    parser.feed(text)\n",
    "\n",
    "  File \"<string>\", line unknown\n",
    "ParseError: mismatched tag: line 6, column 2\n",
    "```\n",
    "\n",
    "Yo he probado hacer la petición \n",
    "\n",
    "```url\n",
    "https://zenodo.org/oai2d?verb=Identify\n",
    "```\n",
    "\n",
    "con el cliente API RESTED de firefox y el servidor de Zenodo me ha dado la\n",
    "siguiente respuesta:\n",
    "\n",
    "```html\n",
    "<html>\n",
    "<head><title>504 Gateway Time-out</title></head>\n",
    "<body bgcolor=\"white\">\n",
    "<center><h1>504 Gateway Time-out</h1></center>\n",
    "<hr><center>nginx/1.12.2</center>\n",
    "</body>\n",
    "</html>\n",
    "```"
   ]
  },
  {
   "cell_type": "code",
   "execution_count": 7,
   "metadata": {},
   "outputs": [
    {
     "name": "stdout",
     "output_type": "stream",
     "text": [
      "504 Server Error: Gateway Time-out for url: https://zenodo.org/oai2d?verb=Identify\n"
     ]
    }
   ],
   "source": [
    "#::GMG::Se puede ver más claro si se trata con excepciones\n",
    "# https://stackoverflow.com/questions/16511337/correct-way-to-try-except-using-python-requests-module\n",
    "try:\n",
    "    oai = requests.get('https://zenodo.org/oai2d?verb=Identify') #Peticion al servidor\n",
    "    oai.raise_for_status()\n",
    "except requests.exceptions.HTTPError as err:\n",
    "    print (err)"
   ]
  },
  {
   "cell_type": "markdown",
   "metadata": {},
   "source": [
    "**::GMG::** A mi me sale\n",
    "\n",
    "```shell\n",
    "504 Server Error: Gateway Time-out for url: https://zenodo.org/oai2d?verb=Identify\n",
    "```"
   ]
  },
  {
   "cell_type": "markdown",
   "metadata": {},
   "source": [
    "#### Figshare, ET, lxml"
   ]
  },
  {
   "cell_type": "code",
   "execution_count": 8,
   "metadata": {},
   "outputs": [
    {
     "name": "stdout",
     "output_type": "stream",
     "text": [
      "{http://www.openarchives.org/OAI/2.0/}OAI-PMH: \n",
      "  \n",
      "{http://www.openarchives.org/OAI/2.0/}responseDate: 2019-01-04T13:44:00Z\n",
      "{http://www.openarchives.org/OAI/2.0/}request: https://api.figshare.com/v2/oai\n",
      "{http://www.openarchives.org/OAI/2.0/}Identify: \n",
      "    \n",
      "{http://www.openarchives.org/OAI/2.0/}repositoryName: figshare\n",
      "{http://www.openarchives.org/OAI/2.0/}baseURL: https://api.figshare.com/v2/oai\n",
      "{http://www.openarchives.org/OAI/2.0/}protocolVersion: 2.0\n",
      "{http://www.openarchives.org/OAI/2.0/}adminEmail: info@figshare.com\n",
      "{http://www.openarchives.org/OAI/2.0/}earliestDatestamp: 1912-06-06T00:00:00Z\n",
      "{http://www.openarchives.org/OAI/2.0/}deletedRecord: transient\n",
      "{http://www.openarchives.org/OAI/2.0/}granularity: YYYY-MM-DDThh:mm:ssZ\n"
     ]
    }
   ],
   "source": [
    "#::GMG::Puesto que al final lo que quiero es ver un ejemplo voy a usar el verbo en otro \n",
    "#       repositorio de los que hemos visto en la asignatura\n",
    "# https://docs.figshare.com/old_docs/OAI-PMH/\n",
    "try:\n",
    "    oai = requests.get('https://api.figshare.com/v2/oai?verb=Identify') #Peticion al servidor\n",
    "    oai.raise_for_status()\n",
    "    #Para crear el arbol XML\n",
    "    xmlTree = ET.fromstring(oai.text)\n",
    "    #Iterator para recorrer todos los elementos (incluso anidados)\n",
    "    iterator = xmlTree.iter()\n",
    "    for elem in iterator:\n",
    "        print(elem.tag + ': ' + elem.text)\n",
    "except requests.exceptions.HTTPError as err:\n",
    "    print (err)"
   ]
  },
  {
   "cell_type": "code",
   "execution_count": 17,
   "metadata": {},
   "outputs": [
    {
     "name": "stdout",
     "output_type": "stream",
     "text": [
      "BaseURL: https://api.figshare.com/v2/oai\n"
     ]
    }
   ],
   "source": [
    "#::GMG::Y voy a buscar el elemento específico, en este caso la baseURL\n",
    "# Findall para encontrar un elemento específico\n",
    "#::nota::recuerda los namespaces ...\n",
    "# https://stackoverflow.com/questions/14853243/parsing-xml-with-namespace-in-python-via-elementtree\n",
    "namespaces = {'oai-pmh': 'http://www.openarchives.org/OAI/2.0/'}\n",
    "elemento = xmlTree.find('.//oai-pmh:baseURL', namespaces)\n",
    "print(\"BaseURL:\", elemento.text)"
   ]
  },
  {
   "cell_type": "code",
   "execution_count": 14,
   "metadata": {},
   "outputs": [
    {
     "data": {
      "text/plain": [
       "'<?xml version=\\'1.0\\' encoding=\\'utf-8\\'?>\\n<?xml-stylesheet type=\"text/xsl\" href=\"/v2/static/oai2.xsl\"?>\\n<OAI-PMH xmlns=\"http://www.openarchives.org/OAI/2.0/\" xmlns:xsi=\"http://www.w3.org/2001/XMLSchema-instance\" xsi:schemaLocation=\"http://www.openarchives.org/OAI/2.0/ http://www.openarchives.org/OAI/2.0/OAI-PMH.xsd\">\\n  <responseDate>2019-01-04T13:44:00Z</responseDate>\\n  <request verb=\"Identify\">https://api.figshare.com/v2/oai</request>\\n  <Identify>\\n    <repositoryName>figshare</repositoryName>\\n    <baseURL>https://api.figshare.com/v2/oai</baseURL>\\n    <protocolVersion>2.0</protocolVersion>\\n    <adminEmail>info@figshare.com</adminEmail>\\n    <earliestDatestamp>1912-06-06T00:00:00Z</earliestDatestamp>\\n    <deletedRecord>transient</deletedRecord>\\n    <granularity>YYYY-MM-DDThh:mm:ssZ</granularity>\\n  </Identify>\\n</OAI-PMH>\\n'"
      ]
     },
     "execution_count": 14,
     "metadata": {},
     "output_type": "execute_result"
    }
   ],
   "source": [
    "#::GMG::Puede ser intersante ver el documento XML devuelto\n",
    "#::nota::esto ES feo (not pretty) :)\n",
    "oai.text"
   ]
  },
  {
   "cell_type": "code",
   "execution_count": 15,
   "metadata": {},
   "outputs": [
    {
     "name": "stdout",
     "output_type": "stream",
     "text": [
      "<OAI-PMH xmlns=\"http://www.openarchives.org/OAI/2.0/\" xmlns:xsi=\"http://www.w3.org/2001/XMLSchema-instance\" xsi:schemaLocation=\"http://www.openarchives.org/OAI/2.0/ http://www.openarchives.org/OAI/2.0/OAI-PMH.xsd\">\n",
      "  <responseDate>2019-01-04T13:44:00Z</responseDate>\n",
      "  <request verb=\"Identify\">https://api.figshare.com/v2/oai</request>\n",
      "  <Identify>\n",
      "    <repositoryName>figshare</repositoryName>\n",
      "    <baseURL>https://api.figshare.com/v2/oai</baseURL>\n",
      "    <protocolVersion>2.0</protocolVersion>\n",
      "    <adminEmail>info@figshare.com</adminEmail>\n",
      "    <earliestDatestamp>1912-06-06T00:00:00Z</earliestDatestamp>\n",
      "    <deletedRecord>transient</deletedRecord>\n",
      "    <granularity>YYYY-MM-DDThh:mm:ssZ</granularity>\n",
      "  </Identify>\n",
      "</OAI-PMH>\n",
      "\n"
     ]
    }
   ],
   "source": [
    "#::GMG::uso lxml.etree.fromstring() y NO hay que usar oai.text sino oai.content :)\n",
    "#::nota::con eso \"pierdo\" la parte de definición del documento <?xml?> ... todavía no sé cómo\n",
    "#        obtenerlo entero (!!)\n",
    "# https://stackoverflow.com/questions/749796/pretty-printing-xml-in-python\n",
    "# https://lxml.de/parsing.html\n",
    "# https://stackoverflow.com/questions/32058549/ioerror-passing-requests-response-content-to-lxml-etree-parse\n",
    "# https://stackoverflow.com/questions/28534460/lxml-etree-xml-valueerror-for-unicode-string\n",
    "# https://stackoverflow.com/questions/40447117/parsing-xml-and-html-page-with-lxml-and-requests-package-in-python\n",
    "# https://github.com/mloesch/sickle/issues/20\n",
    "x = etree.fromstring(oai.content)\n",
    "print (etree.tostring(x, pretty_print=True, encoding=\"unicode\"))"
   ]
  },
  {
   "cell_type": "code",
   "execution_count": 36,
   "metadata": {},
   "outputs": [
    {
     "data": {
      "text/plain": [
       "['Granularity: YYYY-MM-DDThh:mm:ssZ']"
      ]
     },
     "execution_count": 36,
     "metadata": {},
     "output_type": "execute_result"
    }
   ],
   "source": [
    "#::GMG::Ya que estamos con lxml también puedo encontrar los elementos que quiero\n",
    "# https://stackoverflow.com/questions/18264689/most-efficient-way-of-extracting-data-from-xml-using-lxml\n",
    "#::nota::puedo usar find() y findall() como en ET pero también directamente xpath() con mamespaces\n",
    "[''.join('Granularity: ' + e.text) for e in x.xpath('//oai-pmh:granularity',namespaces = namespaces)]"
   ]
  },
  {
   "cell_type": "markdown",
   "metadata": {},
   "source": [
    "#### ArXiv, lxml"
   ]
  },
  {
   "cell_type": "markdown",
   "metadata": {},
   "source": [
    "**::GMG::** Como Bonus voy a usar otro repositorio muy conocido llamado [ArXiv](https://arxiv.org/) que también tiene [un interfaz OAI](https://arxiv.org/help/oa/index)"
   ]
  },
  {
   "cell_type": "code",
   "execution_count": 39,
   "metadata": {},
   "outputs": [
    {
     "name": "stdout",
     "output_type": "stream",
     "text": [
      "<OAI-PMH xmlns=\"http://www.openarchives.org/OAI/2.0/\" xmlns:xsi=\"http://www.w3.org/2001/XMLSchema-instance\" xsi:schemaLocation=\"http://www.openarchives.org/OAI/2.0/ http://www.openarchives.org/OAI/2.0/OAI-PMH.xsd\">\n",
      "<responseDate>2019-01-04T15:19:55Z</responseDate>\n",
      "<request verb=\"Identify\">http://export.arxiv.org/oai2</request>\n",
      "<Identify>\n",
      "<repositoryName>arXiv</repositoryName>\n",
      "<baseURL>http://export.arxiv.org/oai2</baseURL>\n",
      "<protocolVersion>2.0</protocolVersion>\n",
      "<adminEmail>help@arxiv.org</adminEmail>\n",
      "<earliestDatestamp>2007-05-23</earliestDatestamp>\n",
      "<deletedRecord>persistent</deletedRecord>\n",
      "<granularity>YYYY-MM-DD</granularity>\n",
      "<description>\n",
      "<eprints xmlns=\"http://www.openarchives.org/OAI/1.1/eprints\" xmlns:xsi=\"http://www.w3.org/2001/XMLSchema-instance\" xsi:schemaLocation=\"http://www.openarchives.org/OAI/1.1/eprints http://www.openarchives.org/OAI/1.1/eprints.xsd\">\n",
      " <content>\n",
      "  <text>Author self-archived e-prints</text>\n",
      " </content>\n",
      " <metadataPolicy>\n",
      "  <text>Metadata harvesting permitted through OAI interface</text>\n",
      "  <URL>http://arxiv.org/help/oa/metadataPolicy</URL>\n",
      " </metadataPolicy>\n",
      " <dataPolicy>\n",
      "  <text>Full-content harvesting not permitted (except by special arrangement)</text>\n",
      "  <URL>http://arxiv.org/help/oa/dataPolicy</URL>\n",
      " </dataPolicy>\n",
      " <submissionPolicy>\n",
      "  <text>Author self-submission preferred, submissions screened for appropriateness.</text>\n",
      "  <URL>http://arxiv.org/help/submit</URL>\n",
      " </submissionPolicy>\n",
      "</eprints>\n",
      "</description>\n",
      "<description>\n",
      "<branding xmlns=\"http://www.openarchives.org/OAI/2.0/branding/\" xmlns:xsi=\"http://www.w3.org/2001/XMLSchema-instance\" xsi:schemaLocation=\"http://www.openarchives.org/OAI/2.0/branding/ http://www.openarchives.org/OAI/2.0/branding.xsd\">\n",
      " <collectionIcon>\n",
      " <url>http://arxiv.org/OAI/arXivLogo.png</url>\n",
      " <link>http://arxiv.org/</link>\n",
      " <title>arXiv e-print archive</title>\n",
      " <width>88</width>\n",
      " <height>31</height>\n",
      " </collectionIcon>\n",
      "<metadataRendering metadataNamespace=\"http://www.openarchives.org/OAI/2.0/oai_dc/\" mimeType=\"text/xsl\">http://arxiv.org/OAI/arXivMetadata.xsl</metadataRendering>\n",
      "</branding>\n",
      "</description>\n",
      "</Identify>\n",
      "</OAI-PMH>\n",
      "\n"
     ]
    }
   ],
   "source": [
    "#::GMG::La respuesta es MUCHO más extensa que la de figshare e incluye dos descripciones\n",
    "#       con etiquetas/vocabulario 'eprints' y 'branding'\n",
    "try:\n",
    "    oai = requests.get('https://export.arxiv.org/oai2?verb=Identify')\n",
    "    oai.raise_for_status()\n",
    "    x = etree.fromstring(oai.content)\n",
    "    print (etree.tostring(x, pretty_print=True, encoding=\"unicode\"))\n",
    "except requests.exceptions.HTTPError as err:\n",
    "    print (err)"
   ]
  },
  {
   "cell_type": "code",
   "execution_count": 41,
   "metadata": {},
   "outputs": [
    {
     "name": "stdout",
     "output_type": "stream",
     "text": [
      "{http://www.openarchives.org/OAI/2.0/}OAI-PMH: \n",
      "\n",
      "{http://www.openarchives.org/OAI/2.0/}responseDate: 2019-01-04T15:19:55Z\n",
      "{http://www.openarchives.org/OAI/2.0/}request: http://export.arxiv.org/oai2\n",
      "{http://www.openarchives.org/OAI/2.0/}Identify: \n",
      "\n",
      "{http://www.openarchives.org/OAI/2.0/}repositoryName: arXiv\n",
      "{http://www.openarchives.org/OAI/2.0/}baseURL: http://export.arxiv.org/oai2\n",
      "{http://www.openarchives.org/OAI/2.0/}protocolVersion: 2.0\n",
      "{http://www.openarchives.org/OAI/2.0/}adminEmail: help@arxiv.org\n",
      "{http://www.openarchives.org/OAI/2.0/}earliestDatestamp: 2007-05-23\n",
      "{http://www.openarchives.org/OAI/2.0/}deletedRecord: persistent\n",
      "{http://www.openarchives.org/OAI/2.0/}granularity: YYYY-MM-DD\n",
      "{http://www.openarchives.org/OAI/2.0/}description: \n",
      "\n",
      "{http://www.openarchives.org/OAI/1.1/eprints}eprints: \n",
      " \n",
      "{http://www.openarchives.org/OAI/1.1/eprints}content: \n",
      "  \n",
      "{http://www.openarchives.org/OAI/1.1/eprints}text: Author self-archived e-prints\n",
      "{http://www.openarchives.org/OAI/1.1/eprints}metadataPolicy: \n",
      "  \n",
      "{http://www.openarchives.org/OAI/1.1/eprints}text: Metadata harvesting permitted through OAI interface\n",
      "{http://www.openarchives.org/OAI/1.1/eprints}URL: http://arxiv.org/help/oa/metadataPolicy\n",
      "{http://www.openarchives.org/OAI/1.1/eprints}dataPolicy: \n",
      "  \n",
      "{http://www.openarchives.org/OAI/1.1/eprints}text: Full-content harvesting not permitted (except by special arrangement)\n",
      "{http://www.openarchives.org/OAI/1.1/eprints}URL: http://arxiv.org/help/oa/dataPolicy\n",
      "{http://www.openarchives.org/OAI/1.1/eprints}submissionPolicy: \n",
      "  \n",
      "{http://www.openarchives.org/OAI/1.1/eprints}text: Author self-submission preferred, submissions screened for appropriateness.\n",
      "{http://www.openarchives.org/OAI/1.1/eprints}URL: http://arxiv.org/help/submit\n",
      "{http://www.openarchives.org/OAI/2.0/}description: \n",
      "\n",
      "{http://www.openarchives.org/OAI/2.0/branding/}branding: \n",
      " \n",
      "{http://www.openarchives.org/OAI/2.0/branding/}collectionIcon: \n",
      " \n",
      "{http://www.openarchives.org/OAI/2.0/branding/}url: http://arxiv.org/OAI/arXivLogo.png\n",
      "{http://www.openarchives.org/OAI/2.0/branding/}link: http://arxiv.org/\n",
      "{http://www.openarchives.org/OAI/2.0/branding/}title: arXiv e-print archive\n",
      "{http://www.openarchives.org/OAI/2.0/branding/}width: 88\n",
      "{http://www.openarchives.org/OAI/2.0/branding/}height: 31\n",
      "{http://www.openarchives.org/OAI/2.0/branding/}metadataRendering: http://arxiv.org/OAI/arXivMetadata.xsl\n"
     ]
    }
   ],
   "source": [
    "#::GMG::La iteración recursiva por las etiquetas en lxml es como en ET\n",
    "for e in x.iter():\n",
    "    print(e.tag + ': ' + e.text)"
   ]
  },
  {
   "cell_type": "code",
   "execution_count": 149,
   "metadata": {},
   "outputs": [
    {
     "name": "stdout",
     "output_type": "stream",
     "text": [
      "Node: oai-eprints:content\n",
      "Tag: oai-eprints:text --> Author self-archived e-prints\n",
      "Node: oai-eprints:metadataPolicy\n",
      "Tag: oai-eprints:text --> Metadata harvesting permitted through OAI interface\n",
      "Tag: oai-eprints:URL --> http://arxiv.org/help/oa/metadataPolicy\n",
      "Node: oai-eprints:dataPolicy\n",
      "Tag: oai-eprints:text --> Full-content harvesting not permitted (except by special arrangement)\n",
      "Tag: oai-eprints:URL --> http://arxiv.org/help/oa/dataPolicy\n",
      "Node: oai-eprints:submissionPolicy\n",
      "Tag: oai-eprints:text --> Author self-submission preferred, submissions screened for appropriateness.\n",
      "Tag: oai-eprints:URL --> http://arxiv.org/help/submit\n"
     ]
    }
   ],
   "source": [
    "#::GMG::Si quiero ver la parte de los eprints\n",
    "namespaces = {'oai-pmh': 'http://www.openarchives.org/OAI/2.0/',\n",
    "              'oai-eprints': 'http://www.openarchives.org/OAI/1.1/eprints',\n",
    "              'oai-branding': 'http://www.openarchives.org/OAI/2.0/branding/'}\n",
    "#::GMG::Saco las primera descripción (que contiene eprints)\n",
    "description = x.xpath('//oai-pmh:description[1]',namespaces = namespaces)\n",
    "#::GMG::Saco el elemento eprints dentro de la descripción\n",
    "eprints = description[0].xpath('//oai-eprints:eprints/*', namespaces = namespaces)\n",
    "#print(eprints)\n",
    "for e in eprints:\n",
    "    print('Node:', e.tag.replace(\n",
    "      '{' + namespaces['oai-eprints'] + '}', \n",
    "      str(list(namespaces.keys())[1]) + ':'\n",
    "      ))\n",
    "    for t in e.iter():\n",
    "        if len(t) == 0: \n",
    "            print('Tag: {} --> {}'.format(\n",
    "                    t.tag.replace('{' + namespaces['oai-eprints'] + '}', \n",
    "      str(list(namespaces.keys())[1]) + ':'), \n",
    "                    t.text)\n",
    "                 )"
   ]
  },
  {
   "cell_type": "markdown",
   "metadata": {},
   "source": [
    "## Listar tipos de metadatos"
   ]
  },
  {
   "cell_type": "markdown",
   "metadata": {},
   "source": [
    "### ListMetadataFormats\n",
    "\n",
    "This verb is used to retrieve the metadata formats available from a repository. An optional argument restricts the request to the formats available for a specific item."
   ]
  },
  {
   "cell_type": "code",
   "execution_count": 150,
   "metadata": {},
   "outputs": [
    {
     "name": "stdout",
     "output_type": "stream",
     "text": [
      "{http://www.openarchives.org/OAI/2.0/}OAI-PMH: \n",
      "  \n",
      "{http://www.openarchives.org/OAI/2.0/}responseDate: 2019-01-04T17:38:48Z\n",
      "{http://www.openarchives.org/OAI/2.0/}request: https://zenodo.org/oai2d\n",
      "{http://www.openarchives.org/OAI/2.0/}ListMetadataFormats: \n",
      "    \n",
      "{http://www.openarchives.org/OAI/2.0/}metadataFormat: \n",
      "      \n",
      "{http://www.openarchives.org/OAI/2.0/}metadataPrefix: marcxml\n",
      "{http://www.openarchives.org/OAI/2.0/}schema: http://www.loc.gov/standards/marcxml/schema/MARC21slim.xsd\n",
      "{http://www.openarchives.org/OAI/2.0/}metadataNamespace: http://www.loc.gov/MARC21/slim\n",
      "{http://www.openarchives.org/OAI/2.0/}metadataFormat: \n",
      "      \n",
      "{http://www.openarchives.org/OAI/2.0/}metadataPrefix: oai_dc\n",
      "{http://www.openarchives.org/OAI/2.0/}schema: http://www.openarchives.org/OAI/2.0/oai_dc.xsd\n",
      "{http://www.openarchives.org/OAI/2.0/}metadataNamespace: http://www.openarchives.org/OAI/2.0/oai_dc/\n",
      "{http://www.openarchives.org/OAI/2.0/}metadataFormat: \n",
      "      \n",
      "{http://www.openarchives.org/OAI/2.0/}metadataPrefix: oai_datacite\n",
      "{http://www.openarchives.org/OAI/2.0/}schema: http://schema.datacite.org/meta/kernel-3/metadata.xsd\n",
      "{http://www.openarchives.org/OAI/2.0/}metadataNamespace: http://datacite.org/schema/kernel-3\n",
      "{http://www.openarchives.org/OAI/2.0/}metadataFormat: \n",
      "      \n",
      "{http://www.openarchives.org/OAI/2.0/}metadataPrefix: marc21\n",
      "{http://www.openarchives.org/OAI/2.0/}schema: http://www.loc.gov/standards/marcxml/schema/MARC21slim.xsd\n",
      "{http://www.openarchives.org/OAI/2.0/}metadataNamespace: http://www.loc.gov/MARC21/slim\n",
      "{http://www.openarchives.org/OAI/2.0/}metadataFormat: \n",
      "      \n",
      "{http://www.openarchives.org/OAI/2.0/}metadataPrefix: datacite\n",
      "{http://www.openarchives.org/OAI/2.0/}schema: http://schema.datacite.org/meta/kernel-4.1/metadata.xsd\n",
      "{http://www.openarchives.org/OAI/2.0/}metadataNamespace: http://datacite.org/schema/kernel-4\n",
      "{http://www.openarchives.org/OAI/2.0/}metadataFormat: \n",
      "      \n",
      "{http://www.openarchives.org/OAI/2.0/}metadataPrefix: datacite3\n",
      "{http://www.openarchives.org/OAI/2.0/}schema: http://schema.datacite.org/meta/kernel-3/metadata.xsd\n",
      "{http://www.openarchives.org/OAI/2.0/}metadataNamespace: http://datacite.org/schema/kernel-3\n",
      "{http://www.openarchives.org/OAI/2.0/}metadataFormat: \n",
      "      \n",
      "{http://www.openarchives.org/OAI/2.0/}metadataPrefix: datacite4\n",
      "{http://www.openarchives.org/OAI/2.0/}schema: http://schema.datacite.org/meta/kernel-4.1/metadata.xsd\n",
      "{http://www.openarchives.org/OAI/2.0/}metadataNamespace: http://datacite.org/schema/kernel-4\n",
      "{http://www.openarchives.org/OAI/2.0/}metadataFormat: \n",
      "      \n",
      "{http://www.openarchives.org/OAI/2.0/}metadataPrefix: oai_datacite3\n",
      "{http://www.openarchives.org/OAI/2.0/}schema: http://schema.datacite.org/meta/kernel-3/metadata.xsd\n",
      "{http://www.openarchives.org/OAI/2.0/}metadataNamespace: http://datacite.org/schema/kernel-3\n"
     ]
    }
   ],
   "source": [
    "#::GMG::Parece que el error de zenodo solamente se limitaba a Identify ... (?)\n",
    "oai = requests.get('https://zenodo.org/oai2d?verb=ListMetadataFormats') #Peticion al servidor\n",
    "\n",
    "#Para crear el arbol XML\n",
    "xmlTree = ET.fromstring(oai.text)\n",
    "\n",
    "iterator = xmlTree.iter()\n",
    "for elem in iterator:\n",
    "    print(elem.tag+\": \"+elem.text)"
   ]
  },
  {
   "cell_type": "markdown",
   "metadata": {},
   "source": [
    "Podemos capturar sólo la información relevante"
   ]
  },
  {
   "cell_type": "code",
   "execution_count": 152,
   "metadata": {},
   "outputs": [
    {
     "name": "stdout",
     "output_type": "stream",
     "text": [
      "{http://www.openarchives.org/OAI/2.0/}metadataPrefix: marcxml\n",
      "{http://www.openarchives.org/OAI/2.0/}schema: http://www.loc.gov/standards/marcxml/schema/MARC21slim.xsd\n",
      "{http://www.openarchives.org/OAI/2.0/}metadataPrefix: oai_dc\n",
      "{http://www.openarchives.org/OAI/2.0/}schema: http://www.openarchives.org/OAI/2.0/oai_dc.xsd\n",
      "{http://www.openarchives.org/OAI/2.0/}metadataPrefix: oai_datacite\n",
      "{http://www.openarchives.org/OAI/2.0/}schema: http://schema.datacite.org/meta/kernel-3/metadata.xsd\n",
      "{http://www.openarchives.org/OAI/2.0/}metadataPrefix: marc21\n",
      "{http://www.openarchives.org/OAI/2.0/}schema: http://www.loc.gov/standards/marcxml/schema/MARC21slim.xsd\n",
      "{http://www.openarchives.org/OAI/2.0/}metadataPrefix: datacite\n",
      "{http://www.openarchives.org/OAI/2.0/}schema: http://schema.datacite.org/meta/kernel-4.1/metadata.xsd\n",
      "{http://www.openarchives.org/OAI/2.0/}metadataPrefix: datacite3\n",
      "{http://www.openarchives.org/OAI/2.0/}schema: http://schema.datacite.org/meta/kernel-3/metadata.xsd\n",
      "{http://www.openarchives.org/OAI/2.0/}metadataPrefix: datacite4\n",
      "{http://www.openarchives.org/OAI/2.0/}schema: http://schema.datacite.org/meta/kernel-4.1/metadata.xsd\n",
      "{http://www.openarchives.org/OAI/2.0/}metadataPrefix: oai_datacite3\n",
      "{http://www.openarchives.org/OAI/2.0/}schema: http://schema.datacite.org/meta/kernel-3/metadata.xsd\n"
     ]
    }
   ],
   "source": [
    "#::GMG::Hay que hacer notar que un iterador de Python es un objeto de \"un solo uso\" y si se quiere\n",
    "#       iterar hay que crear de nuevo el objeto (!!)\n",
    "iterator = xmlTree.iter()\n",
    "for elem in iterator:\n",
    "    if (elem.tag == '{http://www.openarchives.org/OAI/2.0/}metadataPrefix') or \n",
    "       (elem.tag == '{http://www.openarchives.org/OAI/2.0/}schema'):\n",
    "        print(elem.tag+\": \"+elem.text)"
   ]
  },
  {
   "cell_type": "markdown",
   "metadata": {},
   "source": [
    "O de forma más \"elegante\""
   ]
  },
  {
   "cell_type": "code",
   "execution_count": 154,
   "metadata": {},
   "outputs": [
    {
     "name": "stdout",
     "output_type": "stream",
     "text": [
      "marcxml : http://www.loc.gov/standards/marcxml/schema/MARC21slim.xsd\n",
      "oai_dc : http://www.openarchives.org/OAI/2.0/oai_dc.xsd\n",
      "oai_datacite : http://schema.datacite.org/meta/kernel-3/metadata.xsd\n",
      "marc21 : http://www.loc.gov/standards/marcxml/schema/MARC21slim.xsd\n",
      "datacite : http://schema.datacite.org/meta/kernel-4.1/metadata.xsd\n",
      "datacite3 : http://schema.datacite.org/meta/kernel-3/metadata.xsd\n",
      "datacite4 : http://schema.datacite.org/meta/kernel-4.1/metadata.xsd\n",
      "oai_datacite3 : http://schema.datacite.org/meta/kernel-3/metadata.xsd\n"
     ]
    }
   ],
   "source": [
    "#::GMG::aquí aporto el uso de namespaces que es más \"elegante\" :)\n",
    "for e in xmlTree.findall('.//oai-pmh:metadataFormat', namespaces = namespaces):\n",
    "    metadataPrefix = e.find('oai-pmh:metadataPrefix', namespaces = namespaces).text\n",
    "    schema = e.find('oai-pmh:schema',namespaces = namespaces).text\n",
    "    print(metadataPrefix, ':', schema)"
   ]
  },
  {
   "cell_type": "markdown",
   "metadata": {},
   "source": [
    "Podemos describir el último schema"
   ]
  },
  {
   "cell_type": "code",
   "execution_count": 160,
   "metadata": {},
   "outputs": [],
   "source": [
    "#::GMG::Sin comentarios :)\n",
    "#::nota::es una salida muy grande y decido no incluirla en el notebook\n",
    "oai_datacite = requests.get('http://schema.datacite.org/meta/kernel-3/metadata.xsd') #Peticion al servidor\n",
    "#print(oai_datacite.text)"
   ]
  },
  {
   "cell_type": "code",
   "execution_count": 161,
   "metadata": {},
   "outputs": [],
   "source": [
    "#::GMG::Vale, creo que lo entiendo ... se crea un árbol XML a partir del documento\n",
    "# Para crear el arbol XML\n",
    "xmlTree = ET.fromstring(oai_datacite.text)\n",
    "#::nota::es una salida muy grande y decido NO incluirla en el notebook\n",
    "#iterator = xmlTree.iter()\n",
    "#for elem in iterator:\n",
    "#    print(elem.tag)\n",
    "#::nota::de la salida no queda muy claro DÓNDE están definidas esas etiquetas que se comentan a continuación\n",
    "#        La única manera de verlas que me ha convencido es directamente con el firefox"
   ]
  },
  {
   "cell_type": "markdown",
   "metadata": {},
   "source": [
    "**::GMG::** La manera de verlo más claro en mi opinión es abrir la URL en un firefox y navegar por\n",
    "el documento. Hay que entender un poco como es XSL, claro."
   ]
  },
  {
   "attachments": {
    "m1968-oai-pmh-datacite-xsd-firefox-view.png": {
     "image/png": "[encoded data removed]"
    }
   },
   "cell_type": "markdown",
   "metadata": {},
   "source": [
    "![m1968-oai-pmh-datacite-xsd-firefox-view.png](attachment:m1968-oai-pmh-datacite-xsd-firefox-view.png)"
   ]
  },
  {
   "cell_type": "markdown",
   "metadata": {},
   "source": [
    "Si analizamos la descripción del estándar, vemos que las etiquetas de los metadatos están almacenados en la etiqueta \"element\", en el atributo \"name\". Podemos obetener un listado de lo que esperamos encontrar"
   ]
  },
  {
   "cell_type": "code",
   "execution_count": 163,
   "metadata": {},
   "outputs": [
    {
     "name": "stdout",
     "output_type": "stream",
     "text": [
      "Metadato Obligatorio:  resource\n",
      "Metadato Obligatorio:  identifier\n",
      "Metadato Obligatorio:  creators\n",
      "Metadato Obligatorio:  creator\n",
      "Metadato Obligatorio:  creatorName\n",
      "Metadato Opcional:  nameIdentifier\n",
      "Metadato Opcional:  affiliation\n",
      "Metadato Obligatorio:  titles\n",
      "Metadato Obligatorio:  title\n",
      "Metadato Obligatorio:  publisher\n",
      "Metadato Obligatorio:  publicationYear\n",
      "Metadato Opcional:  subjects\n",
      "Metadato Opcional:  subject\n",
      "Metadato Opcional:  contributors\n",
      "Metadato Opcional:  contributor\n",
      "Metadato Obligatorio:  contributorName\n",
      "Metadato Opcional:  nameIdentifier\n",
      "Metadato Opcional:  affiliation\n",
      "Metadato Opcional:  dates\n",
      "Metadato Opcional:  date\n",
      "Metadato Opcional:  language\n",
      "Metadato Opcional:  resourceType\n",
      "Metadato Opcional:  alternateIdentifiers\n",
      "Metadato Opcional:  alternateIdentifier\n",
      "Metadato Opcional:  relatedIdentifiers\n",
      "Metadato Opcional:  relatedIdentifier\n",
      "Metadato Opcional:  sizes\n",
      "Metadato Opcional:  size\n",
      "Metadato Opcional:  formats\n",
      "Metadato Opcional:  format\n",
      "Metadato Opcional:  version\n",
      "Metadato Opcional:  rightsList\n",
      "Metadato Opcional:  rights\n",
      "Metadato Opcional:  descriptions\n",
      "Metadato Opcional:  description\n",
      "Metadato Opcional:  br\n",
      "Metadato Opcional:  geoLocations\n",
      "Metadato Opcional:  geoLocation\n",
      "Metadato Opcional:  geoLocationPoint\n",
      "Metadato Opcional:  geoLocationBox\n",
      "Metadato Opcional:  geoLocationPlace\n"
     ]
    }
   ],
   "source": [
    "#::GMG::Cambio el nombre del objeto namespaces --> ns para no confundir con el que yo he creado\n",
    "#       También he hecho una pequeña modificación basada en la imagen que he capturado e insertado\n",
    "#       arriba en la que he visto que se pueden distinguir los campos obligatorios de los opcionales\n",
    "#       por la existencia del atributo \"minOccurs\"\n",
    "#::nota::el número de elementos que aparecen es mayor que el que yo he capturado en la imagen porque los\n",
    "#        xs:element son \"compuestos\" de otros tipos de datos (!!)\n",
    "ns = {'xs' : 'http://www.w3.org/2001/XMLSchema'}\n",
    "for tags in xmlTree.findall('.//xs:element',ns):\n",
    "    if 'minOccurs' not in tags.attrib:\n",
    "        print ('Metadato Obligatorio: ',tags.attrib['name'])\n",
    "    else:\n",
    "        print ('Metadato Opcional: ',tags.attrib['name'])"
   ]
  },
  {
   "cell_type": "markdown",
   "metadata": {},
   "source": [
    "## Listar identificadores"
   ]
  },
  {
   "cell_type": "markdown",
   "metadata": {},
   "source": [
    "### ListIdentifiers\n",
    "\n",
    "This verb is an abbreviated form of ListRecords, retrieving only headers rather than records. Optional arguments permit selective harvesting of headers based on set membership and/or datestamp. Depending on the repository's support for deletions, a returned header may have a status attribute of \"deleted\" if a record matching the arguments specified in the request has been deleted.\n",
    "\n",
    "Devuelve la cabecera de los registros, para conocer la información esencial.\n",
    "\n",
    "Necesita el prefijo del formato de metadatos"
   ]
  },
  {
   "cell_type": "markdown",
   "metadata": {},
   "source": [
    "**::GMG::** Si no se limita la búsqueda salen TODAS las cabeceras de los items disponibles (donde se puede ver el *identificador* que usa Zenodo para sus items, por ejemplo, `oai:zenodo.org:967068` ...\n",
    "\n",
    "```http\n",
    "\n",
    "{http://www.openarchives.org/OAI/2.0/}OAI-PMH: \n",
    "  \n",
    "{http://www.openarchives.org/OAI/2.0/}responseDate: 2019-01-04T18:56:17Z\n",
    "{http://www.openarchives.org/OAI/2.0/}request: https://zenodo.org/oai2d\n",
    "{http://www.openarchives.org/OAI/2.0/}ListIdentifiers: \n",
    "    \n",
    "{http://www.openarchives.org/OAI/2.0/}header: \n",
    "      \n",
    "{http://www.openarchives.org/OAI/2.0/}identifier: oai:zenodo.org:967068\n",
    "{http://www.openarchives.org/OAI/2.0/}datestamp: 2017-09-25T15:42:06Z\n",
    "{http://www.openarchives.org/OAI/2.0/}setSpec: user-biosyslit\n",
    "\n",
    "[...]\n",
    "\n",
    "{http://www.openarchives.org/OAI/2.0/}identifier: oai:zenodo.org:959605\n",
    "{http://www.openarchives.org/OAI/2.0/}datestamp: 2017-09-25T15:30:32Z\n",
    "{http://www.openarchives.org/OAI/2.0/}setSpec: user-biosyslit\n",
    "{http://www.openarchives.org/OAI/2.0/}header: \n",
    "      \n",
    "{http://www.openarchives.org/OAI/2.0/}identifier: oai:zenodo.org:960597\n",
    "{http://www.openarchives.org/OAI/2.0/}datestamp: 2017-09-25T15:31:09Z\n",
    "{http://www.openarchives.org/OAI/2.0/}setSpec: user-biosyslit\n",
    "\n",
    "{http://www.openarchives.org/OAI/2.0/}resumptionToken: .eJwVzkFvgjAYgOH_8p2JKVUs48Yiziy2bCAVvJgKHaEUIbQLovG_z13f5_I-wEhZQYAWyMNovfR9QjBa-es33wFTjr3W5-blUOZcl1ediQ_-m3QcFbgmVBlMVTQzFU7xIcNxa-xlw-Z0l6wyzm3uDpYe2HzqvG2KIsJU5DL1faeqwGzTe_EunPb5EKVucizyE5WtuV309rM68vf4HhJwYBC1hAA70E5irA0ED-ikFZWw4muUP83ttdaL5vwfysZKeD7_AFe3RKw.DxE90g.q8-BaOtKIVNV4vHt_efNqaaB2WA\n",
    "```\n",
    "\n",
    "hasta un límite en el que se pone un `resumptionToken` que se puede usar dentro de un periodo (creo que de dos minutos en Zenodo) para hacer otra petición de los siguientes de la lista. Esto pasa en todos los verbos `ListX` según tengo entendido. Este token hay que meterlo en la cabecera de las peticiones siguientes. Si se sobrepasa el tiempo en el que es válido el token, aunque se use, el servidor devuelve un error."
   ]
  },
  {
   "cell_type": "code",
   "execution_count": 185,
   "metadata": {},
   "outputs": [
    {
     "name": "stdout",
     "output_type": "stream",
     "text": [
      "{http://www.openarchives.org/OAI/2.0/}OAI-PMH: \n",
      "  \n",
      "{http://www.openarchives.org/OAI/2.0/}responseDate: 2019-01-04T19:47:32Z\n",
      "{http://www.openarchives.org/OAI/2.0/}request: https://zenodo.org/oai2d\n",
      "{http://www.openarchives.org/OAI/2.0/}ListIdentifiers: \n",
      "    \n",
      "{http://www.openarchives.org/OAI/2.0/}header: \n",
      "      \n",
      "{http://www.openarchives.org/OAI/2.0/}identifier: oai:zenodo.org:55146\n",
      "{http://www.openarchives.org/OAI/2.0/}datestamp: 2019-01-04T19:14:44Z\n",
      "{http://www.openarchives.org/OAI/2.0/}setSpec: software\n",
      "{http://www.openarchives.org/OAI/2.0/}header: \n",
      "      \n",
      "{http://www.openarchives.org/OAI/2.0/}identifier: oai:zenodo.org:55363\n",
      "{http://www.openarchives.org/OAI/2.0/}datestamp: 2019-01-04T19:14:45Z\n",
      "{http://www.openarchives.org/OAI/2.0/}setSpec: software\n",
      "{http://www.openarchives.org/OAI/2.0/}header: \n",
      "      \n",
      "{http://www.openarchives.org/OAI/2.0/}identifier: oai:zenodo.org:57427\n",
      "{http://www.openarchives.org/OAI/2.0/}datestamp: 2019-01-04T19:14:47Z\n",
      "{http://www.openarchives.org/OAI/2.0/}setSpec: software\n",
      "{http://www.openarchives.org/OAI/2.0/}header: \n",
      "      \n",
      "{http://www.openarchives.org/OAI/2.0/}identifier: oai:zenodo.org:62064\n",
      "{http://www.openarchives.org/OAI/2.0/}datestamp: 2019-01-04T19:14:49Z\n",
      "{http://www.openarchives.org/OAI/2.0/}setSpec: software\n",
      "{http://www.openarchives.org/OAI/2.0/}header: \n",
      "      \n",
      "{http://www.openarchives.org/OAI/2.0/}identifier: oai:zenodo.org:55362\n",
      "{http://www.openarchives.org/OAI/2.0/}datestamp: 2019-01-04T19:14:45Z\n",
      "{http://www.openarchives.org/OAI/2.0/}setSpec: software\n",
      "{http://www.openarchives.org/OAI/2.0/}header: \n",
      "      \n",
      "{http://www.openarchives.org/OAI/2.0/}identifier: oai:zenodo.org:55364\n",
      "{http://www.openarchives.org/OAI/2.0/}datestamp: 2019-01-04T19:14:46Z\n",
      "{http://www.openarchives.org/OAI/2.0/}setSpec: software\n",
      "{http://www.openarchives.org/OAI/2.0/}header: \n",
      "      \n",
      "{http://www.openarchives.org/OAI/2.0/}identifier: oai:zenodo.org:57479\n",
      "{http://www.openarchives.org/OAI/2.0/}datestamp: 2019-01-04T19:14:48Z\n",
      "{http://www.openarchives.org/OAI/2.0/}setSpec: software\n",
      "{http://www.openarchives.org/OAI/2.0/}header: \n",
      "      \n",
      "{http://www.openarchives.org/OAI/2.0/}identifier: oai:zenodo.org:62066\n",
      "{http://www.openarchives.org/OAI/2.0/}datestamp: 2019-01-04T19:14:50Z\n",
      "{http://www.openarchives.org/OAI/2.0/}setSpec: software\n",
      "{http://www.openarchives.org/OAI/2.0/}header: \n",
      "      \n",
      "{http://www.openarchives.org/OAI/2.0/}identifier: oai:zenodo.org:153989\n",
      "{http://www.openarchives.org/OAI/2.0/}datestamp: 2019-01-04T19:14:51Z\n",
      "{http://www.openarchives.org/OAI/2.0/}setSpec: software\n"
     ]
    }
   ],
   "source": [
    "#::GMG::Yo he limiado la búsqueda por set y fecha para que la respuesta en el notebook sea limitada (sin token)\n",
    "#::nota::las cabeceras que devuelve NO están ordenadas por fechas\n",
    "try:\n",
    "    oai = requests.get(\n",
    "    'https://zenodo.org/oai2d?verb=ListIdentifiers&metadataPrefix=oai_datacite' + \n",
    "    '&from=2019-01-04T19:10:22Z&until=2019-01-04T19:14:51Z&set=software'\n",
    "    )\n",
    "    xmlTree = ET.fromstring(oai.text)\n",
    "    #print(oai.text)\n",
    "    iterator = xmlTree.iter()\n",
    "    for elem in iterator:\n",
    "        print(elem.tag +  ': ' + elem.text)\n",
    "except requests.exceptions.HTTPError as err:\n",
    "    print (err)\n"
   ]
  },
  {
   "cell_type": "markdown",
   "metadata": {},
   "source": [
    "## Listar los registros"
   ]
  },
  {
   "cell_type": "markdown",
   "metadata": {},
   "source": [
    "### ListRecords\n",
    "\n",
    "This verb is used to harvest records from a repository. Optional arguments permit selective harvesting of records based on set membership and/or datestamp. Depending on the repository's support for deletions, a returned header may have a status attribute of \"deleted\" if a record matching the arguments specified in the request has been deleted. No metadata will be present for records with deleted status."
   ]
  },
  {
   "cell_type": "markdown",
   "metadata": {},
   "source": [
    "**::GMG::** Por alguna razón, el código siguiente da un error:\n",
    "\n",
    "```Python\n",
    "---------------------------------------------------------------------------\n",
    "TypeError                                 Traceback (most recent call last)\n",
    "<ipython-input-188-1f4df5966462> in <module>\n",
    "     10     iterator = xmlTree.iter()\n",
    "     11     for elem in iterator:\n",
    "---> 12         print(elem.tag +  ': ' + elem.text)\n",
    "     13 except requests.exceptions.HTTPError as err:\n",
    "     14     print (err)\n",
    "\n",
    "TypeError: must be str, not NoneType\n",
    "```"
   ]
  },
  {
   "cell_type": "code",
   "execution_count": 188,
   "metadata": {},
   "outputs": [
    {
     "name": "stdout",
     "output_type": "stream",
     "text": [
      "{http://www.openarchives.org/OAI/2.0/}OAI-PMH: \n",
      "  \n",
      "{http://www.openarchives.org/OAI/2.0/}responseDate: 2019-01-04T20:00:50Z\n",
      "{http://www.openarchives.org/OAI/2.0/}request: https://zenodo.org/oai2d\n",
      "{http://www.openarchives.org/OAI/2.0/}ListRecords: \n",
      "    \n",
      "{http://www.openarchives.org/OAI/2.0/}record: \n",
      "      \n",
      "{http://www.openarchives.org/OAI/2.0/}header: \n",
      "        \n",
      "{http://www.openarchives.org/OAI/2.0/}identifier: oai:zenodo.org:62066\n",
      "{http://www.openarchives.org/OAI/2.0/}datestamp: 2019-01-04T19:14:50Z\n",
      "{http://www.openarchives.org/OAI/2.0/}setSpec: software\n",
      "{http://www.openarchives.org/OAI/2.0/}metadata: \n",
      "        \n",
      "{http://schema.datacite.org/oai/oai-1.0/}oai_datacite: \n",
      "          \n",
      "{http://schema.datacite.org/oai/oai-1.0/}isReferenceQuality: true\n",
      "{http://schema.datacite.org/oai/oai-1.0/}schemaVersion: 3.1\n",
      "{http://schema.datacite.org/oai/oai-1.0/}datacentreSymbol: CERN.ZENODO\n",
      "{http://schema.datacite.org/oai/oai-1.0/}payload: \n",
      "            \n",
      "{http://datacite.org/schema/kernel-3}resource: \n",
      "              \n",
      "{http://datacite.org/schema/kernel-3}identifier: 10.5281/zenodo.62066\n",
      "{http://datacite.org/schema/kernel-3}creators: \n",
      "                \n",
      "{http://datacite.org/schema/kernel-3}creator: \n",
      "                  \n",
      "{http://datacite.org/schema/kernel-3}creatorName: C. Titus Brown\n",
      "{http://datacite.org/schema/kernel-3}affiliation: University of California, Davis\n",
      "{http://datacite.org/schema/kernel-3}creator: \n",
      "                  \n",
      "{http://datacite.org/schema/kernel-3}creatorName: Luiz Irber\n",
      "{http://datacite.org/schema/kernel-3}affiliation: DIB Lab - UC Davis\n",
      "{http://datacite.org/schema/kernel-3}creator: \n",
      "                  \n",
      "{http://datacite.org/schema/kernel-3}creatorName: Lisa Cohen\n",
      "{http://datacite.org/schema/kernel-3}affiliation: University of California, Davis\n",
      "{http://datacite.org/schema/kernel-3}titles: \n",
      "                \n",
      "{http://datacite.org/schema/kernel-3}title: sourmash: version 0.9.6\n",
      "{http://datacite.org/schema/kernel-3}publisher: Zenodo\n",
      "{http://datacite.org/schema/kernel-3}publicationYear: 2016\n",
      "{http://datacite.org/schema/kernel-3}dates: \n",
      "                \n",
      "{http://datacite.org/schema/kernel-3}date: 2016-09-11\n"
     ]
    },
    {
     "ename": "TypeError",
     "evalue": "must be str, not NoneType",
     "output_type": "error",
     "traceback": [
      "\u001b[0;31m---------------------------------------------------------------------------\u001b[0m",
      "\u001b[0;31mTypeError\u001b[0m                                 Traceback (most recent call last)",
      "\u001b[0;32m<ipython-input-188-1f4df5966462>\u001b[0m in \u001b[0;36m<module>\u001b[0;34m\u001b[0m\n\u001b[1;32m     10\u001b[0m     \u001b[0miterator\u001b[0m \u001b[0;34m=\u001b[0m \u001b[0mxmlTree\u001b[0m\u001b[0;34m.\u001b[0m\u001b[0miter\u001b[0m\u001b[0;34m(\u001b[0m\u001b[0;34m)\u001b[0m\u001b[0;34m\u001b[0m\u001b[0m\n\u001b[1;32m     11\u001b[0m     \u001b[0;32mfor\u001b[0m \u001b[0melem\u001b[0m \u001b[0;32min\u001b[0m \u001b[0miterator\u001b[0m\u001b[0;34m:\u001b[0m\u001b[0;34m\u001b[0m\u001b[0m\n\u001b[0;32m---> 12\u001b[0;31m         \u001b[0mprint\u001b[0m\u001b[0;34m(\u001b[0m\u001b[0melem\u001b[0m\u001b[0;34m.\u001b[0m\u001b[0mtag\u001b[0m \u001b[0;34m+\u001b[0m  \u001b[0;34m': '\u001b[0m \u001b[0;34m+\u001b[0m \u001b[0melem\u001b[0m\u001b[0;34m.\u001b[0m\u001b[0mtext\u001b[0m\u001b[0;34m)\u001b[0m\u001b[0;34m\u001b[0m\u001b[0m\n\u001b[0m\u001b[1;32m     13\u001b[0m \u001b[0;32mexcept\u001b[0m \u001b[0mrequests\u001b[0m\u001b[0;34m.\u001b[0m\u001b[0mexceptions\u001b[0m\u001b[0;34m.\u001b[0m\u001b[0mHTTPError\u001b[0m \u001b[0;32mas\u001b[0m \u001b[0merr\u001b[0m\u001b[0;34m:\u001b[0m\u001b[0;34m\u001b[0m\u001b[0m\n\u001b[1;32m     14\u001b[0m     \u001b[0mprint\u001b[0m \u001b[0;34m(\u001b[0m\u001b[0merr\u001b[0m\u001b[0;34m)\u001b[0m\u001b[0;34m\u001b[0m\u001b[0m\n",
      "\u001b[0;31mTypeError\u001b[0m: must be str, not NoneType"
     ]
    }
   ],
   "source": [
    "#::GMG::Uso la misma una limitación todavía mayor que en el caso anterior porque ahora no solamente se lista la\n",
    "#       cabecera sino también el metadata (!)\n",
    "#::nota::Por alguna razón que no alcanzo a ver da UN ERROR\n",
    "try:\n",
    "    oai = requests.get(\n",
    "    'https://zenodo.org/oai2d?verb=ListRecords&metadataPrefix=oai_datacite' + \n",
    "    '&from=2019-01-04T19:14:50Z&until=2019-01-04T19:14:51Z&set=software'\n",
    "    )\n",
    "    xmlTree = ET.fromstring(oai.text)\n",
    "    #print(oai.text)\n",
    "    iterator = xmlTree.iter()\n",
    "    for elem in iterator:\n",
    "        print(elem.tag +  ': ' + elem.text)\n",
    "except requests.exceptions.HTTPError as err:\n",
    "    print (err)"
   ]
  },
  {
   "cell_type": "markdown",
   "metadata": {},
   "source": [
    "**::GMG**:: Me he asegurado de que la petición devuelve dos registros (records). El iterador va sin problemas por el primero pero cuando llega al segundo da un **error**.\n",
    "\n",
    "La respuesta del XML si la imprimo con  `print(oai.text)` no me da problema alguno:\n",
    "\n",
    "```xml\n",
    "<?xml version='1.0' encoding='UTF-8'?>\n",
    "<?xml-stylesheet type=\"text/xsl\" href=\"/static/xsl/oai2.xsl\"?>\n",
    "<OAI-PMH xmlns=\"http://www.openarchives.org/OAI/2.0/\" xmlns:xsi=\"http://www.w3.org/2001/XMLSchema-instance\" xsi:schemaLocation=\"http://www.openarchives.org/OAI/2.0/ http://www.openarchives.org/OAI/2.0/OAI-PMH.xsd\">\n",
    "  <responseDate>2019-01-04T20:00:50Z</responseDate>\n",
    "  <request from_=\"2019-01-04T19:14:50+00:00Z\" verb=\"ListRecords\" set=\"software\" metadataPrefix=\"oai_datacite\" until=\"2019-01-04T19:14:51+00:00Z\">https://zenodo.org/oai2d</request>\n",
    "  <ListRecords>\n",
    "    <record>\n",
    "      <header>\n",
    "        <identifier>oai:zenodo.org:62066</identifier>\n",
    "        <datestamp>2019-01-04T19:14:50Z</datestamp>\n",
    "        <setSpec>software</setSpec>\n",
    "      </header>\n",
    "      <metadata>\n",
    "        <oai_datacite xmlns=\"http://schema.datacite.org/oai/oai-1.0/\" xsi:schemaLocation=\"http://schema.datacite.org/oai/oai-1.0/ oai_datacite.xsd\">\n",
    "          <isReferenceQuality>true</isReferenceQuality>\n",
    "          <schemaVersion>3.1</schemaVersion>\n",
    "          <datacentreSymbol>CERN.ZENODO</datacentreSymbol>\n",
    "          <payload>\n",
    "            <resource xmlns=\"http://datacite.org/schema/kernel-3\" xsi:schemaLocation=\"http://datacite.org/schema/kernel-3 http://schema.datacite.org/meta/kernel-3/metadata.xsd\">\n",
    "              <identifier identifierType=\"DOI\">10.5281/zenodo.62066</identifier>\n",
    "              <creators>\n",
    "                <creator>\n",
    "                  <creatorName>C. Titus Brown</creatorName>\n",
    "                  <affiliation>University of California, Davis</affiliation>\n",
    "                </creator>\n",
    "                <creator>\n",
    "                  <creatorName>Luiz Irber</creatorName>\n",
    "                  <affiliation>DIB Lab - UC Davis</affiliation>\n",
    "                </creator>\n",
    "                <creator>\n",
    "                  <creatorName>Lisa Cohen</creatorName>\n",
    "                  <affiliation>University of California, Davis</affiliation>\n",
    "                </creator>\n",
    "              </creators>\n",
    "              <titles>\n",
    "                <title>sourmash: version 0.9.6</title>\n",
    "              </titles>\n",
    "              <publisher>Zenodo</publisher>\n",
    "              <publicationYear>2016</publicationYear>\n",
    "              <dates>\n",
    "                <date dateType=\"Issued\">2016-09-11</date>\n",
    "              </dates>\n",
    "              <resourceType resourceTypeGeneral=\"Software\"/>\n",
    "              <relatedIdentifiers>\n",
    "                <relatedIdentifier relatedIdentifierType=\"URL\" relationType=\"IsSupplementTo\">https://github.com/dib-lab/sourmash/tree/v0.9.6</relatedIdentifier>\n",
    "                <relatedIdentifier relatedIdentifierType=\"DOI\" relationType=\"IsPartOf\">10.5281/zenodo.595354</relatedIdentifier>\n",
    "              </relatedIdentifiers>\n",
    "              <version>v0.9.6</version>\n",
    "              <rightsList>\n",
    "                <rights rightsURI=\"info:eu-repo/semantics/openAccess\">Open Access</rights>\n",
    "              </rightsList>\n",
    "              <descriptions>\n",
    "                <description descriptionType=\"Abstract\">&lt;p&gt;Fix package import problem.&lt;/p&gt;</description>\n",
    "              </descriptions>\n",
    "            </resource>\n",
    "          </payload>\n",
    "        </oai_datacite>\n",
    "      </metadata>\n",
    "    </record>\n",
    "    <record>\n",
    "      <header>\n",
    "        <identifier>oai:zenodo.org:153989</identifier>\n",
    "        <datestamp>2019-01-04T19:14:51Z</datestamp>\n",
    "        <setSpec>software</setSpec>\n",
    "      </header>\n",
    "      <metadata>\n",
    "        <oai_datacite xmlns=\"http://schema.datacite.org/oai/oai-1.0/\" xsi:schemaLocation=\"http://schema.datacite.org/oai/oai-1.0/ oai_datacite.xsd\">\n",
    "          <isReferenceQuality>true</isReferenceQuality>\n",
    "          <schemaVersion>3.1</schemaVersion>\n",
    "          <datacentreSymbol>CERN.ZENODO</datacentreSymbol>\n",
    "          <payload>\n",
    "            <resource xmlns=\"http://datacite.org/schema/kernel-3\" xsi:schemaLocation=\"http://datacite.org/schema/kernel-3 http://schema.datacite.org/meta/kernel-3/metadata.xsd\">\n",
    "              <identifier identifierType=\"DOI\">10.5281/zenodo.153989</identifier>\n",
    "              <creators>\n",
    "                <creator>\n",
    "                  <creatorName>C. Titus Brown</creatorName>\n",
    "                  <affiliation>University of California, Davis</affiliation>\n",
    "                </creator>\n",
    "                <creator>\n",
    "                  <creatorName>Luiz Irber</creatorName>\n",
    "                  <affiliation>DIB Lab - UC Davis</affiliation>\n",
    "                </creator>\n",
    "                <creator>\n",
    "                  <creatorName>Lisa Cohen</creatorName>\n",
    "                  <affiliation>University of California, Davis</affiliation>\n",
    "                </creator>\n",
    "              </creators>\n",
    "              <titles>\n",
    "                <title>dib-lab/sourmash: v1.0</title>\n",
    "              </titles>\n",
    "              <publisher>Zenodo</publisher>\n",
    "              <publicationYear>2016</publicationYear>\n",
    "              <dates>\n",
    "                <date dateType=\"Issued\">2016-09-13</date>\n",
    "              </dates>\n",
    "              <resourceType resourceTypeGeneral=\"Software\"/>\n",
    "              <relatedIdentifiers>\n",
    "                <relatedIdentifier relatedIdentifierType=\"URL\" relationType=\"IsSupplementTo\">https://github.com/dib-lab/sourmash/tree/v1.0</relatedIdentifier>\n",
    "                <relatedIdentifier relatedIdentifierType=\"DOI\" relationType=\"IsPartOf\">10.5281/zenodo.595354</relatedIdentifier>\n",
    "              </relatedIdentifiers>\n",
    "              <version>v1.0</version>\n",
    "              <rightsList>\n",
    "                <rights rightsURI=\"info:eu-repo/semantics/openAccess\">Open Access</rights>\n",
    "              </rightsList>\n",
    "              <descriptions>\n",
    "                <description descriptionType=\"Abstract\">&lt;p&gt;First production release of sourmash.&lt;/p&gt;</description>\n",
    "              </descriptions>\n",
    "            </resource>\n",
    "          </payload>\n",
    "        </oai_datacite>\n",
    "      </metadata>\n",
    "    </record>\n",
    "  </ListRecords>\n",
    "</OAI-PMH>\n",
    "```"
   ]
  },
  {
   "cell_type": "markdown",
   "metadata": {},
   "source": [
    "### Ejercicio"
   ]
  },
  {
   "cell_type": "markdown",
   "metadata": {},
   "source": [
    "1. Muestra sólo el identificador y las palabras clave (subject)"
   ]
  },
  {
   "cell_type": "code",
   "execution_count": 192,
   "metadata": {},
   "outputs": [],
   "source": [
    "#::GMG::Cambio a lxml y me construyo el árbol de la respuesta\n",
    "x = etree.fromstring(oai.content)\n",
    "#print (etree.tostring(x, pretty_print=True, encoding=\"unicode\"))"
   ]
  },
  {
   "cell_type": "code",
   "execution_count": 253,
   "metadata": {},
   "outputs": [
    {
     "name": "stdout",
     "output_type": "stream",
     "text": [
      "Node: datacite-k3:identifier\n",
      "Tag: datacite-k3:identifier --> 10.5281/zenodo.62066\n",
      "Node: datacite-k3:title\n",
      "Tag: datacite-k3:title --> sourmash: version 0.9.6\n",
      "Node: datacite-k3:identifier\n",
      "Tag: datacite-k3:identifier --> 10.5281/zenodo.153989\n",
      "Node: datacite-k3:title\n",
      "Tag: datacite-k3:title --> dib-lab/sourmash: v1.0\n"
     ]
    }
   ],
   "source": [
    "#::GMG::Voy a intentar usar XPath para obtenerel identificador y título\n",
    "#::nota::no tengo 'subject' porque he cambiado la selección respecto a lo hecho en clase :)\n",
    "#\n",
    "namespaces = {'oai-pmh': 'http://www.openarchives.org/OAI/2.0/',\n",
    "              'oai-datacite': 'http://schema.datacite.org/oai/oai-1.0/',\n",
    "              'datacite-k3': 'http://datacite.org/schema/kernel-3'}\n",
    "for e in x.xpath('//oai-datacite:oai_datacite/oai-datacite:payload/' + \n",
    "                 'datacite-k3:resource//*[self::datacite-k3:identifier or self::datacite-k3:title]',\n",
    "                 namespaces = namespaces):\n",
    "    print('Node:', e.tag.replace(\n",
    "      '{' + namespaces['datacite-k3'] + '}', \n",
    "      str(list(namespaces.keys())[2]) + ':'\n",
    "      ))\n",
    "    for t in e.iter():\n",
    "        if len(t) == 0: \n",
    "            print('Tag: {} --> {}'.format(\n",
    "                    t.tag.replace('{' + namespaces['datacite-k3'] + '}', \n",
    "                    str(list(namespaces.keys())[2]) + ':'), t.text)\n",
    "                 )"
   ]
  },
  {
   "cell_type": "markdown",
   "metadata": {},
   "source": [
    "2. Registros entre dos fechas\n",
    "\n",
    "**::GMG::** Ya lo he hecho en el apartado de **Listar los registros**."
   ]
  },
  {
   "cell_type": "markdown",
   "metadata": {},
   "source": [
    "3. Obtener DOI de un recurso. Pista: Mirar atributos (identifierType=\"DOI\")"
   ]
  },
  {
   "cell_type": "code",
   "execution_count": 223,
   "metadata": {},
   "outputs": [
    {
     "name": "stdout",
     "output_type": "stream",
     "text": [
      "Node: datacite-k3:identifier\n",
      "Tag: datacite-k3:identifier (DOI) --> 10.5281/zenodo.62066\n",
      "Node: datacite-k3:identifier\n",
      "Tag: datacite-k3:identifier (DOI) --> 10.5281/zenodo.153989\n"
     ]
    }
   ],
   "source": [
    "#::GMG::Voy a intentar usar XPath\n",
    "#\n",
    "namespaces = {'oai-pmh': 'http://www.openarchives.org/OAI/2.0/',\n",
    "              'oai-datacite': 'http://schema.datacite.org/oai/oai-1.0/',\n",
    "              'datacite-k3': 'http://datacite.org/schema/kernel-3'}\n",
    "for e in x.xpath('//oai-datacite:oai_datacite/oai-datacite:payload/' + \n",
    "                 'datacite-k3:resource/datacite-k3:identifier[@identifierType=\"DOI\"]',\n",
    "                 namespaces = namespaces):\n",
    "    print('Node:', e.tag.replace(\n",
    "      '{' + namespaces['datacite-k3'] + '}', \n",
    "      str(list(namespaces.keys())[2]) + ':'\n",
    "      ))\n",
    "    for t in e.iter():\n",
    "        if len(t) == 0: \n",
    "            print('Tag: {} ({}) --> {}'.format(\n",
    "                    t.tag.replace('{' + namespaces['datacite-k3'] + '}', \n",
    "      str(list(namespaces.keys())[2]) + ':'), \n",
    "                    t.attrib['identifierType'],t.text)\n",
    "                 )"
   ]
  },
  {
   "cell_type": "markdown",
   "metadata": {},
   "source": [
    "## Metadata de un registro"
   ]
  },
  {
   "cell_type": "markdown",
   "metadata": {},
   "source": [
    "### GetRecord\n",
    "\n",
    "This verb is used to retrieve an individual metadata record from a repository. Required arguments specify the identifier of the item from which the record is requested and the format of the metadata that should be included in the record. Depending on the level at which a repository tracks deletions, a header with a \"deleted\" value for the status attribute may be returned, in case the metadata format specified by the metadataPrefix is no longer available from the repository or from the specified item."
   ]
  },
  {
   "cell_type": "markdown",
   "metadata": {},
   "source": [
    "**::GMG::** El identificador que se usa para la petición es el que aparece en la cabecera `header` del `record` cuando se obtiene una lista (ver el apartado anterior). Se puede obtener con `XPath`:\n",
    "\n",
    "```XPath\n",
    "//oai-pmh:record/oai-pmh:header/oai-pmh:identifier\n",
    "```"
   ]
  },
  {
   "cell_type": "code",
   "execution_count": 257,
   "metadata": {},
   "outputs": [
    {
     "name": "stdout",
     "output_type": "stream",
     "text": [
      "Node: oai-pmh:identifier\n",
      "Tag: oai-pmh:identifier --> oai:zenodo.org:62066\n",
      "Node: oai-pmh:identifier\n",
      "Tag: oai-pmh:identifier --> oai:zenodo.org:153989\n"
     ]
    }
   ],
   "source": [
    "#::GMG::Por ejemplo en el caso de los dos registros del apartado anterior\n",
    "for e in x.xpath('//oai-pmh:record/oai-pmh:header/oai-pmh:identifier',\n",
    "                 namespaces = namespaces):\n",
    "    print('Node:', e.tag.replace(\n",
    "      '{' + namespaces['oai-pmh'] + '}', \n",
    "      str(list(namespaces.keys())[0]) + ':'\n",
    "      ))\n",
    "    for t in e.iter():\n",
    "        if len(t) == 0: \n",
    "            print('Tag: {} --> {}'.format(\n",
    "                    t.tag.replace('{' + namespaces['oai-pmh'] + '}', \n",
    "                    str(list(namespaces.keys())[0]) + ':'), t.text)\n",
    "                 )"
   ]
  },
  {
   "cell_type": "markdown",
   "metadata": {},
   "source": [
    "### Ejemplo\n",
    "\n",
    "Obtener objeto digital de este recurso:\n",
    "\n",
    "```url\n",
    "https://zenodo.org/oai2d?verb=GetRecord&metadataPrefix=oai_dc&identifier=oai:zenodo.org:252670\n",
    "```"
   ]
  },
  {
   "cell_type": "code",
   "execution_count": 259,
   "metadata": {},
   "outputs": [
    {
     "name": "stdout",
     "output_type": "stream",
     "text": [
      "{http://www.openarchives.org/OAI/2.0/}OAI-PMH\n",
      "\n",
      "  \n",
      "{http://www.openarchives.org/OAI/2.0/}responseDate\n",
      "2019-01-04T23:12:14Z\n",
      "{http://www.openarchives.org/OAI/2.0/}request\n",
      "https://zenodo.org/oai2d\n",
      "{http://www.openarchives.org/OAI/2.0/}GetRecord\n",
      "\n",
      "    \n",
      "{http://www.openarchives.org/OAI/2.0/}record\n",
      "\n",
      "      \n",
      "{http://www.openarchives.org/OAI/2.0/}header\n",
      "\n",
      "        \n",
      "{http://www.openarchives.org/OAI/2.0/}identifier\n",
      "oai:zenodo.org:252670\n",
      "{http://www.openarchives.org/OAI/2.0/}datestamp\n",
      "2018-06-25T09:13:54Z\n",
      "{http://www.openarchives.org/OAI/2.0/}setSpec\n",
      "user-biosyslit\n",
      "{http://www.openarchives.org/OAI/2.0/}metadata\n",
      "\n",
      "        \n",
      "{http://www.openarchives.org/OAI/2.0/oai_dc/}dc\n",
      "\n",
      "          \n",
      "{http://purl.org/dc/elements/1.1/}creator\n",
      "Chani-Posse, Mariana\n",
      "{http://purl.org/dc/elements/1.1/}date\n",
      "2014-12-31\n",
      "{http://purl.org/dc/elements/1.1/}description\n",
      "FIGURE 11. (A–J) Habitus: (A) Atopocentrum mirabile, (B) Belonuchus aluticollis (Bernhauer), (C) Cafius xantholoma, (D) Chroaptomus mexicanus Chani-Posse & Navarrete-Heredia, (E) Delgadobius amazonensis Chani-Posse & Couturier, (F) Ecitophytes coniceps Wasmann, (G) Flohria subcoerulea (LeConte), (H) Gabrius nidicola (Bernhauer), (I) Gabronthus maritimus (Motschulsky), (J), Hesperus fasciatus (Sharp).\n",
      "{http://purl.org/dc/elements/1.1/}identifier\n",
      "https://zenodo.org/record/252670\n",
      "{http://purl.org/dc/elements/1.1/}identifier\n",
      "10.5281/zenodo.252670\n",
      "{http://purl.org/dc/elements/1.1/}identifier\n",
      "oai:zenodo.org:252670\n",
      "{http://purl.org/dc/elements/1.1/}relation\n",
      "url:http://treatment.plazi.org/id/03EF879CFFAFFFBDFF37FA6191A71384\n",
      "{http://purl.org/dc/elements/1.1/}relation\n",
      "doi:10.11646/zootaxa.3755.1.3\n",
      "{http://purl.org/dc/elements/1.1/}relation\n",
      "lsid:urn:lsid:plazi.org:pub:FFD6FFE4FFA3FFB3FFA0FFFA943C1748\n",
      "{http://purl.org/dc/elements/1.1/}relation\n",
      "doi:10.11646/zootaxa.3755.1.3\n",
      "{http://purl.org/dc/elements/1.1/}relation\n",
      "url:https://zenodo.org/record/252659\n",
      "{http://purl.org/dc/elements/1.1/}relation\n",
      "url:https://zenodo.org/communities/biosyslit\n",
      "{http://purl.org/dc/elements/1.1/}rights\n",
      "info:eu-repo/semantics/openAccess\n",
      "{http://purl.org/dc/elements/1.1/}source\n",
      "Zootaxa 3755(1)\n",
      "{http://purl.org/dc/elements/1.1/}subject\n",
      "Biodiversity\n",
      "{http://purl.org/dc/elements/1.1/}subject\n",
      "Taxonomy\n",
      "{http://purl.org/dc/elements/1.1/}subject\n",
      "Animalia\n",
      "{http://purl.org/dc/elements/1.1/}subject\n",
      "Arthropoda\n",
      "{http://purl.org/dc/elements/1.1/}subject\n",
      "Insecta\n",
      "{http://purl.org/dc/elements/1.1/}subject\n",
      "Coleoptera\n",
      "{http://purl.org/dc/elements/1.1/}subject\n",
      "Staphylinidae\n",
      "{http://purl.org/dc/elements/1.1/}title\n",
      "FIGURE 11 in An illustrated key to the New World genera of Philonthina Kirby (Coleoptera: Staphylinidae), with morphological, taxonomical and distributional notes\n",
      "{http://purl.org/dc/elements/1.1/}type\n",
      "info:eu-repo/semantics/other\n",
      "{http://purl.org/dc/elements/1.1/}type\n",
      "image-figure\n"
     ]
    }
   ],
   "source": [
    "oai = requests.get(\n",
    "    'https://zenodo.org/oai2d?verb=GetRecord&metadataPrefix=oai_dc&identifier=oai:zenodo.org:252670'\n",
    ")\n",
    "xmlTree = ET.fromstring(oai.text)\n",
    "iterator = xmlTree.iter()\n",
    "for elem in iterator:\n",
    "    print(elem.tag)\n",
    "    print(elem.text)"
   ]
  },
  {
   "cell_type": "code",
   "execution_count": 260,
   "metadata": {},
   "outputs": [],
   "source": [
    "#::GMG::No entiendo esta celda aquí (??)\n",
    "#headers = {'Accept': 'application/rdf+xml;q=0.5'} #Type of response accpeted\n",
    "#r = requests.post('https://dx.doi.org/10.5281/zenodo.252363', headers=headers) #POST with headers\n",
    "#print(r.text)"
   ]
  },
  {
   "cell_type": "markdown",
   "metadata": {},
   "source": [
    "## APIs específicas"
   ]
  },
  {
   "cell_type": "markdown",
   "metadata": {},
   "source": [
    "El protocolo OAI-PMH ofrece una serie de funcionalidades genéricas e interoperables entre distintos repositorios. Sin embargo, existen ciertas limitaciones que no nos permiten automatizar todo lo necesario para analizar un gran número de dataset. Para ello, tenemos que recurrir a APIs específicas de los repositorios con los que trabajamos.\n",
    "\n",
    "Zenodo proporciona una API bastante completa que complementa al protocolo OAI-PMH. En el siguiente enlace podemos ver su especificación y algunos ejemplos con curl y python.\n",
    "\n",
    "http://developers.zenodo.org/\n",
    "\n",
    "Entre otras cosas, podemos automatizar el proceso de publicación, descargar archivos, etc.\n",
    "\n",
    "También, obteniendo el DOI de un recurso, podemos resolverlo para obtener cierta información específica, como la URL del objeto digital entre otras."
   ]
  },
  {
   "cell_type": "code",
   "execution_count": null,
   "metadata": {
    "scrolled": false
   },
   "outputs": [],
   "source": [
    "#::GMG::Interesante :)\n",
    "#Buscamos datasets específicos\n",
    "oai = requests.get('https://zenodo.org/oai2d?verb=ListRecords&metadataPrefix=datacite3')\n",
    "oaiTree = ET.fromstring(oai.text)\n",
    "#for i in oaiTree.iter():\n",
    "#    print(i.tag)\n",
    "records = oaiTree.findall('.//{http://www.openarchives.org/OAI/2.0/}record')\n",
    "for e in records:\n",
    "    for subject in e.findall('.//{http://datacite.org/schema/kernel-3}subject'):\n",
    "        if \"Animalia\" in subject.text:\n",
    "            print(\"Title: \"+e.findall('.//{http://datacite.org/schema/kernel-3}title')[0].text)\n",
    "            identifier = e.findall('.//{http://datacite.org/schema/kernel-3}identifier')[0].text\n",
    "            print(identifier)\n",
    "            print('\\n')"
   ]
  },
  {
   "cell_type": "markdown",
   "metadata": {},
   "source": [
    "**::GMG::** Resultado\n",
    "\n",
    "Title: Figures 572-582 from: Hansson C, Smith MA, Janzen DH, Hallwachs W (2015) Integrative taxonomy of New World Euplectrus Westwood (Hymenoptera, Eulophidae), with focus on 55 new species from Area de Conservación Guanacaste, northwestern Costa Rica. ZooKeys 485: 1-236. https://doi.org/10.3897/zookeys.485.9124\n",
    "https://zenodo.org/record/963259\n",
    "\n",
    "\n",
    "Title: Figures 572-582 from: Hansson C, Smith MA, Janzen DH, Hallwachs W (2015) Integrative taxonomy of New World Euplectrus Westwood (Hymenoptera, Eulophidae), with focus on 55 new species from Area de Conservación Guanacaste, northwestern Costa Rica. ZooKeys 485: 1-236. https://doi.org/10.3897/zookeys.485.9124\n",
    "https://zenodo.org/record/963259\n",
    "\n",
    "\n",
    "Title: Figures 572-582 from: Hansson C, Smith MA, Janzen DH, Hallwachs W (2015) Integrative taxonomy of New World Euplectrus Westwood (Hymenoptera, Eulophidae), with focus on 55 new species from Area de Conservación Guanacaste, northwestern Costa Rica. ZooKeys 485: 1-236. https://doi.org/10.3897/zookeys.485.9124\n",
    "https://zenodo.org/record/963259\n",
    "\n",
    "\n",
    "[...]\n",
    "\n"
   ]
  },
  {
   "cell_type": "code",
   "execution_count": 4,
   "metadata": {},
   "outputs": [
    {
     "name": "stdout",
     "output_type": "stream",
     "text": [
      "[{'bucket': '3f24e715-2135-403c-b920-6a5c90d0d328', 'checksum': 'md5:2f5994fc31abe0d1faf898e9b593ca6f', 'key': 'big_39309.jpg', 'links': {'self': 'https://zenodo.org/api/files/3f24e715-2135-403c-b920-6a5c90d0d328/big_39309.jpg'}, 'size': 894143, 'type': 'jpg'}]\n"
     ]
    }
   ],
   "source": [
    "#::GMG::Se aplica la selección del identificador Zenodo elegido en la lista anterior con el API propio de Zenodo\n",
    "headers = {'accept': 'application/json'}\n",
    "r = requests.get('https://zenodo.org/api/records/963259',headers)\n",
    "record = json.loads(r.text)\n",
    "print(record['files'])"
   ]
  },
  {
   "cell_type": "markdown",
   "metadata": {},
   "source": [
    "## Ejercicio Personal"
   ]
  },
  {
   "cell_type": "markdown",
   "metadata": {},
   "source": [
    "* 1: Busca al menos dos repositorios digitales compatibles con OAI-PMH"
   ]
  },
  {
   "cell_type": "markdown",
   "metadata": {},
   "source": [
    "**::GMG**:: Empiezo por elegir [Dryad](https://datadryad.org/pages/organization). Lo encontré por casualidad y me parece chulo. Soporta por supuesto [el acceso por OAI-PMH](http://wiki.datadryad.org/Data_Access#OAI-PMH) y tiene la siguiente descripción en su web:\n",
    "\n",
    ">The Dryad Digital Repository is a curated resource that makes the data underlying scientific publications discoverable, freely reusable, and citable. Dryad provides a general-purpose home for a wide diversity of datatypes.\n",
    ">\n",
    ">Dryad’s vision is to promote a world where research data is openly available, integrated with the scholarly literature, and routinely re-used to create knowledge.\n",
    ">\n",
    ">Our mission is to provide the infrastructure for, and promote the re-use of, data underlying the scholarly literature.\n",
    ">\n",
    ">Dryad is governed by a nonprofit membership organization. Membership is open to any stakeholder organization, including but not limited to journals, scientific societies, publishers, research institutions, libraries, and funding organizations.\n",
    ">\n",
    ">Publishers are encouraged to facilitate data archiving by coordinating the submission of manuscripts with submission of data to Dryad. Learn more about submission integration.\n",
    ">\n",
    ">Dryad originated from an initiative among a group of leading journals and scientific societies in evolutionary biology and ecology to adopt a joint data archiving policy (JDAP) for their publications, and the recognition that easy-to-use, sustainable, community-governed data infrastructure was needed to support such a policy."
   ]
  },
  {
   "cell_type": "markdown",
   "metadata": {},
   "source": [
    "* 2: Utiliza los verbos del protocolo para encontrar los recursos de un tema en concreto (puedes buscar en la descripción o en las palabras clave)."
   ]
  },
  {
   "cell_type": "markdown",
   "metadata": {},
   "source": [
    "### Dryad"
   ]
  },
  {
   "cell_type": "markdown",
   "metadata": {},
   "source": [
    "**::GMG::** Me gustaría hacer aquí antes un [`Identify`](http://api.datadryad.org/oai/request?verb=Identify), [`ListSets`](http://api.datadryad.org/oai/request?verb=ListSets), [`ListMetadaFormats`](http://api.datadryad.org/oai/request?verb=ListMetadataFormats) para obtener la dirección base, el conjunto y los metadata que quiero consultar."
   ]
  },
  {
   "cell_type": "code",
   "execution_count": 2,
   "metadata": {},
   "outputs": [],
   "source": [
    "#::GMG::Preparamos los namespaces\n",
    "namespaces = {'oai-pmh': 'http://www.openarchives.org/OAI/2.0/',\n",
    "              'dc': 'http://purl.org/dc/elements/1.1/'}"
   ]
  },
  {
   "cell_type": "code",
   "execution_count": 3,
   "metadata": {},
   "outputs": [],
   "source": [
    "#::GMG::Identificamos la fuente\n",
    "oai_dryad = requests.get('http://api.datadryad.org/oai/request?verb=Identify')\n",
    "oaiTree = ET.fromstring(oai_dryad.text)"
   ]
  },
  {
   "cell_type": "code",
   "execution_count": 4,
   "metadata": {},
   "outputs": [
    {
     "name": "stdout",
     "output_type": "stream",
     "text": [
      "BaseURL: http://api.datadryad.org/oai/request\n"
     ]
    }
   ],
   "source": [
    "#::GMG::Para hacer peticiones ...\n",
    "base_url = oaiTree.find('.//oai-pmh:baseURL', namespaces).text\n",
    "print(\"BaseURL:\", base_url)"
   ]
  },
  {
   "cell_type": "code",
   "execution_count": 5,
   "metadata": {},
   "outputs": [],
   "source": [
    "#::GMG::Identificamos los conjuntos disponibles\n",
    "oai_dryad = requests.get(base_url + '?verb=ListSets')\n",
    "oaiTree = ET.fromstring(oai_dryad.text)"
   ]
  },
  {
   "cell_type": "code",
   "execution_count": 6,
   "metadata": {},
   "outputs": [],
   "source": [
    "spec = oaiTree.findall('.//oai-pmh:setSpec', namespaces)\n",
    "name = oaiTree.findall('.//oai-pmh:setName', namespaces)"
   ]
  },
  {
   "cell_type": "code",
   "execution_count": 7,
   "metadata": {},
   "outputs": [],
   "source": [
    "#::nota::construir un diccionario a partir el árbol\n",
    "# https://stackoverflow.com/questions/209840/convert-two-lists-into-a-dictionary-in-python\n",
    "conjuntos = dict(zip([n.text for n in name], [s.text for s in spec]))"
   ]
  },
  {
   "cell_type": "code",
   "execution_count": 8,
   "metadata": {},
   "outputs": [
    {
     "data": {
      "text/plain": [
       "'hdl_10255_3'"
      ]
     },
     "execution_count": 8,
     "metadata": {},
     "output_type": "execute_result"
    }
   ],
   "source": [
    "conjuntos['Dryad Data Packages']"
   ]
  },
  {
   "cell_type": "code",
   "execution_count": 9,
   "metadata": {},
   "outputs": [],
   "source": [
    "#::GMG::Obtenemos los metadatos\n",
    "oai_dryad = requests.get(base_url + '?verb=ListMetadataFormats')\n",
    "oaiTree = ET.fromstring(oai_dryad.text)"
   ]
  },
  {
   "cell_type": "code",
   "execution_count": 10,
   "metadata": {},
   "outputs": [],
   "source": [
    "prefix = oaiTree.findall('.//oai-pmh:metadataPrefix', namespaces)\n",
    "namespace = oaiTree.findall('.//oai-pmh:metadataNamespace', namespaces)"
   ]
  },
  {
   "cell_type": "code",
   "execution_count": 11,
   "metadata": {},
   "outputs": [],
   "source": [
    "metadata = dict(zip([p.text for p in prefix], [n.text for n in namespace]))"
   ]
  },
  {
   "cell_type": "code",
   "execution_count": 12,
   "metadata": {},
   "outputs": [
    {
     "data": {
      "text/plain": [
       "'http://www.openarchives.org/OAI/2.0/oai_dc/'"
      ]
     },
     "execution_count": 12,
     "metadata": {},
     "output_type": "execute_result"
    }
   ],
   "source": [
    "metadata['oai_dc']"
   ]
  },
  {
   "cell_type": "code",
   "execution_count": 13,
   "metadata": {},
   "outputs": [
    {
     "data": {
      "text/plain": [
       "['ore', 'mets', 'oai_dc', 'rdf']"
      ]
     },
     "execution_count": 13,
     "metadata": {},
     "output_type": "execute_result"
    }
   ],
   "source": [
    "# https://stackoverflow.com/questions/16819222/how-to-return-dictionary-keys-as-a-list-in-python\n",
    "list(metadata.keys())"
   ]
  },
  {
   "cell_type": "code",
   "execution_count": 14,
   "metadata": {},
   "outputs": [
    {
     "data": {
      "text/plain": [
       "{'oai-pmh': 'http://www.openarchives.org/OAI/2.0/',\n",
       " 'dc': 'http://purl.org/dc/elements/1.1/'}"
      ]
     },
     "execution_count": 14,
     "metadata": {},
     "output_type": "execute_result"
    }
   ],
   "source": [
    "namespaces"
   ]
  },
  {
   "cell_type": "markdown",
   "metadata": {},
   "source": [
    "#### oai_dc"
   ]
  },
  {
   "cell_type": "code",
   "execution_count": 24,
   "metadata": {},
   "outputs": [],
   "source": [
    "#::GMG::Uso el mismo sistema que en el apartado anterior\n",
    "#::nota::he tenido que restringir la fecha bastante para tener un conjunto de registros\n",
    "#        manejable\n",
    "oai_dc = requests.get(\n",
    "    base_url + '?verb=ListRecords' + \n",
    "    '&from=2019-01-04T21:00:00Z&until=2019-01-04T23:00:00Z' + \n",
    "    '&metadataPrefix=' + list(metadata.keys())[2] + \n",
    "    '&set=' + conjuntos['Dryad Data Packages'])\n",
    "oaiTree = ET.fromstring(oai_dc.text)"
   ]
  },
  {
   "cell_type": "code",
   "execution_count": 25,
   "metadata": {},
   "outputs": [],
   "source": [
    "#::GMG::Obtengo los últimos registros del set hdl_10255_3 (Dryad Data Packages) \n",
    "#       del día 4 de enero \n",
    "records = oaiTree.findall('.//oai-pmh:record', namespaces = namespaces)"
   ]
  },
  {
   "cell_type": "markdown",
   "metadata": {},
   "source": [
    "* 3: Obtén un listado de los títulos, identificadores (DOI o cualquier otro) y la dirección del recurso."
   ]
  },
  {
   "cell_type": "markdown",
   "metadata": {},
   "source": [
    "**::GMG::** Mi objetivo es [un artículo concreto](https://datadryad.org/resource/doi:10.5061/dryad.k718h66) que he encontrado entre [los últimos publicados](http://www.datadryad.org/#recently-published-data) en la web.\n",
    "\n",
    "**::nota::** A día 4 de Enero de 2019"
   ]
  },
  {
   "cell_type": "code",
   "execution_count": 26,
   "metadata": {},
   "outputs": [
    {
     "name": "stdout",
     "output_type": "stream",
     "text": [
      "OAI Identifier: oai:secundus.datadryad.org:10255/dryad.194354\n",
      "Title: Data from: Can we rely on selected genetic markers for population identification? evidence from coastal Atlantic cod\n",
      "Identifiers:\n",
      "-> doi:10.5061/dryad.k718h66\n",
      "-> Jorde PE, Synnes A, Espeland SH, Sodeland M, Knutsen H (2018) Can we rely on selected genetic markers for population identification? Evidence from coastal Atlantic cod. Ecology and Evolution 8(24): 12547-12558.\n",
      "-> http://hdl.handle.net/10255/dryad.194354\n"
     ]
    }
   ],
   "source": [
    "for e in records:\n",
    "    for subject in e.findall('.//dc:subject',namespaces = namespaces):\n",
    "        if 'population genetics' in subject.text:\n",
    "            oai_identifier = e.find('.//oai-pmh:identifier', namespaces = namespaces).text\n",
    "            print('OAI Identifier: ' + oai_identifier)\n",
    "            print('Title: ' + e.find('.//dc:title', namespaces = namespaces).text)\n",
    "            print('Identifiers:')\n",
    "            doi_identifier = e.find('.//dc:identifier', namespaces = namespaces).text\n",
    "            for id in e.findall('.//dc:identifier', namespaces = namespaces):\n",
    "                print('-> {}'.format(id.text)) "
   ]
  },
  {
   "cell_type": "code",
   "execution_count": 27,
   "metadata": {},
   "outputs": [
    {
     "name": "stdout",
     "output_type": "stream",
     "text": [
      "OAI Identifier: oai:secundus.datadryad.org:10255/dryad.194354\n"
     ]
    }
   ],
   "source": [
    "#::GMG::Obtengo también el identificador OAI del recurso en Dryad\n",
    "print('OAI Identifier: ' + oai_identifier)"
   ]
  },
  {
   "cell_type": "code",
   "execution_count": 28,
   "metadata": {},
   "outputs": [
    {
     "name": "stdout",
     "output_type": "stream",
     "text": [
      "DOI Identifier: doi:10.5061/dryad.k718h66\n"
     ]
    }
   ],
   "source": [
    "#::GMG::También he guardado el doi para futuro uso :)\n",
    "print('DOI Identifier: ' + doi_identifier)"
   ]
  },
  {
   "cell_type": "markdown",
   "metadata": {},
   "source": [
    "**::GMG::** El *handle* está roto (!!). Afortunadamente el DOI si funciona. Lo he *reportado* al repositorio digital Dryad. También se puede ver que uno de los identificadores es la cita del paper al que pertenece el dataset, lo cual no parece muy correcto."
   ]
  },
  {
   "cell_type": "markdown",
   "metadata": {},
   "source": [
    "#### RDF"
   ]
  },
  {
   "cell_type": "markdown",
   "metadata": {},
   "source": [
    "**::GMG::** Aquí obtengo más información, como la relación entre el artículo y el dataset en las etiquetas `relation`, la cita y DOI del paper en el repositorio de la publicación original"
   ]
  },
  {
   "cell_type": "code",
   "execution_count": 22,
   "metadata": {},
   "outputs": [],
   "source": [
    "#::GMG::He descubierto que si cambio de metadatos a rdf ... \n",
    "#       tengo MÁS info como el DOI del paper con el que está relacionado el dataset con dc:relation\n",
    "#       y del que forma parte el recurso como dataset del paper\n",
    "oai_rdf = requests.get(\n",
    "    'http://api.datadryad.org/oai/request?verb=ListRecords' + \n",
    "    '&from=2019-01-04T21:00:00Z&until=2019-01-04T23:00:00Z' + \n",
    "    '&metadataPrefix=' + list(metadata.keys())[3] + \n",
    "    '&set=' + conjuntos['Dryad Data Packages'])\n",
    "oaiTree = ET.fromstring(oai_rdf.text)\n",
    "records = oaiTree.findall('.//oai-pmh:record', namespaces = namespaces)"
   ]
  },
  {
   "cell_type": "code",
   "execution_count": 23,
   "metadata": {},
   "outputs": [
    {
     "name": "stdout",
     "output_type": "stream",
     "text": [
      "Title: Data from: Can we rely on selected genetic markers for population identification? evidence from coastal Atlantic cod\n",
      "Identifiers:\n",
      "-> doi:10.5061/dryad.k718h66\n",
      "-> Jorde PE, Synnes A, Espeland SH, Sodeland M, Knutsen H (2018) Can we rely on selected genetic markers for population identification? Evidence from coastal Atlantic cod. Ecology and Evolution 8(24): 12547-12558.\n",
      "-> http://hdl.handle.net/10255/dryad.194354\n",
      "-> ECE-2018-05-00606\n",
      "Relations:\n",
      "-> doi:10.5061/dryad.k718h66/1\n",
      "-> doi:10.1002/ece3.4648\n"
     ]
    }
   ],
   "source": [
    "for e in records:\n",
    "    for subject in e.findall('.//dc:subject',namespaces = namespaces):\n",
    "        #print(subject.text)\n",
    "        if 'population genetics' in subject.text:\n",
    "            print('Title: ' + e.find('.//dc:title', namespaces = namespaces).text)\n",
    "            print('Identifiers:')\n",
    "            for id in e.findall('.//dc:identifier', namespaces = namespaces):\n",
    "                print('-> {}'.format(id.text)) \n",
    "            print('Relations:')\n",
    "            for rel in e.findall('.//dc:relation', namespaces = namespaces):\n",
    "                print('-> {}'.format(rel.text)) \n",
    "            "
   ]
  },
  {
   "cell_type": "markdown",
   "metadata": {},
   "source": [
    "* 4: ¿Qué problemas has encontrado? ¿Has tenido que manejar más de un formato de metadatos? ¿Qué limitaciones tiene el protocolo OAI-PMH? ¿Cómo lo mejorarías?"
   ]
  },
  {
   "cell_type": "markdown",
   "metadata": {},
   "source": [
    "* 5: A través de los distintos métodos vistos (Uso de PID/DOI, OAI-PMH o APIs concretas de repositorios) intenta llegar al fichero de un dataset para mostrarlo (gráfica, imagen...)"
   ]
  },
  {
   "cell_type": "code",
   "execution_count": null,
   "metadata": {},
   "outputs": [],
   "source": [
    "#::GMG::Una vez que tengo el DOI tengo que obtener la URL para descargarme el dataset\n",
    "#       Ahora necesito usar el API de Dryad\n",
    "#::nota::La info sobre las APIs que usa Dryad está en su Wiki\n",
    "# http://wiki.datadryad.org/Data_Access\n",
    "#\n",
    "#::nota::Estas son las URLs de referencia si uso el interfaz web\n",
    "# https://datadryad.org/resource/doi:10.5061/dryad.k718h66\n",
    "# https://datadryad.org/bitstream/handle/10255/dryad.194355/datapacket.tgz\n",
    "#\n",
    "#::nota::Uso el DataOne API a través de Dryad (API específica)\n",
    "# http://wiki.datadryad.org/Data_Access#Links_to_Data_Packages.2FFiles\n",
    "# http://wiki.datadryad.org/DataONE_RESTful_API#Sample_Uses\n",
    "#\n",
    "# Hay que usar como base url:\n",
    "# https://datadryad.org/mn/object/\n",
    "# y luego poner el DOI + /1/bitstream"
   ]
  },
  {
   "cell_type": "code",
   "execution_count": 29,
   "metadata": {},
   "outputs": [],
   "source": [
    "dryad_base_url = 'https://datadryad.org/mn/object/'"
   ]
  },
  {
   "cell_type": "code",
   "execution_count": 32,
   "metadata": {},
   "outputs": [
    {
     "data": {
      "text/plain": [
       "'https://datadryad.org/mn/object/doi:10.5061/dryad.k718h66/1/bitstream'"
      ]
     },
     "execution_count": 32,
     "metadata": {},
     "output_type": "execute_result"
    }
   ],
   "source": [
    "#::GMG::Usamos el identificador doi que hemos extraído con OAI-PMH\n",
    "link = dryad_base_url + doi_identifier + '/1/bitstream'\n",
    "link"
   ]
  },
  {
   "cell_type": "markdown",
   "metadata": {},
   "source": [
    "**::GMG::** Se puede obtener metadata del fichero que puede resultar útil para determinar el tipo de fichero que es, su contenido, el tamaño y el MD5 para comprobar la integridad del mismo tras su descarga:\n",
    "\n",
    "http://www.datadryad.org/mn/meta/doi:10.5061/dryad.k718h66/1/bitstream\n",
    "\n",
    "```XML\n",
    "<d1:systemMetadata xsi:schemaLocation=\"http://ns.dataone.org/service/types/v1 http://ns.dataone.org/service/types/v1\">\n",
    "\t<serialVersion>1</serialVersion>\n",
    "\t<identifier>doi:10.5061/dryad.k718h66/1/bitstream</identifier>\n",
    "\t<formatId>application/x-tar-gz</formatId>\n",
    "\t<size>15179</size>\n",
    "\t<checksum algorithm=\"MD5\">79f25e62c3170e46737f2a59160d9d16</checksum>\n",
    "\t<submitter>p.e.jorde@hi.no</submitter>\n",
    "\t<rightsHolder>admin@datadryad.org</rightsHolder>\n",
    "\t<accessPolicy>\n",
    "\t\t<allow>\n",
    "\t\t\t<subject>public</subject>\n",
    "\t\t\t<permission>read</permission>\n",
    "\t\t</allow>\n",
    "\t</accessPolicy>\n",
    "\t<dateUploaded>2019-01-04T22:20:31Z</dateUploaded>\n",
    "\t<dateSysMetadataModified>2019-01-04T22:21:46.604+00:00</dateSysMetadataModified>\n",
    "\t<originMemberNode>urn:node:DRYAD</originMemberNode>\n",
    "\t<authoritativeMemberNode>urn:node:DRYAD</authoritativeMemberNode>\n",
    "</d1:systemMetadata>\n",
    "```\n",
    "\n",
    "http://www.datadryad.org/mn/object/doi:10.5061/dryad.k718h66/1\n",
    "\n",
    "```XML\n",
    "<DryadDataFile xsi:schemaLocation=\"http://purl.org/dryad/schema/terms/v3.1 http://datadryad.org/profile/v3.1/dryad.xsd\">\n",
    "\t<dcterms:type>file</dcterms:type>\n",
    "\t<dcterms:creator>Jorde, Per Erik</dcterms:creator>\n",
    "\t<dcterms:creator>Synnes, Ann-Elin</dcterms:creator>\n",
    "\t<dcterms:creator>Espeland, Sigurd Heiberg</dcterms:creator>\n",
    "\t<dcterms:creator>Sodeland, Marte</dcterms:creator>\n",
    "\t<dcterms:creator>Knutsen, Halvor</dcterms:creator>\n",
    "\t<dcterms:title>datapacket</dcterms:title>\n",
    "\t<dcterms:identifier>https://doi.org/10.5061/dryad.k718h66/1</dcterms:identifier>\n",
    "\t<dcterms:rights>http://creativecommons.org/publicdomain/zero/1.0/</dcterms:rights>\n",
    "\t<dcterms:description>The data packet is a gzip archive containing three data files (metadata.csv, 25snp_reference.gen, and 25snpNEW.gen) and one text file (datapacket.txt) describing contents of datafiles.</dcterms:description>\n",
    "\t<dcterms:subject>population genetics</dcterms:subject>\n",
    "\t<dcterms:subject>natural selection</dcterms:subject>\n",
    "\t<dcterms:subject>statistical assignment</dcterms:subject>\n",
    "\t<dcterms:subject>population-of-origin</dcterms:subject>\n",
    "\t<dcterms:subject>marine fish</dcterms:subject>\n",
    "\t<dwc:scientificName>Gadus morhua</dwc:scientificName>\n",
    "\t<dcterms:spatial>Skagerrak</dcterms:spatial>\n",
    "\t<dcterms:spatial>North Sea</dcterms:spatial>\n",
    "\t<dcterms:temporal>2012</dcterms:temporal>\n",
    "\t<dcterms:dateSubmitted>2019-01-04T22:20:31Z</dcterms:dateSubmitted>\n",
    "\t<dcterms:available>2019-01-04T22:20:31Z</dcterms:available>\n",
    "\t<dcterms:format>15179</dcterms:format>\n",
    "\t<dcterms:provenance>File was uploaded at Thu Oct 04 06:52:03 UTC 2018</dcterms:provenance>\n",
    "\t<dcterms:provenance>Step: dryadAcceptEditReject - action:dryadAcceptEditRejectAction Entered publication blackout by Rich Yaxley (ryaxley@datadryad.org) on 2018-10-05T15:37:28Z (GMT)</dcterms:provenance>\n",
    "\t<dcterms:provenance>Made available in DSpace on 2019-01-04T22:20:31Z (GMT). No. of bitstreams: 1\n",
    "datapacket.tgz: 15179 bytes, checksum: 79f25e62c3170e46737f2a59160d9d16 (MD5)</dcterms:provenance>\n",
    "\t<dcterms:isPartOf>https://doi.org/10.5061/dryad.k718h66</dcterms:isPartOf>\n",
    "</DryadDataFile>\n",
    "```"
   ]
  },
  {
   "cell_type": "code",
   "execution_count": 33,
   "metadata": {},
   "outputs": [],
   "source": [
    "#::GMG::Me bajo el fichero\n",
    "response = requests.get(link)"
   ]
  },
  {
   "cell_type": "code",
   "execution_count": 35,
   "metadata": {},
   "outputs": [],
   "source": [
    "import os"
   ]
  },
  {
   "cell_type": "code",
   "execution_count": 36,
   "metadata": {},
   "outputs": [],
   "source": [
    "#::GMG::Lo grabo en un fichero local\n",
    "with open(os.path.join(\".\", \"data.tgz\"), 'wb') as f:\n",
    "    f.write(response.content)\n",
    "    f.close()"
   ]
  },
  {
   "cell_type": "code",
   "execution_count": 37,
   "metadata": {},
   "outputs": [
    {
     "name": "stdout",
     "output_type": "stream",
     "text": [
      "total 316\r\n",
      "-rw-r--r-- 1 jovyan users  15179 Jan 17 11:05 data.tgz\r\n",
      "-rw-r--r-- 1 jovyan users 304585 Jan 17 11:04 OAI-PMH-APIs.ipynb\r\n"
     ]
    }
   ],
   "source": [
    "!ls -l"
   ]
  },
  {
   "cell_type": "code",
   "execution_count": 38,
   "metadata": {},
   "outputs": [],
   "source": [
    "import tarfile"
   ]
  },
  {
   "cell_type": "code",
   "execution_count": 39,
   "metadata": {},
   "outputs": [],
   "source": [
    "#::GMG::Extraemos el fichero zip/tar\n",
    "# https://docs.python.org/3.6/library/tarfile.html#examples\n",
    "tar = tarfile.open('data.tgz')\n",
    "tar.extractall()\n",
    "tar.close()"
   ]
  },
  {
   "cell_type": "code",
   "execution_count": 40,
   "metadata": {},
   "outputs": [
    {
     "name": "stdout",
     "output_type": "stream",
     "text": [
      "total 452\r\n",
      "-rw-rw-r-- 1 jovyan users  68528 Oct  4 06:41 25snpNEW.gen\r\n",
      "-rw-rw-r-- 1 jovyan users  31911 Oct  4 06:42 25snp_reference.gen\r\n",
      "-rw-rw-r-- 1 jovyan users    667 Oct  4 06:39 datapacket.txt\r\n",
      "-rw-r--r-- 1 jovyan users  15179 Jan 17 11:05 data.tgz\r\n",
      "-rw-rw-r-- 1 jovyan users  28688 Oct  4 06:47 metadata.csv\r\n",
      "-rw-r--r-- 1 jovyan users 305504 Jan 17 11:27 OAI-PMH-APIs.ipynb\r\n"
     ]
    }
   ],
   "source": [
    "!ls -l"
   ]
  },
  {
   "cell_type": "code",
   "execution_count": null,
   "metadata": {},
   "outputs": [],
   "source": []
  }
 ],
 "metadata": {
  "kernelspec": {
   "display_name": "Python 3",
   "language": "python",
   "name": "python3"
  },
  "language_info": {
   "codemirror_mode": {
    "name": "ipython",
    "version": 3
   },
   "file_extension": ".py",
   "mimetype": "text/x-python",
   "name": "python",
   "nbconvert_exporter": "python",
   "pygments_lexer": "ipython3",
   "version": "3.6.5"
  }
 },
 "nbformat": 4,
 "nbformat_minor": 1
}
