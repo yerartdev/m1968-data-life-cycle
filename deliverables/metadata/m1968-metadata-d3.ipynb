{
 "cells": [
  {
   "cell_type": "markdown",
   "metadata": {
    "colab_type": "text",
    "id": "kSOPMF1LMthl"
   },
   "source": [
    "# Gestión y uso de Metadatos\n",
    "\n",
    "## Alumno: Gerardo de Miguel González"
   ]
  },
  {
   "cell_type": "markdown",
   "metadata": {
    "colab_type": "text",
    "id": "tIrVy09bMthn"
   },
   "source": [
    "## Librerías Necesarias"
   ]
  },
  {
   "cell_type": "markdown",
   "metadata": {
    "colab_type": "text",
    "id": "_YOvg3AqMthp"
   },
   "source": [
    "xml.etree.ElementTree\n",
    "\n",
    "requests"
   ]
  },
  {
   "cell_type": "code",
   "execution_count": 0,
   "metadata": {
    "colab": {},
    "colab_type": "code",
    "id": "ar3ZvydRMthq"
   },
   "outputs": [],
   "source": [
    "import xml.etree.ElementTree as ET\n",
    "import requests"
   ]
  },
  {
   "cell_type": "markdown",
   "metadata": {
    "colab_type": "text",
    "id": "QAVhRJxnMthy"
   },
   "source": [
    "## Metadata attachment"
   ]
  },
  {
   "cell_type": "markdown",
   "metadata": {
    "colab_type": "text",
    "id": "oWiKcJCRMth0"
   },
   "source": [
    "En este Notebook descubriremos cómo pueden explotarse metadatos publicados en formatos basados en etiquetas, como XML."
   ]
  },
  {
   "cell_type": "markdown",
   "metadata": {
    "colab_type": "text",
    "id": "vcKIodWty1KS"
   },
   "source": [
    "### Skrik, Edvard Munch"
   ]
  },
  {
   "cell_type": "markdown",
   "metadata": {
    "colab_type": "text",
    "id": "I-N3luJ4Mth3"
   },
   "source": [
    "<img src=\"https://www.republica.com/wp-content/uploads/2017/04/grito.jpg \" width=\"250\">"
   ]
  },
  {
   "cell_type": "markdown",
   "metadata": {
    "colab_type": "text",
    "id": "l203PuVcMth4"
   },
   "source": [
    "Vamos a empezar por describir un par de objetos, empezando por un cuadro, \"El grito\", de  Edvard Munch.\n",
    "\n",
    "* Title: Skrik\n",
    "* Creator: Edvard Munch\n",
    "* Subject:  A figure with an agonized expression against a landscape with a tumultuous orange sky.\n",
    "* Description: Landscape, Portrait\n",
    "* Publisher: Nasjonalmuseet\n",
    "* Contributor: Nasjonalmuseet, The Fine Art Collections\n",
    "* Date: 1893\n",
    "* Type: Oil, tempera, pastel and crayon on cardboard\n",
    "* Format: 91 cm × 73.5 cm (36 in × 28.9 in)\n",
    "* Identifier: http://samling.nasjonalmuseet.no/en/object/NG.M.00939\n",
    "* Source: http://api.dimu.org/artifact/uuid/C88BFBE7-645D-4EE4-922C-4A3AFA7087F7\n",
    "* Language: norsk, Skrik; English, The Sream; Deutsch, Der Schrei der Natur \n",
    "* Relation: Edvard Munch created four versions in paint and pastels. The National Gallery in Oslo, Norway, holds one of two painted versions (1893). The Munch Museum holds the other painted version (1910) and also a pastel version from 1893. The second pastel version from 1895 was sold on 2 May 2012.  In 1895 Munch created a lithograph stone from which several prints produced by Munch survive.\n",
    "* Coverage:  National Gallery @59.9162108,10.7376067,15z/data=!4m5!3m4!1s0x0:0x436177565f549646!8m2!3d59.9162108!4d10.7376067 and Munch Museum @59.9172644,10.7745097,15z/data=!4m5!3m4!1s0x0:0x653ef5922c5d121b!8m2!3d59.9172644!4d10.7745097, Oslo, Norway\n",
    "* Rights:"
   ]
  },
  {
   "cell_type": "markdown",
   "metadata": {
    "colab_type": "text",
    "id": "Nss1AgqgYBWk"
   },
   "source": [
    "\n",
    "#### **::GMG::** Rellenado usando como fuentes de información las siguientes:\n",
    "\n",
    " - [Wikipedia: The Scream](https://en.wikipedia.org/wiki/The_Scream)\n",
    " - [Wikimedia Commons: The Scream](https://commons.wikimedia.org/wiki/File:The_Scream.jpg)\n",
    " - [Object NG.M.00939 Nasjionalmuseet, Oslo](http://samling.nasjonalmuseet.no/en/object/NG.M.00939)\n",
    " - [DigitaltMuseum API Call](http://api.dimu.org/artifact/uuid/C88BFBE7-645D-4EE4-922C-4A3AFA7087F7)\n",
    "   - [API Info](https://digitaltmuseum.no/info/api) ([More](https://dok.digitaltmuseum.org/en/api))\n",
    "   - [API Doc Norsk](http://api.dimu.org/doc/public_api.html)\n",
    "   - [API Github Doc English](https://github.com/nasjonalmuseet/DiMu-API-documentation)"
   ]
  },
  {
   "cell_type": "markdown",
   "metadata": {
    "colab_type": "text",
    "id": "FuFkQ5_szGjb"
   },
   "source": [
    "### Zenodo, Dataset"
   ]
  },
  {
   "cell_type": "markdown",
   "metadata": {
    "colab_type": "text",
    "id": "UaQyviKiMth6"
   },
   "source": [
    "Con Dublin Core también podemos describir datasets científicos. Vamos a probar con:\n",
    "\n",
    "https://zenodo.org/record/583733#.WfL3V3V96-o\n",
    "\n",
    "<div class=\"alert alert-warning\" role=\"alert\" style=\"margin: 10px\">\n",
    "<p>**Consejo**</p>\n",
    "\n",
    "<p>En el propio repositorio puedes encontrar metadatos</p>\n",
    "</div>\n",
    "\n",
    "* Title: \n",
    "* Creator: \n",
    "* Subject:  \n",
    "* Description: \n",
    "* Publisher: \n",
    "* Contributor:\n",
    "* Date: \n",
    "* Type: \n",
    "* Format: \n",
    "* Identifier: \n",
    "* Source: \n",
    "* Language:\n",
    "* Relation:\n",
    "* Coverage:  \n",
    "* Rights:"
   ]
  },
  {
   "cell_type": "markdown",
   "metadata": {
    "colab_type": "text",
    "id": "vMQUjHdvYlph"
   },
   "source": [
    "#### **::GMG::** Se puede sacar directamente una representación en XML con Dublin Core de la URL data en:\n",
    "\n",
    "https://zenodo.org/record/583733/export/xd\n",
    "\n",
    "siendo el resultado el siguiente:\n",
    "\n",
    "```xml\n",
    "<?xml version='1.0' encoding='utf-8'?>\n",
    "<oai_dc:dc xmlns:dc=\"http://purl.org/dc/elements/1.1/\" xmlns:oai_dc=\"http://www.openarchives.org/OAI/2.0/oai_dc/\" xmlns:xsi=\"http://www.w3.org/2001/XMLSchema-instance\" xsi:schemaLocation=\"http://www.openarchives.org/OAI/2.0/oai_dc/ http://www.openarchives.org/OAI/2.0/oai_dc.xsd\">\n",
    "  <dc:creator>Fayad, Abbas</dc:creator>\n",
    "  <dc:creator>Gascoin, Simon</dc:creator>\n",
    "  <dc:creator>Faour, Ghaleb</dc:creator>\n",
    "  <dc:creator>Fanise, Pascal</dc:creator>\n",
    "  <dc:creator>Drapeau, Laurent</dc:creator>\n",
    "  <dc:date>2017-05-28</dc:date>\n",
    "  <dc:description>We present a comprehensive snow dataset for Mont-Lebanon. The dataset includes continuous meteorological observations from three high elevation automatic weather stations (AWS), snowpack field measurements collected at 30 different snow courses (elevation range 1300-2900 m a.s.l.), and post-processed MODIS snow products.  Meteorological and snow observations are presented for the snow seasons (November-June) between 2011 and 2016 for Mzar (MZA, 2294 m a.s.l.), 2014-2016 for the Cedars (CED, 2834 m a.s.l.), and 2015-2016 for Laqlouq (LAQ, 1830 m a.s.l.). Meteorological and snow data includes snow depth, temperature, relative humidity, incoming and reflected solar radiation, wind speed and direction, and atmospheric pressure measured at 30-min interval. Snow depth, snow density, and snow water equivalent were measured at the 30 different snow courses during snow season 2015 and 2016 with an average revisit time of 11.4 days. Post-processed daily MODIS snow cover area (SCA) and snow cover duration (SCD) products are presented for the three snow dominated basins (Abou Ali, Ibrahim, and El Kelb) and cover the time period from 01 November 2011 to 31 June 2016.</dc:description>\n",
    "  <dc:identifier>https://zenodo.org/record/583733</dc:identifier>\n",
    "  <dc:identifier>10.5281/zenodo.583733</dc:identifier>\n",
    "  <dc:identifier>oai:zenodo.org:583733</dc:identifier>\n",
    "  <dc:rights>info:eu-repo/semantics/openAccess</dc:rights>\n",
    "  <dc:rights>http://creativecommons.org/licenses/by/4.0/legalcode</dc:rights>\n",
    "  <dc:subject>Snow observations</dc:subject>\n",
    "  <dc:subject>Snow water equivalent</dc:subject>\n",
    "  <dc:subject>Automatic weather station</dc:subject>\n",
    "  <dc:subject>Mountain hydrology</dc:subject>\n",
    "  <dc:subject>Hydrology</dc:subject>\n",
    "  <dc:subject>Snow</dc:subject>\n",
    "  <dc:subject>Water resources</dc:subject>\n",
    "  <dc:subject>Mediterranean climate</dc:subject>\n",
    "  <dc:subject>Mount Lebanon</dc:subject>\n",
    "  <dc:subject>Lebanon</dc:subject>\n",
    "  <dc:title>Snow dataset for Mount-Lebanon (2011-2016)</dc:title>\n",
    "  <dc:type>info:eu-repo/semantics/article</dc:type>\n",
    "  <dc:type>publication-article</dc:type>\n",
    "</oai_dc:dc>\n",
    "```"
   ]
  },
  {
   "cell_type": "markdown",
   "metadata": {
    "colab_type": "text",
    "id": "90W-jw5KzSES"
   },
   "source": [
    "### XML, Dublin Core"
   ]
  },
  {
   "cell_type": "markdown",
   "metadata": {
    "colab_type": "text",
    "id": "xhNytnGkMth7"
   },
   "source": [
    "A partir de las descripciones, podemos crear documentos XML que sean interpretables por máquinas (entendiendo máquinas como scripts, software, etc). \n",
    "\n",
    "El grito:\n",
    "  \n",
    "  ```XML\n",
    " <dc:contributor> </dc:contributor>\n",
    "  <dc:coverage> </dc:coverage>\n",
    "  <dc:creator> </dc:creator>\n",
    "  <dc:date> </dc:date>\n",
    "  <dc:description> </dc:description>\n",
    "  <dc:format>  </dc:format>\n",
    "  <dc:identifier> </dc:identifier>\n",
    "  <dc:language> </dc:language>\n",
    "  <dc:publisher> </dc:publisher>\n",
    "  <dc:relation> </dc:relation>\n",
    "  <dc:rights> </dc:rights>\n",
    "  <dc:source> </dc:source>\n",
    "  <dc:title> </dc:title>\n",
    "  <dc:type> </dc:type>\n",
    "```\n",
    "\n",
    "Dataset:\n",
    "  ```XML\n",
    " <dc:contributor> </dc:contributor>\n",
    "  <dc:coverage> </dc:coverage>\n",
    "  <dc:creator> </dc:creator>\n",
    "  <dc:date></dc:date>\n",
    "  <dc:description> </dc:description>\n",
    "  <dc:format>  </dc:format>\n",
    "  <dc:identifier></dc:identifier>\n",
    "  <dc:language> </dc:language>\n",
    "  <dc:publisher></dc:publisher>\n",
    "  <dc:relation> </dc:relation>\n",
    "  <dc:rights> </dc:rights>\n",
    "  <dc:source> </dc:source>\n",
    "  <dc:title></dc:title>\n",
    "  <dc:type></dc:type>\n",
    "```"
   ]
  },
  {
   "cell_type": "markdown",
   "metadata": {
    "colab_type": "text",
    "id": "tv_u9Ud809D2"
   },
   "source": [
    "#### DiMu: Skrik, JSON"
   ]
  },
  {
   "cell_type": "markdown",
   "metadata": {
    "colab_type": "text",
    "id": "CDFsfMV_aIqx"
   },
   "source": [
    "**::GMG::Nota:** Ya lo he hecho con el objeto digital científico de Zenodo del que podemos obtener directamente la discripción de Dublin Core. \n",
    "\n",
    "En el caso del cuadro de Edvard Munch, tenemos el [metadata en JSON](http://api.dimu.org/artifact/uuid/C88BFBE7-645D-4EE4-922C-4A3AFA7087F7) procedente de [la referencia digital](http://samling.nasjonalmuseet.no/en/object/NG.M.00939) del Nasjonalmuseet de Oslo. \n",
    "\n",
    "_NOTA_: El JSON se puede ver de una manera más legible con [json formatter](https://jsonformatter.org/json-pretty-print).\n",
    "\n",
    "Pero **no es fácil** extraer la información Dublin Core de ahí ...\n",
    "\n",
    "```json\n",
    "{\n",
    "  \"motif\": {\n",
    "    \"depictedObjects\": [],\n",
    "    \"motifTypes\": [\n",
    "      \"Landskap\",\n",
    "      \"Portrett\"\n",
    "    ],\n",
    "    \"titles\": [],\n",
    "    \"classifications\": []\n",
    "  },\n",
    "  \"exhibitions\": [],\n",
    "  \"links\": [],\n",
    "  \"commentCount\": 0,\n",
    "  \"titles\": [\n",
    "    {\n",
    "      \"status\": \"anvendt\",\n",
    "      \"language\": \"NOR\",\n",
    "      \"title\": \"Skrik\"\n",
    "    },\n",
    "    {\n",
    "      \"status\": \"anvendt\",\n",
    "      \"language\": \"ENG\",\n",
    "      \"title\": \"The Scream\"\n",
    "    }\n",
    "  ],\n",
    "  \"references\": [],\n",
    "  \"names\": [\n",
    "    {\n",
    "      \"nameType\": \"name\",\n",
    "      \"name\": \"Maleri\",\n",
    "      \"uuid\": \"F147B1FA-9CE3-43E7-909B-B24579740047\"\n",
    "    }\n",
    "  ],\n",
    "  \"ownerIdentifiers\": [],\n",
    "  \"uuid\": \"C88BFBE7-645D-4EE4-922C-4A3AFA7087F7\",\n",
    "  \"media\": {\n",
    "    \"pictures\": [\n",
    "      {\n",
    "        \"index\": 113298,\n",
    "        \"code\": \"0\",\n",
    "        \"width\": 3223,\n",
    "        \"licenses\": [],\n",
    "        \"photographer\": \"Høstland, Børre\",\n",
    "        \"identifier\": \"022wXVwUz7qf\",\n",
    "        \"height\": 4000\n",
    "      },\n",
    "      {\n",
    "        \"index\": 54321,\n",
    "        \"code\": \"0\",\n",
    "        \"width\": 2000,\n",
    "        \"licenses\": [],\n",
    "        \"identifier\": \"0371B3sHZ\",\n",
    "        \"height\": 1495\n",
    "      },\n",
    "      {\n",
    "        \"index\": 54320,\n",
    "        \"code\": \"0\",\n",
    "        \"width\": 1511,\n",
    "        \"licenses\": [],\n",
    "        \"identifier\": \"0171B3sHX\",\n",
    "        \"height\": 2000\n",
    "      },\n",
    "      {\n",
    "        \"index\": 54319,\n",
    "        \"code\": \"0\",\n",
    "        \"width\": 1511,\n",
    "        \"licenses\": [],\n",
    "        \"identifier\": \"0171B3sHV\",\n",
    "        \"height\": 2000\n",
    "      },\n",
    "      {\n",
    "        \"index\": 54318,\n",
    "        \"code\": \"0\",\n",
    "        \"width\": 2000,\n",
    "        \"licenses\": [],\n",
    "        \"identifier\": \"0171B3sHU\",\n",
    "        \"height\": 1495\n",
    "      }\n",
    "    ],\n",
    "    \"mediaFiles\": [],\n",
    "    \"movies\": []\n",
    "  },\n",
    "  \"technique\": {\n",
    "    \"techniques\": [\n",
    "      {\n",
    "        \"sort\": 1,\n",
    "        \"technique\": \"Tempera\"\n",
    "      },\n",
    "      {\n",
    "        \"sort\": 2,\n",
    "        \"technique\": \"Fettstift\"\n",
    "      }\n",
    "    ]\n",
    "  },\n",
    "  \"partOfCollection\": {\n",
    "    \"owner\": {\n",
    "      \"identifier\": \"NMK\",\n",
    "      \"id\": 1,\n",
    "      \"name\": \"Nasjonalmuseet for kunst, arkitektur og design\"\n",
    "    },\n",
    "    \"ownerId\": \"NMK\",\n",
    "    \"id\": 7,\n",
    "    \"uuid\": \"70893D84-C63C-4F5F-A4B1-491DCFC7B386\",\n",
    "    \"name\": \"NMK billedkunst [eldre og moderne]\"\n",
    "  },\n",
    "  \"copies\": [],\n",
    "  \"coordinates\": [],\n",
    "  \"subjects\": [\n",
    "    {\n",
    "      \"nameType\": \"subject\",\n",
    "      \"name\": \"Bildende kunst\",\n",
    "      \"uuid\": \"BE0D8624-1B19-45ED-A0EF-71E05220406A\"\n",
    "    }\n",
    "  ],\n",
    "  \"uniqueId\": \"011042448792\",\n",
    "  \"dimu_code\": \"011042448792\",\n",
    "  \"eventWrap\": {\n",
    "    \"placesOfProduction\": [],\n",
    "    \"producers\": [\n",
    "      {\n",
    "        \"info\": {\n",
    "          \"references\": [\n",
    "            {\n",
    "              \"url\": \"http://viaf.org/viaf/61624802\",\n",
    "              \"type\": \"VIAF\",\n",
    "              \"description\": \"permalink\",\n",
    "              \"reference\": \"ID: 61624802\"\n",
    "            }\n",
    "          ],\n",
    "          \"places\": [\n",
    "            {\n",
    "              \"coordinate\": \"60.81957019999999, 11.342102000000068\",\n",
    "              \"fields\": [\n",
    "                {\n",
    "                  \"sort\": 1,\n",
    "                  \"number\": 1,\n",
    "                  \"value\": \"Norge\",\n",
    "                  \"name\": \"Land\"\n",
    "                },\n",
    "                {\n",
    "                  \"sort\": 5,\n",
    "                  \"number\": 4,\n",
    "                  \"value\": \"Løten, Hedmark\",\n",
    "                  \"name\": \"Områdepres\"\n",
    "                }\n",
    "              ],\n",
    "              \"role\": {\n",
    "                \"name\": \"Fødested, \"\n",
    "              },\n",
    "              \"uuid\": \"0CC04459-9F6E-40C9-962A-8C3ED8C07C32\"\n",
    "            },\n",
    "            {\n",
    "              \"coordinate\": \"59.9138688, 10.752245399999992\",\n",
    "              \"fields\": [\n",
    "                {\n",
    "                  \"sort\": 1,\n",
    "                  \"number\": 1,\n",
    "                  \"value\": \"Norge\",\n",
    "                  \"name\": \"Land\"\n",
    "                },\n",
    "                {\n",
    "                  \"sort\": 2,\n",
    "                  \"code\": \"03\",\n",
    "                  \"number\": 7,\n",
    "                  \"value\": \"Oslo (fylke)\",\n",
    "                  \"name\": \"Fylke\"\n",
    "                },\n",
    "                {\n",
    "                  \"sort\": 3,\n",
    "                  \"code\": \"0301\",\n",
    "                  \"number\": 2,\n",
    "                  \"value\": \"Oslo\",\n",
    "                  \"name\": \"Kommune\"\n",
    "                }\n",
    "              ],\n",
    "              \"role\": {\n",
    "                \"name\": \"Dødssted, \"\n",
    "              },\n",
    "              \"uuid\": \"8ABED23D-E315-40FB-9CB5-B6B6BD3A643A\"\n",
    "            }\n",
    "          ],\n",
    "          \"nationality\": \"Norge\",\n",
    "          \"gender\": \"Mann\",\n",
    "          \"professions\": [],\n",
    "          \"alternativeNames\": []\n",
    "        },\n",
    "        \"role\": {\n",
    "          \"code\": \"10K\",\n",
    "          \"name\": \"Kunstner\"\n",
    "        },\n",
    "        \"uuid\": \"281F289C-1A53-4727-86F8-A335CB4AB072\",\n",
    "        \"name\": \"Munch, Edvard\",\n",
    "        \"type\": \"Person\",\n",
    "        \"id\": 17891,\n",
    "        \"publishLevel\": \"extended\"\n",
    "      }\n",
    "    ],\n",
    "    \"descriptiveDating\": \"1893\",\n",
    "    \"production\": {\n",
    "      \"sort\": 6,\n",
    "      \"timespan\": {\n",
    "        \"toDate\": \"18930101-133000-000\",\n",
    "        \"fromYear\": 1893,\n",
    "        \"fromDate\": \"18930101-133000-000\",\n",
    "        \"toYear\": 1893\n",
    "      },\n",
    "      \"eventType\": \"Produksjon\",\n",
    "      \"relatedPersons\": [\n",
    "        {\n",
    "          \"info\": {\n",
    "            \"references\": [\n",
    "              {\n",
    "                \"url\": \"http://viaf.org/viaf/61624802\",\n",
    "                \"type\": \"VIAF\",\n",
    "                \"description\": \"permalink\",\n",
    "                \"reference\": \"ID: 61624802\"\n",
    "              }\n",
    "            ],\n",
    "            \"places\": [\n",
    "              {\n",
    "                \"coordinate\": \"60.81957019999999, 11.342102000000068\",\n",
    "                \"fields\": [\n",
    "                  {\n",
    "                    \"sort\": 1,\n",
    "                    \"number\": 1,\n",
    "                    \"value\": \"Norge\",\n",
    "                    \"name\": \"Land\"\n",
    "                  },\n",
    "                  {\n",
    "                    \"sort\": 5,\n",
    "                    \"number\": 4,\n",
    "                    \"value\": \"Løten, Hedmark\",\n",
    "                    \"name\": \"Områdepres\"\n",
    "                  }\n",
    "                ],\n",
    "                \"role\": {\n",
    "                  \"name\": \"Fødested, \"\n",
    "                },\n",
    "                \"uuid\": \"0CC04459-9F6E-40C9-962A-8C3ED8C07C32\"\n",
    "              },\n",
    "              {\n",
    "                \"coordinate\": \"59.9138688, 10.752245399999992\",\n",
    "                \"fields\": [\n",
    "                  {\n",
    "                    \"sort\": 1,\n",
    "                    \"number\": 1,\n",
    "                    \"value\": \"Norge\",\n",
    "                    \"name\": \"Land\"\n",
    "                  },\n",
    "                  {\n",
    "                    \"sort\": 2,\n",
    "                    \"code\": \"03\",\n",
    "                    \"number\": 7,\n",
    "                    \"value\": \"Oslo (fylke)\",\n",
    "                    \"name\": \"Fylke\"\n",
    "                  },\n",
    "                  {\n",
    "                    \"sort\": 3,\n",
    "                    \"code\": \"0301\",\n",
    "                    \"number\": 2,\n",
    "                    \"value\": \"Oslo\",\n",
    "                    \"name\": \"Kommune\"\n",
    "                  }\n",
    "                ],\n",
    "                \"role\": {\n",
    "                  \"name\": \"Dødssted, \"\n",
    "                },\n",
    "                \"uuid\": \"8ABED23D-E315-40FB-9CB5-B6B6BD3A643A\"\n",
    "              }\n",
    "            ],\n",
    "            \"nationality\": \"Norge\",\n",
    "            \"gender\": \"Mann\",\n",
    "            \"professions\": [],\n",
    "            \"alternativeNames\": []\n",
    "          },\n",
    "          \"role\": {\n",
    "            \"code\": \"10K\",\n",
    "            \"name\": \"Kunstner\"\n",
    "          },\n",
    "          \"uuid\": \"281F289C-1A53-4727-86F8-A335CB4AB072\",\n",
    "          \"name\": \"Munch, Edvard\",\n",
    "          \"type\": \"Person\",\n",
    "          \"id\": 17891,\n",
    "          \"publishLevel\": \"extended\"\n",
    "        }\n",
    "      ],\n",
    "      \"relatedPlaces\": [],\n",
    "      \"eventTypeClarification\": \"Produsert\"\n",
    "    },\n",
    "    \"events\": [\n",
    "      {\n",
    "        \"sort\": 6,\n",
    "        \"timespan\": {\n",
    "          \"toDate\": \"18930101-133000-000\",\n",
    "          \"fromYear\": 1893,\n",
    "          \"fromDate\": \"18930101-133000-000\",\n",
    "          \"toYear\": 1893\n",
    "        },\n",
    "        \"eventType\": \"Produksjon\",\n",
    "        \"relatedPersons\": [\n",
    "          {\n",
    "            \"info\": {\n",
    "              \"references\": [\n",
    "                {\n",
    "                  \"url\": \"http://viaf.org/viaf/61624802\",\n",
    "                  \"type\": \"VIAF\",\n",
    "                  \"description\": \"permalink\",\n",
    "                  \"reference\": \"ID: 61624802\"\n",
    "                }\n",
    "              ],\n",
    "              \"places\": [\n",
    "                {\n",
    "                  \"coordinate\": \"60.81957019999999, 11.342102000000068\",\n",
    "                  \"fields\": [\n",
    "                    {\n",
    "                      \"sort\": 1,\n",
    "                      \"number\": 1,\n",
    "                      \"value\": \"Norge\",\n",
    "                      \"name\": \"Land\"\n",
    "                    },\n",
    "                    {\n",
    "                      \"sort\": 5,\n",
    "                      \"number\": 4,\n",
    "                      \"value\": \"Løten, Hedmark\",\n",
    "                      \"name\": \"Områdepres\"\n",
    "                    }\n",
    "                  ],\n",
    "                  \"role\": {\n",
    "                    \"name\": \"Fødested, \"\n",
    "                  },\n",
    "                  \"uuid\": \"0CC04459-9F6E-40C9-962A-8C3ED8C07C32\"\n",
    "                },\n",
    "                {\n",
    "                  \"coordinate\": \"59.9138688, 10.752245399999992\",\n",
    "                  \"fields\": [\n",
    "                    {\n",
    "                      \"sort\": 1,\n",
    "                      \"number\": 1,\n",
    "                      \"value\": \"Norge\",\n",
    "                      \"name\": \"Land\"\n",
    "                    },\n",
    "                    {\n",
    "                      \"sort\": 2,\n",
    "                      \"code\": \"03\",\n",
    "                      \"number\": 7,\n",
    "                      \"value\": \"Oslo (fylke)\",\n",
    "                      \"name\": \"Fylke\"\n",
    "                    },\n",
    "                    {\n",
    "                      \"sort\": 3,\n",
    "                      \"code\": \"0301\",\n",
    "                      \"number\": 2,\n",
    "                      \"value\": \"Oslo\",\n",
    "                      \"name\": \"Kommune\"\n",
    "                    }\n",
    "                  ],\n",
    "                  \"role\": {\n",
    "                    \"name\": \"Dødssted, \"\n",
    "                  },\n",
    "                  \"uuid\": \"8ABED23D-E315-40FB-9CB5-B6B6BD3A643A\"\n",
    "                }\n",
    "              ],\n",
    "              \"nationality\": \"Norge\",\n",
    "              \"gender\": \"Mann\",\n",
    "              \"professions\": [],\n",
    "              \"alternativeNames\": []\n",
    "            },\n",
    "            \"role\": {\n",
    "              \"code\": \"10K\",\n",
    "              \"name\": \"Kunstner\"\n",
    "            },\n",
    "            \"uuid\": \"281F289C-1A53-4727-86F8-A335CB4AB072\",\n",
    "            \"name\": \"Munch, Edvard\",\n",
    "            \"type\": \"Person\",\n",
    "            \"id\": 17891,\n",
    "            \"publishLevel\": \"extended\"\n",
    "          }\n",
    "        ],\n",
    "        \"relatedPlaces\": [],\n",
    "        \"eventTypeClarification\": \"Produsert\"\n",
    "      },\n",
    "      {\n",
    "        \"sort\": 7,\n",
    "        \"eventType\": \"Produksjon\",\n",
    "        \"relatedPersons\": [],\n",
    "        \"relatedPlaces\": []\n",
    "      }\n",
    "    ],\n",
    "    \"acquisition\": \"Gave fra Olaf Schou 1910\"\n",
    "  },\n",
    "  \"material\": {\n",
    "    \"comment\": \"Tempera og fettstift på papplate\",\n",
    "    \"materials\": [\n",
    "      {\n",
    "        \"sort\": 2,\n",
    "        \"material\": \"Papplate\"\n",
    "      }\n",
    "    ]\n",
    "  },\n",
    "  \"artifact_id\": 2448792,\n",
    "  \"tags\": [\n",
    "    {\n",
    "      \"source\": \"DIMU\",\n",
    "      \"name\": \"copyrigth\"\n",
    "    },\n",
    "    {\n",
    "      \"source\": \"DIMU\",\n",
    "      \"name\": \"Kvevli\"\n",
    "    }\n",
    "  ],\n",
    "  \"indexLevel\": null,\n",
    "  \"rateCount\": 0,\n",
    "  \"measures\": [\n",
    "    {\n",
    "      \"sort\": 1,\n",
    "      \"category\": \"Hovedmål\",\n",
    "      \"type\": \"Høyde\",\n",
    "      \"unit\": \"cm\",\n",
    "      \"measure\": 91\n",
    "    },\n",
    "    {\n",
    "      \"sort\": 2,\n",
    "      \"category\": \"Hovedmål\",\n",
    "      \"type\": \"Bredde\",\n",
    "      \"unit\": \"cm\",\n",
    "      \"measure\": 73.5\n",
    "    },\n",
    "    {\n",
    "      \"sort\": 3,\n",
    "      \"category\": \"Rammemål\",\n",
    "      \"type\": \"Høyde\",\n",
    "      \"unit\": \"cm\",\n",
    "      \"measure\": 113.1\n",
    "    },\n",
    "    {\n",
    "      \"sort\": 4,\n",
    "      \"category\": \"Rammemål\",\n",
    "      \"type\": \"Bredde\",\n",
    "      \"unit\": \"cm\",\n",
    "      \"measure\": 95\n",
    "    },\n",
    "    {\n",
    "      \"sort\": 5,\n",
    "      \"category\": \"Rammemål\",\n",
    "      \"type\": \"Dybde\",\n",
    "      \"unit\": \"cm\",\n",
    "      \"measure\": 6.5\n",
    "    }\n",
    "  ],\n",
    "  \"measureDescription\": \"91 x 73,5 cm\",\n",
    "  \"alternativeIdentifiers\": [],\n",
    "  \"partOfExhibitionUuids\": [\n",
    "    \"C2901D38-57A6-4DD0-B342-25FCE70F2522\",\n",
    "    \"8A89D628-5E71-4B23-8A5B-0FA565529180\"\n",
    "  ],\n",
    "  \"trademarks\": [],\n",
    "  \"createdDate\": \"20131214-070256-529636\",\n",
    "  \"dimuCode\": \"011042448792\",\n",
    "  \"inscriptions\": [],\n",
    "  \"classifications\": [\n",
    "    {\n",
    "      \"code\": \"532\",\n",
    "      \"system\": \"OU\",\n",
    "      \"description\": \"Bildende kunst\"\n",
    "    }\n",
    "  ],\n",
    "  \"partOfFolderUuids\": [\n",
    "    \"68ccaae4-b94b-11e2-a45b-a05cc397920b\",\n",
    "    \"08e94ee8-483c-11e2-b82d-d23e7822b2c9\"\n",
    "  ],\n",
    "  \"level\": {\n",
    "    \"code\": \"9\",\n",
    "    \"name\": \"Enkeltverk\"\n",
    "  },\n",
    "  \"sourceId\": \"84545\",\n",
    "  \"updatedDate\": \"20181020-041017-136191\",\n",
    "  \"publishedDate\": \"20101208-230000-000\",\n",
    "  \"styleWrap\": {},\n",
    "  \"relatedObjects\": [\n",
    "    {\n",
    "      \"relation\": \"Relatert motiv\",\n",
    "      \"uuid\": \"1603BC1C-993A-4B84-BF4B-98B48C37F6A0\",\n",
    "      \"uniqueId\": \"011042444425\",\n",
    "      \"relationId\": 28,\n",
    "      \"artifactType\": \"Fineart\",\n",
    "      \"identifier\": {\n",
    "        \"owner\": \"NMK-B\",\n",
    "        \"id\": \"NG.K&H.A.18995\"\n",
    "      }\n",
    "    },\n",
    "    {\n",
    "      \"relation\": \"Recto til\",\n",
    "      \"uuid\": \"AEA24F3B-26AE-411F-A7C1-611918F2E1F7\",\n",
    "      \"uniqueId\": \"011041107752\",\n",
    "      \"relationId\": 3,\n",
    "      \"artifactType\": \"Fineart\",\n",
    "      \"identifier\": {\n",
    "        \"owner\": \"NMK-B\",\n",
    "        \"id\": \"NG.M.00939VERSO\"\n",
    "      }\n",
    "    }\n",
    "  ],\n",
    "  \"publishStatus\": \"published\",\n",
    "  \"publishLevel\": \"limited\",\n",
    "  \"artifactType\": \"Fineart\",\n",
    "  \"identifier\": {\n",
    "    \"owner\": \"NMK-B\",\n",
    "    \"id\": \"NG.M.00939\"\n",
    "  },\n",
    "  \"unique_id\": \"011042448792\"\n",
    "}\n",
    "```\n",
    "\n"
   ]
  },
  {
   "cell_type": "markdown",
   "metadata": {
    "colab_type": "text",
    "id": "dMLVZU6I1G9L"
   },
   "source": [
    "#### DiMu: Skrik, XML\n"
   ]
  },
  {
   "cell_type": "markdown",
   "metadata": {
    "colab_type": "text",
    "id": "SAxLGKHHjx_K"
   },
   "source": [
    "**::GMG::** He probado a utilizar el [API de DiMu](https://github.com/nasjonalmuseet/DiMu-API-documentation#full) para obtener una descripción XML del objeto (cuadro) a partir de su identificador `NG.M.00939` (*Object no.*) en el [Nasjonalmuseet](http://samling.nasjonalmuseet.no/en/object/NG.M.00939).\n",
    "\n",
    "**Probando con API**\n",
    "\n",
    "Se puede hacer tal vez un mapeo de algunos de los metadatos que devuelve a Dublin Core (?) pero es un **engorro**:\n",
    "\n",
    "  - identifier.id,\n",
    "  - identifier.owner,\n",
    "  - artifact.uniqueId,\n",
    "  - artifact.uuid,\n",
    "  - artifact.type,\n",
    "  - artifact.subtype,\n",
    "  - artifact.coordinate,\n",
    "  - artifact.authority,\n",
    "  - artifact.pictureCount,\n",
    "  - artifact.hasPictures,\n",
    "  - artifact.childCount,\n",
    "  - artifact.hasChildren,\n",
    "  - artifact.defaultPictureIndex,\n",
    "  - artifact.defaultMediaIdentifier,\n",
    "  - artifact.defaultPictureDimension,\n",
    "  - artifact.publishedDate,\n",
    "  - artifact.updatedDate,\n",
    "  - artifact.ingress.title,\n",
    "  - artifact.ingress.producer,\n",
    "  - artifact.ingress.producerRole,\n",
    "  - artifact.ingress.additionalProducers,\n",
    "  - artifact.ingress.production.fromYear,\n",
    "  - artifact.ingress.production.toYear,\n",
    "  - artifact.ingress.production.place,\n",
    "  - artifact.ingress.classification,\n",
    "  - artifact.ingress.subjects,\n",
    "  - artifact.ingress.description,\n",
    "  - artifact.ingress.license\n",
    "\n",
    "Aquí está **la petición**:\n",
    "\n",
    "_NOTA_: he usado [la extensión RESTED](https://addons.mozilla.org/en-US/firefox/addon/rested/) de mozilla Firefox para obtener la respuesta.\n",
    "\n",
    "https://api.dimu.org/api/solr/select?q=*&fq=identifier.id:NG.M.00939&wt=xml&api.key=demo\n",
    "\n",
    "y la **respuesta**:\n",
    "\n",
    "```xml\n",
    "<?xml version=\"1.0\" encoding=\"UTF-8\"?>\n",
    "<response>\n",
    "    <lst name=\"responseHeader\">\n",
    "        <bool name=\"zkConnected\">\n",
    "            true\n",
    "        </bool>\n",
    "        <int name=\"status\">\n",
    "            0\n",
    "        </int>\n",
    "        <int name=\"QTime\">\n",
    "            0\n",
    "        </int>\n",
    "        <lst name=\"params\">\n",
    "            <str name=\"q\">\n",
    "                *\n",
    "            </str>\n",
    "            <str name=\"df\">\n",
    "                _text_\n",
    "            </str>\n",
    "            <str name=\"api.key\">\n",
    "                demo\n",
    "            </str>\n",
    "            <str name=\"qt\">\n",
    "                standard\n",
    "            </str>\n",
    "            <str name=\"fl\">identifier.id,identifier.owner,artifact.uniqueId,artifact.uuid,artifact.type,artifact.subtype,artifact.coordinate,artifact.authority,artifact.pictureCount,artifact.hasPictures,artifact.childCount,artifact.hasChildren,artifact.defaultPictureIndex,artifact.defaultMediaIdentifier,artifact.defaultPictureDimension,artifact.publishedDate,artifact.updatedDate,artifact.ingress.title,artifact.ingress.producer,artifact.ingress.producerRole,artifact.ingress.additionalProducers,artifact.ingress.production.fromYear,artifact.ingress.production.toYear,artifact.ingress.production.place,artifact.ingress.classification,artifact.ingress.subjects,artifact.ingress.description,artifact.ingress.license\n",
    "            </str>\n",
    "            <str name=\"q.op\">\n",
    "                AND\n",
    "            </str>\n",
    "            <str name=\"fq\">\n",
    "                identifier.id:NG.M.00939\n",
    "            </str>\n",
    "            <str name=\"rows\">\n",
    "                10\n",
    "            </str>\n",
    "            <str name=\"wt\">\n",
    "                xml\n",
    "            </str>\n",
    "        </lst>\n",
    "    </lst>\n",
    "\n",
    "    <result name=\"response\" numFound=\"1\" start=\"0\">\n",
    "        <doc>\n",
    "            <int name=\"artifact.defaultPictureIndex\">\n",
    "                113298\n",
    "            </int>\n",
    "            <str name=\"artifact.ingress.title\">\n",
    "                Skrik [Maleri]\n",
    "            </str>\n",
    "            <str name=\"artifact.uniqueId\">\n",
    "                011042448792\n",
    "            </str>\n",
    "            <date name=\"artifact.publishedDate\">\n",
    "                2010-12-08T23:00:00Z\n",
    "            </date>\n",
    "            <str name=\"artifact.ingress.producerRole\">\n",
    "                Kunstner\n",
    "            </str>\n",
    "            <str name=\"identifier.id\">\n",
    "                NG.M.00939\n",
    "            </str>\n",
    "            <str name=\"artifact.type\">\n",
    "                Fineart\n",
    "            </str>\n",
    "            <bool name=\"artifact.hasChildren\">\n",
    "                false\n",
    "            </bool>\n",
    "            <str name=\"identifier.owner\">\n",
    "                NMK-B\n",
    "            </str>\n",
    "            <str name=\"artifact.uuid\">\n",
    "                C88BFBE7-645D-4EE4-922C-4A3AFA7087F7\n",
    "            </str>\n",
    "            <int name=\"artifact.pictureCount\">\n",
    "                5\n",
    "            </int>\n",
    "            <date name=\"artifact.updatedDate\">\n",
    "                2018-10-20T04:10:17.136Z\n",
    "            </date>\n",
    "            <bool name=\"artifact.hasPictures\">\n",
    "                true\n",
    "            </bool>\n",
    "            <int name=\"artifact.ingress.production.toYear\">\n",
    "                1893\n",
    "            </int>\n",
    "            <arr name=\"artifact.ingress.classification\">\n",
    "                <str>\n",
    "                    532\n",
    "                </str>\n",
    "            </arr>\n",
    "            <str name=\"artifact.ingress.producer\">\n",
    "                Munch, Edvard\n",
    "            </str>\n",
    "            <str name=\"artifact.defaultPictureDimension\">\n",
    "                3223x4000\n",
    "            </str>\n",
    "            <str name=\"artifact.defaultMediaIdentifier\">\n",
    "                022wXVwUz7qf\n",
    "            </str>\n",
    "            <int name=\"artifact.ingress.production.fromYear\">\n",
    "                1893\n",
    "            </int>\n",
    "            <arr name=\"artifact.ingress.subjects\">\n",
    "                <str>\n",
    "                    Bildende kunst\n",
    "                </str>\n",
    "            </arr>\n",
    "        </doc>\n",
    "    </result>\n",
    "</response>\n",
    "```"
   ]
  },
  {
   "cell_type": "markdown",
   "metadata": {
    "colab_type": "text",
    "id": "XU58vXsR1QGR"
   },
   "source": [
    "#### DiMu: Skrik, XML, Dublin Core and more"
   ]
  },
  {
   "cell_type": "markdown",
   "metadata": {
    "colab_type": "text",
    "id": "qPZU7Yd4vPgd"
   },
   "source": [
    "**::GMG::** Según la [documentación en noruego](https://api.dimu.org/doc/public_api.html) de la API se puede utilizar `artifact.uniqueId,` para hacer una petición API y obtener la versión XML que llaman `ESE - Europeana XML`. Haciendo esa petición:\n",
    "\n",
    "https://api.dimu.org//api/artifact?unique_id=011042448792&mapping=ESE&api.key=demo\n",
    "\n",
    "obtenermos la versión XML con metadatos Dublin Core que estamos buscando aunque en una versión más *extendida*:\n",
    "\n",
    "```xml\n",
    "<?xml version=\"1.0\"?>\n",
    "<europeana:record xmlns:xsi=\"http://www.w3.org/2001/XMLSchema-instance\" xmlns:europeana=\"http://www.europeana.eu/schemas/ese/\" xmlns:dc=\"http://purl.org/dc/elements/1.1/\" xmlns:dcterms=\"http://purl.org/dc/terms/\" xmlns:dcmitype=\"http://purl.org/dc/dcmitype/\" xsi:schemaLocation=\"http://www.europeana.eu/schemas/ese/ http://www.europeana.eu/schemas/ese/ESE-V3.2.xsd \">\n",
    "    \n",
    "   \n",
    "    <dc:identifier>\n",
    "        http://digitaltmuseum.no/things/thing/NMK-B/NG.M.00939\n",
    "    </dc:identifier>\n",
    "  \n",
    "  <dcterms:references>\n",
    "        NMK-B!!NG.M.00939\n",
    "    </dcterms:references>\n",
    "  \n",
    "  <dc:title xml:lang=\"NOR\">\n",
    "        Skrik\n",
    "    </dc:title>\n",
    "    <dc:title xml:lang=\"ENG\">\n",
    "        The Scream\n",
    "    </dc:title>\n",
    "  \n",
    "  <dcterms:provenance>\n",
    "        1893\n",
    "  </dcterms:provenance>\n",
    "  <dcterms:provenance>\n",
    "        Gave fra Olaf Schou 1910\n",
    "  </dcterms:provenance>\n",
    "  \n",
    "  <dc:creator>\n",
    "        Munch, Edvard\n",
    "  </dc:creator>\n",
    "\n",
    "  <dcterms:created>\n",
    "        start=1893-01-01; end=1893-01-01;\n",
    "    </dcterms:created>\n",
    "    <dcterms:temporal>\n",
    "        start=1893-01-01; end=1893-01-01;\n",
    "    </dcterms:temporal>\n",
    "    <dc:type>\n",
    "        PhysicalObject\n",
    "    </dc:type>\n",
    "    <dcterms:medium xml:lang=\"no\">\n",
    "        Tempera og fettstift på papplate\n",
    "    </dcterms:medium>\n",
    "    <dcterms:medium xml:lang=\"no\">\n",
    "        Papplate\n",
    "    </dcterms:medium>\n",
    "    <dcterms:extent>\n",
    "        91 x 73,5 cm\n",
    "    </dcterms:extent>\n",
    "    <dcterms:extent>\n",
    "        Høyde: 91.0 cm\n",
    "    </dcterms:extent>\n",
    "    <dcterms:extent>\n",
    "        Bredde: 73.5 cm\n",
    "    </dcterms:extent>\n",
    "    <dcterms:extent>\n",
    "        Høyde: 113.1 cm\n",
    "    </dcterms:extent>\n",
    "    <dcterms:extent>\n",
    "        Bredde: 95.0 cm\n",
    "    </dcterms:extent>\n",
    "    <dcterms:extent>\n",
    "        Dybde: 6.5 cm\n",
    "    </dcterms:extent>\n",
    "\n",
    "  <dc:subject xml:lang=\"no\">\n",
    "        Maleri\n",
    "    </dc:subject>\n",
    "    <dc:subject xml:lang=\"no\">\n",
    "        Bildende kunst\n",
    "    </dc:subject>\n",
    "    <dc:subject xml:lang=\"no\">\n",
    "        Bildende kunst(532)\n",
    "    </dc:subject>\n",
    "   \n",
    "    <dc:source>\n",
    "        Nasjonalmuseet for kunst, arkitektur og design\n",
    "    </dc:source>\n",
    "   \n",
    "    <dc:source>\n",
    "        NMK billedkunst [eldre og moderne]\n",
    "    </dc:source>\n",
    "        \n",
    "    <europeana:object>\n",
    "        http://mm.dimu.no/image/022wXVwUz7qf?dimension=400x400\n",
    "    </europeana:object>\n",
    "    <europeana:provider>\n",
    "        ABM-utvikling\n",
    "    </europeana:provider>\n",
    "    <europeana:type>\n",
    "        IMAGE\n",
    "    </europeana:type>\n",
    "    <europeana:isShownBy>\n",
    "        http://mm.dimu.no/image/022wXVwUz7qf?dimension=800x800\n",
    "    </europeana:isShownBy>\n",
    "    <europeana:isShownAt>\n",
    "        http://digitaltmuseum.no/011042448792\n",
    "    </europeana:isShownAt>\n",
    "</europeana:record>\n",
    "```\n",
    "\n",
    "_NOTA_: También puede ser interesante echarle un vistazo a la otras versiones:\n",
    "\n",
    " - [ABM - Norwegiana XML](https://api.dimu.org//api/artifact?unique_id=011042448792&mapping=ABM&api.key=demo)\n",
    " - [simple_json - JSON](https://api.dimu.org//api/artifact?unique_id=011042448792&mapping=simple_json&api.key=demo)"
   ]
  },
  {
   "cell_type": "markdown",
   "metadata": {
    "colab_type": "text",
    "id": "l-ayOzl7f7QO"
   },
   "source": [
    "## Python experience"
   ]
  },
  {
   "cell_type": "markdown",
   "metadata": {
    "colab_type": "text",
    "id": "ccibLCQNBfa3"
   },
   "source": [
    "### Intro"
   ]
  },
  {
   "cell_type": "markdown",
   "metadata": {
    "colab_type": "text",
    "id": "r9WCc_n-Mth8"
   },
   "source": [
    "Ahora vamos a ver cómo podemos manejar estos datos en Python. Para ello, utilizaremos la librería xml [ElementTree](https://docs.python.org/3.7/library/xml.etree.elementtree.html#module-xml.etree.ElementTree).\n",
    "\n",
    "Para crear un documento XML bien formado, es necesario definir dónde está descrito el prefijo Dublin Core o \"dc:\". Para ello, añadimos antes de los datos la siguiente cabecera:\n",
    "\n",
    "```xml\n",
    "<?xml version=\"1.0\" encoding=\"UTF-8\" standalone=\"no?> \n",
    "<?xml-stylesheet type=\"text/xsl\" href=\"/webservices/catalog/xsl/searchRetrieveResponse.xsl\"?>\n",
    "\n",
    "<searchRetrieveResponse xmlns:oclcterms=\"http://purl.org/oclc/terms/\" xmlns:dc=\"http://purl.org/dc/elements/1.1/\" xmlns:diag=\"http://www.loc.gov/zing/srw/diagnostic/\" xmlns:xsi=\"http://www.w3.org/2001/XMLSchema-instance\">\n",
    "```\n",
    "\n",
    "Sin olvidar añadir al final:\n",
    "\n",
    "```xml\n",
    "</searchRetrieveResponse>\n",
    "```\n",
    "\n",
    "En código:\n",
    "\n",
    "```python\n",
    "dc_xml = '''<?xml version=\"1.0\" encoding=\"UTF-8\" standalone=\"no\"?>\n",
    "<?xml-stylesheet type=\"text/xsl\" href=\"/webservices/catalog/xsl/searchRetrieveResponse.xsl\"?>\n",
    "<searchRetrieveResponse xmlns:oclcterms=\"http://purl.org/oclc/terms/\" xmlns:dc=\"http://purl.org/dc/elements/1.1/\" xmlns:diag=\"http://www.loc.gov/zing/srw/diagnostic/\" xmlns:xsi=\"http://www.w3.org/2001/XMLSchema-instance\">\n",
    "    <dc:contributor></dc:contributor>\n",
    "    <dc:coverage></dc:coverage>\n",
    "    <dc:creator></dc:creator>\n",
    "    <dc:date></dc:date>\n",
    "    <dc:description></dc:description>\n",
    "    <dc:format></dc:format>\n",
    "    <dc:identifier></dc:identifier>\n",
    "    <dc:language></dc:language>\n",
    "    <dc:publisher></dc:publisher>\n",
    "    <dc:relation></dc:relation>\n",
    "    <dc:rights></dc:rights>\n",
    "    <dc:source></dc:source>\n",
    "    <dc:title></dc:title>\n",
    "    <dc:type></dc:type>\n",
    "</searchRetrieveResponse>'''\n",
    "\n",
    "tree = ET.fromstring(dc_xml)\n",
    "print(tree)\n",
    "```"
   ]
  },
  {
   "cell_type": "markdown",
   "metadata": {
    "colab_type": "text",
    "id": "-48vBR29MtiJ"
   },
   "source": [
    "Si queremos recorrer los elementos del XML que hemos formado, podemos utilizar un bucle, teniendo en cuenta que la información que nos interesa la tenemos en 'searchRetrieveResponse':\n",
    "\n",
    "```python\n",
    "for table in tree.getiterator('searchRetrieveResponse'):\n",
    "    for child in table:\n",
    "        print(child.tag, child.text)\n",
    "```"
   ]
  },
  {
   "cell_type": "markdown",
   "metadata": {
    "colab_type": "text",
    "id": "CH8aaGGUMtiP"
   },
   "source": [
    "Observa que, al utilizar el prefijo 'dc:' e indicarle que está descrito en la URL 'http://purl.org/dc/elements/1.1/', la eqtiqueta o \"tag\" apaerece:\n",
    "\n",
    "`{URL}contributor.`"
   ]
  },
  {
   "cell_type": "markdown",
   "metadata": {
    "colab_type": "text",
    "id": "UDFSjaoKBkyO"
   },
   "source": [
    "### ::GMG:: Mi experiencia :)"
   ]
  },
  {
   "cell_type": "markdown",
   "metadata": {
    "colab_type": "text",
    "id": "34RFQQbSBnOX"
   },
   "source": [
    "Prueba a mostrar los metadatos que has creado a partir del cuadro y del dataset.\n",
    "\n",
    "::GMG::**Referencias**\n",
    "\n",
    " - [xml.etree.ElementTree — The ElementTree XML API](https://docs.python.org/3.7/library/xml.etree.elementtree.html#module-xml.etree.ElementTree)\n",
    " - [ElementTree: XPath support](https://docs.python.org/3.7/library/xml.etree.elementtree.html#elementtree-xpath)\n",
    " - [Effbot: ElementTree Overview](http://effbot.org/zone/element-index.htm)\n",
    " - [DataCamp:Python XML with ElementTree: Beginner's Guide](https://www.datacamp.com/community/tutorials/python-xml-elementtree)\n",
    " - [W3Schools XML Tutorial](https://www.w3schools.com/xml/default.asp)\n",
    " - [W3Schools XPath Tutorial](https://www.w3schools.com/xml/xpath_intro.asp)"
   ]
  },
  {
   "cell_type": "markdown",
   "metadata": {
    "colab_type": "text",
    "id": "c31-eOVwBylI"
   },
   "source": [
    "#### Zenodo"
   ]
  },
  {
   "cell_type": "code",
   "execution_count": 0,
   "metadata": {
    "colab": {
     "base_uri": "https://localhost:8080/",
     "height": 52
    },
    "colab_type": "code",
    "executionInfo": {
     "elapsed": 559,
     "status": "ok",
     "timestamp": 1543674031093,
     "user": {
      "displayName": "Gerardo de Miguel",
      "photoUrl": "https://lh3.googleusercontent.com/-LmFLfSn0ThU/AAAAAAAAAAI/AAAAAAAAAkg/xGe-_jxkcZA/s64/photo.jpg",
      "userId": "12735548512534412210"
     },
     "user_tz": -60
    },
    "id": "Kh5RNlLKAtJ-",
    "outputId": "4094d50b-6f95-4407-9dad-e040290cf982"
   },
   "outputs": [
    {
     "data": {
      "text/plain": [
       "<Element '{http://www.openarchives.org/OAI/2.0/oai_dc/}dc' at 0x7f76f7090958>"
      ]
     },
     "metadata": {
      "tags": []
     },
     "output_type": "display_data"
    },
    {
     "data": {
      "text/plain": [
       "xml.etree.ElementTree.Element"
      ]
     },
     "metadata": {
      "tags": []
     },
     "output_type": "display_data"
    }
   ],
   "source": [
    "#::GMG::Utilizo la respuesta XML obtenida del recurso de Zenodo\n",
    "dc_xml = '''<?xml version='1.0' encoding='utf-8'?>\n",
    "<oai_dc:dc xmlns:dc=\"http://purl.org/dc/elements/1.1/\" xmlns:oai_dc=\"http://www.openarchives.org/OAI/2.0/oai_dc/\" xmlns:xsi=\"http://www.w3.org/2001/XMLSchema-instance\" xsi:schemaLocation=\"http://www.openarchives.org/OAI/2.0/oai_dc/ http://www.openarchives.org/OAI/2.0/oai_dc.xsd\">\n",
    "  <dc:creator>Fayad, Abbas</dc:creator>\n",
    "  <dc:creator>Gascoin, Simon</dc:creator>\n",
    "  <dc:creator>Faour, Ghaleb</dc:creator>\n",
    "  <dc:creator>Fanise, Pascal</dc:creator>\n",
    "  <dc:creator>Drapeau, Laurent</dc:creator>\n",
    "  <dc:date>2017-05-28</dc:date>\n",
    "  <dc:description>We present a comprehensive snow dataset for Mont-Lebanon. The dataset includes continuous meteorological observations from three high elevation automatic weather stations (AWS), snowpack field measurements collected at 30 different snow courses (elevation range 1300-2900 m a.s.l.), and post-processed MODIS snow products.  Meteorological and snow observations are presented for the snow seasons (November-June) between 2011 and 2016 for Mzar (MZA, 2294 m a.s.l.), 2014-2016 for the Cedars (CED, 2834 m a.s.l.), and 2015-2016 for Laqlouq (LAQ, 1830 m a.s.l.). Meteorological and snow data includes snow depth, temperature, relative humidity, incoming and reflected solar radiation, wind speed and direction, and atmospheric pressure measured at 30-min interval. Snow depth, snow density, and snow water equivalent were measured at the 30 different snow courses during snow season 2015 and 2016 with an average revisit time of 11.4 days. Post-processed daily MODIS snow cover area (SCA) and snow cover duration (SCD) products are presented for the three snow dominated basins (Abou Ali, Ibrahim, and El Kelb) and cover the time period from 01 November 2011 to 31 June 2016.</dc:description>\n",
    "  <dc:identifier>https://zenodo.org/record/583733</dc:identifier>\n",
    "  <dc:identifier>10.5281/zenodo.583733</dc:identifier>\n",
    "  <dc:identifier>oai:zenodo.org:583733</dc:identifier>\n",
    "  <dc:rights>info:eu-repo/semantics/openAccess</dc:rights>\n",
    "  <dc:rights>http://creativecommons.org/licenses/by/4.0/legalcode</dc:rights>\n",
    "  <dc:subject>Snow observations</dc:subject>\n",
    "  <dc:subject>Snow water equivalent</dc:subject>\n",
    "  <dc:subject>Automatic weather station</dc:subject>\n",
    "  <dc:subject>Mountain hydrology</dc:subject>\n",
    "  <dc:subject>Hydrology</dc:subject>\n",
    "  <dc:subject>Snow</dc:subject>\n",
    "  <dc:subject>Water resources</dc:subject>\n",
    "  <dc:subject>Mediterranean climate</dc:subject>\n",
    "  <dc:subject>Mount Lebanon</dc:subject>\n",
    "  <dc:subject>Lebanon</dc:subject>\n",
    "  <dc:title>Snow dataset for Mount-Lebanon (2011-2016)</dc:title>\n",
    "  <dc:type>info:eu-repo/semantics/article</dc:type>\n",
    "  <dc:type>publication-article</dc:type>\n",
    "</oai_dc:dc>'''\n",
    "\n",
    "#::GMG::Aquí uso el método fromString() para obtener la raíz del árbol (un \n",
    "#       objeto de tipo ELement)\n",
    "# https://docs.python.org/3.7/library/xml.etree.elementtree.html#parsing-xml\n",
    "root_zenodo = ET.fromstring(dc_xml)\n",
    "display(root_zenodo, type(root_zenodo))"
   ]
  },
  {
   "cell_type": "code",
   "execution_count": 0,
   "metadata": {
    "colab": {
     "base_uri": "https://localhost:8080/",
     "height": 471
    },
    "colab_type": "code",
    "executionInfo": {
     "elapsed": 561,
     "status": "ok",
     "timestamp": 1543659696749,
     "user": {
      "displayName": "Gerardo de Miguel",
      "photoUrl": "https://lh3.googleusercontent.com/-LmFLfSn0ThU/AAAAAAAAAAI/AAAAAAAAAkg/xGe-_jxkcZA/s64/photo.jpg",
      "userId": "12735548512534412210"
     },
     "user_tz": -60
    },
    "id": "qo3a2v6DCIQB",
    "outputId": "8db86740-b2a0-4358-9874-586922f368a2"
   },
   "outputs": [
    {
     "name": "stdout",
     "output_type": "stream",
     "text": [
      "Tag: {http://purl.org/dc/elements/1.1/}creator --> Fayad, Abbas\n",
      "Tag: {http://purl.org/dc/elements/1.1/}creator --> Gascoin, Simon\n",
      "Tag: {http://purl.org/dc/elements/1.1/}creator --> Faour, Ghaleb\n",
      "Tag: {http://purl.org/dc/elements/1.1/}creator --> Fanise, Pascal\n",
      "Tag: {http://purl.org/dc/elements/1.1/}creator --> Drapeau, Laurent\n",
      "Tag: {http://purl.org/dc/elements/1.1/}date --> 2017-05-28\n",
      "Tag: {http://purl.org/dc/elements/1.1/}description --> We present a comprehensive snow dataset for Mont-Lebanon. The dataset includes continuous meteorological observations from three high elevation automatic weather stations (AWS), snowpack field measurements collected at 30 different snow courses (elevation range 1300-2900 m a.s.l.), and post-processed MODIS snow products.  Meteorological and snow observations are presented for the snow seasons (November-June) between 2011 and 2016 for Mzar (MZA, 2294 m a.s.l.), 2014-2016 for the Cedars (CED, 2834 m a.s.l.), and 2015-2016 for Laqlouq (LAQ, 1830 m a.s.l.). Meteorological and snow data includes snow depth, temperature, relative humidity, incoming and reflected solar radiation, wind speed and direction, and atmospheric pressure measured at 30-min interval. Snow depth, snow density, and snow water equivalent were measured at the 30 different snow courses during snow season 2015 and 2016 with an average revisit time of 11.4 days. Post-processed daily MODIS snow cover area (SCA) and snow cover duration (SCD) products are presented for the three snow dominated basins (Abou Ali, Ibrahim, and El Kelb) and cover the time period from 01 November 2011 to 31 June 2016.\n",
      "Tag: {http://purl.org/dc/elements/1.1/}identifier --> https://zenodo.org/record/583733\n",
      "Tag: {http://purl.org/dc/elements/1.1/}identifier --> 10.5281/zenodo.583733\n",
      "Tag: {http://purl.org/dc/elements/1.1/}identifier --> oai:zenodo.org:583733\n",
      "Tag: {http://purl.org/dc/elements/1.1/}rights --> info:eu-repo/semantics/openAccess\n",
      "Tag: {http://purl.org/dc/elements/1.1/}rights --> http://creativecommons.org/licenses/by/4.0/legalcode\n",
      "Tag: {http://purl.org/dc/elements/1.1/}subject --> Snow observations\n",
      "Tag: {http://purl.org/dc/elements/1.1/}subject --> Snow water equivalent\n",
      "Tag: {http://purl.org/dc/elements/1.1/}subject --> Automatic weather station\n",
      "Tag: {http://purl.org/dc/elements/1.1/}subject --> Mountain hydrology\n",
      "Tag: {http://purl.org/dc/elements/1.1/}subject --> Hydrology\n",
      "Tag: {http://purl.org/dc/elements/1.1/}subject --> Snow\n",
      "Tag: {http://purl.org/dc/elements/1.1/}subject --> Water resources\n",
      "Tag: {http://purl.org/dc/elements/1.1/}subject --> Mediterranean climate\n",
      "Tag: {http://purl.org/dc/elements/1.1/}subject --> Mount Lebanon\n",
      "Tag: {http://purl.org/dc/elements/1.1/}subject --> Lebanon\n",
      "Tag: {http://purl.org/dc/elements/1.1/}title --> Snow dataset for Mount-Lebanon (2011-2016)\n",
      "Tag: {http://purl.org/dc/elements/1.1/}type --> info:eu-repo/semantics/article\n",
      "Tag: {http://purl.org/dc/elements/1.1/}type --> publication-article\n"
     ]
    }
   ],
   "source": [
    "#::GMG::Ahora conseguimos el iterador del elemento con raíz en oai_dc:dc e\n",
    "#       iteramos todos los elementos (nodos) hijo dc:*\n",
    "for oai_dc in root_zenodo.getiterator(\n",
    "    '{http://www.openarchives.org/OAI/2.0/oai_dc/}dc'\n",
    "    ):\n",
    "    for dc_node in oai_dc:\n",
    "        print('Tag: {} --> {}'.format(dc_node.tag, dc_node.text))"
   ]
  },
  {
   "cell_type": "markdown",
   "metadata": {
    "colab_type": "text",
    "id": "2r8-TnZeCPSS"
   },
   "source": [
    "#### Skrik, Edvard Munch"
   ]
  },
  {
   "cell_type": "markdown",
   "metadata": {
    "colab_type": "text",
    "id": "t2lW6ektCTpw"
   },
   "source": [
    "Utilizo la [respuesta `ESE` XML de DiMu](https://api.dimu.org//api/artifact?unique_id=011042448792&mapping=ESE&api.key=demo) para mi experiencia Python:"
   ]
  },
  {
   "cell_type": "code",
   "execution_count": 0,
   "metadata": {
    "colab": {
     "base_uri": "https://localhost:8080/",
     "height": 52
    },
    "colab_type": "code",
    "executionInfo": {
     "elapsed": 544,
     "status": "ok",
     "timestamp": 1543674045811,
     "user": {
      "displayName": "Gerardo de Miguel",
      "photoUrl": "https://lh3.googleusercontent.com/-LmFLfSn0ThU/AAAAAAAAAAI/AAAAAAAAAkg/xGe-_jxkcZA/s64/photo.jpg",
      "userId": "12735548512534412210"
     },
     "user_tz": -60
    },
    "id": "XitLdV17CUxJ",
    "outputId": "2c5b28b5-1d5e-46fc-b1de-354e62d4b679"
   },
   "outputs": [
    {
     "data": {
      "text/plain": [
       "<Element '{http://www.europeana.eu/schemas/ese/}record' at 0x7f76f70ac638>"
      ]
     },
     "metadata": {
      "tags": []
     },
     "output_type": "display_data"
    },
    {
     "data": {
      "text/plain": [
       "xml.etree.ElementTree.Element"
      ]
     },
     "metadata": {
      "tags": []
     },
     "output_type": "display_data"
    }
   ],
   "source": [
    "dc_xml = '''<?xml version=\"1.0\"?>\n",
    "<europeana:record xmlns:xsi=\"http://www.w3.org/2001/XMLSchema-instance\" xmlns:europeana=\"http://www.europeana.eu/schemas/ese/\" xmlns:dc=\"http://purl.org/dc/elements/1.1/\" xmlns:dcterms=\"http://purl.org/dc/terms/\" xmlns:dcmitype=\"http://purl.org/dc/dcmitype/\" xsi:schemaLocation=\"http://www.europeana.eu/schemas/ese/ http://www.europeana.eu/schemas/ese/ESE-V3.2.xsd \">\n",
    "    <dc:identifier>\n",
    "        http://digitaltmuseum.no/things/thing/NMK-B/NG.M.00939\n",
    "    </dc:identifier>\n",
    "  <dcterms:references>\n",
    "        NMK-B!!NG.M.00939\n",
    "    </dcterms:references>\n",
    "\n",
    "  <dc:title xml:lang=\"NOR\">\n",
    "        Skrik\n",
    "    </dc:title>\n",
    "    <dc:title xml:lang=\"ENG\">\n",
    "        The Scream\n",
    "    </dc:title>\n",
    "  <dcterms:provenance>\n",
    "        1893\n",
    "  </dcterms:provenance>\n",
    "  <dcterms:provenance>\n",
    "        Gave fra Olaf Schou 1910\n",
    "  </dcterms:provenance>\n",
    "  <dc:creator>\n",
    "        Munch, Edvard\n",
    "  </dc:creator>\n",
    "  <dcterms:created>\n",
    "        start=1893-01-01; end=1893-01-01;\n",
    "    </dcterms:created>\n",
    "    <dcterms:temporal>\n",
    "        start=1893-01-01; end=1893-01-01;\n",
    "    </dcterms:temporal>\n",
    "    <dc:type>\n",
    "        PhysicalObject\n",
    "    </dc:type>\n",
    "    <dcterms:medium xml:lang=\"no\">\n",
    "        Tempera og fettstift på papplate\n",
    "    </dcterms:medium>\n",
    "    <dcterms:medium xml:lang=\"no\">\n",
    "        Papplate\n",
    "    </dcterms:medium>\n",
    "    <dcterms:extent>\n",
    "        91 x 73,5 cm\n",
    "    </dcterms:extent>\n",
    "    <dcterms:extent>\n",
    "        Høyde: 91.0 cm\n",
    "    </dcterms:extent>\n",
    "    <dcterms:extent>\n",
    "        Bredde: 73.5 cm\n",
    "    </dcterms:extent>\n",
    "    <dcterms:extent>\n",
    "        Høyde: 113.1 cm\n",
    "    </dcterms:extent>\n",
    "    <dcterms:extent>\n",
    "        Bredde: 95.0 cm\n",
    "    </dcterms:extent>\n",
    "    <dcterms:extent>\n",
    "        Dybde: 6.5 cm\n",
    "    </dcterms:extent>\n",
    "  <dc:subject xml:lang=\"no\">\n",
    "        Maleri\n",
    "    </dc:subject>\n",
    "    <dc:subject xml:lang=\"no\">\n",
    "        Bildende kunst\n",
    "    </dc:subject>\n",
    "    <dc:subject xml:lang=\"no\">\n",
    "        Bildende kunst(532)\n",
    "    </dc:subject>\n",
    "    <dc:source>\n",
    "        Nasjonalmuseet for kunst, arkitektur og design\n",
    "    </dc:source>\n",
    "    <dc:source>\n",
    "        NMK billedkunst [eldre og moderne]\n",
    "    </dc:source>\n",
    "    <europeana:object>\n",
    "        http://mm.dimu.no/image/022wXVwUz7qf?dimension=400x400\n",
    "    </europeana:object>\n",
    "    <europeana:provider>\n",
    "        ABM-utvikling\n",
    "    </europeana:provider>\n",
    "    <europeana:type>\n",
    "        IMAGE\n",
    "    </europeana:type>\n",
    "    <europeana:isShownBy>\n",
    "        http://mm.dimu.no/image/022wXVwUz7qf?dimension=800x800\n",
    "    </europeana:isShownBy>\n",
    "    <europeana:isShownAt>\n",
    "        http://digitaltmuseum.no/011042448792\n",
    "    </europeana:isShownAt>\n",
    "</europeana:record>'''\n",
    "\n",
    "#::GMG::Obtenemos el nodo raíz europeana:record de tipo Element del XML\n",
    "root_dimu = ET.fromstring(dc_xml)\n",
    "display(root_dimu, type(root_dimu))"
   ]
  },
  {
   "cell_type": "code",
   "execution_count": 0,
   "metadata": {
    "colab": {
     "base_uri": "https://localhost:8080/",
     "height": 1473
    },
    "colab_type": "code",
    "executionInfo": {
     "elapsed": 548,
     "status": "ok",
     "timestamp": 1543660303601,
     "user": {
      "displayName": "Gerardo de Miguel",
      "photoUrl": "https://lh3.googleusercontent.com/-LmFLfSn0ThU/AAAAAAAAAAI/AAAAAAAAAkg/xGe-_jxkcZA/s64/photo.jpg",
      "userId": "12735548512534412210"
     },
     "user_tz": -60
    },
    "id": "Y6nf1FAeCVVU",
    "outputId": "b18b7697-ab88-4a51-e7ef-bb9de9da3533"
   },
   "outputs": [
    {
     "name": "stdout",
     "output_type": "stream",
     "text": [
      "Tag: {http://purl.org/dc/elements/1.1/}identifier --> \n",
      "        http://digitaltmuseum.no/things/thing/NMK-B/NG.M.00939\n",
      "    \n",
      "Tag: {http://purl.org/dc/terms/}references --> \n",
      "        NMK-B!!NG.M.00939\n",
      "    \n",
      "Tag: {http://purl.org/dc/elements/1.1/}title --> \n",
      "        Skrik\n",
      "    \n",
      "Tag: {http://purl.org/dc/elements/1.1/}title --> \n",
      "        The Scream\n",
      "    \n",
      "Tag: {http://purl.org/dc/terms/}provenance --> \n",
      "        1893\n",
      "  \n",
      "Tag: {http://purl.org/dc/terms/}provenance --> \n",
      "        Gave fra Olaf Schou 1910\n",
      "  \n",
      "Tag: {http://purl.org/dc/elements/1.1/}creator --> \n",
      "        Munch, Edvard\n",
      "  \n",
      "Tag: {http://purl.org/dc/terms/}created --> \n",
      "        start=1893-01-01; end=1893-01-01;\n",
      "    \n",
      "Tag: {http://purl.org/dc/terms/}temporal --> \n",
      "        start=1893-01-01; end=1893-01-01;\n",
      "    \n",
      "Tag: {http://purl.org/dc/elements/1.1/}type --> \n",
      "        PhysicalObject\n",
      "    \n",
      "Tag: {http://purl.org/dc/terms/}medium --> \n",
      "        Tempera og fettstift på papplate\n",
      "    \n",
      "Tag: {http://purl.org/dc/terms/}medium --> \n",
      "        Papplate\n",
      "    \n",
      "Tag: {http://purl.org/dc/terms/}extent --> \n",
      "        91 x 73,5 cm\n",
      "    \n",
      "Tag: {http://purl.org/dc/terms/}extent --> \n",
      "        Høyde: 91.0 cm\n",
      "    \n",
      "Tag: {http://purl.org/dc/terms/}extent --> \n",
      "        Bredde: 73.5 cm\n",
      "    \n",
      "Tag: {http://purl.org/dc/terms/}extent --> \n",
      "        Høyde: 113.1 cm\n",
      "    \n",
      "Tag: {http://purl.org/dc/terms/}extent --> \n",
      "        Bredde: 95.0 cm\n",
      "    \n",
      "Tag: {http://purl.org/dc/terms/}extent --> \n",
      "        Dybde: 6.5 cm\n",
      "    \n",
      "Tag: {http://purl.org/dc/elements/1.1/}subject --> \n",
      "        Maleri\n",
      "    \n",
      "Tag: {http://purl.org/dc/elements/1.1/}subject --> \n",
      "        Bildende kunst\n",
      "    \n",
      "Tag: {http://purl.org/dc/elements/1.1/}subject --> \n",
      "        Bildende kunst(532)\n",
      "    \n",
      "Tag: {http://purl.org/dc/elements/1.1/}source --> \n",
      "        Nasjonalmuseet for kunst, arkitektur og design\n",
      "    \n",
      "Tag: {http://purl.org/dc/elements/1.1/}source --> \n",
      "        NMK billedkunst [eldre og moderne]\n",
      "    \n",
      "Tag: {http://www.europeana.eu/schemas/ese/}object --> \n",
      "        http://mm.dimu.no/image/022wXVwUz7qf?dimension=400x400\n",
      "    \n",
      "Tag: {http://www.europeana.eu/schemas/ese/}provider --> \n",
      "        ABM-utvikling\n",
      "    \n",
      "Tag: {http://www.europeana.eu/schemas/ese/}type --> \n",
      "        IMAGE\n",
      "    \n",
      "Tag: {http://www.europeana.eu/schemas/ese/}isShownBy --> \n",
      "        http://mm.dimu.no/image/022wXVwUz7qf?dimension=800x800\n",
      "    \n",
      "Tag: {http://www.europeana.eu/schemas/ese/}isShownAt --> \n",
      "        http://digitaltmuseum.no/011042448792\n",
      "    \n"
     ]
    }
   ],
   "source": [
    "#::GMG::Obtenemos todos los nodos hijo del nodo raíz europeana:record\n",
    "#       a través de un iterador, recorriendo todos los hijos, entre los que \n",
    "#       se ecuentran dc:* dcterms:* europeana:*\n",
    "for europeana_record in root_dimu.getiterator(\n",
    "    '{http://www.europeana.eu/schemas/ese/}record'\n",
    "    ):\n",
    "    for node in europeana_record:\n",
    "        print('Tag: {} --> {}'.format(node.tag, node.text))"
   ]
  },
  {
   "cell_type": "markdown",
   "metadata": {
    "colab_type": "text",
    "id": "7IsrpHT2W0Q9"
   },
   "source": [
    "#### find.all()"
   ]
  },
  {
   "cell_type": "markdown",
   "metadata": {
    "colab_type": "text",
    "id": "eEOekMTrMtid"
   },
   "source": [
    "Utilizando findall() sobre el árbol (tree), podemos encontrar todos los elementos con una etiqueta determinada.\n",
    "\n",
    "::GMG::**Nota:** en realidad no se hace sobre el objeto [`ElemenTree`](https://docs.python.org/3.7/library/xml.etree.elementtree.html#xml.etree.ElementTree.ElementTree), i.e `tree_zenodo` o `tree_dimu` sino sobre el objeto [`Element`](https://docs.python.org/3.7/library/xml.etree.elementtree.html#xml.etree.ElementTree.Element) que representa la raíz del árbol (y por lo tanto es _equivalente_ a tener el árbol completo con todos sus nodos por debajo ), i.e. `root_zenodo`, `root_dimu`"
   ]
  },
  {
   "cell_type": "code",
   "execution_count": 0,
   "metadata": {
    "colab": {
     "base_uri": "https://localhost:8080/",
     "height": 121
    },
    "colab_type": "code",
    "executionInfo": {
     "elapsed": 558,
     "status": "ok",
     "timestamp": 1543661447566,
     "user": {
      "displayName": "Gerardo de Miguel",
      "photoUrl": "https://lh3.googleusercontent.com/-LmFLfSn0ThU/AAAAAAAAAAI/AAAAAAAAAkg/xGe-_jxkcZA/s64/photo.jpg",
      "userId": "12735548512534412210"
     },
     "user_tz": -60
    },
    "id": "p4tgk4f3Mtif",
    "outputId": "29c61a07-5d78-4986-d925-3f4e4829b7a4"
   },
   "outputs": [
    {
     "name": "stdout",
     "output_type": "stream",
     "text": [
      "Raíz del árbol: <Element '{http://www.openarchives.org/OAI/2.0/oai_dc/}dc' at 0x7f76f7ae9728>\n",
      "dc:creator --> <Element '{http://purl.org/dc/elements/1.1/}creator' at 0x7f76f760f098>\n",
      "dc:creator --> <Element '{http://purl.org/dc/elements/1.1/}creator' at 0x7f76f760f0e8>\n",
      "dc:creator --> <Element '{http://purl.org/dc/elements/1.1/}creator' at 0x7f76f760f138>\n",
      "dc:creator --> <Element '{http://purl.org/dc/elements/1.1/}creator' at 0x7f76f760f188>\n",
      "dc:creator --> <Element '{http://purl.org/dc/elements/1.1/}creator' at 0x7f76f760f1d8>\n"
     ]
    }
   ],
   "source": [
    "#::GMG::Cogemos los ELement (nodos) creator que \"cuelgan\" de la raíz del árbol\n",
    "print('Raíz del árbol: {}'.format(root_zenodo))\n",
    "creators = root_zenodo.findall('{http://purl.org/dc/elements/1.1/}creator')\n",
    "for creator in creators:\n",
    "    print('dc:creator --> {}'.format(creator))"
   ]
  },
  {
   "cell_type": "markdown",
   "metadata": {
    "colab_type": "text",
    "id": "e6tK4gDXMtis"
   },
   "source": [
    "Ten en cuenta que lo que encontramos es, en realidad, una parte del documento XML, por lo que hay que iterarlo como antes:"
   ]
  },
  {
   "cell_type": "code",
   "execution_count": 0,
   "metadata": {
    "colab": {
     "base_uri": "https://localhost:8080/",
     "height": 104
    },
    "colab_type": "code",
    "executionInfo": {
     "elapsed": 546,
     "status": "ok",
     "timestamp": 1543661665889,
     "user": {
      "displayName": "Gerardo de Miguel",
      "photoUrl": "https://lh3.googleusercontent.com/-LmFLfSn0ThU/AAAAAAAAAAI/AAAAAAAAAkg/xGe-_jxkcZA/s64/photo.jpg",
      "userId": "12735548512534412210"
     },
     "user_tz": -60
    },
    "id": "WqYXGRNXMtit",
    "outputId": "15367d6a-a4c7-4edb-feac-c002f495b7b7"
   },
   "outputs": [
    {
     "name": "stdout",
     "output_type": "stream",
     "text": [
      "Tag: {http://purl.org/dc/elements/1.1/}creator --> Fayad, Abbas\n",
      "Tag: {http://purl.org/dc/elements/1.1/}creator --> Gascoin, Simon\n",
      "Tag: {http://purl.org/dc/elements/1.1/}creator --> Faour, Ghaleb\n",
      "Tag: {http://purl.org/dc/elements/1.1/}creator --> Fanise, Pascal\n",
      "Tag: {http://purl.org/dc/elements/1.1/}creator --> Drapeau, Laurent\n"
     ]
    }
   ],
   "source": [
    "#::GMG::Extramos el contenido y etiqueta de cada Element (nodo)\n",
    "for creator in creators:\n",
    "    print('Tag: {} --> {}'.format(creator.tag, creator.text))"
   ]
  },
  {
   "cell_type": "code",
   "execution_count": 0,
   "metadata": {
    "colab": {
     "base_uri": "https://localhost:8080/",
     "height": 121
    },
    "colab_type": "code",
    "executionInfo": {
     "elapsed": 1136,
     "status": "ok",
     "timestamp": 1543662017475,
     "user": {
      "displayName": "Gerardo de Miguel",
      "photoUrl": "https://lh3.googleusercontent.com/-LmFLfSn0ThU/AAAAAAAAAAI/AAAAAAAAAkg/xGe-_jxkcZA/s64/photo.jpg",
      "userId": "12735548512534412210"
     },
     "user_tz": -60
    },
    "id": "xnPYCrGAYT1Q",
    "outputId": "95d2cc9f-6f4c-414b-b17c-4c47eaf5e7d3"
   },
   "outputs": [
    {
     "name": "stdout",
     "output_type": "stream",
     "text": [
      "Tag: {http://purl.org/dc/elements/1.1/}title --> \n",
      "        Skrik\n",
      "     (idioma: {'{http://www.w3.org/XML/1998/namespace}lang': 'NOR'})\n",
      "Tag: {http://purl.org/dc/elements/1.1/}title --> \n",
      "        The Scream\n",
      "     (idioma: {'{http://www.w3.org/XML/1998/namespace}lang': 'ENG'})\n"
     ]
    }
   ],
   "source": [
    "#::GMG::Hacemos lo mismo con el cuadro pero extraemos el título (dc:title)\n",
    "#       que tiene dos nodos, uno para idioma (norsk, English) que está\n",
    "#       marcado en el atributo xml:lang de la etiqueta dc:title\n",
    "titles = root_dimu.findall('{http://purl.org/dc/elements/1.1/}title')\n",
    "for title in titles:\n",
    "    print('Tag: {} --> {} (idioma: {})'\n",
    "          .format(\n",
    "              title.tag, title.text, title.attrib\n",
    "          )\n",
    "         )"
   ]
  },
  {
   "cell_type": "markdown",
   "metadata": {
    "colab_type": "text",
    "id": "XLiL_95LiN6J"
   },
   "source": [
    "#### find(), namespaces"
   ]
  },
  {
   "cell_type": "markdown",
   "metadata": {
    "colab_type": "text",
    "id": "IRDFJ3YUMtiw"
   },
   "source": [
    "XML utiliza prefijos para no necesitar referenciar a la URL de un tipo cada vez, lo podemos ver en la cabecera:\n",
    "\n",
    "```xml\n",
    "<?xml version=\"1.0\" encoding=\"UTF-8\" standalone=\"no\"?><?xml-stylesheet type=\"text/xsl\" href=\"/webservices/catalog/xsl/searchRetrieveResponse.xsl\"?>\n",
    "<searchRetrieveResponse xmlns:oclcterms=\"http://purl.org/oclc/terms/\" xmlns:dc=\"http://purl.org/dc/elements/1.1/\" xmlns:diag=\"http://www.loc.gov/zing/srw/diagnostic/\" xmlns:xsi=\"http://www.w3.org/2001/XMLSchema-instance\">\n",
    "```\n",
    "\n",
    "Por ejemplo, cada vez que queremos utilizar un tipo de Dublin Core, utilizamos el prefijo dc: que equivale a llamar a la definición:\n",
    "\n",
    "```xml\n",
    "xmlns:dc=\"http://purl.org/dc/elements/1.1/\"\n",
    "```\n",
    "\n",
    "Sin embargo, para utilizar `ElementTree` en Python, tenemos que utilizar la URL completa. Esto puede resultar un poco engorroso, así que podemos definir el namespace como un objeto `dict` \n",
    "\n",
    "```python\n",
    "{'prefijo_1': 'uri_1, 'prefijo_2': 'uri_2 ', ...}\n",
    "``` \n",
    "\n",
    "para utilizar también el prefijo."
   ]
  },
  {
   "cell_type": "code",
   "execution_count": 0,
   "metadata": {
    "colab": {
     "base_uri": "https://localhost:8080/",
     "height": 52
    },
    "colab_type": "code",
    "executionInfo": {
     "elapsed": 562,
     "status": "ok",
     "timestamp": 1543662815058,
     "user": {
      "displayName": "Gerardo de Miguel",
      "photoUrl": "https://lh3.googleusercontent.com/-LmFLfSn0ThU/AAAAAAAAAAI/AAAAAAAAAkg/xGe-_jxkcZA/s64/photo.jpg",
      "userId": "12735548512534412210"
     },
     "user_tz": -60
    },
    "id": "WCda2cpYMtiz",
    "outputId": "e5880752-bb45-40c2-d935-7b3ccff86aeb"
   },
   "outputs": [
    {
     "name": "stdout",
     "output_type": "stream",
     "text": [
      "Zenodo rights: info:eu-repo/semantics/openAccess \n",
      "Skrik provenance: ['1893', 'Gave fra Olaf Schou 1910']\n"
     ]
    }
   ],
   "source": [
    "#::GMG::Lo pruebo en mi caso con XML de Zenodo y Skrik\n",
    "namespaces = {'dc': 'http://purl.org/dc/elements/1.1/',\n",
    "              'dcterms': 'http://purl.org/dc/terms/'} # add more as needed\n",
    "\n",
    "#::GMG:: Referencias\n",
    "# https://pyformat.info/ para ''.format()\n",
    "# https://stackoverflow.com/questions/275018/how-can-i-remove-chomp-a-trailing-newline-in-python\n",
    "# para strip()\n",
    "print('Zenodo rights: {} \\nSkrik provenance: {}'.format(\n",
    "    root_zenodo.find('dc:rights',namespaces).text,\n",
    "    [provenance.text.strip() for provenance in \n",
    "        root_dimu.findall('dcterms:provenance',namespaces)])\n",
    ")\n"
   ]
  },
  {
   "cell_type": "markdown",
   "metadata": {
    "colab_type": "text",
    "id": "LWuogL8_iscD"
   },
   "source": [
    "### Atributos"
   ]
  },
  {
   "cell_type": "markdown",
   "metadata": {
    "colab_type": "text",
    "id": "gA7zawcxMti4"
   },
   "source": [
    "Los documentos XML, aparte de las etiquetas y los valores, pueden contener atributos. Dado el siguiente ejemplo, vamos a ver cómo obtener la lista y los valores de los atributos"
   ]
  },
  {
   "cell_type": "code",
   "execution_count": 0,
   "metadata": {
    "colab": {},
    "colab_type": "code",
    "id": "yvk_T9iqMti7"
   },
   "outputs": [],
   "source": [
    "dc_xml = '''<?xml version=\"1.0\" encoding=\"UTF-8\" standalone=\"no\"?><?xml-stylesheet type=\"text/xsl\" href=\"/webservices/catalog/xsl/searchRetrieveResponse.xsl\"?>\n",
    "<searchRetrieveResponse xmlns:oclcterms=\"http://purl.org/oclc/terms/\" xmlns:dc=\"http://purl.org/dc/elements/1.1/\" xmlns:diag=\"http://www.loc.gov/zing/srw/diagnostic/\" xmlns:xsi=\"http://www.w3.org/2001/XMLSchema-instance\">\n",
    "<dc:contributor>asdsadsad</dc:contributor>\n",
    "<dc:coverage>dfsd</dc:coverage>\n",
    "<dc:creator>sadsa</dc:creator>\n",
    "<dc:date>sadas</dc:date>\n",
    "<dc:description atributo1=\"valor1\" atributo2=\"valor2\">sadsa</dc:description>\n",
    "<dc:format>sadasd</dc:format>\n",
    "<dc:identifier>sadsad</dc:identifier>\n",
    "<dc:language>asdasd</dc:language>\n",
    "<dc:publisher>wqewq</dc:publisher>\n",
    "<dc:relation >wqeqw</dc:relation>\n",
    "<dc:rights>ffefe</dc:rights>\n",
    "<dc:source>vfvf</dc:source>\n",
    "<dc:title>wqewqe</dc:title>\n",
    "<dc:type>ewfrb</dc:type>\n",
    "</searchRetrieveResponse>'''\n",
    "\n",
    "tree2 = ET.fromstring(dc_xml)"
   ]
  },
  {
   "cell_type": "code",
   "execution_count": 0,
   "metadata": {
    "colab": {
     "base_uri": "https://localhost:8080/",
     "height": 35
    },
    "colab_type": "code",
    "executionInfo": {
     "elapsed": 554,
     "status": "ok",
     "timestamp": 1543498576478,
     "user": {
      "displayName": "Gerardo de Miguel",
      "photoUrl": "https://lh3.googleusercontent.com/-LmFLfSn0ThU/AAAAAAAAAAI/AAAAAAAAAkg/xGe-_jxkcZA/s64/photo.jpg",
      "userId": "12735548512534412210"
     },
     "user_tz": -60
    },
    "id": "kLi4sAqdMti-",
    "outputId": "5dc9303d-d646-4c89-8bb6-3a8e270895cc"
   },
   "outputs": [
    {
     "data": {
      "text/plain": [
       "{'atributo1': 'valor1', 'atributo2': 'valor2'}"
      ]
     },
     "execution_count": 60,
     "metadata": {
      "tags": []
     },
     "output_type": "execute_result"
    }
   ],
   "source": [
    "tree2.find('dc:description',namespaces).attrib"
   ]
  },
  {
   "cell_type": "markdown",
   "metadata": {
    "colab_type": "text",
    "id": "iFM3VKZdMtjC"
   },
   "source": [
    "Conociendo los nombres de estos atributos, puedes extraer su valor. Esto serviría para dar una información adicional al contenido de la etiqueta. Por ejemplo, se podría añadir el idioma como atributo en la descripción."
   ]
  },
  {
   "cell_type": "code",
   "execution_count": 0,
   "metadata": {
    "colab": {
     "base_uri": "https://localhost:8080/",
     "height": 52
    },
    "colab_type": "code",
    "executionInfo": {
     "elapsed": 568,
     "status": "ok",
     "timestamp": 1543498658083,
     "user": {
      "displayName": "Gerardo de Miguel",
      "photoUrl": "https://lh3.googleusercontent.com/-LmFLfSn0ThU/AAAAAAAAAAI/AAAAAAAAAkg/xGe-_jxkcZA/s64/photo.jpg",
      "userId": "12735548512534412210"
     },
     "user_tz": -60
    },
    "id": "GyimLA4AMtjE",
    "outputId": "58ca7d3c-56e5-4904-dfda-dc779825917b"
   },
   "outputs": [
    {
     "name": "stdout",
     "output_type": "stream",
     "text": [
      "valor1\n",
      "valor2\n"
     ]
    }
   ],
   "source": [
    "print(tree2.find('dc:description',namespaces).attrib['atributo1'])\n",
    "print(tree2.find('dc:description',namespaces).attrib['atributo2'])\n"
   ]
  },
  {
   "cell_type": "markdown",
   "metadata": {
    "colab_type": "text",
    "id": "tpkVkURvsbJS"
   },
   "source": [
    "### Ejemplo más complejo"
   ]
  },
  {
   "cell_type": "markdown",
   "metadata": {
    "colab_type": "text",
    "id": "18QapAvsMtjK"
   },
   "source": [
    "Vamos a analizar un documento XML más complejo, empezando por descargarlo. \n",
    "\n",
    "::GMG::**Nota**: En el ejemplo original se usa un archivo XML para almacenar la respuesta XML del servidor:\n",
    "\n",
    "```python\n",
    "response = requests.get('https://gist.githubusercontent.com/vivien/580729/raw/651d1b216357c0d7d9fc47075071fb482e11fb36/dublincore-example.xml')\n",
    "if response.status_code == 200:\n",
    "    with open(\"./dublincore-example.xml\", 'wb') as f:\n",
    "        f.write(response.content)\n",
    "```\n",
    "\n",
    "Para luego analizarlo a partir del archivo:\n",
    "\n",
    "```python\n",
    "tree = ET.parse('dublincore-example.xml')\n",
    "namespaces = {'dc': 'http://purl.org/dc/elements/1.1/'} # add more as needed\n",
    "for table in tree.getiterator('{http://www.loc.gov/zing/srw/}searchRetrieveResponse'):\n",
    "    for child in table:\n",
    "        print(child.tag, child.text)\n",
    "```\n",
    "\n",
    "Yo en vez de descargarlo en un fichero, lo voy a guardar en una cadena de texto y [analizarlo a partir de ahí](https://stackoverflow.com/questions/647071/python-xml-elementtree-from-a-string-source).\n",
    "\n",
    "\n"
   ]
  },
  {
   "cell_type": "code",
   "execution_count": 0,
   "metadata": {
    "colab": {},
    "colab_type": "code",
    "id": "MwY9BGdEkG1e"
   },
   "outputs": [],
   "source": [
    "#::GMG::Obtenemos la respuesta remota XML\n",
    "response = requests.get(\n",
    "    'https://gist.githubusercontent.com/vivien/580729/raw/651d1b216357c0d7d9fc47075071fb482e11fb36/dublincore-example.xml'\n",
    ")\n",
    "#::GMG::Si tenemos éxito lo metemos en un árbol para explorarlo\n",
    "if response.status_code == 200:\n",
    "    tree_ex = ET.ElementTree(ET.fromstring(response.text))\n",
    "\n",
    "root_ex = tree_ex.getroot()"
   ]
  },
  {
   "cell_type": "code",
   "execution_count": 0,
   "metadata": {
    "colab": {
     "base_uri": "https://localhost:8080/",
     "height": 87
    },
    "colab_type": "code",
    "executionInfo": {
     "elapsed": 537,
     "status": "ok",
     "timestamp": 1543612801441,
     "user": {
      "displayName": "Gerardo de Miguel",
      "photoUrl": "https://lh3.googleusercontent.com/-LmFLfSn0ThU/AAAAAAAAAAI/AAAAAAAAAkg/xGe-_jxkcZA/s64/photo.jpg",
      "userId": "12735548512534412210"
     },
     "user_tz": -60
    },
    "id": "2ZBj059Nl2JK",
    "outputId": "6c6224e4-01c5-41eb-a32b-45fa73350f29"
   },
   "outputs": [
    {
     "data": {
      "text/plain": [
       "<xml.etree.ElementTree.ElementTree at 0x7f559b23b4a8>"
      ]
     },
     "metadata": {
      "tags": []
     },
     "output_type": "display_data"
    },
    {
     "data": {
      "text/plain": [
       "xml.etree.ElementTree.ElementTree"
      ]
     },
     "metadata": {
      "tags": []
     },
     "output_type": "display_data"
    },
    {
     "data": {
      "text/plain": [
       "<Element '{http://www.loc.gov/zing/srw/}searchRetrieveResponse' at 0x7f559b1e53b8>"
      ]
     },
     "metadata": {
      "tags": []
     },
     "output_type": "display_data"
    },
    {
     "data": {
      "text/plain": [
       "xml.etree.ElementTree.Element"
      ]
     },
     "metadata": {
      "tags": []
     },
     "output_type": "display_data"
    }
   ],
   "source": [
    "#::GMG::Los objetos que hemos obtenido\n",
    "#       Aquí para carias hemos obtenido los objetos ElementTree (el árbol)\n",
    "#       y Element (nodo raíz del árbol)\n",
    "display(tree_ex, type(tree_ex))\n",
    "display(root_ex, type(root_ex))"
   ]
  },
  {
   "cell_type": "code",
   "execution_count": 0,
   "metadata": {
    "colab": {
     "base_uri": "https://localhost:8080/",
     "height": 35
    },
    "colab_type": "code",
    "executionInfo": {
     "elapsed": 518,
     "status": "ok",
     "timestamp": 1543663132380,
     "user": {
      "displayName": "Gerardo de Miguel",
      "photoUrl": "https://lh3.googleusercontent.com/-LmFLfSn0ThU/AAAAAAAAAAI/AAAAAAAAAkg/xGe-_jxkcZA/s64/photo.jpg",
      "userId": "12735548512534412210"
     },
     "user_tz": -60
    },
    "id": "cbp0B1Nr21-_",
    "outputId": "82876a75-690d-476f-cce3-8c020f30d0df"
   },
   "outputs": [
    {
     "data": {
      "text/plain": [
       "'{http://www.loc.gov/zing/srw/}searchRetrieveResponse'"
      ]
     },
     "execution_count": 20,
     "metadata": {
      "tags": []
     },
     "output_type": "execute_result"
    }
   ],
   "source": [
    "#::GMG::Raíz del documento XML visto como un árbol jerárquico\n",
    "root_ex.tag"
   ]
  },
  {
   "cell_type": "code",
   "execution_count": 0,
   "metadata": {
    "colab": {
     "base_uri": "https://localhost:8080/",
     "height": 35
    },
    "colab_type": "code",
    "executionInfo": {
     "elapsed": 1091,
     "status": "ok",
     "timestamp": 1543663137649,
     "user": {
      "displayName": "Gerardo de Miguel",
      "photoUrl": "https://lh3.googleusercontent.com/-LmFLfSn0ThU/AAAAAAAAAAI/AAAAAAAAAkg/xGe-_jxkcZA/s64/photo.jpg",
      "userId": "12735548512534412210"
     },
     "user_tz": -60
    },
    "id": "BE9I3jiG5o8Q",
    "outputId": "7d3f732b-1f3d-44ef-d060-fa39f2571083"
   },
   "outputs": [
    {
     "data": {
      "text/plain": [
       "{}"
      ]
     },
     "execution_count": 21,
     "metadata": {
      "tags": []
     },
     "output_type": "execute_result"
    }
   ],
   "source": [
    "#::GMG::¿Porqué no me devuelve ningún atributo?\n",
    "# <searchRetrieveResponse xmlns=\"http://www.loc.gov/zing/srw/\" \n",
    "#                         xmlns:oclcterms=\"http://purl.org/oclc/terms/\" \n",
    "#                         xmlns:dc=\"http://purl.org/dc/elements/1.1/\" \n",
    "#                         xmlns:diag=\"http://www.loc.gov/zing/srw/diagnostic/\" \n",
    "#                         xmlns:xsi=\"http://www.w3.org/2001/XMLSchema-instance\">\n",
    "root_ex.attrib"
   ]
  },
  {
   "cell_type": "code",
   "execution_count": 0,
   "metadata": {
    "colab": {},
    "colab_type": "code",
    "id": "GZ8gW4wlgJiO"
   },
   "outputs": [],
   "source": [
    "#::GMG::Aprovecho para definir namespaces\n",
    "ns_srr = {'srr': 'http://www.loc.gov/zing/srw/',\n",
    "          'oclcterms': 'http://purl.org/oclc/terms/',\n",
    "          'dc': 'http://purl.org/dc/elements/1.1/',\n",
    "          'diag': 'http://www.loc.gov/zing/srw/diagnostic/',\n",
    "          'xsi': 'http://www.w3.org/2001/XMLSchema-instance'}"
   ]
  },
  {
   "cell_type": "code",
   "execution_count": 0,
   "metadata": {
    "colab": {
     "base_uri": "https://localhost:8080/",
     "height": 156
    },
    "colab_type": "code",
    "executionInfo": {
     "elapsed": 537,
     "status": "ok",
     "timestamp": 1543663609013,
     "user": {
      "displayName": "Gerardo de Miguel",
      "photoUrl": "https://lh3.googleusercontent.com/-LmFLfSn0ThU/AAAAAAAAAAI/AAAAAAAAAkg/xGe-_jxkcZA/s64/photo.jpg",
      "userId": "12735548512534412210"
     },
     "user_tz": -60
    },
    "id": "6mDkAxd_6-1v",
    "outputId": "4d5e8be1-39ae-485d-f621-4f0e04353b16"
   },
   "outputs": [
    {
     "name": "stdout",
     "output_type": "stream",
     "text": [
      "{http://www.loc.gov/zing/srw/}version 1.1\n",
      "{http://www.loc.gov/zing/srw/}numberOfRecords 33587\n",
      "{http://www.loc.gov/zing/srw/}records \n",
      "\n",
      "{http://www.loc.gov/zing/srw/}nextRecordPosition 11\n",
      "{http://www.loc.gov/zing/srw/}resultSetIdleTime None\n",
      "{http://www.loc.gov/zing/srw/}echoedSearchRetrieveRequest \n",
      "\n"
     ]
    }
   ],
   "source": [
    "#::GMG::Hijos del nodo raíz searchRetrieveResponse\n",
    "for child in root_ex:\n",
    "    print(child.tag, child.text)"
   ]
  },
  {
   "cell_type": "markdown",
   "metadata": {
    "colab_type": "text",
    "id": "dnM2rIqJMtjc"
   },
   "source": [
    "::GMG::Una manera alternativa de hacerlo con código original del Notebook del profesor (da el mismo resultado):\n",
    "\n",
    "```python\n",
    "#namespaces = {'dc': 'http://purl.org/dc/elements/1.1/'} # add more as needed\n",
    "for table in tree_ex.getiterator('{http://www.loc.gov/zing/srw/}searchRetrieveResponse'):\n",
    "    for child in table:\n",
    "        print(child.tag, child.text)\n",
    " ```\n"
   ]
  },
  {
   "cell_type": "code",
   "execution_count": 0,
   "metadata": {
    "colab": {
     "base_uri": "https://localhost:8080/",
     "height": 711
    },
    "colab_type": "code",
    "executionInfo": {
     "elapsed": 571,
     "status": "ok",
     "timestamp": 1543663659854,
     "user": {
      "displayName": "Gerardo de Miguel",
      "photoUrl": "https://lh3.googleusercontent.com/-LmFLfSn0ThU/AAAAAAAAAAI/AAAAAAAAAkg/xGe-_jxkcZA/s64/photo.jpg",
      "userId": "12735548512534412210"
     },
     "user_tz": -60
    },
    "id": "3OlHuT3kMtjl",
    "outputId": "aafbe406-5d54-479e-c9da-8829ced701ac"
   },
   "outputs": [
    {
     "name": "stdout",
     "output_type": "stream",
     "text": [
      "{http://www.loc.gov/zing/srw/}recordSchema info:srw/schema/1/dc\n",
      "{http://www.loc.gov/zing/srw/}recordPacking xml\n",
      "{http://www.loc.gov/zing/srw/}recordData \n",
      "\n",
      "{http://www.loc.gov/zing/srw/}recordSchema info:srw/schema/1/dc\n",
      "{http://www.loc.gov/zing/srw/}recordPacking xml\n",
      "{http://www.loc.gov/zing/srw/}recordData \n",
      "\n",
      "{http://www.loc.gov/zing/srw/}recordSchema info:srw/schema/1/dc\n",
      "{http://www.loc.gov/zing/srw/}recordPacking xml\n",
      "{http://www.loc.gov/zing/srw/}recordData \n",
      "\n",
      "{http://www.loc.gov/zing/srw/}recordSchema info:srw/schema/1/dc\n",
      "{http://www.loc.gov/zing/srw/}recordPacking xml\n",
      "{http://www.loc.gov/zing/srw/}recordData \n",
      "\n",
      "{http://www.loc.gov/zing/srw/}recordSchema info:srw/schema/1/dc\n",
      "{http://www.loc.gov/zing/srw/}recordPacking xml\n",
      "{http://www.loc.gov/zing/srw/}recordData \n",
      "\n",
      "{http://www.loc.gov/zing/srw/}recordSchema info:srw/schema/1/dc\n",
      "{http://www.loc.gov/zing/srw/}recordPacking xml\n",
      "{http://www.loc.gov/zing/srw/}recordData \n",
      "\n",
      "{http://www.loc.gov/zing/srw/}recordSchema info:srw/schema/1/dc\n",
      "{http://www.loc.gov/zing/srw/}recordPacking xml\n",
      "{http://www.loc.gov/zing/srw/}recordData \n",
      "\n",
      "{http://www.loc.gov/zing/srw/}recordSchema info:srw/schema/1/dc\n",
      "{http://www.loc.gov/zing/srw/}recordPacking xml\n",
      "{http://www.loc.gov/zing/srw/}recordData \n",
      "\n",
      "{http://www.loc.gov/zing/srw/}recordSchema info:srw/schema/1/dc\n",
      "{http://www.loc.gov/zing/srw/}recordPacking xml\n",
      "{http://www.loc.gov/zing/srw/}recordData \n",
      "\n",
      "{http://www.loc.gov/zing/srw/}recordSchema info:srw/schema/1/dc\n",
      "{http://www.loc.gov/zing/srw/}recordPacking xml\n",
      "{http://www.loc.gov/zing/srw/}recordData \n",
      "\n"
     ]
    }
   ],
   "source": [
    "# ::GMG::la etiqueta records es la que tiene un conjunto de entradas record\n",
    "#        que a su vez están compuestas por un recordSchema, un recordPacking y \n",
    "#        un recordData con entradas dc:* (Dublin Core) agrupadas bajo un nodo \n",
    "#        raíz \"oclcdcs\"\n",
    "for table in tree_ex.getiterator('{http://www.loc.gov/zing/srw/}record'):\n",
    "    for child in table:\n",
    "        print(child.tag, child.text)"
   ]
  },
  {
   "cell_type": "code",
   "execution_count": 0,
   "metadata": {
    "colab": {
     "base_uri": "https://localhost:8080/",
     "height": 364
    },
    "colab_type": "code",
    "executionInfo": {
     "elapsed": 539,
     "status": "ok",
     "timestamp": 1543663692600,
     "user": {
      "displayName": "Gerardo de Miguel",
      "photoUrl": "https://lh3.googleusercontent.com/-LmFLfSn0ThU/AAAAAAAAAAI/AAAAAAAAAkg/xGe-_jxkcZA/s64/photo.jpg",
      "userId": "12735548512534412210"
     },
     "user_tz": -60
    },
    "id": "JtC1_Lc0Mtjr",
    "outputId": "0cae536e-18c8-41e3-b1c2-a5a8398a28e5"
   },
   "outputs": [
    {
     "name": "stdout",
     "output_type": "stream",
     "text": [
      "{http://www.loc.gov/zing/srw/}oclcdcs \n",
      "\n",
      "{http://www.loc.gov/zing/srw/}oclcdcs \n",
      "\n",
      "{http://www.loc.gov/zing/srw/}oclcdcs \n",
      "\n",
      "{http://www.loc.gov/zing/srw/}oclcdcs \n",
      "\n",
      "{http://www.loc.gov/zing/srw/}oclcdcs \n",
      "\n",
      "{http://www.loc.gov/zing/srw/}oclcdcs \n",
      "\n",
      "{http://www.loc.gov/zing/srw/}oclcdcs \n",
      "\n",
      "{http://www.loc.gov/zing/srw/}oclcdcs \n",
      "\n",
      "{http://www.loc.gov/zing/srw/}oclcdcs \n",
      "\n",
      "{http://www.loc.gov/zing/srw/}oclcdcs \n",
      "\n"
     ]
    }
   ],
   "source": [
    "for table in tree_ex.getiterator('{http://www.loc.gov/zing/srw/}recordData'):\n",
    "    for child in table:\n",
    "        print(child.tag, child.text)"
   ]
  },
  {
   "cell_type": "code",
   "execution_count": 0,
   "metadata": {
    "colab": {
     "base_uri": "https://localhost:8080/",
     "height": 3726
    },
    "colab_type": "code",
    "executionInfo": {
     "elapsed": 556,
     "status": "ok",
     "timestamp": 1543604204594,
     "user": {
      "displayName": "Gerardo de Miguel",
      "photoUrl": "https://lh3.googleusercontent.com/-LmFLfSn0ThU/AAAAAAAAAAI/AAAAAAAAAkg/xGe-_jxkcZA/s64/photo.jpg",
      "userId": "12735548512534412210"
     },
     "user_tz": -60
    },
    "id": "guTwrM37Mtjx",
    "outputId": "69d7efea-b5b3-4475-af4d-d0f523188d50"
   },
   "outputs": [
    {
     "name": "stdout",
     "output_type": "stream",
     "text": [
      "{http://purl.org/dc/elements/1.1/}creator Snelling, Lauraine.\n",
      "{http://purl.org/dc/elements/1.1/}date c2003\n",
      "{http://purl.org/dc/elements/1.1/}description \"Ruby Torvald sets out on a daunting journey with her young sister, Opal, to hopefully see their long-lost father once more and claim the promised inheritance. But instead of the treasure they expected, the sisters discover something most shocking.\" -- Book Cover.\n",
      "{http://purl.org/dc/elements/1.1/}format 320 p. ; 22 cm.\n",
      "{http://purl.org/dc/elements/1.1/}identifier 0764290762\n",
      "{http://purl.org/dc/elements/1.1/}identifier 9780764290763\n",
      "{http://purl.org/dc/elements/1.1/}identifier 0764222228\n",
      "{http://purl.org/dc/elements/1.1/}identifier 9780764222221\n",
      "{http://purl.org/dc/elements/1.1/}language eng\n",
      "{http://purl.org/dc/elements/1.1/}publisher Bethany House Publishers\n",
      "{http://purl.org/dc/elements/1.1/}relation Dakotah treasures ; 1\n",
      "{http://purl.org/dc/elements/1.1/}subject Inheritance and succession--Fiction.\n",
      "{http://purl.org/dc/elements/1.1/}subject Fathers and daughters--Fiction.\n",
      "{http://purl.org/dc/elements/1.1/}subject Women pioneers--Fiction.\n",
      "{http://purl.org/dc/elements/1.1/}subject Sisters--Fiction.\n",
      "{http://purl.org/dc/elements/1.1/}subject Medora (N.D.)--Fiction.\n",
      "{http://purl.org/dc/elements/1.1/}title Ruby \n",
      "{http://purl.org/dc/elements/1.1/}type Christian fiction.\n",
      "{http://purl.org/dc/elements/1.1/}type Western stories.\n",
      "{http://purl.org/dc/elements/1.1/}type Text\n",
      "{http://purl.org/oclc/terms/}recordCreationDate 030206\n",
      "{http://purl.org/oclc/terms/}recordIdentifier   2003002571\n",
      "{http://purl.org/oclc/terms/}recordIdentifier 51647374\n",
      "{http://purl.org/dc/elements/1.1/}creator Creech, Sharon.\n",
      "{http://purl.org/dc/elements/1.1/}date c2002\n",
      "{http://purl.org/dc/elements/1.1/}description 1st ed.\n",
      "{http://purl.org/dc/elements/1.1/}description Thirteen-year-old fraternal twins Dallas and Florida have grown up in a terrible orphanage but their lives change forever when an eccentric but sweet older couple invites them each on an adventure, beginning in an almost magical place called Ruby Holler.\n",
      "{http://purl.org/dc/elements/1.1/}description The Silver Bird -- The Boxton Creek Home -- Ruby Holler -- Mush -- Thinking Corners -- The Opportunity -- Doubts -- Hansel and Gretel -- The God -- The Egg -- The Grump -- Work -- Gravy -- Wood -- Conversations in the Night -- The Axe -- The Rocker -- The Trepids -- Understone Funds -- Through the Holler -- Lost and Found -- A Trip to Boxton -- Ready -- Tiller and Sairy -- The Holler at Night -- Shack Talk -- Trials -- Mrs. Trepid -- Decisions -- Nightmares -- Medicine -- Paddling and Hiking -- Z's Report -- Bearings -- Stiff -- A Long Chain -- Word Pictures -- Surveying -- The Worrywarts -- Babies in the Box -- Shopping -- Dorkhead -- Loops -- Progress -- The Rock -- Stones in the Holler -- Running -- More Shopping -- Underwater -- The Feeling -- Z -- The One-Log Raft -- The Dunces -- Slow Motion -- On the Road -- On the River -- The Soggy Heart -- Preparations -- Investments -- Hospital Talk -- Mr. Trepid's Adventure -- Jewels -- Mission-Accomplished Cake -- Appraisals -- Conversations in the Night -- Dreams.\n",
      "{http://purl.org/dc/elements/1.1/}format 310 p. ; 22 cm.\n",
      "{http://purl.org/dc/elements/1.1/}identifier 0060277327\n",
      "{http://purl.org/dc/elements/1.1/}identifier 9780060277321\n",
      "{http://purl.org/dc/elements/1.1/}identifier 0060277335 (lib. bdg)\n",
      "{http://purl.org/dc/elements/1.1/}identifier 9780060277338 (lib. bdg)\n",
      "{http://purl.org/dc/elements/1.1/}language eng\n",
      "{http://purl.org/dc/elements/1.1/}publisher Joanna Cotler Books/Harper Collins Publishers\n",
      "{http://purl.org/dc/elements/1.1/}relation http://www.loc.gov/catdir/description/hc041/00066371.html\n",
      "{http://purl.org/dc/elements/1.1/}subject Orphans--Juvenile fiction.\n",
      "{http://purl.org/dc/elements/1.1/}subject Twins--Juvenile fiction.\n",
      "{http://purl.org/dc/elements/1.1/}subject Brothers and sisters--Juvenile fiction.\n",
      "{http://purl.org/dc/elements/1.1/}subject Wood-carvers--Juvenile fiction.\n",
      "{http://purl.org/dc/elements/1.1/}subject Country life--Juvenile fiction.\n",
      "{http://purl.org/dc/elements/1.1/}subject Voyages and travels--Juvenile fiction.\n",
      "{http://purl.org/dc/elements/1.1/}title Ruby Holler \n",
      "{http://purl.org/dc/elements/1.1/}type Text\n",
      "{http://purl.org/oclc/terms/}recordCreationDate 001109\n",
      "{http://purl.org/oclc/terms/}recordIdentifier    00066371 \n",
      "{http://purl.org/oclc/terms/}recordIdentifier 45487314\n",
      "{http://purl.org/dc/elements/1.1/}creator Bridges, Ruby.\n",
      "{http://purl.org/dc/elements/1.1/}date 1999\n",
      "{http://purl.org/dc/elements/1.1/}description 1st ed.\n",
      "{http://purl.org/dc/elements/1.1/}description Ruby Bridges recounts the story of her involvement, as a six-year-old, in the integration of her school in New Orleans in 1960.\n",
      "{http://purl.org/dc/elements/1.1/}description green dot\n",
      "{http://purl.org/dc/elements/1.1/}format 63 p. : ill. ; 28 cm.\n",
      "{http://purl.org/dc/elements/1.1/}identifier 0590189239 (hc)\n",
      "{http://purl.org/dc/elements/1.1/}identifier 9780590189231 (hc)\n",
      "{http://purl.org/dc/elements/1.1/}language eng\n",
      "{http://purl.org/dc/elements/1.1/}publisher Scholastic Press\n",
      "{http://purl.org/dc/elements/1.1/}subject Bridges, Ruby--Juvenile literature.\n",
      "{http://purl.org/dc/elements/1.1/}subject African American children--Louisiana--New Orleans--Biography--Juvenile literature.\n",
      "{http://purl.org/dc/elements/1.1/}subject African Americans--Louisiana--New Orleans--Biography--Juvenile literature.\n",
      "{http://purl.org/dc/elements/1.1/}subject School integration--Louisiana--New Orleans--Juvenile literature.\n",
      "{http://purl.org/dc/elements/1.1/}subject New Orleans (La.)--Race relations--Juvenile literature.\n",
      "{http://purl.org/dc/elements/1.1/}title Through my eyes \n",
      "{http://purl.org/dc/elements/1.1/}type Text\n",
      "{http://purl.org/oclc/terms/}recordCreationDate 981216\n",
      "{http://purl.org/oclc/terms/}recordIdentifier    98049242 \n",
      "{http://purl.org/oclc/terms/}recordIdentifier 40588556\n",
      "{http://purl.org/dc/elements/1.1/}creator Andrews, V. C. (Virginia C.)\n",
      "{http://purl.org/dc/elements/1.1/}date c1994\n",
      "{http://purl.org/dc/elements/1.1/}description growing up in the heart of Cajun country, the only family Ruby Landry has ever known are her loving ghuardian Jack, a drunken outcast who lives alone in a shack in the swamp.\n",
      "{http://purl.org/dc/elements/1.1/}format 442 p. ; 23 cm.\n",
      "{http://purl.org/dc/elements/1.1/}identifier 0671759353\n",
      "{http://purl.org/dc/elements/1.1/}identifier 9780671759353\n",
      "{http://purl.org/dc/elements/1.1/}language eng\n",
      "{http://purl.org/dc/elements/1.1/}publisher Pocket Books\n",
      "{http://purl.org/dc/elements/1.1/}subject Aileler--Roman.\n",
      "{http://purl.org/dc/elements/1.1/}subject Luizana--Roman.\n",
      "{http://purl.org/dc/elements/1.1/}subject Families--Fiction.\n",
      "{http://purl.org/dc/elements/1.1/}subject Louisiana--Fiction.\n",
      "{http://purl.org/dc/elements/1.1/}title Ruby \n",
      "{http://purl.org/dc/elements/1.1/}type Romantic suspense novels.\n",
      "{http://purl.org/dc/elements/1.1/}type Text\n",
      "{http://purl.org/oclc/terms/}recordCreationDate 940608\n",
      "{http://purl.org/oclc/terms/}recordIdentifier    94168748 \n",
      "{http://purl.org/oclc/terms/}recordIdentifier 29631416\n",
      "{http://purl.org/dc/elements/1.1/}creator Emberley, Michael.\n",
      "{http://purl.org/dc/elements/1.1/}date c1990\n",
      "{http://purl.org/dc/elements/1.1/}description 1st ed.\n",
      "{http://purl.org/dc/elements/1.1/}description While taking cheese pies to her Granny, Ruby, a small but tough-minded little mouse, forgets her mother's advice not to talk to cats. Story is a variation on Red Riding Hood.\n",
      "{http://purl.org/dc/elements/1.1/}format [25] p. : col. ill. ; 21 cm.\n",
      "{http://purl.org/dc/elements/1.1/}identifier 0316236438 (lib. bdg.) \n",
      "{http://purl.org/dc/elements/1.1/}identifier 9780316236430 (lib. bdg.)\n",
      "{http://purl.org/dc/elements/1.1/}identifier 0316236608 (pbk.)\n",
      "{http://purl.org/dc/elements/1.1/}identifier 9780316236607 (pbk.)\n",
      "{http://purl.org/dc/elements/1.1/}language eng\n",
      "{http://purl.org/dc/elements/1.1/}publisher Little, Brown\n",
      "{http://purl.org/dc/elements/1.1/}subject Mice--Juvenile fiction.\n",
      "{http://purl.org/dc/elements/1.1/}subject Cats--Juvenile fiction.\n",
      "{http://purl.org/dc/elements/1.1/}title Ruby \n",
      "{http://purl.org/dc/elements/1.1/}type Text\n",
      "{http://purl.org/oclc/terms/}recordCreationDate 890511\n",
      "{http://purl.org/oclc/terms/}recordIdentifier    89012108 \n",
      "{http://purl.org/oclc/terms/}recordIdentifier 19774282\n",
      "{http://purl.org/dc/elements/1.1/}creator Ruby, Laura.\n",
      "{http://purl.org/dc/elements/1.1/}date 2007\n",
      "{http://purl.org/dc/elements/1.1/}description 1st ed.\n",
      "{http://purl.org/dc/elements/1.1/}description Loopy -- Restoration -- Ballad of the Barbie feet -- Dear psycho -- Safekeeping -- Picture of health -- I'm not Julia Roberts -- The bunko bunny -- The dog next door -- Hug machine.\n",
      "{http://purl.org/dc/elements/1.1/}format 251 p. : ill. ; 22 cm.\n",
      "{http://purl.org/dc/elements/1.1/}identifier 0446578746\n",
      "{http://purl.org/dc/elements/1.1/}identifier 9780446578745\n",
      "{http://purl.org/dc/elements/1.1/}language eng\n",
      "{http://purl.org/dc/elements/1.1/}publisher Warner Books\n",
      "{http://purl.org/dc/elements/1.1/}relation http://www.loc.gov/catdir/toc/ecip069/2006006832.html\n",
      "{http://purl.org/dc/elements/1.1/}subject Stepmothers--Fiction.\n",
      "{http://purl.org/dc/elements/1.1/}subject Stepfamilies--Fiction.\n",
      "{http://purl.org/dc/elements/1.1/}subject Illinois--Fiction.\n",
      "{http://purl.org/dc/elements/1.1/}title I'm not Julia Roberts \n",
      "{http://purl.org/dc/elements/1.1/}title I am not Julia Roberts\n",
      "{http://purl.org/dc/elements/1.1/}type Text\n",
      "{http://purl.org/oclc/terms/}recordCreationDate 060227\n",
      "{http://purl.org/oclc/terms/}recordIdentifier   2006006832\n",
      "{http://purl.org/oclc/terms/}recordIdentifier 64442891\n",
      "{http://purl.org/dc/elements/1.1/}creator Ruby, Laura.\n",
      "{http://purl.org/dc/elements/1.1/}date c2007\n",
      "{http://purl.org/dc/elements/1.1/}description 1st ed.\n",
      "{http://purl.org/dc/elements/1.1/}description Thirteen-year-old Georgie and Bug, a year older, have been pulled apart by the demands of their newfound fame and fortune, but join forces again when a punk, vampires, a giant sloth, and other creatures come after them on the streets of a New York City of the future.\n",
      "{http://purl.org/dc/elements/1.1/}format 325 p. ; 22 cm.\n",
      "{http://purl.org/dc/elements/1.1/}identifier 9780060752583 (trade bdg.)\n",
      "{http://purl.org/dc/elements/1.1/}identifier 9780060752590 (lib. bdg.)\n",
      "{http://purl.org/dc/elements/1.1/}identifier 0060752580\n",
      "{http://purl.org/dc/elements/1.1/}identifier 0060752599\n",
      "{http://purl.org/dc/elements/1.1/}language eng\n",
      "{http://purl.org/dc/elements/1.1/}publisher Eos\n",
      "{http://purl.org/dc/elements/1.1/}relation http://www.loc.gov/catdir/enhancements/fy0911/2007008621-b.html\n",
      "{http://purl.org/dc/elements/1.1/}relation http://www.loc.gov/catdir/enhancements/fy0911/2007008621-d.html\n",
      "{http://purl.org/dc/elements/1.1/}subject Fame--Juvenile fiction.\n",
      "{http://purl.org/dc/elements/1.1/}subject Wealth--Juvenile fiction.\n",
      "{http://purl.org/dc/elements/1.1/}subject Supernatural--Juvenile fiction.\n",
      "{http://purl.org/dc/elements/1.1/}subject Books and reading--Juvenile fiction.\n",
      "{http://purl.org/dc/elements/1.1/}subject Cats--Juvenile fiction.\n",
      "{http://purl.org/dc/elements/1.1/}subject Flight--Juvenile fiction.\n",
      "{http://purl.org/dc/elements/1.1/}subject New York (N.Y.)--Juvenile fiction.\n",
      "{http://purl.org/dc/elements/1.1/}title The chaos king \n",
      "{http://purl.org/dc/elements/1.1/}type Fantasy fiction.\n",
      "{http://purl.org/dc/elements/1.1/}type Children's stories.\n",
      "{http://purl.org/dc/elements/1.1/}type Text\n",
      "{http://purl.org/oclc/terms/}recordCreationDate 070329\n",
      "{http://purl.org/oclc/terms/}recordIdentifier   2007008621\n",
      "{http://purl.org/oclc/terms/}recordIdentifier 122309000\n",
      "{http://purl.org/dc/elements/1.1/}creator Ruby, Laura.\n",
      "{http://purl.org/dc/elements/1.1/}date c2009\n",
      "{http://purl.org/dc/elements/1.1/}description 1st ed.\n",
      "{http://purl.org/dc/elements/1.1/}description Tola Riley, a high school junior, struggles to tell the truth when she and her art teacher are accused of having an affair.\n",
      "{http://purl.org/dc/elements/1.1/}format 247 p. ; 22 cm.\n",
      "{http://purl.org/dc/elements/1.1/}identifier 9780061243301 (trade bdg.)\n",
      "{http://purl.org/dc/elements/1.1/}identifier 0061243302 (trade bdg.)\n",
      "{http://purl.org/dc/elements/1.1/}identifier 9780061243325 (lib. bdg.)\n",
      "{http://purl.org/dc/elements/1.1/}identifier 0061243329 (lib. bdg.)\n",
      "{http://purl.org/dc/elements/1.1/}language eng\n",
      "{http://purl.org/dc/elements/1.1/}publisher HarperTeen\n",
      "{http://purl.org/dc/elements/1.1/}subject Teacher-student relationships--Fiction.\n",
      "{http://purl.org/dc/elements/1.1/}subject Cyberbullying--Fiction.\n",
      "{http://purl.org/dc/elements/1.1/}subject High schools--Fiction.\n",
      "{http://purl.org/dc/elements/1.1/}subject Schools--Fiction.\n",
      "{http://purl.org/dc/elements/1.1/}subject Family problems--Fiction.\n",
      "{http://purl.org/dc/elements/1.1/}subject Divorce--Fiction.\n",
      "{http://purl.org/dc/elements/1.1/}title Bad apple \n",
      "{http://purl.org/dc/elements/1.1/}type Text\n",
      "{http://purl.org/oclc/terms/}recordCreationDate 090128\n",
      "{http://purl.org/oclc/terms/}recordIdentifier   2009001409\n",
      "{http://purl.org/oclc/terms/}recordIdentifier 300462588\n",
      "{http://purl.org/dc/elements/1.1/}creator Ruby, Laura.\n",
      "{http://purl.org/dc/elements/1.1/}date c2006\n",
      "{http://purl.org/dc/elements/1.1/}description 1st ed.\n",
      "{http://purl.org/dc/elements/1.1/}description In a future New York where most people can fly and cats are a rarity, a nondescript resident of Hope House for the Homeless and Hopeless discovers that although she is shunned as a \"leadfoot,\" she has the surprising ability to become invisible.\n",
      "{http://purl.org/dc/elements/1.1/}format 327 p. ; 22 cm.\n",
      "{http://purl.org/dc/elements/1.1/}identifier 0060752556\n",
      "{http://purl.org/dc/elements/1.1/}identifier 0060752564 (lib. bdg.)\n",
      "{http://purl.org/dc/elements/1.1/}identifier 9780060752552\n",
      "{http://purl.org/dc/elements/1.1/}identifier 9780060752569\n",
      "{http://purl.org/dc/elements/1.1/}language eng\n",
      "{http://purl.org/dc/elements/1.1/}publisher Eos\n",
      "{http://purl.org/dc/elements/1.1/}relation http://www.loc.gov/catdir/toc/ecip0518/2005023170.html\n",
      "{http://purl.org/dc/elements/1.1/}relation http://www.loc.gov/catdir/enhancements/fy0910/2005023170-b.html\n",
      "{http://purl.org/dc/elements/1.1/}relation http://www.loc.gov/catdir/enhancements/fy0910/2005023170-d.html\n",
      "{http://purl.org/dc/elements/1.1/}subject Orphans--Juvenile fiction.\n",
      "{http://purl.org/dc/elements/1.1/}subject Orphanages--Juvenile fiction.\n",
      "{http://purl.org/dc/elements/1.1/}subject Cats--Juvenile fiction.\n",
      "{http://purl.org/dc/elements/1.1/}subject Flight--Juvenile fiction.\n",
      "{http://purl.org/dc/elements/1.1/}subject Gangsters--Juvenile fiction.\n",
      "{http://purl.org/dc/elements/1.1/}subject New York (N.Y.)--Juvenile fiction.\n",
      "{http://purl.org/dc/elements/1.1/}title The Wall and the Wing \n",
      "{http://purl.org/dc/elements/1.1/}type Text\n",
      "{http://purl.org/oclc/terms/}recordCreationDate 050816\n",
      "{http://purl.org/oclc/terms/}recordIdentifier   2005023170\n",
      "{http://purl.org/oclc/terms/}recordIdentifier 61451492\n",
      "{http://purl.org/dc/elements/1.1/}creator Ruby, Laura.\n",
      "{http://purl.org/dc/elements/1.1/}date c2006\n",
      "{http://purl.org/dc/elements/1.1/}description 1st ed.\n",
      "{http://purl.org/dc/elements/1.1/}description Sixteen-year-old high school senior Audrey is humiliated when a compromising photograph of her is sent around her school, but she discovers a toughness within her that she never knew she had.\n",
      "{http://purl.org/dc/elements/1.1/}format 274 p. ; 22 cm.\n",
      "{http://purl.org/dc/elements/1.1/}identifier 0060882239 (trade bdg.)\n",
      "{http://purl.org/dc/elements/1.1/}identifier 9780060882235 (trade bdg.)\n",
      "{http://purl.org/dc/elements/1.1/}identifier 0060882247 (lib. bdg.)\n",
      "{http://purl.org/dc/elements/1.1/}identifier 9780060882242 (lib. bdg.)\n",
      "{http://purl.org/dc/elements/1.1/}language eng\n",
      "{http://purl.org/dc/elements/1.1/}publisher HarperTempest\n",
      "{http://purl.org/dc/elements/1.1/}subject Interpersonal relations--Juvenile fiction.\n",
      "{http://purl.org/dc/elements/1.1/}subject Sex--Juvenile fiction.\n",
      "{http://purl.org/dc/elements/1.1/}subject Conduct of life--Juvenile fiction.\n",
      "{http://purl.org/dc/elements/1.1/}subject High schools--Juvenile fiction.\n",
      "{http://purl.org/dc/elements/1.1/}subject Schools--Juvenile fiction.\n",
      "{http://purl.org/dc/elements/1.1/}title Good girls \n",
      "{http://purl.org/dc/elements/1.1/}type Text\n",
      "{http://purl.org/oclc/terms/}recordCreationDate 060125\n",
      "{http://purl.org/oclc/terms/}recordIdentifier   2006000340\n",
      "{http://purl.org/oclc/terms/}recordIdentifier 63187390\n"
     ]
    }
   ],
   "source": [
    "for table in tree_ex.getiterator('{http://www.loc.gov/zing/srw/}oclcdcs'):\n",
    "    for child in table:\n",
    "        print(child.tag, child.text)"
   ]
  },
  {
   "cell_type": "code",
   "execution_count": 0,
   "metadata": {
    "colab": {},
    "colab_type": "code",
    "id": "3UIJOL8jMtjz"
   },
   "outputs": [],
   "source": [
    "#::GMG::NOTA::Está iteración NO devuelve nada (?)\n",
    "#       No he logrado averiguar por qué (!)\n",
    "#for table in tree_ex.getiterator('{http://purl.org/dc/elements/1.1/}creator'):\n",
    "#    for child in table:\n",
    "#        print(child.tag, child.text)"
   ]
  },
  {
   "cell_type": "code",
   "execution_count": 0,
   "metadata": {
    "colab": {
     "base_uri": "https://localhost:8080/",
     "height": 187
    },
    "colab_type": "code",
    "executionInfo": {
     "elapsed": 572,
     "status": "ok",
     "timestamp": 1543604551320,
     "user": {
      "displayName": "Gerardo de Miguel",
      "photoUrl": "https://lh3.googleusercontent.com/-LmFLfSn0ThU/AAAAAAAAAAI/AAAAAAAAAkg/xGe-_jxkcZA/s64/photo.jpg",
      "userId": "12735548512534412210"
     },
     "user_tz": -60
    },
    "id": "mB3rGftU_Xg1",
    "outputId": "182b63f7-7ecc-458a-89f5-1fdf68709f00"
   },
   "outputs": [
    {
     "name": "stdout",
     "output_type": "stream",
     "text": [
      "Snelling, Lauraine.\n",
      "Creech, Sharon.\n",
      "Bridges, Ruby.\n",
      "Andrews, V. C. (Virginia C.)\n",
      "Emberley, Michael.\n",
      "Ruby, Laura.\n",
      "Ruby, Laura.\n",
      "Ruby, Laura.\n",
      "Ruby, Laura.\n",
      "Ruby, Laura.\n"
     ]
    }
   ],
   "source": [
    "#::GMG::Se puede usar root.iter() de Element para encontrar etiquetas\n",
    "# https://docs.python.org/3.7/library/xml.etree.elementtree.html#parsing-xml\n",
    "# https://docs.python.org/3.7/library/xml.etree.elementtree.html#xml.etree.ElementTree.Element.iter\n",
    "for creator in root_ex.iter('{http://purl.org/dc/elements/1.1/}creator'):\n",
    "    print(creator.text)"
   ]
  },
  {
   "cell_type": "code",
   "execution_count": 0,
   "metadata": {
    "colab": {
     "base_uri": "https://localhost:8080/",
     "height": 191
    },
    "colab_type": "code",
    "executionInfo": {
     "elapsed": 532,
     "status": "ok",
     "timestamp": 1543665047200,
     "user": {
      "displayName": "Gerardo de Miguel",
      "photoUrl": "https://lh3.googleusercontent.com/-LmFLfSn0ThU/AAAAAAAAAAI/AAAAAAAAAkg/xGe-_jxkcZA/s64/photo.jpg",
      "userId": "12735548512534412210"
     },
     "user_tz": -60
    },
    "id": "5FLGjPKljMk7",
    "outputId": "745fb160-82e5-4604-e602-af9b788cc805"
   },
   "outputs": [
    {
     "name": "stdout",
     "output_type": "stream",
     "text": [
      "Snelling, Lauraine.\n",
      "Creech, Sharon.\n",
      "Bridges, Ruby.\n",
      "Andrews, V. C. (Virginia C.)\n",
      "Emberley, Michael.\n",
      "Ruby, Laura.\n",
      "Ruby, Laura.\n",
      "Ruby, Laura.\n",
      "Ruby, Laura.\n",
      "Ruby, Laura.\n"
     ]
    }
   ],
   "source": [
    "#::GMG::Una alternativa con iterfind() y namespaces que hace uso \n",
    "#       de XPath (visto en el siguiente apartado) para buscar los hijos con \n",
    "#       una determinada eqtiqueta\n",
    "# https://docs.python.org/3.7/library/xml.etree.elementtree.html#xml.etree.ElementTree.Element.iterfind\n",
    "for creator in root_ex.iterfind('.//dc:creator', ns_srr):\n",
    "    print (creator.text)"
   ]
  },
  {
   "cell_type": "code",
   "execution_count": 0,
   "metadata": {
    "colab": {
     "base_uri": "https://localhost:8080/",
     "height": 191
    },
    "colab_type": "code",
    "executionInfo": {
     "elapsed": 567,
     "status": "ok",
     "timestamp": 1543665040123,
     "user": {
      "displayName": "Gerardo de Miguel",
      "photoUrl": "https://lh3.googleusercontent.com/-LmFLfSn0ThU/AAAAAAAAAAI/AAAAAAAAAkg/xGe-_jxkcZA/s64/photo.jpg",
      "userId": "12735548512534412210"
     },
     "user_tz": -60
    },
    "id": "XJtCLy0jmdnk",
    "outputId": "f5fb88cf-002a-44d4-a9f3-b86b0437b48a"
   },
   "outputs": [
    {
     "name": "stdout",
     "output_type": "stream",
     "text": [
      "Snelling, Lauraine.\n",
      "Creech, Sharon.\n",
      "Bridges, Ruby.\n",
      "Andrews, V. C. (Virginia C.)\n",
      "Emberley, Michael.\n",
      "Ruby, Laura.\n",
      "Ruby, Laura.\n",
      "Ruby, Laura.\n",
      "Ruby, Laura.\n",
      "Ruby, Laura.\n"
     ]
    }
   ],
   "source": [
    "#::GMG::Un ejemplo más con findall(), también usando XPath ...\n",
    "#       uno podría preguntarse por la diferencia (!)\n",
    "# https://stackoverflow.com/questions/31043997/whats-difference-between-findall-and-iterfind-of-xml-etree-elementtree\n",
    "# In fact, findall(...) is implemented using list(iterfind(...)).\n",
    "for creator in root_ex.findall('.//dc:creator', ns_srr):\n",
    "    print (creator.text)"
   ]
  },
  {
   "cell_type": "code",
   "execution_count": 0,
   "metadata": {
    "colab": {
     "base_uri": "https://localhost:8080/",
     "height": 191
    },
    "colab_type": "code",
    "executionInfo": {
     "elapsed": 527,
     "status": "ok",
     "timestamp": 1543665543033,
     "user": {
      "displayName": "Gerardo de Miguel",
      "photoUrl": "https://lh3.googleusercontent.com/-LmFLfSn0ThU/AAAAAAAAAAI/AAAAAAAAAkg/xGe-_jxkcZA/s64/photo.jpg",
      "userId": "12735548512534412210"
     },
     "user_tz": -60
    },
    "id": "5ZMl7G-NALsl",
    "outputId": "d8ed2e94-35be-44ae-fde4-2f78d19b9d47"
   },
   "outputs": [
    {
     "name": "stdout",
     "output_type": "stream",
     "text": [
      "Snelling, Lauraine.\n",
      "Creech, Sharon.\n",
      "Bridges, Ruby.\n",
      "Andrews, V. C. (Virginia C.)\n",
      "Emberley, Michael.\n",
      "Ruby, Laura.\n",
      "Ruby, Laura.\n",
      "Ruby, Laura.\n",
      "Ruby, Laura.\n",
      "Ruby, Laura.\n"
     ]
    }
   ],
   "source": [
    "#::GMG:: Element.findall() finds only elements with a tag which are direct \n",
    "#        children of the current element. Element.find() finds the first child \n",
    "#        with a particular tag, and Element.text accesses the element’s \n",
    "#        text content.\n",
    "# https://docs.python.org/3.7/library/xml.etree.elementtree.html#finding-interesting-elements\n",
    "#::NOTA::Esto NO me funciona, no saca nada ...\n",
    "#for oclcdc in root_ex.findall('{http://www.loc.gov/zing/srw/}oclcdcs'):\n",
    "#    print(oclcdc.find('dc:creator').text)\n",
    "#\n",
    "#::GMG::This comes next! It's XPath! :)\n",
    "for oclcdc in root_ex.findall('.//srr:oclcdcs', ns_srr):\n",
    "    print(oclcdc.find('dc:creator', ns_srr).text)\n"
   ]
  },
  {
   "cell_type": "markdown",
   "metadata": {
    "colab_type": "text",
    "id": "aeIvdQWJMtj4"
   },
   "source": [
    "## XPATH"
   ]
  },
  {
   "cell_type": "markdown",
   "metadata": {
    "colab_type": "text",
    "id": "kSGUhuLUI80F"
   },
   "source": [
    "### Intro"
   ]
  },
  {
   "cell_type": "markdown",
   "metadata": {
    "colab_type": "text",
    "id": "ULt5g6pjMtj6"
   },
   "source": [
    "XPath es un lenguaje que permite construir expresiones que recorren y procesan un documento XML. La idea es parecida a las expresiones regulares para seleccionar partes de un texto sin atributos. XPath permite buscar y seleccionar teniendo en cuenta la estructura jerárquica del XML"
   ]
  },
  {
   "cell_type": "markdown",
   "metadata": {
    "colab_type": "text",
    "id": "WCaMAds7Mtj8"
   },
   "source": [
    "<table border=\"1\" class=\"docutils\">\n",
    "<colgroup>\n",
    "<col width=\"30%\">\n",
    "<col width=\"70%\">\n",
    "</colgroup>\n",
    "<thead valign=\"bottom\">\n",
    "<tr class=\"row-odd\"><th class=\"head\">Syntax</th>\n",
    "<th class=\"head\">Meaning</th>\n",
    "</tr>\n",
    "</thead>\n",
    "<tbody valign=\"top\">\n",
    "<tr class=\"row-even\"><td><code class=\"docutils literal notranslate\"><span class=\"pre\">tag</span></code></td>\n",
    "<td>Selects all child elements with the given tag.\n",
    "For example, <code class=\"docutils literal notranslate\"><span class=\"pre\">spam</span></code> selects all child elements\n",
    "named <code class=\"docutils literal notranslate\"><span class=\"pre\">spam</span></code>, and <code class=\"docutils literal notranslate\"><span class=\"pre\">spam/egg</span></code> selects all\n",
    "grandchildren named <code class=\"docutils literal notranslate\"><span class=\"pre\">egg</span></code> in all children named\n",
    "<code class=\"docutils literal notranslate\"><span class=\"pre\">spam</span></code>.</td>\n",
    "</tr>\n",
    "<tr class=\"row-odd\"><td><code class=\"docutils literal notranslate\"><span class=\"pre\">*</span></code></td>\n",
    "<td>Selects all child elements.  For example, <code class=\"docutils literal notranslate\"><span class=\"pre\">*/egg</span></code>\n",
    "selects all grandchildren named <code class=\"docutils literal notranslate\"><span class=\"pre\">egg</span></code>.</td>\n",
    "</tr>\n",
    "<tr class=\"row-even\"><td><code class=\"docutils literal notranslate\"><span class=\"pre\">.</span></code></td>\n",
    "<td>Selects the current node.  This is mostly useful\n",
    "at the beginning of the path, to indicate that it’s\n",
    "a relative path.</td>\n",
    "</tr>\n",
    "<tr class=\"row-odd\"><td><code class=\"docutils literal notranslate\"><span class=\"pre\">//</span></code></td>\n",
    "<td>Selects all subelements, on all levels beneath the\n",
    "current  element.  For example, <code class=\"docutils literal notranslate\"><span class=\"pre\">.//egg</span></code> selects\n",
    "all <code class=\"docutils literal notranslate\"><span class=\"pre\">egg</span></code> elements in the entire tree.</td>\n",
    "</tr>\n",
    "<tr class=\"row-even\"><td><code class=\"docutils literal notranslate\"><span class=\"pre\">..</span></code></td>\n",
    "<td>Selects the parent element.</td>\n",
    "</tr>\n",
    "<tr class=\"row-odd\"><td><code class=\"docutils literal notranslate\"><span class=\"pre\">[@attrib]</span></code></td>\n",
    "<td>Selects all elements that have the given attribute.</td>\n",
    "</tr>\n",
    "<tr class=\"row-even\"><td><code class=\"docutils literal notranslate\"><span class=\"pre\">[@attrib='value']</span></code></td>\n",
    "<td>Selects all elements for which the given attribute\n",
    "has the given value.  The value cannot contain\n",
    "quotes.</td>\n",
    "</tr>\n",
    "<tr class=\"row-odd\"><td><code class=\"docutils literal notranslate\"><span class=\"pre\">[tag]</span></code></td>\n",
    "<td>Selects all elements that have a child named\n",
    "<code class=\"docutils literal notranslate\"><span class=\"pre\">tag</span></code>.  Only immediate children are supported.</td>\n",
    "</tr>\n",
    "<tr class=\"row-even\"><td><code class=\"docutils literal notranslate\"><span class=\"pre\">[tag='text']</span></code></td>\n",
    "<td>Selects all elements that have a child named\n",
    "<code class=\"docutils literal notranslate\"><span class=\"pre\">tag</span></code> whose complete text content, including\n",
    "descendants, equals the given <code class=\"docutils literal notranslate\"><span class=\"pre\">text</span></code>.</td>\n",
    "</tr>\n",
    "<tr class=\"row-odd\"><td><code class=\"docutils literal notranslate\"><span class=\"pre\">[position]</span></code></td>\n",
    "<td>Selects all elements that are located at the given\n",
    "position.  The position can be either an integer\n",
    "(1 is the first position), the expression <code class=\"docutils literal notranslate\"><span class=\"pre\">last()</span></code>\n",
    "(for the last position), or a position relative to\n",
    "the last position (e.g. <code class=\"docutils literal notranslate\"><span class=\"pre\">last()-1</span></code>).</td>\n",
    "</tr>\n",
    "</tbody>\n",
    "</table>"
   ]
  },
  {
   "cell_type": "markdown",
   "metadata": {
    "colab_type": "text",
    "id": "jYo1KaNqJIqn"
   },
   "source": [
    "Como ves, hay que ir entendiendo la jerarquía del XML para poder obtener la información. "
   ]
  },
  {
   "cell_type": "markdown",
   "metadata": {
    "colab_type": "text",
    "id": "Po6XPS32JDM1"
   },
   "source": [
    "### ::GMG::Ejercicio"
   ]
  },
  {
   "cell_type": "markdown",
   "metadata": {
    "colab_type": "text",
    "id": "LagkOZSuMtj-"
   },
   "source": [
    "¿Puedes obtener los títulos de los recursos descritos en el XML?"
   ]
  },
  {
   "cell_type": "markdown",
   "metadata": {
    "colab_type": "text",
    "id": "iP0DYHIxMtj_"
   },
   "source": [
    "**Ayuda**\n",
    "\n",
    "`//` para indicar que empiece a buscar desde el elemento actual + tipo+nombre del elemento a buscar ({http://purl.org/dc/elements/1.1/}title)\n",
    "\n",
    "Plantilla de código a emplear:\n",
    "\n",
    "```python\n",
    "relation = tree.findall('')\n",
    "for elem in relation:\n",
    "    print(elem.tag, elem.text)\n",
    "    ```"
   ]
  },
  {
   "cell_type": "code",
   "execution_count": 0,
   "metadata": {
    "colab": {
     "base_uri": "https://localhost:8080/",
     "height": 208
    },
    "colab_type": "code",
    "executionInfo": {
     "elapsed": 723,
     "status": "ok",
     "timestamp": 1543674092318,
     "user": {
      "displayName": "Gerardo de Miguel",
      "photoUrl": "https://lh3.googleusercontent.com/-LmFLfSn0ThU/AAAAAAAAAAI/AAAAAAAAAkg/xGe-_jxkcZA/s64/photo.jpg",
      "userId": "12735548512534412210"
     },
     "user_tz": -60
    },
    "id": "Nn_MNdTVuH6N",
    "outputId": "bb2c822f-a78e-401a-b296-3912fa74aa5f"
   },
   "outputs": [
    {
     "data": {
      "text/plain": [
       "[('{http://purl.org/dc/elements/1.1/}title', 'Ruby '),\n",
       " ('{http://purl.org/dc/elements/1.1/}title', 'Ruby Holler '),\n",
       " ('{http://purl.org/dc/elements/1.1/}title', 'Through my eyes '),\n",
       " ('{http://purl.org/dc/elements/1.1/}title', 'Ruby '),\n",
       " ('{http://purl.org/dc/elements/1.1/}title', 'Ruby '),\n",
       " ('{http://purl.org/dc/elements/1.1/}title', \"I'm not Julia Roberts \"),\n",
       " ('{http://purl.org/dc/elements/1.1/}title', 'I am not Julia Roberts'),\n",
       " ('{http://purl.org/dc/elements/1.1/}title', 'The chaos king '),\n",
       " ('{http://purl.org/dc/elements/1.1/}title', 'Bad apple '),\n",
       " ('{http://purl.org/dc/elements/1.1/}title', 'The Wall and the Wing '),\n",
       " ('{http://purl.org/dc/elements/1.1/}title', 'Good girls ')]"
      ]
     },
     "execution_count": 61,
     "metadata": {
      "tags": []
     },
     "output_type": "execute_result"
    }
   ],
   "source": [
    "#::GMG::Lo hacemos del ejemplo de Dublin Core que nos puso el profesor\n",
    "ns = {'dc': 'http://purl.org/dc/elements/1.1/'}\n",
    "[(x.tag, x.text) for x in root_ex.findall('.//dc:title',ns)]"
   ]
  },
  {
   "cell_type": "code",
   "execution_count": 0,
   "metadata": {
    "colab": {
     "base_uri": "https://localhost:8080/",
     "height": 52
    },
    "colab_type": "code",
    "executionInfo": {
     "elapsed": 546,
     "status": "ok",
     "timestamp": 1543617591770,
     "user": {
      "displayName": "Gerardo de Miguel",
      "photoUrl": "https://lh3.googleusercontent.com/-LmFLfSn0ThU/AAAAAAAAAAI/AAAAAAAAAkg/xGe-_jxkcZA/s64/photo.jpg",
      "userId": "12735548512534412210"
     },
     "user_tz": -60
    },
    "id": "oX2Vso8nMtkB",
    "outputId": "e8e76b11-c452-46d8-ae7a-eb22b008b2e9"
   },
   "outputs": [
    {
     "data": {
      "text/plain": [
       "[('{http://purl.org/dc/elements/1.1/}title',\n",
       "  'Snow dataset for Mount-Lebanon (2011-2016)')]"
      ]
     },
     "execution_count": 62,
     "metadata": {
      "tags": []
     },
     "output_type": "execute_result"
    }
   ],
   "source": [
    "#::GMG::Lo hacemos también con el XML que hemos obtenido de zenodo\n",
    "[(x.tag,x.text) for x in tree_zenodo.findall('.//dc:title',ns)]"
   ]
  },
  {
   "cell_type": "code",
   "execution_count": 0,
   "metadata": {
    "colab": {
     "base_uri": "https://localhost:8080/",
     "height": 52
    },
    "colab_type": "code",
    "executionInfo": {
     "elapsed": 530,
     "status": "ok",
     "timestamp": 1543617865331,
     "user": {
      "displayName": "Gerardo de Miguel",
      "photoUrl": "https://lh3.googleusercontent.com/-LmFLfSn0ThU/AAAAAAAAAAI/AAAAAAAAAkg/xGe-_jxkcZA/s64/photo.jpg",
      "userId": "12735548512534412210"
     },
     "user_tz": -60
    },
    "id": "aKLRlrfEJMl0",
    "outputId": "9baeffc7-efb4-42c0-ef23-a39d02cb4d1e"
   },
   "outputs": [
    {
     "data": {
      "text/plain": [
       "[('{http://purl.org/dc/elements/1.1/}title', 'Skrik'),\n",
       " ('{http://purl.org/dc/elements/1.1/}title', 'The Scream')]"
      ]
     },
     "execution_count": 64,
     "metadata": {
      "tags": []
     },
     "output_type": "execute_result"
    }
   ],
   "source": [
    "#::GMG::Lo hacemos también con el XML del cuadro\n",
    "#relation = tree_dimu.findall('{http://purl.org/dc/elements/1.1/}title')\n",
    "#for elem in relation:\n",
    "#    print(elem.tag, elem.text)\n",
    "[(x.tag,x.text.strip()) for x in tree_dimu.findall('.//dc:title',ns)]"
   ]
  },
  {
   "cell_type": "markdown",
   "metadata": {
    "colab_type": "text",
    "id": "3rxkvIvpLt0f"
   },
   "source": [
    "### Otro ejemplo (water reservoir)"
   ]
  },
  {
   "cell_type": "markdown",
   "metadata": {
    "colab_type": "text",
    "id": "CEH6TTfZMtkN"
   },
   "source": [
    "**Ejemplo con EML**\n",
    "\n",
    "```python\n",
    "response = requests.get('https://zenodo.org/record/841691/files/amt_prototype.xml')\n",
    "if response.status_code == 200:\n",
    "    with open(\"./amt_prototype.xml\", 'wb') as f:\n",
    "        f.write(response.content)\n",
    "```\n",
    "\n",
    "::GMG::**Nota**: si se quiere utilizar directamente la respuesta y no grabar un archivo intermedio hay que coger la versión en *texto plano*:\n",
    "\n",
    "```python\n",
    "response.text\n",
    "```"
   ]
  },
  {
   "cell_type": "markdown",
   "metadata": {
    "colab_type": "text",
    "id": "ZTdSS94sMtkb"
   },
   "source": [
    "En estándares más complejos, el xml de base puede tener una jerarquía anidada, como es el caso de EML. Entonces, cada elemento puede tener de 0 a N \"hijos\", formando nuevos árboles.\n",
    "\n",
    "```python\n",
    "tree = ET.parse('amt_prototype.xml')\n",
    "root = tree.getroot()\n",
    "\n",
    "for table in root.getiterator():\n",
    "    for child in table:\n",
    "        if len(child)==0:\n",
    "            print(child.tag, child.text)\n",
    " ```\n",
    " \n",
    " ::GMG::**Nota**: de nuevo si se quiere parsear la respuesta, hay que hacerlo con la versión de *texto plano*:\n",
    " \n",
    "  - [Stackoverflow: Python xml ElementTree from a string source?](https://stackoverflow.com/questions/647071/python-xml-elementtree-from-a-string-source)\n",
    " \n",
    " ```python\n",
    "tree = ET.ElementTree(ET.fromstring(response.text))\n",
    "```\n",
    "\n",
    "Un extracto de la respuesta:\n",
    "\n",
    "```ipython\n",
    "alternateIdentifier \n",
    "10.5281/zenodo.841183\n",
    "\n",
    "title water reservoir of Cuerda del Pozo\n",
    "organizationName IFCA\n",
    "electronicMailAddress marco@ifca.unican.es\n",
    "salutation Mr\n",
    "givenName Jesus Marco\n",
    "surName De Lucas\n",
    "deliveryPoint Avda Castros s/n\n",
    "city Santander\n",
    "postalCode 39005\n",
    "country Spain\n",
    "organizationName IFCA\n",
    "electronicMailAddress aguilarf@ifca.unican.es\n",
    "role guardian\n",
    "givenName Fernando\n",
    "surName Aguilar\n",
    "\n",
    "[...]\n",
    "\n",
    "references 1827473819284\n",
    "title Peaks Detector\n",
    "license GPL\n",
    "version 1.0\n",
    "para Detects and filter peaks from parameters defined in a CSV file \n",
    "references 1465302104227\n",
    "programmingLanguage Python 2.7.3\n",
    "mediumName doriiie02 Server HDD\n",
    "description decibar, Units derived from the bar.\n",
    "description Conductivity of an electrolyte solution is a measure of its ability to conduct electricity. The SI unit of conductivity is siemens per meter (S/m).\n",
    "description practical salinity unit\n",
    "```"
   ]
  },
  {
   "cell_type": "markdown",
   "metadata": {
    "colab_type": "text",
    "id": "d5TZPYvrTRmn"
   },
   "source": [
    "### ::GMG::Ejercicio"
   ]
  },
  {
   "cell_type": "markdown",
   "metadata": {
    "colab_type": "text",
    "id": "Q6xFwM5mMtkh"
   },
   "source": [
    "Explora un poco: Nombre del proyecto, autores, lista de atributos...\n",
    "\n",
    "::GMG::Utilizando [XML Formatter](https://jsonformatter.org/xml-formatter) he visualizado la estructura del árbol del documento XML, para hacerme una idea de lo que tendgo que buscar (!)\n",
    "\n",
    "Así por, ejemplo, el _**nombre del proyecto**_ se puede encontrar en ([XPath](https://www.w3schools.com/xml/xpath_intro.asp)):\n",
    "\n",
    "`./dataset/dataTable/project/researchProjectType/title`\n",
    "\n",
    "Existe otro título más *general* del dataset que he confundido en primera instancia con el título del proyecto que se pedía:\n",
    "\n",
    "`./dataset/title`\n",
    "\n",
    "En cuanto a los _**autores**_ me resulta un poco confuso. En la estructura del documento XML contiene diferentes roles:\n",
    "\n",
    "- `./dataset/creator`\n",
    "- `./dataset/associatedParty`\n",
    "- `./dataset/contact`\n",
    "\n",
    "Los tres nodos tienen la misma estructura de nodos hijo (y un atributo `id`):\n",
    "\n",
    "- `individualName`\n",
    "  - `/salutation`\n",
    "  - `/givenName`\n",
    "  - `/surName`\n",
    "- `organizationname`\n",
    "- `address`\n",
    "  - `/deliveryPoint`\n",
    "  - `/city`\n",
    "  - `/postalCode`\n",
    "  - `country`\n",
    "- `electronicMailAddress`\n",
    "\n",
    "Finalmente la _**lista de atributos**_ tiene que referirse al siqguiente nodo de la jerarquía:\n",
    "\n",
    "- `./dataset/dataTable/attributeList/attribute`\n",
    "\n",
    "que tiene *10 elementos* con su atributo XML `id` referidos a medidas con la siguiente estructura de nodos hijo común:\n",
    "\n",
    "- `attributeName`\n",
    "- `attributeLabel`\n",
    "- `attributeDefinition`\n",
    "- `storageType`\n",
    "- `measurementScale`\n",
    "\n",
    "Los nodos `storageType` tienen un atributo XML llamado `typeSystem`. Los nodos `measurementScale` tienen un nivel más abajo con un nodo que varía en función de la escala de la medida, i.e dateTime, ratio, interval, ..."
   ]
  },
  {
   "cell_type": "code",
   "execution_count": 0,
   "metadata": {
    "colab": {},
    "colab_type": "code",
    "id": "M9F7l5ggTns0"
   },
   "outputs": [],
   "source": [
    "#::GMG::Hago un parsing directo del response\n",
    "response = requests.get('https://zenodo.org/record/841691/files/amt_prototype.xml')"
   ]
  },
  {
   "cell_type": "code",
   "execution_count": 0,
   "metadata": {
    "colab": {},
    "colab_type": "code",
    "id": "314T0O2CToRS"
   },
   "outputs": [],
   "source": [
    "if response.status_code == 200:\n",
    "    tree_amt = ET.ElementTree(ET.fromstring(response.text))\n",
    "\n",
    "root_amt = tree_amt.getroot()"
   ]
  },
  {
   "cell_type": "code",
   "execution_count": 0,
   "metadata": {
    "colab": {
     "base_uri": "https://localhost:8080/",
     "height": 35
    },
    "colab_type": "code",
    "executionInfo": {
     "elapsed": 530,
     "status": "ok",
     "timestamp": 1543674130715,
     "user": {
      "displayName": "Gerardo de Miguel",
      "photoUrl": "https://lh3.googleusercontent.com/-LmFLfSn0ThU/AAAAAAAAAAI/AAAAAAAAAkg/xGe-_jxkcZA/s64/photo.jpg",
      "userId": "12735548512534412210"
     },
     "user_tz": -60
    },
    "id": "0g2eH2IPUsE2",
    "outputId": "3a908a02-a07c-4d7a-b518-7eab222c1ec8"
   },
   "outputs": [
    {
     "name": "stdout",
     "output_type": "stream",
     "text": [
      "Project: water reservoir of Cuerda del Pozo\n"
     ]
    }
   ],
   "source": [
    "#::GMG::Nombre del proyecto (¿dataset?) ... ¡NO!\n",
    "#ns_amt = {'eml': 'eml://ecoinformatics.org/eml-2.1.1'}\n",
    "print('Dataset: {}'.format(root_amt.find('./dataset/title').text))"
   ]
  },
  {
   "cell_type": "code",
   "execution_count": 0,
   "metadata": {
    "colab": {
     "base_uri": "https://localhost:8080/",
     "height": 35
    },
    "colab_type": "code",
    "executionInfo": {
     "elapsed": 552,
     "status": "ok",
     "timestamp": 1543680913505,
     "user": {
      "displayName": "Gerardo de Miguel",
      "photoUrl": "https://lh3.googleusercontent.com/-LmFLfSn0ThU/AAAAAAAAAAI/AAAAAAAAAkg/xGe-_jxkcZA/s64/photo.jpg",
      "userId": "12735548512534412210"
     },
     "user_tz": -60
    },
    "id": "V2UrPLZrjDKv",
    "outputId": "1ad619fd-48e1-4269-c9fa-b412fff7b81a"
   },
   "outputs": [
    {
     "name": "stdout",
     "output_type": "stream",
     "text": [
      "Project: ROEM +\n"
     ]
    }
   ],
   "source": [
    "print('Project: {}'.format(root_amt.find(\n",
    "    './dataset/dataTable/project/researchProjectType/title').text)\n",
    "     )"
   ]
  },
  {
   "cell_type": "code",
   "execution_count": 0,
   "metadata": {
    "colab": {
     "base_uri": "https://localhost:8080/",
     "height": 173
    },
    "colab_type": "code",
    "executionInfo": {
     "elapsed": 544,
     "status": "ok",
     "timestamp": 1543681422543,
     "user": {
      "displayName": "Gerardo de Miguel",
      "photoUrl": "https://lh3.googleusercontent.com/-LmFLfSn0ThU/AAAAAAAAAAI/AAAAAAAAAkg/xGe-_jxkcZA/s64/photo.jpg",
      "userId": "12735548512534412210"
     },
     "user_tz": -60
    },
    "id": "_HUqT1U7Mtkj",
    "outputId": "19294c6c-c0eb-44b9-8a61-8e0f76a56717",
    "scrolled": true
   },
   "outputs": [
    {
     "name": "stdout",
     "output_type": "stream",
     "text": [
      "salutation: Mr\n",
      "givenName: Jesus Marco\n",
      "surName: De Lucas\n",
      "organizationName: IFCA\n",
      "deliveryPoint: Avda Castros s/n\n",
      "city: Santander\n",
      "postalCode: 39005\n",
      "country: Spain\n",
      "electronicMailAddress: marco@ifca.unican.es\n"
     ]
    }
   ],
   "source": [
    "#::GMG::Autores: creator\n",
    "for child in root_amt.find('./dataset/creator').getiterator():\n",
    "    if len(child)==0:\n",
    "       print('{}: {}'.format(child.tag,child.text))\n",
    "\n",
    "#::GMG::NOTA::Sugerencia del profesor\n",
    "##elementos = tree.findall('/dataset[1]/creator/individualName/salutation')\n",
    "#elementos = tree_amt.findall('.//attributeList/attribute[@id=\"1465311292527\"]/attributeName')\n",
    "#for e in elementos:\n",
    "#    print(e.tag + \":\", e.text)"
   ]
  },
  {
   "cell_type": "code",
   "execution_count": 0,
   "metadata": {
    "colab": {
     "base_uri": "https://localhost:8080/",
     "height": 173
    },
    "colab_type": "code",
    "executionInfo": {
     "elapsed": 556,
     "status": "ok",
     "timestamp": 1543681580953,
     "user": {
      "displayName": "Gerardo de Miguel",
      "photoUrl": "https://lh3.googleusercontent.com/-LmFLfSn0ThU/AAAAAAAAAAI/AAAAAAAAAkg/xGe-_jxkcZA/s64/photo.jpg",
      "userId": "12735548512534412210"
     },
     "user_tz": -60
    },
    "id": "qcx2zbPBlWOF",
    "outputId": "137eef8c-964b-4cdf-c8fe-de03bb429ba4"
   },
   "outputs": [
    {
     "name": "stdout",
     "output_type": "stream",
     "text": [
      "givenName: Fernando\n",
      "surName: Aguilar\n",
      "organizationName: IFCA\n",
      "deliveryPoint: Avda Castros s/n\n",
      "city: Santander\n",
      "postalCode: 39005\n",
      "country: Spain\n",
      "electronicMailAddress: aguilarf@ifca.unican.es\n",
      "role: guardian\n"
     ]
    }
   ],
   "source": [
    "#::GMG::Autores: associatedParty\n",
    "for child in root_amt.find('./dataset/associatedParty').getiterator():\n",
    "    if len(child)==0:\n",
    "       print('{}: {}'.format(child.tag,child.text))\n"
   ]
  },
  {
   "cell_type": "code",
   "execution_count": 0,
   "metadata": {
    "colab": {
     "base_uri": "https://localhost:8080/",
     "height": 156
    },
    "colab_type": "code",
    "executionInfo": {
     "elapsed": 724,
     "status": "ok",
     "timestamp": 1543681592847,
     "user": {
      "displayName": "Gerardo de Miguel",
      "photoUrl": "https://lh3.googleusercontent.com/-LmFLfSn0ThU/AAAAAAAAAAI/AAAAAAAAAkg/xGe-_jxkcZA/s64/photo.jpg",
      "userId": "12735548512534412210"
     },
     "user_tz": -60
    },
    "id": "0PCHIjwGlV-p",
    "outputId": "052c3eee-e559-4430-b5f7-3f6fd5f970ae"
   },
   "outputs": [
    {
     "name": "stdout",
     "output_type": "stream",
     "text": [
      "givenName: Daniel\n",
      "surName: Garcia\n",
      "organizationName: IFCA\n",
      "deliveryPoint: Avda Castros S/N\n",
      "city: Santander\n",
      "postalCode: 39005\n",
      "country: Spain\n",
      "electronicMailAddress: garciad@ifca.unican.es\n"
     ]
    }
   ],
   "source": [
    "#::GMG::Autores: contact\n",
    "for child in root_amt.find('./dataset/contact').getiterator():\n",
    "    if len(child)==0:\n",
    "       print('{}: {}'.format(child.tag,child.text))\n"
   ]
  },
  {
   "cell_type": "code",
   "execution_count": 0,
   "metadata": {
    "colab": {
     "base_uri": "https://localhost:8080/",
     "height": 35
    },
    "colab_type": "code",
    "executionInfo": {
     "elapsed": 563,
     "status": "ok",
     "timestamp": 1543619363702,
     "user": {
      "displayName": "Gerardo de Miguel",
      "photoUrl": "https://lh3.googleusercontent.com/-LmFLfSn0ThU/AAAAAAAAAAI/AAAAAAAAAkg/xGe-_jxkcZA/s64/photo.jpg",
      "userId": "12735548512534412210"
     },
     "user_tz": -60
    },
    "id": "xv9ahlsVMtkl",
    "outputId": "86ff654c-ce1f-41d4-e74c-2e2911ea5015"
   },
   "outputs": [
    {
     "name": "stdout",
     "output_type": "stream",
     "text": [
      "{http://purl.org/oclc/terms/}recordIdentifier 63187390\n"
     ]
    }
   ],
   "source": [
    "dataset = ET.SubElement(root_amt,'dataset')\n",
    "for table in dataset.getiterator():\n",
    "    print(child.tag, child.text)"
   ]
  },
  {
   "cell_type": "markdown",
   "metadata": {
    "colab_type": "text",
    "id": "1kipxic2Mtkq"
   },
   "source": [
    "## Ejercicio personal"
   ]
  },
  {
   "cell_type": "markdown",
   "metadata": {
    "colab_type": "text",
    "id": "GJ69_cEyMtkq"
   },
   "source": [
    "A partir del ejemplo completo del esquema de metadatos de DataCite, muestra por pantalla los elementos que sean equivalentes a los propuestos por Dublin Core (cada uno en una línea). Es posible que tengas que combinar en uno varios campos del archivo de metadatos (Por ejemplo, en coverage las coordenadas + el nombre). \n",
    "\n",
    "La idea es definir los metadatos de forma textual y después pasarlos a un documento XML usando python (como hemos hecho antes). \n",
    "\n",
    "::GMG::**nota**: yo he adoptado una aproximación *pythonic* de hacerlo todo en código más o menos .... \n",
    "\n",
    "Despues, mostrar alguno de los elementos realizando busquedas \n",
    "\n",
    "* Title: \n",
    "* Creator: \n",
    "* Subject:  \n",
    "* Description: \n",
    "* Publisher: \n",
    "* Contributor:\n",
    "* Date: \n",
    "* Type: \n",
    "* Format: \n",
    "* Identifier: \n",
    "* Source: \n",
    "* Language:\n",
    "* Relation:\n",
    "* Coverage:  \n",
    "* Rights:\n",
    "\n",
    "Recurso: https://schema.datacite.org/meta/kernel-3.1/example/datacite-example-full-v3.1.xml\n",
    "\n",
    "::GMG::**Nota**: Podría ser interesante ver la definición del esquema del docummento XML:\n",
    "\n",
    "http://schema.datacite.org/meta/kernel-3/metadata.xsd"
   ]
  },
  {
   "cell_type": "code",
   "execution_count": 0,
   "metadata": {
    "colab": {},
    "colab_type": "code",
    "id": "TRVOguDaMtks"
   },
   "outputs": [],
   "source": [
    "#::GMG::Hago un parsing directo del response\n",
    "response = requests.get(\n",
    "    'https://schema.datacite.org/meta/kernel-3.1/example/datacite-example-full-v3.1.xml'\n",
    ")\n",
    "if response.status_code == 200:\n",
    "    tree_datacite = ET.ElementTree(ET.fromstring(response.text))\n",
    "\n",
    "root_datacite = tree_datacite.getroot()"
   ]
  },
  {
   "cell_type": "code",
   "execution_count": 3,
   "metadata": {
    "colab": {
     "base_uri": "https://localhost:8080/",
     "height": 107
    },
    "colab_type": "code",
    "executionInfo": {
     "elapsed": 552,
     "status": "ok",
     "timestamp": 1543778147633,
     "user": {
      "displayName": "Gerardo de Miguel",
      "photoUrl": "https://lh3.googleusercontent.com/-LmFLfSn0ThU/AAAAAAAAAAI/AAAAAAAAAkg/xGe-_jxkcZA/s64/photo.jpg",
      "userId": "12735548512534412210"
     },
     "user_tz": -60
    },
    "id": "qPWsk5V4Mtkv",
    "outputId": "8278c3c3-f0f7-4064-e180-770c1780ecd3"
   },
   "outputs": [
    {
     "data": {
      "text/plain": [
       "<Element '{http://datacite.org/schema/kernel-3}resource' at 0x7fe722377958>"
      ]
     },
     "metadata": {
      "tags": []
     },
     "output_type": "display_data"
    },
    {
     "data": {
      "text/plain": [
       "xml.etree.ElementTree.Element"
      ]
     },
     "metadata": {
      "tags": []
     },
     "output_type": "display_data"
    },
    {
     "data": {
      "text/plain": [
       "<xml.etree.ElementTree.ElementTree at 0x7fe72238a518>"
      ]
     },
     "metadata": {
      "tags": []
     },
     "output_type": "display_data"
    },
    {
     "data": {
      "text/plain": [
       "xml.etree.ElementTree.ElementTree"
      ]
     },
     "metadata": {
      "tags": []
     },
     "output_type": "display_data"
    }
   ],
   "source": [
    "#::GMG::Elemento raíz del árbol del documento XML de trabajo\n",
    "display(root_datacite, type(root_datacite))\n",
    "#::GMG::Árbol completo del documento XML de trabajo\n",
    "display(tree_datacite, type(tree_datacite))\n",
    "#::GMG::NOTA::Podemos elegir con cuál trabajar :)"
   ]
  },
  {
   "cell_type": "code",
   "execution_count": 4,
   "metadata": {
    "colab": {
     "base_uri": "https://localhost:8080/",
     "height": 329
    },
    "colab_type": "code",
    "executionInfo": {
     "elapsed": 537,
     "status": "ok",
     "timestamp": 1543778204250,
     "user": {
      "displayName": "Gerardo de Miguel",
      "photoUrl": "https://lh3.googleusercontent.com/-LmFLfSn0ThU/AAAAAAAAAAI/AAAAAAAAAkg/xGe-_jxkcZA/s64/photo.jpg",
      "userId": "12735548512534412210"
     },
     "user_tz": -60
    },
    "id": "dHLSJhtFMtk0",
    "outputId": "af7348ce-5044-4c47-f554-cd4fe7475e9c"
   },
   "outputs": [
    {
     "name": "stdout",
     "output_type": "stream",
     "text": [
      "datacite:identifier\n",
      "datacite:creators\n",
      "datacite:titles\n",
      "datacite:publisher\n",
      "datacite:publicationYear\n",
      "datacite:subjects\n",
      "datacite:contributors\n",
      "datacite:dates\n",
      "datacite:language\n",
      "datacite:resourceType\n",
      "datacite:alternateIdentifiers\n",
      "datacite:relatedIdentifiers\n",
      "datacite:sizes\n",
      "datacite:formats\n",
      "datacite:version\n",
      "datacite:rightsList\n",
      "datacite:descriptions\n",
      "datacite:geoLocations\n"
     ]
    }
   ],
   "source": [
    "#::GMG::Estructura de primer nivel del árbol acorde con el esquema de datacite\n",
    "ns_datacite = {'datacite': 'http://datacite.org/schema/kernel-3'}\n",
    "#for resource in root_datacite.getiterator(\n",
    "#        '{http://datacite.org/schema/kernel-3}resource'\n",
    "#    ):\n",
    "#    for child in resource:\n",
    "#        print('{}'.format(child.tag))\n",
    "for child in root_datacite.findall('./',ns_datacite):\n",
    "  # https://www.tutorialspoint.com/python/string_replace.htm\n",
    "  print(child.tag.replace(\n",
    "      '{' + ns_datacite['datacite'] + '}', \n",
    "      str(list(ns_datacite.keys())[0]) + ':'\n",
    "      )\n",
    "  )"
   ]
  },
  {
   "cell_type": "code",
   "execution_count": 5,
   "metadata": {
    "colab": {
     "base_uri": "https://localhost:8080/",
     "height": 329
    },
    "colab_type": "code",
    "executionInfo": {
     "elapsed": 1101,
     "status": "ok",
     "timestamp": 1543778208768,
     "user": {
      "displayName": "Gerardo de Miguel",
      "photoUrl": "https://lh3.googleusercontent.com/-LmFLfSn0ThU/AAAAAAAAAAI/AAAAAAAAAkg/xGe-_jxkcZA/s64/photo.jpg",
      "userId": "12735548512534412210"
     },
     "user_tz": -60
    },
    "id": "TcZTsZvUo4wj",
    "outputId": "f115b49c-7f30-4aef-a1f8-e7fcf7bfb37e"
   },
   "outputs": [
    {
     "data": {
      "text/plain": [
       "['identifier',\n",
       " 'creators',\n",
       " 'titles',\n",
       " 'publisher',\n",
       " 'publicationYear',\n",
       " 'subjects',\n",
       " 'contributors',\n",
       " 'dates',\n",
       " 'language',\n",
       " 'resourceType',\n",
       " 'alternateIdentifiers',\n",
       " 'relatedIdentifiers',\n",
       " 'sizes',\n",
       " 'formats',\n",
       " 'version',\n",
       " 'rightsList',\n",
       " 'descriptions',\n",
       " 'geoLocations']"
      ]
     },
     "execution_count": 5,
     "metadata": {
      "tags": []
     },
     "output_type": "execute_result"
    }
   ],
   "source": [
    "#::GMG::Obtenemos la lista de etiquetas de datacite\n",
    "# https://stackoverflow.com/questions/37372603/how-to-remove-specific-substrings-from-a-set-of-strings-in-python\n",
    "datacite_tags = [\n",
    "    child.tag.replace('{' + ns_datacite['datacite'] + '}','') \n",
    "    for child in root_datacite.findall('./',ns_datacite)]\n",
    "datacite_tags"
   ]
  },
  {
   "cell_type": "code",
   "execution_count": 6,
   "metadata": {
    "colab": {
     "base_uri": "https://localhost:8080/",
     "height": 277
    },
    "colab_type": "code",
    "executionInfo": {
     "elapsed": 529,
     "status": "ok",
     "timestamp": 1543778229585,
     "user": {
      "displayName": "Gerardo de Miguel",
      "photoUrl": "https://lh3.googleusercontent.com/-LmFLfSn0ThU/AAAAAAAAAAI/AAAAAAAAAkg/xGe-_jxkcZA/s64/photo.jpg",
      "userId": "12735548512534412210"
     },
     "user_tz": -60
    },
    "id": "p8osfspBdxlK",
    "outputId": "567cb87c-cd62-45e6-a8a6-1c21d5db78e0"
   },
   "outputs": [
    {
     "name": "stdout",
     "output_type": "stream",
     "text": [
      "dc:title\n",
      "dc:creator\n",
      "dc:subject\n",
      "dc:description\n",
      "dc:publisher\n",
      "dc:contributor\n",
      "dc:date\n",
      "dc:type\n",
      "dc:format\n",
      "dc:identifier\n",
      "dc:source\n",
      "dc:language\n",
      "dc:relation\n",
      "dc:coverage\n",
      "dc:rights\n"
     ]
    }
   ],
   "source": [
    "#::GMG::Esquema de Dublin Core\n",
    "# http://dublincore.org/documents/dces/\n",
    "# http://dublincore.org/documents/dcmi-terms/\n",
    "ns_dc = {'dc': 'http://purl.org/dc/elements/1.1/'}\n",
    "dc_tags = ['title', 'creator', 'subject', 'description', 'publisher', \n",
    "           'contributor', 'date', 'type', 'format', 'identifier',\n",
    "           'source', 'language', 'relation', 'coverage', 'rights']\n",
    "for tag in dc_tags:\n",
    "    print(\n",
    "        '{}:{}'.format(list(ns_dc.keys())[0], tag)\n",
    "    )"
   ]
  },
  {
   "cell_type": "code",
   "execution_count": 7,
   "metadata": {
    "colab": {
     "base_uri": "https://localhost:8080/",
     "height": 35
    },
    "colab_type": "code",
    "executionInfo": {
     "elapsed": 524,
     "status": "ok",
     "timestamp": 1543778235598,
     "user": {
      "displayName": "Gerardo de Miguel",
      "photoUrl": "https://lh3.googleusercontent.com/-LmFLfSn0ThU/AAAAAAAAAAI/AAAAAAAAAkg/xGe-_jxkcZA/s64/photo.jpg",
      "userId": "12735548512534412210"
     },
     "user_tz": -60
    },
    "id": "YubdkI5IpbeO",
    "outputId": "665ec77a-16ba-42a6-f564-94b5abd895b6"
   },
   "outputs": [
    {
     "data": {
      "text/plain": [
       "{'identifier', 'language', 'publisher'}"
      ]
     },
     "execution_count": 7,
     "metadata": {
      "tags": []
     },
     "output_type": "execute_result"
    }
   ],
   "source": [
    "#::GMG::Ahora tengo que mostrar las etiquetas equivalentes de Dublin core que \n",
    "#       se encuentran en datacite\n",
    "# https://stackoverflow.com/questions/1388818/how-can-i-compare-two-lists-in-python-and-return-matches\n",
    "#::GMG::Siendo estrictos con los nombres de las etiquetas ... :)\n",
    "#set(dc_tags) & set(datacite_tags)\n",
    "set(dc_tags).intersection(datacite_tags)"
   ]
  },
  {
   "cell_type": "code",
   "execution_count": 0,
   "metadata": {
    "colab": {},
    "colab_type": "code",
    "id": "KIFC33XG22TI"
   },
   "outputs": [],
   "source": [
    "#::GMG::Puedo crear un diccionario con las equivalencias entre eqtiquetas\n",
    "#       \"a mano\"\n",
    "# http://dublincore.org/documents/dces/\n",
    "#::nota::tengo dudas sobre la atribución de 'source' a 'version' \n",
    "#::nota::no sé dónde colocar 'alternateIdentifiers', 'publicationYear', \n",
    "#        'sizes'\n",
    "dc_datacite_tags = {\n",
    "    'title': 'titles',\n",
    "    'creator': 'creators',\n",
    "    'subject': 'subjects',\n",
    "    'description': 'descriptions',\n",
    "    'publisher': 'publisher',\n",
    "    'contributor': 'contributors',\n",
    "    'date': 'dates',\n",
    "    'type': 'resourceType',\n",
    "    'format': 'formats',\n",
    "    'identifier': 'identifier',\n",
    "    'source': 'version',\n",
    "    'language': 'language',\n",
    "    'relation': 'relatedIdentifiers',\n",
    "    'coverage': 'geoLocations',\n",
    "    'rights': 'rightsList' \n",
    "}"
   ]
  },
  {
   "cell_type": "code",
   "execution_count": 9,
   "metadata": {
    "colab": {
     "base_uri": "https://localhost:8080/",
     "height": 277
    },
    "colab_type": "code",
    "executionInfo": {
     "elapsed": 558,
     "status": "ok",
     "timestamp": 1543778358127,
     "user": {
      "displayName": "Gerardo de Miguel",
      "photoUrl": "https://lh3.googleusercontent.com/-LmFLfSn0ThU/AAAAAAAAAAI/AAAAAAAAAkg/xGe-_jxkcZA/s64/photo.jpg",
      "userId": "12735548512534412210"
     },
     "user_tz": -60
    },
    "id": "P7pdnCRRrQIj",
    "outputId": "aa0146aa-cfed-4f21-affa-5f568368374e"
   },
   "outputs": [
    {
     "name": "stdout",
     "output_type": "stream",
     "text": [
      "dc:title --> contenido de etiqueta datacite equivalente\n",
      "dc:creator --> contenido de etiqueta datacite equivalente\n",
      "dc:subject --> contenido de etiqueta datacite equivalente\n",
      "dc:description --> contenido de etiqueta datacite equivalente\n",
      "dc:publisher --> contenido de etiqueta datacite equivalente\n",
      "dc:contributor --> contenido de etiqueta datacite equivalente\n",
      "dc:date --> contenido de etiqueta datacite equivalente\n",
      "dc:type --> contenido de etiqueta datacite equivalente\n",
      "dc:format --> contenido de etiqueta datacite equivalente\n",
      "dc:identifier --> contenido de etiqueta datacite equivalente\n",
      "dc:source --> contenido de etiqueta datacite equivalente\n",
      "dc:language --> contenido de etiqueta datacite equivalente\n",
      "dc:relation --> contenido de etiqueta datacite equivalente\n",
      "dc:coverage --> contenido de etiqueta datacite equivalente\n",
      "dc:rights --> contenido de etiqueta datacite equivalente\n"
     ]
    }
   ],
   "source": [
    "#::GMG::Hay que tener en cuenta que algunas de las etiquetas en datacite las\n",
    "#       han convertido en compuestas por lo de \"equivalente\" implica incluir\n",
    "#       los tipos compuestos que tienen la etiqueta equivalente de Dublin Core\n",
    "#       en plural\n",
    "#::GMG::La idea es ésta\n",
    "for tag in dc_tags:\n",
    "    print(\n",
    "        '{}:{} --> {}'.format(\n",
    "            list(ns_dc.keys())[0], \n",
    "            tag,\n",
    "            'contenido de etiqueta datacite equivalente'\n",
    "            #::nota::Esto no funciona :)\n",
    "            #[child.text.strip() \n",
    "            # for child in root_datacite\n",
    "            #     .find('.//datacite:' + dc_datacite_tags[tag],ns_datacite)\n",
    "            # if len(child) == 0\n",
    "            #]\n",
    "        )\n",
    "    )"
   ]
  },
  {
   "cell_type": "code",
   "execution_count": 49,
   "metadata": {
    "colab": {
     "base_uri": "https://localhost:8080/",
     "height": 52
    },
    "colab_type": "code",
    "executionInfo": {
     "elapsed": 538,
     "status": "ok",
     "timestamp": 1543783416619,
     "user": {
      "displayName": "Gerardo de Miguel",
      "photoUrl": "https://lh3.googleusercontent.com/-LmFLfSn0ThU/AAAAAAAAAAI/AAAAAAAAAkg/xGe-_jxkcZA/s64/photo.jpg",
      "userId": "12735548512534412210"
     },
     "user_tz": -60
    },
    "id": "lQM11lkukyBx",
    "outputId": "db9cf2f9-55e9-449b-a290-980de741a0b7"
   },
   "outputs": [
    {
     "name": "stdout",
     "output_type": "stream",
     "text": [
      "title: Full DataCite XML Example\n",
      "title: Demonstration of DataCite Properties.\n"
     ]
    }
   ],
   "source": [
    "#::GMG::El caso es que puedo encontrar contenidos en particular\n",
    "#       con XPath, por ejemplo en el caso de titles\n",
    "#::TODO::sería interesante pillar el atributo xml:lang y ponerlo\n",
    "#        bien formateado ...\n",
    "for child in root_datacite.find(\n",
    "    #'./datacite:titles',\n",
    "    './datacite:' + dc_datacite_tags['title'],\n",
    "    ns_datacite).getiterator():\n",
    "    if len(child)==0:\n",
    "        print('{}: {}'.format(\n",
    "             child.tag.replace('{' + ns_datacite['datacite'] + '}',''),\n",
    "             child.text\n",
    "            )\n",
    "        )"
   ]
  },
  {
   "cell_type": "code",
   "execution_count": 48,
   "metadata": {
    "colab": {
     "base_uri": "https://localhost:8080/",
     "height": 69
    },
    "colab_type": "code",
    "executionInfo": {
     "elapsed": 543,
     "status": "ok",
     "timestamp": 1543783291417,
     "user": {
      "displayName": "Gerardo de Miguel",
      "photoUrl": "https://lh3.googleusercontent.com/-LmFLfSn0ThU/AAAAAAAAAAI/AAAAAAAAAkg/xGe-_jxkcZA/s64/photo.jpg",
      "userId": "12735548512534412210"
     },
     "user_tz": -60
    },
    "id": "9nEn9mSvXf9h",
    "outputId": "e13c2533-c9b5-460d-9112-01185b901d0f"
   },
   "outputs": [
    {
     "name": "stdout",
     "output_type": "stream",
     "text": [
      "creatorName: Miller, Elizabeth\n",
      "nameIdentifier: 0000-0001-5000-0007\n",
      "affiliation: DataCite\n"
     ]
    }
   ],
   "source": [
    "#::GMG::En el caso de creators hay un solo creator\n",
    "#::TODO::sería interesante identificar al atributo ORCID ...\n",
    "for child in root_datacite.find(\n",
    "    #'./datacite:creators',\n",
    "    './datacite:' + dc_datacite_tags['creator'],\n",
    "    ns_datacite).getiterator():\n",
    "    if len(child)==0:\n",
    "        print('{}: {}'.format(\n",
    "             child.tag.replace('{' + ns_datacite['datacite'] + '}',''),\n",
    "             child.text\n",
    "            )\n",
    "        )"
   ]
  },
  {
   "cell_type": "code",
   "execution_count": 50,
   "metadata": {
    "colab": {
     "base_uri": "https://localhost:8080/",
     "height": 35
    },
    "colab_type": "code",
    "executionInfo": {
     "elapsed": 537,
     "status": "ok",
     "timestamp": 1543783544733,
     "user": {
      "displayName": "Gerardo de Miguel",
      "photoUrl": "https://lh3.googleusercontent.com/-LmFLfSn0ThU/AAAAAAAAAAI/AAAAAAAAAkg/xGe-_jxkcZA/s64/photo.jpg",
      "userId": "12735548512534412210"
     },
     "user_tz": -60
    },
    "id": "mzcY2QXRc1Vy",
    "outputId": "a876d57a-b671-44e4-86a0-55bff476fcba"
   },
   "outputs": [
    {
     "name": "stdout",
     "output_type": "stream",
     "text": [
      "subject: 000 computer science\n"
     ]
    }
   ],
   "source": [
    "#::GMG::Siguiendo con subjects\n",
    "#::TODO::Aquí también tenemos atributos: xml:lang y subjectScheme\n",
    "for child in root_datacite.find(\n",
    "    #'./datacite:subjects',\n",
    "    './datacite:' + dc_datacite_tags['subject'],\n",
    "    ns_datacite).getiterator():\n",
    "    if len(child)==0:\n",
    "        print('{}: {}'.format(\n",
    "             child.tag.replace('{' + ns_datacite['datacite'] + '}',''),\n",
    "             child.text\n",
    "            )\n",
    "        )"
   ]
  },
  {
   "cell_type": "code",
   "execution_count": 51,
   "metadata": {
    "colab": {
     "base_uri": "https://localhost:8080/",
     "height": 69
    },
    "colab_type": "code",
    "executionInfo": {
     "elapsed": 537,
     "status": "ok",
     "timestamp": 1543784265932,
     "user": {
      "displayName": "Gerardo de Miguel",
      "photoUrl": "https://lh3.googleusercontent.com/-LmFLfSn0ThU/AAAAAAAAAAI/AAAAAAAAAkg/xGe-_jxkcZA/s64/photo.jpg",
      "userId": "12735548512534412210"
     },
     "user_tz": -60
    },
    "id": "7znMm3Mcvh6K",
    "outputId": "d15b48e6-e373-44c0-f360-2e17f361f6e2"
   },
   "outputs": [
    {
     "name": "stdout",
     "output_type": "stream",
     "text": [
      "description: \n",
      "            XML example of all DataCite Metadata Schema v3.1 properties.\n",
      "        \n"
     ]
    }
   ],
   "source": [
    "#::GMG::Siguiendo con descriptions\n",
    "#::TODO::Aquí también tenemos atributos: xml:lang y descrptionType\n",
    "for child in root_datacite.find(\n",
    "    #'./datacite:descriptions',\n",
    "    './datacite:' + dc_datacite_tags['description'],\n",
    "    ns_datacite).getiterator():\n",
    "    if len(child)==0:\n",
    "        print('{}: {}'.format(\n",
    "             child.tag.replace('{' + ns_datacite['datacite'] + '}',''),\n",
    "             child.text\n",
    "            )\n",
    "        )"
   ]
  },
  {
   "cell_type": "code",
   "execution_count": 52,
   "metadata": {
    "colab": {
     "base_uri": "https://localhost:8080/",
     "height": 35
    },
    "colab_type": "code",
    "executionInfo": {
     "elapsed": 547,
     "status": "ok",
     "timestamp": 1543784424326,
     "user": {
      "displayName": "Gerardo de Miguel",
      "photoUrl": "https://lh3.googleusercontent.com/-LmFLfSn0ThU/AAAAAAAAAAI/AAAAAAAAAkg/xGe-_jxkcZA/s64/photo.jpg",
      "userId": "12735548512534412210"
     },
     "user_tz": -60
    },
    "id": "-0UeN0qBYfqX",
    "outputId": "f0a92f75-ecef-4fa4-d2e6-ba65556c081c"
   },
   "outputs": [
    {
     "name": "stdout",
     "output_type": "stream",
     "text": [
      "publisher: DataCite\n"
     ]
    }
   ],
   "source": [
    "#::GMG::Ahora tenemos la primera correspondencia directa\n",
    "#       dc:publisher --> datacite:publisher\n",
    "for child in root_datacite.find(\n",
    "    #'./datacite:publisher',\n",
    "    './datacite:' + dc_datacite_tags['publisher'],\n",
    "    ns_datacite).getiterator():\n",
    "    if len(child)==0:\n",
    "        print('{}: {}'.format(\n",
    "             child.tag.replace('{' + ns_datacite['datacite'] + '}',''),\n",
    "             child.text\n",
    "            )\n",
    "        )"
   ]
  },
  {
   "cell_type": "code",
   "execution_count": 57,
   "metadata": {
    "colab": {
     "base_uri": "https://localhost:8080/",
     "height": 297
    },
    "colab_type": "code",
    "executionInfo": {
     "elapsed": 556,
     "status": "ok",
     "timestamp": 1543785443099,
     "user": {
      "displayName": "Gerardo de Miguel",
      "photoUrl": "https://lh3.googleusercontent.com/-LmFLfSn0ThU/AAAAAAAAAAI/AAAAAAAAAkg/xGe-_jxkcZA/s64/photo.jpg",
      "userId": "12735548512534412210"
     },
     "user_tz": -60
    },
    "id": "a60bhWmuWtBd",
    "outputId": "1434f487-1d13-4e4b-83f6-a5eb451f33a9"
   },
   "outputs": [
    {
     "name": "stdout",
     "output_type": "stream",
     "text": [
      "dc:title --> ['Full DataCite XML Example', 'Demonstration of DataCite Properties.']\n",
      "dc:creator --> ['Miller, Elizabeth', '0000-0001-5000-0007', 'DataCite']\n",
      "dc:subject --> ['000 computer science']\n",
      "dc:description --> ['XML example of all DataCite Metadata Schema v3.1 properties.']\n",
      "dc:publisher --> ['DataCite']\n",
      "dc:contributor --> ['Starr, Joan', '0000-0002-7285-027X', 'California Digital Library']\n",
      "dc:date --> ['2014-10-17']\n",
      "dc:type --> ['XML']\n",
      "dc:format --> ['application/xml']\n",
      "dc:identifier --> ['10.5072/example-full']\n",
      "dc:source --> ['3.1']\n",
      "dc:language --> ['en-us']\n",
      "dc:relation --> ['http://data.datacite.org/application/citeproc+json/10.5072/example-full', 'arXiv:0706.0001']\n",
      "dc:coverage --> ['31.233 -67.302', '41.090 -71.032  42.893 -68.211', 'Atlantic Ocean']\n",
      "dc:rights --> ['CC0 1.0 Universal']\n"
     ]
    }
   ],
   "source": [
    "#::GMG::Vemos un patrón aquí y podemos aprovechar nuestra idea \n",
    "#       original de iterar sobre la lista de tags de Dublin Core\n",
    "for tag in dc_tags:\n",
    "      print(\n",
    "        '{}:{} --> {}'.format(\n",
    "            list(ns_dc.keys())[0], \n",
    "            tag,\n",
    "            #'contenido de etiqueta datacite equivalente'\n",
    "            [child.text.strip() for child in\n",
    "             root_datacite.find(\n",
    "                 './datacite:' + dc_datacite_tags[tag], ns_datacite\n",
    "             ).getiterator()\n",
    "             if len(child)==0\n",
    "            ]            \n",
    "        )\n",
    "    )\n",
    "\n",
    "#::nota::Equivalente a list comprehension para child.text.strip()\n",
    "#for child in root_datacite.find(\n",
    "#    './datacite:' + dc_datacite_tags[tag],\n",
    "#    ns_datacite).getiterator():\n",
    "#    if len(child)==0:\n",
    "#        print('{}'.format(child.text.strip()))            "
   ]
  }
 ],
 "metadata": {
  "colab": {
   "collapsed_sections": [
    "tIrVy09bMthn",
    "QAVhRJxnMthy",
    "vcKIodWty1KS",
    "FuFkQ5_szGjb",
    "90W-jw5KzSES",
    "tv_u9Ud809D2",
    "dMLVZU6I1G9L",
    "XU58vXsR1QGR",
    "l-ayOzl7f7QO",
    "ccibLCQNBfa3",
    "UDFSjaoKBkyO",
    "c31-eOVwBylI",
    "2r8-TnZeCPSS",
    "7IsrpHT2W0Q9",
    "XLiL_95LiN6J",
    "LWuogL8_iscD",
    "tpkVkURvsbJS",
    "kSGUhuLUI80F",
    "Po6XPS32JDM1",
    "3rxkvIvpLt0f"
   ],
   "name": "MetadataIntro.ipynb",
   "provenance": [],
   "version": "0.3.2"
  },
  "kernelspec": {
   "display_name": "Python 3",
   "language": "python",
   "name": "python3"
  }
 },
 "nbformat": 4,
 "nbformat_minor": 0
}
