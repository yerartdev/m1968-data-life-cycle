{
 "cells": [
  {
   "cell_type": "markdown",
   "metadata": {},
   "source": [
    "# Distancia de Levenshtein\n",
    "La distancia de Levenshtein, distancia de edición o distancia entre palabras es el número mínimo de operaciones requeridas para transformar una cadena de caracteres en otra que pueden ser de distinta longitud. \n",
    "En eso se diferencia de la distancia de Hamming de la que se la considera una generalizacion.\n",
    "\n",
    "Las operaciones son insercion, borrado y substitucion.\n",
    "Ejemplos:\n",
    "La distancia entre pero y perro es 1, pues solo require una operacion (insercion de la r).\n",
    "La distancia entre silla y y sillon es 2 (sustitucion de a por o e insercion de n).\n",
    "\n",
    "Existen implementaciones para la mayor parte de los lenguajes de programacion, PHP incluso \n",
    "lo trae incorporado (tambien MySQL tienen una funcion para este calculo).\n",
    "\n",
    "En Python existen varias librerias que implementan esta metrica, entre otras:\n",
    "- python-Levenshtein\n",
    "- editdistance\n",
    "- StringDist\n",
    "\n",
    "Tambien se pueden encontrar varios ejemplos de diferentes implementaciones en la web.\n",
    "Pero como practica lo implementaremos. \n",
    "\n",
    "Definimos un metodo lev(a,b) que devuelva la distancia entre dos cadenas de caracteres.\n"
   ]
  },
  {
   "cell_type": "code",
   "execution_count": null,
   "metadata": {},
   "outputs": [],
   "source": [
    "def lev(a, b):\n",
    "    # implementacion\n",
    "    if not a: return len(b)\n",
    "    if not b: return len(a)\n",
    "    return min(lev(a[1:], b[1:])+(a[0] != b[0]), lev(a[1:], b)+1, lev(a, b[1:])+1)\n",
    "    "
   ]
  },
  {
   "cell_type": "code",
   "execution_count": null,
   "metadata": {},
   "outputs": [],
   "source": [
    "data1 = ['Alfredo', 'Rebecca', 'canton', 'peroxido']\n",
    "data2 = ['Alberto','Rebeca','cantaro','peroxido']\n",
    "solution = [4,1,3,0]"
   ]
  },
  {
   "cell_type": "code",
   "execution_count": null,
   "metadata": {},
   "outputs": [],
   "source": [
    "for x in range(4):\n",
    "    print(lev(data1[x],data2[x]))\n",
    "    \n",
    "    "
   ]
  },
  {
   "cell_type": "code",
   "execution_count": null,
   "metadata": {},
   "outputs": [],
   "source": []
  }
 ],
 "metadata": {
  "kernelspec": {
   "display_name": "Python 3",
   "language": "python",
   "name": "python3"
  },
  "language_info": {
   "codemirror_mode": {
    "name": "ipython",
    "version": 3
   },
   "file_extension": ".py",
   "mimetype": "text/x-python",
   "name": "python",
   "nbconvert_exporter": "python",
   "pygments_lexer": "ipython3",
   "version": "3.6.3"
  }
 },
 "nbformat": 4,
 "nbformat_minor": 2
}
