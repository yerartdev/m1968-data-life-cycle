{
 "cells": [
  {
   "cell_type": "markdown",
   "metadata": {
    "colab_type": "text",
    "collapsed": true,
    "id": "8N8N6udKSeVY"
   },
   "source": [
    "# DOI Negotiation\n",
    "\n",
    "## Alumno: Gerardo de Miguel González"
   ]
  },
  {
   "cell_type": "markdown",
   "metadata": {
    "colab_type": "text",
    "id": "Ab6Qryh6h58S"
   },
   "source": [
    "## 0. Bibliotecas Python"
   ]
  },
  {
   "cell_type": "markdown",
   "metadata": {
    "colab_type": "text",
    "id": "ObhrYB1bSeVa"
   },
   "source": [
    "Librerías que usaremos:\n",
    "\n",
    "- requests\n",
    "- json\n",
    "\n",
    "::GMG::**Referencias**\n",
    "\n",
    "- [Requests: HTTP for Humans<sup>TM</sup>](http://docs.python-requests.org/en/master/)\n",
    "- [Python for Beginners: Using the Requests Library in Python](https://www.pythonforbeginners.com/requests/using-requests-in-python)\n",
    "- [StackAbuse: The Python Requests Module](https://stackabuse.com/the-python-requests-module/)\n",
    "- [wsSchools: Python JSON](https://www.w3schools.com/python/python_json.asp)\n",
    "- [Real Python: Working with JSON data in Python](https://realpython.com/python-json/)\n",
    "- [The Hitchhiker's Guide to Python: JSON](https://docs.python-guide.org/scenarios/json/)\n",
    "- [Python Docs: JSON encoder and decoder](https://docs.python.org/3/library/json.html)"
   ]
  },
  {
   "cell_type": "code",
   "execution_count": 0,
   "metadata": {
    "colab": {},
    "colab_type": "code",
    "id": "fECtPrd8SeVc"
   },
   "outputs": [],
   "source": [
    "import requests\n",
    "import json"
   ]
  },
  {
   "cell_type": "markdown",
   "metadata": {
    "colab_type": "text",
    "id": "V5GYRihYh_5x"
   },
   "source": [
    "## 1 Introduction"
   ]
  },
  {
   "cell_type": "markdown",
   "metadata": {
    "colab_type": "text",
    "id": "z1-CYgm3SeVg"
   },
   "source": [
    "DOIs provide a persistent link to content. They identify many types of work, from journal articles to research data sets. Typically, someone interacting with DOIs will be a researcher, who will resolve DOIs found in scholarly references to content using a DOI resolver. Such researchers may not even realise they are using DOIs and a DOI resolver since they may follow links with embedded DOIs.\n",
    "\n",
    "Yet DOIs can provide more than a permanent, indirect link to content. DOI registration agencies such as CrossRef, DataCite and mEDRA collect bibliographic metadata about the works they link to. This metadata can be retrieved from a DOI resolver too, using content negotiation to request a particular representation of the metadata.\n",
    "\n",
    "For some DOIs content negotiation can be used to retrieve different representations of a work. For example, some DataCite DOIs identify data sets that may be available in a number of data formats and container formats.\n",
    "\n",
    "::GMG::**References**\n",
    "\n",
    "- [DOI FAQ](http://www.doi.org/faq.html)\n",
    "- [DOI Registration Agencies](http://www.doi.org/registration_agencies.html) (i.e.[CrossRef](https://www.crossref.org/), [DataCite](https://www.datacite.org/), [mEDRA](https://www.medra.org/))"
   ]
  },
  {
   "cell_type": "markdown",
   "metadata": {
    "colab_type": "text",
    "id": "cY285qYFiLeK"
   },
   "source": [
    "## 2 Redirection"
   ]
  },
  {
   "cell_type": "markdown",
   "metadata": {
    "colab_type": "text",
    "id": "26xKgjnlSeVh"
   },
   "source": [
    "The DOI resolver at doi.org will normally redirect a user to the resource location of a DOI. For example, the DOI \"10.1126/science.169.3946.635\" redirects to a landing page describing the article, \"The Structure of Ordinary Water\". Content negotiated requests to doi.org that ask for a content type which isn't \"text/html\" will be redirected to a metadata service hosted by the DOI's registration agency. CrossRef, DataCite and mEDRA support content negotiated DOIs via https://data.crossref.org, https://data.datacite.org and http://data.medra.org respectively.\n",
    "\n",
    "::GMG::**Referencias**\n",
    "\n",
    "- [DataCite Content Negotiation](https://www.datacite.org/content.html)\n",
    "- [CrossCite DOI Content Negotiation](https://crosscite.org/docs.html)\n",
    "- [mEDRA Content Negotiation](http://data.medra.org/)"
   ]
  },
  {
   "cell_type": "markdown",
   "metadata": {
    "colab_type": "text",
    "id": "GeXnXTjcQhZi"
   },
   "source": [
    "### Ejemplo de petición GET con text/html"
   ]
  },
  {
   "cell_type": "markdown",
   "metadata": {
    "colab_type": "text",
    "id": "zFTR9SRmQd0i"
   },
   "source": [
    "---\n",
    "\n",
    "\n",
    "<div class=\"alert alert-warning\" role=\"alert\" style=\"margin: 10px\">\n",
    "\n",
    "       GET \"Accept: text/html\"\n",
    "https://doi.org/10.1126/science.169.3946.635<br>\n",
    "\n",
    "                   |<br>\n",
    "                   |<br>\n",
    "                   |<br>\n",
    "                   V<br>\n",
    "<br>\n",
    "       Publisher landing page\n",
    "https://www.sciencemag.org/content/169/3946/635\n",
    "</div>\n",
    "\n",
    "Normal browser requests or explicit requests for text/html redirect to the content's landing page.\n",
    "\n",
    "---\n",
    "\n",
    "::GMG::**nota**: he probado con un cliente REST de Firefox [RESTED](https://addons.mozilla.org/en-US/firefox/addon/rested/) a hacer esa petición:\n",
    "\n",
    "[ver captura](https://drive.google.com/file/d/16C75-ZVATCfArkYs59Eg76Vq4JCDnDkS/view?usp=sharing)\n",
    "\n",
    "---"
   ]
  },
  {
   "cell_type": "markdown",
   "metadata": {
    "colab_type": "text",
    "id": "LtSNx2m7Qodc"
   },
   "source": [
    "### Ejemplo con petición GET application/rdf+xml"
   ]
  },
  {
   "cell_type": "markdown",
   "metadata": {
    "colab_type": "text",
    "id": "fKFivEl_JqrQ"
   },
   "source": [
    "\n",
    "\n",
    "<div class=\"alert alert-warning\" role=\"alert\" style=\"margin: 10px\">\n",
    "\n",
    "             GET \"Accept: application/rdf+xml\"\n",
    "https://doi.org/10.1126/science.169.3946.635<br>\n",
    "\n",
    "                   |<br>\n",
    "                   |<br>\n",
    "                   |<br>\n",
    "                   V<br>\n",
    "<br>\n",
    "CrossRef metadata service\n",
    "http://data.crossref.org/10.1126/science.169.3946.635\n",
    "</div>\n",
    "\n",
    "Requests for a data type redirect to a registration agency's metadata service.\n",
    "\n",
    "---\n",
    "\n",
    "::GMG::**nota**: mi prueba con RESTED:\n",
    "\n",
    "[ver captura](https://drive.google.com/open?id=1itIel2TzZFY3WJqIGPpeP9A07WJfKDmZ)\n",
    "\n",
    "---\n"
   ]
  },
  {
   "cell_type": "markdown",
   "metadata": {
    "colab_type": "text",
    "id": "y-n2A-oaOYUC"
   },
   "source": [
    "::GMG::**nota**: este es el documento devuelto:\n",
    "\n",
    "```xml\n",
    "<rdf:RDF\n",
    "    xmlns:rdf=\"http://www.w3.org/1999/02/22-rdf-syntax-ns#\"\n",
    "    xmlns:j.0=\"http://purl.org/dc/terms/\"\n",
    "    xmlns:j.1=\"http://prismstandard.org/namespaces/basic/2.1/\"\n",
    "    xmlns:owl=\"http://www.w3.org/2002/07/owl#\"\n",
    "    xmlns:j.2=\"http://purl.org/ontology/bibo/\"\n",
    "    xmlns:j.3=\"http://xmlns.com/foaf/0.1/\">\n",
    "  <rdf:Description rdf:about=\"http://dx.doi.org/10.1126/science.169.3946.635\">\n",
    "    <j.1:startingPage>635</j.1:startingPage>\n",
    "    <owl:sameAs rdf:resource=\"doi:10.1126/science.169.3946.635\"/>\n",
    "    <owl:sameAs rdf:resource=\"info:doi/10.1126/science.169.3946.635\"/>\n",
    "    <j.0:identifier>10.1126/science.169.3946.635</j.0:identifier>\n",
    "    <j.0:publisher>American Association for the Advancement of Science (AAAS)</j.0:publisher>\n",
    "    <j.0:creator>\n",
    "      <j.3:Person rdf:about=\"http://id.crossref.org/contributor/h-s-frank-3new7r2ulpnaj\">\n",
    "        <j.3:name>H. S. Frank</j.3:name>\n",
    "        <j.3:familyName>Frank</j.3:familyName>\n",
    "        <j.3:givenName>H. S.</j.3:givenName>\n",
    "      </j.3:Person>\n",
    "    </j.0:creator>\n",
    "    <j.1:doi>10.1126/science.169.3946.635</j.1:doi>\n",
    "    <j.2:pageEnd>641</j.2:pageEnd>\n",
    "    <j.2:doi>10.1126/science.169.3946.635</j.2:doi>\n",
    "    <j.2:volume>169</j.2:volume>\n",
    "    <j.0:isPartOf>\n",
    "      <j.2:Journal rdf:about=\"http://id.crossref.org/issn/0036-8075\">\n",
    "        <j.1:issn>1095-9203</j.1:issn>\n",
    "        <j.2:issn>1095-9203</j.2:issn>\n",
    "        <owl:sameAs>urn:issn:1095-9203</owl:sameAs>\n",
    "        <owl:sameAs>urn:issn:0036-8075</owl:sameAs>\n",
    "        <j.0:title>Science</j.0:title>\n",
    "        <j.1:issn>0036-8075</j.1:issn>\n",
    "        <j.2:issn>0036-8075</j.2:issn>\n",
    "      </j.2:Journal>\n",
    "    </j.0:isPartOf>\n",
    "    <j.0:title>The Structure of Ordinary Water: New data and interpretations are yielding new insights into this fascinating substance</j.0:title>\n",
    "    <j.1:endingPage>641</j.1:endingPage>\n",
    "    <j.0:date rdf:datatype=\"http://www.w3.org/2001/XMLSchema#date\"\n",
    "    >1970-08-14</j.0:date>\n",
    "    <j.1:volume>169</j.1:volume>\n",
    "    <j.2:pageStart>635</j.2:pageStart>\n",
    "  </rdf:Description>\n",
    "</rdf:RDF>\n",
    "```"
   ]
  },
  {
   "cell_type": "markdown",
   "metadata": {
    "colab_type": "text",
    "id": "-iCIJTbDQwxL"
   },
   "source": [
    "### ::GMG::Prueba propia con cabecera y [tipo de contenido JSON](https://stackoverflow.com/questions/477816/what-is-the-correct-json-content-type)"
   ]
  },
  {
   "cell_type": "markdown",
   "metadata": {
    "colab_type": "text",
    "id": "iIPTfC02PI7C"
   },
   "source": [
    "\n",
    "[ver captura](https://drive.google.com/open?id=1jap_LIw4a0onW-d1dvaRaVYURDIEpgqN) de RESTED\n",
    "\n",
    "Documento devuelto:\n",
    "\n",
    "```json\n",
    "{\n",
    "  \"indexed\": {\n",
    "    \"date-parts\": [\n",
    "      [\n",
    "        2018,\n",
    "        10,\n",
    "        12\n",
    "      ]\n",
    "    ],\n",
    "    \"date-time\": \"2018-10-12T20:02:40Z\",\n",
    "    \"timestamp\": 1539374560300\n",
    "  },\n",
    "  \"reference-count\": 0,\n",
    "  \"publisher\": \"American Association for the Advancement of Science (AAAS)\",\n",
    "  \"issue\": \"3946\",\n",
    "  \"content-domain\": {\n",
    "    \"domain\": [],\n",
    "    \"crossmark-restriction\": false\n",
    "  },\n",
    "  \"published-print\": {\n",
    "    \"date-parts\": [\n",
    "      [\n",
    "        1970,\n",
    "        8,\n",
    "        14\n",
    "      ]\n",
    "    ]\n",
    "  },\n",
    "  \"DOI\": \"10.1126/science.169.3946.635\",\n",
    "  \"type\": \"article-journal\",\n",
    "  \"created\": {\n",
    "    \"date-parts\": [\n",
    "      [\n",
    "        2006,\n",
    "        10,\n",
    "        5\n",
    "      ]\n",
    "    ],\n",
    "    \"date-time\": \"2006-10-05T12:56:56Z\",\n",
    "    \"timestamp\": 1160053016000\n",
    "  },\n",
    "  \"page\": \"635-641\",\n",
    "  \"source\": \"Crossref\",\n",
    "  \"is-referenced-by-count\": 57,\n",
    "  \"title\": \"The Structure of Ordinary Water: New data and interpretations are yielding new insights into this fascinating substance\",\n",
    "  \"prefix\": \"10.1126\",\n",
    "  \"volume\": \"169\",\n",
    "  \"author\": [\n",
    "    {\n",
    "      \"given\": \"H. S.\",\n",
    "      \"family\": \"Frank\",\n",
    "      \"sequence\": \"first\",\n",
    "      \"affiliation\": []\n",
    "    }\n",
    "  ],\n",
    "  \"member\": \"221\",\n",
    "  \"container-title\": \"Science\",\n",
    "  \"original-title\": [],\n",
    "  \"language\": \"en\",\n",
    "  \"link\": [\n",
    "    {\n",
    "      \"URL\": \"https://syndication.highwire.org/content/doi/10.1126/science.169.3946.635\",\n",
    "      \"content-type\": \"unspecified\",\n",
    "      \"content-version\": \"vor\",\n",
    "      \"intended-application\": \"similarity-checking\"\n",
    "    }\n",
    "  ],\n",
    "  \"deposited\": {\n",
    "    \"date-parts\": [\n",
    "      [\n",
    "        2016,\n",
    "        12,\n",
    "        23\n",
    "      ]\n",
    "    ],\n",
    "    \"date-time\": \"2016-12-23T19:54:07Z\",\n",
    "    \"timestamp\": 1482522847000\n",
    "  },\n",
    "  \"score\": 1,\n",
    "  \"subtitle\": [],\n",
    "  \"short-title\": [],\n",
    "  \"issued\": {\n",
    "    \"date-parts\": [\n",
    "      [\n",
    "        1970,\n",
    "        8,\n",
    "        14\n",
    "      ]\n",
    "    ]\n",
    "  },\n",
    "  \"references-count\": 0,\n",
    "  \"journal-issue\": {\n",
    "    \"published-print\": {\n",
    "      \"date-parts\": [\n",
    "        [\n",
    "          1970,\n",
    "          8,\n",
    "          14\n",
    "        ]\n",
    "      ]\n",
    "    },\n",
    "    \"issue\": \"3946\"\n",
    "  },\n",
    "  \"URL\": \"http://dx.doi.org/10.1126/science.169.3946.635\",\n",
    "  \"relation\": {},\n",
    "  \"ISSN\": [\n",
    "    \"0036-8075\",\n",
    "    \"1095-9203\"\n",
    "  ],\n",
    "  \"container-title-short\": \"Science\"\n",
    "}\n",
    "```"
   ]
  },
  {
   "cell_type": "markdown",
   "metadata": {
    "colab_type": "text",
    "id": "R6JOGFKJiXBI"
   },
   "source": [
    "## 3 What is Content Negotiation?"
   ]
  },
  {
   "cell_type": "markdown",
   "metadata": {
    "colab_type": "text",
    "id": "MUMnVKGSSeVj"
   },
   "source": [
    "Content negotiation allows a user to request a particular representation of a web resource. DOI resolvers use content negotiation to provide different representations of metadata associated with DOIs.\n",
    "\n",
    "A content negotiated request to a DOI resolver is much like a standard HTTP request, except server-driven negotiation will take place based on the list of acceptable content types a client provides."
   ]
  },
  {
   "cell_type": "markdown",
   "metadata": {
    "colab_type": "text",
    "id": "8GOJSNNhSeVk"
   },
   "source": [
    "### The Accept Header\n",
    "\n",
    "Making a content negotiated request requires the use of a HTTP header, \"Accept\". Content types that are acceptable to the client (those that it knows how to parse), each with an optional \"quality\" value indicating its relative suitability. For example, a client that wishes to receive citeproc JSON if it is available, but which can also handle RDF XML if citeproc JSON is unavailable, would make a request with an Accept header listing both \"application/citeproc+json\" and \"application/rdf+xml\":"
   ]
  },
  {
   "cell_type": "code",
   "execution_count": 0,
   "metadata": {
    "colab": {
     "base_uri": "https://localhost:8080/",
     "height": 802
    },
    "colab_type": "code",
    "executionInfo": {
     "elapsed": 5932,
     "status": "ok",
     "timestamp": 1543861151247,
     "user": {
      "displayName": "Gerardo de Miguel",
      "photoUrl": "https://lh3.googleusercontent.com/-LmFLfSn0ThU/AAAAAAAAAAI/AAAAAAAAAkg/xGe-_jxkcZA/s64/photo.jpg",
      "userId": "12735548512534412210"
     },
     "user_tz": -60
    },
    "id": "MKjF6dsuSeVm",
    "outputId": "0755e9b8-1f42-4efc-9d2c-3e5a8c34cf8b"
   },
   "outputs": [
    {
     "name": "stdout",
     "output_type": "stream",
     "text": [
      "200\n",
      "<rdf:RDF\n",
      "    xmlns:rdf=\"http://www.w3.org/1999/02/22-rdf-syntax-ns#\"\n",
      "    xmlns:j.0=\"http://purl.org/dc/terms/\"\n",
      "    xmlns:j.1=\"http://prismstandard.org/namespaces/basic/2.1/\"\n",
      "    xmlns:owl=\"http://www.w3.org/2002/07/owl#\"\n",
      "    xmlns:j.2=\"http://purl.org/ontology/bibo/\"\n",
      "    xmlns:j.3=\"http://xmlns.com/foaf/0.1/\">\n",
      "  <rdf:Description rdf:about=\"http://dx.doi.org/10.1126/science.169.3946.635\">\n",
      "    <j.1:startingPage>635</j.1:startingPage>\n",
      "    <owl:sameAs rdf:resource=\"doi:10.1126/science.169.3946.635\"/>\n",
      "    <owl:sameAs rdf:resource=\"info:doi/10.1126/science.169.3946.635\"/>\n",
      "    <j.0:identifier>10.1126/science.169.3946.635</j.0:identifier>\n",
      "    <j.0:publisher>American Association for the Advancement of Science (AAAS)</j.0:publisher>\n",
      "    <j.0:creator>\n",
      "      <j.3:Person rdf:about=\"http://id.crossref.org/contributor/h-s-frank-3new7r2ulpnaj\">\n",
      "        <j.3:name>H. S. Frank</j.3:name>\n",
      "        <j.3:familyName>Frank</j.3:familyName>\n",
      "        <j.3:givenName>H. S.</j.3:givenName>\n",
      "      </j.3:Person>\n",
      "    </j.0:creator>\n",
      "    <j.1:doi>10.1126/science.169.3946.635</j.1:doi>\n",
      "    <j.2:pageEnd>641</j.2:pageEnd>\n",
      "    <j.2:doi>10.1126/science.169.3946.635</j.2:doi>\n",
      "    <j.2:volume>169</j.2:volume>\n",
      "    <j.0:isPartOf>\n",
      "      <j.2:Journal rdf:about=\"http://id.crossref.org/issn/0036-8075\">\n",
      "        <j.1:issn>1095-9203</j.1:issn>\n",
      "        <j.2:issn>1095-9203</j.2:issn>\n",
      "        <owl:sameAs>urn:issn:1095-9203</owl:sameAs>\n",
      "        <owl:sameAs>urn:issn:0036-8075</owl:sameAs>\n",
      "        <j.0:title>Science</j.0:title>\n",
      "        <j.1:issn>0036-8075</j.1:issn>\n",
      "        <j.2:issn>0036-8075</j.2:issn>\n",
      "      </j.2:Journal>\n",
      "    </j.0:isPartOf>\n",
      "    <j.0:title>The Structure of Ordinary Water: New data and interpretations are yielding new insights into this fascinating substance</j.0:title>\n",
      "    <j.1:endingPage>641</j.1:endingPage>\n",
      "    <j.0:date rdf:datatype=\"http://www.w3.org/2001/XMLSchema#date\"\n",
      "    >1970-08-14</j.0:date>\n",
      "    <j.1:volume>169</j.1:volume>\n",
      "    <j.2:pageStart>635</j.2:pageStart>\n",
      "  </rdf:Description>\n",
      "</rdf:RDF>\n",
      "\n"
     ]
    }
   ],
   "source": [
    "url = \"https://doi.org/10.1126/science.169.3946.635\" #DOI solver URL\n",
    "headers = {'Accept': 'application/rdf+xml;q=0.5'} #Type of response accpeted\n",
    "r = requests.post(url, headers=headers) #POST with headers\n",
    "print(r.status_code)\n",
    "print(r.text)\n"
   ]
  },
  {
   "cell_type": "markdown",
   "metadata": {
    "colab_type": "text",
    "id": "yVWQFgtjS4Yr"
   },
   "source": [
    "::GMG::**nota**: la petición que ho hice en el apartado anteror con RESTED la hice con `GET` en vez de `POST` y me dio el mismo resultado. Y he conprobado que en `Python` es __igual__:"
   ]
  },
  {
   "cell_type": "code",
   "execution_count": 0,
   "metadata": {
    "colab": {
     "base_uri": "https://localhost:8080/",
     "height": 802
    },
    "colab_type": "code",
    "executionInfo": {
     "elapsed": 848,
     "status": "ok",
     "timestamp": 1543861255412,
     "user": {
      "displayName": "Gerardo de Miguel",
      "photoUrl": "https://lh3.googleusercontent.com/-LmFLfSn0ThU/AAAAAAAAAAI/AAAAAAAAAkg/xGe-_jxkcZA/s64/photo.jpg",
      "userId": "12735548512534412210"
     },
     "user_tz": -60
    },
    "id": "9SRLM5yJTR1L",
    "outputId": "d08d6c9f-3f0b-4f8e-d21a-d421bb1a8d94"
   },
   "outputs": [
    {
     "name": "stdout",
     "output_type": "stream",
     "text": [
      "200\n",
      "<rdf:RDF\n",
      "    xmlns:rdf=\"http://www.w3.org/1999/02/22-rdf-syntax-ns#\"\n",
      "    xmlns:j.0=\"http://purl.org/dc/terms/\"\n",
      "    xmlns:j.1=\"http://prismstandard.org/namespaces/basic/2.1/\"\n",
      "    xmlns:owl=\"http://www.w3.org/2002/07/owl#\"\n",
      "    xmlns:j.2=\"http://purl.org/ontology/bibo/\"\n",
      "    xmlns:j.3=\"http://xmlns.com/foaf/0.1/\">\n",
      "  <rdf:Description rdf:about=\"http://dx.doi.org/10.1126/science.169.3946.635\">\n",
      "    <j.1:startingPage>635</j.1:startingPage>\n",
      "    <owl:sameAs rdf:resource=\"doi:10.1126/science.169.3946.635\"/>\n",
      "    <owl:sameAs rdf:resource=\"info:doi/10.1126/science.169.3946.635\"/>\n",
      "    <j.0:identifier>10.1126/science.169.3946.635</j.0:identifier>\n",
      "    <j.0:publisher>American Association for the Advancement of Science (AAAS)</j.0:publisher>\n",
      "    <j.0:creator>\n",
      "      <j.3:Person rdf:about=\"http://id.crossref.org/contributor/h-s-frank-3new7r2ulpnaj\">\n",
      "        <j.3:name>H. S. Frank</j.3:name>\n",
      "        <j.3:familyName>Frank</j.3:familyName>\n",
      "        <j.3:givenName>H. S.</j.3:givenName>\n",
      "      </j.3:Person>\n",
      "    </j.0:creator>\n",
      "    <j.1:doi>10.1126/science.169.3946.635</j.1:doi>\n",
      "    <j.2:pageEnd>641</j.2:pageEnd>\n",
      "    <j.2:doi>10.1126/science.169.3946.635</j.2:doi>\n",
      "    <j.2:volume>169</j.2:volume>\n",
      "    <j.0:isPartOf>\n",
      "      <j.2:Journal rdf:about=\"http://id.crossref.org/issn/0036-8075\">\n",
      "        <j.1:issn>1095-9203</j.1:issn>\n",
      "        <j.2:issn>1095-9203</j.2:issn>\n",
      "        <owl:sameAs>urn:issn:1095-9203</owl:sameAs>\n",
      "        <owl:sameAs>urn:issn:0036-8075</owl:sameAs>\n",
      "        <j.0:title>Science</j.0:title>\n",
      "        <j.1:issn>0036-8075</j.1:issn>\n",
      "        <j.2:issn>0036-8075</j.2:issn>\n",
      "      </j.2:Journal>\n",
      "    </j.0:isPartOf>\n",
      "    <j.0:title>The Structure of Ordinary Water: New data and interpretations are yielding new insights into this fascinating substance</j.0:title>\n",
      "    <j.1:endingPage>641</j.1:endingPage>\n",
      "    <j.0:date rdf:datatype=\"http://www.w3.org/2001/XMLSchema#date\"\n",
      "    >1970-08-14</j.0:date>\n",
      "    <j.1:volume>169</j.1:volume>\n",
      "    <j.2:pageStart>635</j.2:pageStart>\n",
      "  </rdf:Description>\n",
      "</rdf:RDF>\n",
      "\n"
     ]
    }
   ],
   "source": [
    "url = \"https://doi.org/10.1126/science.169.3946.635\" #DOI solver URL\n",
    "headers = {'Accept': 'application/rdf+xml;q=0.5'} #Type of response accpeted\n",
    "r = requests.get(url, headers=headers) #POST with headers\n",
    "print(r.status_code)\n",
    "print(r.text)\n"
   ]
  },
  {
   "cell_type": "markdown",
   "metadata": {
    "colab_type": "text",
    "id": "r3JpdZEnV04s"
   },
   "source": [
    "### Ejemplo JSON"
   ]
  },
  {
   "cell_type": "markdown",
   "metadata": {
    "colab_type": "text",
    "id": "ERbIjaNFSeVp"
   },
   "source": [
    " When exchanging data between a browser and a server, the data can only be text.\n",
    "\n",
    "JSON is text, and we can convert any JavaScript object into JSON, and send JSON to the server.\n",
    "\n",
    "We can also convert any JSON received from the server into JavaScript objects.\n",
    "\n",
    "This way we can work with the data as JavaScript objects, with no complicated parsing and translations.\n",
    "\n",
    "Different python libraries are oriented to manage JSON objects or files, and the information can be parsed easily. From the previous request, we can get the answer in JSON format and store it in a variable:"
   ]
  },
  {
   "cell_type": "code",
   "execution_count": 0,
   "metadata": {
    "colab": {
     "base_uri": "https://localhost:8080/",
     "height": 34
    },
    "colab_type": "code",
    "executionInfo": {
     "elapsed": 1152,
     "status": "ok",
     "timestamp": 1543862339982,
     "user": {
      "displayName": "Gerardo de Miguel",
      "photoUrl": "https://lh3.googleusercontent.com/-LmFLfSn0ThU/AAAAAAAAAAI/AAAAAAAAAkg/xGe-_jxkcZA/s64/photo.jpg",
      "userId": "12735548512534412210"
     },
     "user_tz": -60
    },
    "id": "nz70AHxySeVq",
    "outputId": "b2023348-3c56-4eaa-d0ec-9e5885f03126"
   },
   "outputs": [
    {
     "name": "stdout",
     "output_type": "stream",
     "text": [
      "Status code: 200\n"
     ]
    }
   ],
   "source": [
    "url = \"https://doi.org/10.1126/science.169.3946.635\" #DOI solver URL\n",
    "headers = {'Accept': 'application/vnd.citationstyles.csl+json;q=1.0'} #Type of response accpeted\n",
    "r = requests.post(url, headers=headers) #POST with headers\n",
    "print(\"Status code: %s\" % r.status_code) #200 means that the resource exists"
   ]
  },
  {
   "cell_type": "markdown",
   "metadata": {
    "colab_type": "text",
    "id": "WE3DrZb0UKQE"
   },
   "source": [
    "::GMG::**nota**: en mi petición con RESTED utilicé un `content type` más simple que el que se acaba de poner, i.e. `application/json`.  Podemos comparar respuestas ([1](https://stackoverflow.com/questions/16877422/whats-the-best-way-to-parse-a-json-response-from-the-requests-library),[2](https://stackoverflow.com/questions/23718896/pretty-print-json-in-python-pythonic-way))..."
   ]
  },
  {
   "cell_type": "code",
   "execution_count": 0,
   "metadata": {
    "colab": {
     "base_uri": "https://localhost:8080/",
     "height": 1924
    },
    "colab_type": "code",
    "executionInfo": {
     "elapsed": 558,
     "status": "ok",
     "timestamp": 1543862343267,
     "user": {
      "displayName": "Gerardo de Miguel",
      "photoUrl": "https://lh3.googleusercontent.com/-LmFLfSn0ThU/AAAAAAAAAAI/AAAAAAAAAkg/xGe-_jxkcZA/s64/photo.jpg",
      "userId": "12735548512534412210"
     },
     "user_tz": -60
    },
    "id": "7Z0Xg40kT0Vb",
    "outputId": "193a6c79-1ab1-454a-c8d2-a9b4b7a934dc"
   },
   "outputs": [
    {
     "name": "stdout",
     "output_type": "stream",
     "text": [
      "{\n",
      "  \"indexed\": {\n",
      "    \"date-parts\": [\n",
      "      [\n",
      "        2018,\n",
      "        10,\n",
      "        12\n",
      "      ]\n",
      "    ],\n",
      "    \"date-time\": \"2018-10-12T20:02:40Z\",\n",
      "    \"timestamp\": 1539374560300\n",
      "  },\n",
      "  \"reference-count\": 0,\n",
      "  \"publisher\": \"American Association for the Advancement of Science (AAAS)\",\n",
      "  \"issue\": \"3946\",\n",
      "  \"content-domain\": {\n",
      "    \"domain\": [],\n",
      "    \"crossmark-restriction\": false\n",
      "  },\n",
      "  \"published-print\": {\n",
      "    \"date-parts\": [\n",
      "      [\n",
      "        1970,\n",
      "        8,\n",
      "        14\n",
      "      ]\n",
      "    ]\n",
      "  },\n",
      "  \"DOI\": \"10.1126/science.169.3946.635\",\n",
      "  \"type\": \"article-journal\",\n",
      "  \"created\": {\n",
      "    \"date-parts\": [\n",
      "      [\n",
      "        2006,\n",
      "        10,\n",
      "        5\n",
      "      ]\n",
      "    ],\n",
      "    \"date-time\": \"2006-10-05T12:56:56Z\",\n",
      "    \"timestamp\": 1160053016000\n",
      "  },\n",
      "  \"page\": \"635-641\",\n",
      "  \"source\": \"Crossref\",\n",
      "  \"is-referenced-by-count\": 57,\n",
      "  \"title\": \"The Structure of Ordinary Water: New data and interpretations are yielding new insights into this fascinating substance\",\n",
      "  \"prefix\": \"10.1126\",\n",
      "  \"volume\": \"169\",\n",
      "  \"author\": [\n",
      "    {\n",
      "      \"given\": \"H. S.\",\n",
      "      \"family\": \"Frank\",\n",
      "      \"sequence\": \"first\",\n",
      "      \"affiliation\": []\n",
      "    }\n",
      "  ],\n",
      "  \"member\": \"221\",\n",
      "  \"container-title\": \"Science\",\n",
      "  \"original-title\": [],\n",
      "  \"language\": \"en\",\n",
      "  \"link\": [\n",
      "    {\n",
      "      \"URL\": \"https://syndication.highwire.org/content/doi/10.1126/science.169.3946.635\",\n",
      "      \"content-type\": \"unspecified\",\n",
      "      \"content-version\": \"vor\",\n",
      "      \"intended-application\": \"similarity-checking\"\n",
      "    }\n",
      "  ],\n",
      "  \"deposited\": {\n",
      "    \"date-parts\": [\n",
      "      [\n",
      "        2016,\n",
      "        12,\n",
      "        23\n",
      "      ]\n",
      "    ],\n",
      "    \"date-time\": \"2016-12-23T19:54:07Z\",\n",
      "    \"timestamp\": 1482522847000\n",
      "  },\n",
      "  \"score\": 1.0,\n",
      "  \"subtitle\": [],\n",
      "  \"short-title\": [],\n",
      "  \"issued\": {\n",
      "    \"date-parts\": [\n",
      "      [\n",
      "        1970,\n",
      "        8,\n",
      "        14\n",
      "      ]\n",
      "    ]\n",
      "  },\n",
      "  \"references-count\": 0,\n",
      "  \"journal-issue\": {\n",
      "    \"published-print\": {\n",
      "      \"date-parts\": [\n",
      "        [\n",
      "          1970,\n",
      "          8,\n",
      "          14\n",
      "        ]\n",
      "      ]\n",
      "    },\n",
      "    \"issue\": \"3946\"\n",
      "  },\n",
      "  \"URL\": \"http://dx.doi.org/10.1126/science.169.3946.635\",\n",
      "  \"relation\": {},\n",
      "  \"ISSN\": [\n",
      "    \"0036-8075\",\n",
      "    \"1095-9203\"\n",
      "  ],\n",
      "  \"container-title-short\": \"Science\"\n",
      "}\n"
     ]
    }
   ],
   "source": [
    "json_data = json.loads(r.text)\n",
    "print(json.dumps(json_data, indent=2))"
   ]
  },
  {
   "cell_type": "markdown",
   "metadata": {
    "colab_type": "text",
    "id": "npRsYaBEZwa1"
   },
   "source": [
    "### Response Codes"
   ]
  },
  {
   "cell_type": "markdown",
   "metadata": {
    "colab_type": "text",
    "id": "5jcDZx8uSeVt"
   },
   "source": [
    "Code\tMeaning<br>\n",
    "200\tThe request was OK.<br>\n",
    "204\tThe request was OK but there was no metadata available.<br>\n",
    "404\tThe DOI requested doesn't exist.<br>\n",
    "406\tCan't serve any requested content type.<br>\n",
    "\n",
    "Individual metadata services may utilise additional response codes but they will always use the response codes above in event of the case described.\n",
    "\n",
    "If multiple content types specified by the client are supported by a DOI then the content type with the highest \"q\" value (or, if no \"q\" values are specified, the one that appears first in the \"accept\" header) will be returned.\n",
    "\n"
   ]
  },
  {
   "cell_type": "markdown",
   "metadata": {
    "colab_type": "text",
    "id": "JS8QOU3kSeVu"
   },
   "source": [
    "After ask for a json response, if we get a 200, we can transform that received text into JSON"
   ]
  },
  {
   "cell_type": "code",
   "execution_count": 0,
   "metadata": {
    "colab": {
     "base_uri": "https://localhost:8080/",
     "height": 54
    },
    "colab_type": "code",
    "executionInfo": {
     "elapsed": 608,
     "status": "ok",
     "timestamp": 1543862490790,
     "user": {
      "displayName": "Gerardo de Miguel",
      "photoUrl": "https://lh3.googleusercontent.com/-LmFLfSn0ThU/AAAAAAAAAAI/AAAAAAAAAkg/xGe-_jxkcZA/s64/photo.jpg",
      "userId": "12735548512534412210"
     },
     "user_tz": -60
    },
    "id": "9pODILmdSeVw",
    "outputId": "5d02ebbf-b11f-4cc5-a66f-a4d609dba72a"
   },
   "outputs": [
    {
     "name": "stdout",
     "output_type": "stream",
     "text": [
      "{'indexed': {'date-parts': [[2018, 10, 12]], 'date-time': '2018-10-12T20:02:40Z', 'timestamp': 1539374560300}, 'reference-count': 0, 'publisher': 'American Association for the Advancement of Science (AAAS)', 'issue': '3946', 'content-domain': {'domain': [], 'crossmark-restriction': False}, 'published-print': {'date-parts': [[1970, 8, 14]]}, 'DOI': '10.1126/science.169.3946.635', 'type': 'article-journal', 'created': {'date-parts': [[2006, 10, 5]], 'date-time': '2006-10-05T12:56:56Z', 'timestamp': 1160053016000}, 'page': '635-641', 'source': 'Crossref', 'is-referenced-by-count': 57, 'title': 'The Structure of Ordinary Water: New data and interpretations are yielding new insights into this fascinating substance', 'prefix': '10.1126', 'volume': '169', 'author': [{'given': 'H. S.', 'family': 'Frank', 'sequence': 'first', 'affiliation': []}], 'member': '221', 'container-title': 'Science', 'original-title': [], 'language': 'en', 'link': [{'URL': 'https://syndication.highwire.org/content/doi/10.1126/science.169.3946.635', 'content-type': 'unspecified', 'content-version': 'vor', 'intended-application': 'similarity-checking'}], 'deposited': {'date-parts': [[2016, 12, 23]], 'date-time': '2016-12-23T19:54:07Z', 'timestamp': 1482522847000}, 'score': 1.0, 'subtitle': [], 'short-title': [], 'issued': {'date-parts': [[1970, 8, 14]]}, 'references-count': 0, 'journal-issue': {'published-print': {'date-parts': [[1970, 8, 14]]}, 'issue': '3946'}, 'URL': 'http://dx.doi.org/10.1126/science.169.3946.635', 'relation': {}, 'ISSN': ['0036-8075', '1095-9203'], 'container-title-short': 'Science'}\n"
     ]
    }
   ],
   "source": [
    "data = json.loads(r.text) #Data is now a json object\n",
    "print(data)"
   ]
  },
  {
   "cell_type": "code",
   "execution_count": 0,
   "metadata": {
    "colab": {
     "base_uri": "https://localhost:8080/",
     "height": 34
    },
    "colab_type": "code",
    "executionInfo": {
     "elapsed": 707,
     "status": "ok",
     "timestamp": 1543862702736,
     "user": {
      "displayName": "Gerardo de Miguel",
      "photoUrl": "https://lh3.googleusercontent.com/-LmFLfSn0ThU/AAAAAAAAAAI/AAAAAAAAAkg/xGe-_jxkcZA/s64/photo.jpg",
      "userId": "12735548512534412210"
     },
     "user_tz": -60
    },
    "id": "uoKbt6GNYzeW",
    "outputId": "71ed5358-6367-4551-b0ca-ac5ff69a1d39"
   },
   "outputs": [
    {
     "data": {
      "text/plain": [
       "dict"
      ]
     },
     "execution_count": 9,
     "metadata": {
      "tags": []
     },
     "output_type": "execute_result"
    }
   ],
   "source": [
    "#::GMG::Es un diccionario lo que hemos obtenido al convertir el texto json\n",
    "#       a un objeto Python\n",
    "type(data)"
   ]
  },
  {
   "cell_type": "code",
   "execution_count": 0,
   "metadata": {
    "colab": {
     "base_uri": "https://localhost:8080/",
     "height": 799
    },
    "colab_type": "code",
    "executionInfo": {
     "elapsed": 684,
     "status": "ok",
     "timestamp": 1543862606977,
     "user": {
      "displayName": "Gerardo de Miguel",
      "photoUrl": "https://lh3.googleusercontent.com/-LmFLfSn0ThU/AAAAAAAAAAI/AAAAAAAAAkg/xGe-_jxkcZA/s64/photo.jpg",
      "userId": "12735548512534412210"
     },
     "user_tz": -60
    },
    "id": "ZC1VE1QyYHRM",
    "outputId": "364de67f-f505-41de-d298-c60a47e2b697"
   },
   "outputs": [
    {
     "name": "stdout",
     "output_type": "stream",
     "text": [
      "{'DOI': '10.1126/science.169.3946.635',\n",
      " 'ISSN': ['0036-8075', '1095-9203'],\n",
      " 'URL': 'http://dx.doi.org/10.1126/science.169.3946.635',\n",
      " 'author': [{'affiliation': [],\n",
      "             'family': 'Frank',\n",
      "             'given': 'H. S.',\n",
      "             'sequence': 'first'}],\n",
      " 'container-title': 'Science',\n",
      " 'container-title-short': 'Science',\n",
      " 'content-domain': {'crossmark-restriction': False, 'domain': []},\n",
      " 'created': {'date-parts': [[2006, 10, 5]],\n",
      "             'date-time': '2006-10-05T12:56:56Z',\n",
      "             'timestamp': 1160053016000},\n",
      " 'deposited': {'date-parts': [[2016, 12, 23]],\n",
      "               'date-time': '2016-12-23T19:54:07Z',\n",
      "               'timestamp': 1482522847000},\n",
      " 'indexed': {'date-parts': [[2018, 10, 12]],\n",
      "             'date-time': '2018-10-12T20:02:40Z',\n",
      "             'timestamp': 1539374560300},\n",
      " 'is-referenced-by-count': 57,\n",
      " 'issue': '3946',\n",
      " 'issued': {'date-parts': [[1970, 8, 14]]},\n",
      " 'journal-issue': {'issue': '3946',\n",
      "                   'published-print': {'date-parts': [[1970, 8, 14]]}},\n",
      " 'language': 'en',\n",
      " 'link': [{'URL': 'https://syndication.highwire.org/content/doi/10.1126/science.169.3946.635',\n",
      "           'content-type': 'unspecified',\n",
      "           'content-version': 'vor',\n",
      "           'intended-application': 'similarity-checking'}],\n",
      " 'member': '221',\n",
      " 'original-title': [],\n",
      " 'page': '635-641',\n",
      " 'prefix': '10.1126',\n",
      " 'published-print': {'date-parts': [[1970, 8, 14]]},\n",
      " 'publisher': 'American Association for the Advancement of Science (AAAS)',\n",
      " 'reference-count': 0,\n",
      " 'references-count': 0,\n",
      " 'relation': {},\n",
      " 'score': 1.0,\n",
      " 'short-title': [],\n",
      " 'source': 'Crossref',\n",
      " 'subtitle': [],\n",
      " 'title': 'The Structure of Ordinary Water: New data and interpretations are '\n",
      "          'yielding new insights into this fascinating substance',\n",
      " 'type': 'article-journal',\n",
      " 'volume': '169'}\n"
     ]
    }
   ],
   "source": [
    "#::GMG::Se puede mejorar un poco la presentación ...\n",
    "# https://stackoverflow.com/questions/23718896/pretty-print-json-in-python-pythonic-way\n",
    "from pprint import pprint\n",
    "pprint(data)"
   ]
  },
  {
   "cell_type": "markdown",
   "metadata": {
    "colab_type": "text",
    "id": "Ti45PC0gSeVz"
   },
   "source": [
    "In order to know the different elements in the JSON, we can run a loop:"
   ]
  },
  {
   "cell_type": "code",
   "execution_count": 0,
   "metadata": {
    "colab": {
     "base_uri": "https://localhost:8080/",
     "height": 561
    },
    "colab_type": "code",
    "executionInfo": {
     "elapsed": 646,
     "status": "ok",
     "timestamp": 1543862655347,
     "user": {
      "displayName": "Gerardo de Miguel",
      "photoUrl": "https://lh3.googleusercontent.com/-LmFLfSn0ThU/AAAAAAAAAAI/AAAAAAAAAkg/xGe-_jxkcZA/s64/photo.jpg",
      "userId": "12735548512534412210"
     },
     "user_tz": -60
    },
    "id": "5hf_IPjfSeV1",
    "outputId": "f24d36b9-d141-4f1f-b96d-fa461b67e9d8"
   },
   "outputs": [
    {
     "name": "stdout",
     "output_type": "stream",
     "text": [
      "indexed\n",
      "reference-count\n",
      "publisher\n",
      "issue\n",
      "content-domain\n",
      "published-print\n",
      "DOI\n",
      "type\n",
      "created\n",
      "page\n",
      "source\n",
      "is-referenced-by-count\n",
      "title\n",
      "prefix\n",
      "volume\n",
      "author\n",
      "member\n",
      "container-title\n",
      "original-title\n",
      "language\n",
      "link\n",
      "deposited\n",
      "score\n",
      "subtitle\n",
      "short-title\n",
      "issued\n",
      "references-count\n",
      "journal-issue\n",
      "URL\n",
      "relation\n",
      "ISSN\n",
      "container-title-short\n"
     ]
    }
   ],
   "source": [
    "for elem in data:\n",
    "    print(elem)"
   ]
  },
  {
   "cell_type": "markdown",
   "metadata": {
    "colab_type": "text",
    "id": "V2aIquZCSeV4"
   },
   "source": [
    "For getting the value, it works like \"dictionary\" in python (Key-Value)"
   ]
  },
  {
   "cell_type": "code",
   "execution_count": 0,
   "metadata": {
    "colab": {
     "base_uri": "https://localhost:8080/",
     "height": 34
    },
    "colab_type": "code",
    "executionInfo": {
     "elapsed": 562,
     "status": "ok",
     "timestamp": 1543862893447,
     "user": {
      "displayName": "Gerardo de Miguel",
      "photoUrl": "https://lh3.googleusercontent.com/-LmFLfSn0ThU/AAAAAAAAAAI/AAAAAAAAAkg/xGe-_jxkcZA/s64/photo.jpg",
      "userId": "12735548512534412210"
     },
     "user_tz": -60
    },
    "id": "JZm6_U6ESeV6",
    "outputId": "e8a162a6-5a90-496a-8df9-1fed885aed42"
   },
   "outputs": [
    {
     "data": {
      "text/plain": [
       "'http://dx.doi.org/10.1126/science.169.3946.635'"
      ]
     },
     "execution_count": 11,
     "metadata": {
      "tags": []
     },
     "output_type": "execute_result"
    }
   ],
   "source": [
    "data['URL']"
   ]
  },
  {
   "cell_type": "markdown",
   "metadata": {
    "colab_type": "text",
    "id": "gh4ay_tkSeV-"
   },
   "source": [
    "You can also print both keys and values to know the JSON structure\n",
    "\n",
    "::GMG::**nota**: por que _es_ un `dict` :)"
   ]
  },
  {
   "cell_type": "code",
   "execution_count": 0,
   "metadata": {
    "colab": {
     "base_uri": "https://localhost:8080/",
     "height": 581
    },
    "colab_type": "code",
    "executionInfo": {
     "elapsed": 579,
     "status": "ok",
     "timestamp": 1543862863120,
     "user": {
      "displayName": "Gerardo de Miguel",
      "photoUrl": "https://lh3.googleusercontent.com/-LmFLfSn0ThU/AAAAAAAAAAI/AAAAAAAAAkg/xGe-_jxkcZA/s64/photo.jpg",
      "userId": "12735548512534412210"
     },
     "user_tz": -60
    },
    "id": "i-bFbs-ySeWA",
    "outputId": "736e0c10-38b0-430b-8980-bff541c502a3"
   },
   "outputs": [
    {
     "name": "stdout",
     "output_type": "stream",
     "text": [
      "indexed : {'date-parts': [[2018, 10, 12]], 'date-time': '2018-10-12T20:02:40Z', 'timestamp': 1539374560300}\n",
      "reference-count : 0\n",
      "publisher : American Association for the Advancement of Science (AAAS)\n",
      "issue : 3946\n",
      "content-domain : {'domain': [], 'crossmark-restriction': False}\n",
      "published-print : {'date-parts': [[1970, 8, 14]]}\n",
      "DOI : 10.1126/science.169.3946.635\n",
      "type : article-journal\n",
      "created : {'date-parts': [[2006, 10, 5]], 'date-time': '2006-10-05T12:56:56Z', 'timestamp': 1160053016000}\n",
      "page : 635-641\n",
      "source : Crossref\n",
      "is-referenced-by-count : 57\n",
      "title : The Structure of Ordinary Water: New data and interpretations are yielding new insights into this fascinating substance\n",
      "prefix : 10.1126\n",
      "volume : 169\n",
      "author : [{'given': 'H. S.', 'family': 'Frank', 'sequence': 'first', 'affiliation': []}]\n",
      "member : 221\n",
      "container-title : Science\n",
      "original-title : []\n",
      "language : en\n",
      "link : [{'URL': 'https://syndication.highwire.org/content/doi/10.1126/science.169.3946.635', 'content-type': 'unspecified', 'content-version': 'vor', 'intended-application': 'similarity-checking'}]\n",
      "deposited : {'date-parts': [[2016, 12, 23]], 'date-time': '2016-12-23T19:54:07Z', 'timestamp': 1482522847000}\n",
      "score : 1.0\n",
      "subtitle : []\n",
      "short-title : []\n",
      "issued : {'date-parts': [[1970, 8, 14]]}\n",
      "references-count : 0\n",
      "journal-issue : {'published-print': {'date-parts': [[1970, 8, 14]]}, 'issue': '3946'}\n",
      "URL : http://dx.doi.org/10.1126/science.169.3946.635\n",
      "relation : {}\n",
      "ISSN : ['0036-8075', '1095-9203']\n",
      "container-title-short : Science\n"
     ]
    }
   ],
   "source": [
    "for elem in data:\n",
    "    print(elem,\":\", data[elem])"
   ]
  },
  {
   "cell_type": "markdown",
   "metadata": {
    "colab_type": "text",
    "id": "wJM3D76ckTVz"
   },
   "source": [
    "## 4 Formatted Citations"
   ]
  },
  {
   "cell_type": "markdown",
   "metadata": {
    "colab_type": "text",
    "id": "HZ3ruQyESeWD"
   },
   "source": [
    "[CrossRef](https://www.crossref.org/), [DataCite](https://www.datacite.org/) and [mEDRA](https://www.medra.org/) support *formatted citations* via the `text/x-bibliography` content type. \n",
    "\n",
    "::GMG::**nota**: ver por ejemplo [en Crossref](https://www.crossref.org/labs/citation-formatting-service/)\n",
    "\n",
    "These are the output of the [Citation Style Language](https://citationstyles.org/2010/03/22/citation-style-language-1-0/) ([developers](https://citationstyles.org/developers/)) processor, **`citeproc-js`** (see [documentation](https://citeproc-js.readthedocs.io/en/latest/)). \n",
    "\n",
    "The content type can take two additional parameters to customise its response format. A \"style\" can be chosen from the list of style names found in the *CSL style repository* ([?](https://www.zotero.org/styles), [?](https://csl.mendeley.com/about/)). Many styles are supported, including common styles such as [apa](https://www.mendeley.com/guides/apa-citation-guide) and [harvard](https://www.mendeley.com/guides/harvard-citation-guide):"
   ]
  },
  {
   "cell_type": "code",
   "execution_count": 0,
   "metadata": {
    "colab": {
     "base_uri": "https://localhost:8080/",
     "height": 88
    },
    "colab_type": "code",
    "executionInfo": {
     "elapsed": 944,
     "status": "ok",
     "timestamp": 1543863947479,
     "user": {
      "displayName": "Gerardo de Miguel",
      "photoUrl": "https://lh3.googleusercontent.com/-LmFLfSn0ThU/AAAAAAAAAAI/AAAAAAAAAkg/xGe-_jxkcZA/s64/photo.jpg",
      "userId": "12735548512534412210"
     },
     "user_tz": -60
    },
    "id": "AeEzAk41SeWE",
    "outputId": "1f40c410-524e-48ef-b7ab-c3c07b9186fc"
   },
   "outputs": [
    {
     "name": "stdout",
     "output_type": "stream",
     "text": [
      "200\n",
      " @article{Frank_1970, title={The Structure of Ordinary Water: New data and interpretations are yielding new insights into this fascinating substance}, volume={169}, ISSN={1095-9203}, url={http://dx.doi.org/10.1126/science.169.3946.635}, DOI={10.1126/science.169.3946.635}, number={3946}, journal={Science}, publisher={American Association for the Advancement of Science (AAAS)}, author={Frank, H. S.}, year={1970}, month={Aug}, pages={635â641}}\n",
      "\n"
     ]
    }
   ],
   "source": [
    "url = \"https://doi.org/10.1126/science.169.3946.635\" #DOI solver URL\n",
    "headers = {'Accept': 'text/x-bibliography; style=bibtex'} #Type of response accpeted\n",
    "r = requests.post(url, headers=headers) #POST with headers\n",
    "print(r.status_code)\n",
    "print(r.text)"
   ]
  },
  {
   "cell_type": "markdown",
   "metadata": {
    "colab_type": "text",
    "id": "le66r9qVdTve"
   },
   "source": [
    "::GMG::**nota**: en el código anterior se usa [Bibtex](http://www.bibtex.org/Using/). La parte de *pages* no se visualiza bien en la celda de Jupyter ... ¿tal vez sean [special symbols](http://www.bibtex.org/SpecialSymbols/)?"
   ]
  },
  {
   "cell_type": "markdown",
   "metadata": {
    "colab_type": "text",
    "id": "Zj-bH3VVHsrm"
   },
   "source": [
    "### Ejemplo Zenodo (DOI)"
   ]
  },
  {
   "cell_type": "markdown",
   "metadata": {
    "colab_type": "text",
    "id": "eNUQiipISeWH"
   },
   "source": [
    "Let's try with a DOI at Zenodo"
   ]
  },
  {
   "cell_type": "markdown",
   "metadata": {
    "colab_type": "text",
    "id": "80e7amywfxVO"
   },
   "source": [
    "::GMG::**nota**: no entiendo muy bien el `content type` que se pone ...\n",
    "\n"
   ]
  },
  {
   "cell_type": "code",
   "execution_count": 0,
   "metadata": {
    "colab": {
     "base_uri": "https://localhost:8080/",
     "height": 956
    },
    "colab_type": "code",
    "executionInfo": {
     "elapsed": 1494,
     "status": "ok",
     "timestamp": 1543908599717,
     "user": {
      "displayName": "Gerardo de Miguel",
      "photoUrl": "https://lh3.googleusercontent.com/-LmFLfSn0ThU/AAAAAAAAAAI/AAAAAAAAAkg/xGe-_jxkcZA/s64/photo.jpg",
      "userId": "12735548512534412210"
     },
     "user_tz": -60
    },
    "id": "bsZxevAQSeWI",
    "outputId": "a21cdb0a-880b-4f9a-c7ed-edb366d967e9"
   },
   "outputs": [
    {
     "name": "stdout",
     "output_type": "stream",
     "text": [
      "200\n",
      "{\n",
      "  \"type\": \"dataset\",\n",
      "  \"id\": \"https://doi.org/10.5281/zenodo.842715\",\n",
      "  \"categories\": [\n",
      "    \"Cuerda del Pozo\",\n",
      "    \"Reservoir\",\n",
      "    \"Freshwater\",\n",
      "    \"Water Quality\",\n",
      "    \"AMT\",\n",
      "    \"beginDate:'2010-01-01'\",\n",
      "    \"endDate:'2010-12-31'\",\n",
      "    \"location:'CdP'\",\n",
      "    \"attributeLabel:'Temp'\",\n",
      "    \"attributeLabel:'Press'\",\n",
      "    \"attributeLabel:'Cond'\",\n",
      "    \"attributeLabel:'Salinity'\",\n",
      "    \"attributeLabel:'DO'\",\n",
      "    \"attributeLabel:'rawO2'\",\n",
      "    \"attributeLabel:'OxySat'\",\n",
      "    \"attributeLabel:'ph'\",\n",
      "    \"attributeLabel:'redox'\",\n",
      "    \"gnd:2010-01-01\"\n",
      "  ],\n",
      "  \"author\": [\n",
      "    {\n",
      "      \"family\": \"Aguilar\",\n",
      "      \"given\": \"Fernando\"\n",
      "    },\n",
      "    {\n",
      "      \"family\": \"Marco\",\n",
      "      \"given\": \"Jesús\"\n",
      "    },\n",
      "    {\n",
      "      \"family\": \"Monteoliva\",\n",
      "      \"given\": \"Agustín\"\n",
      "    }\n",
      "  ],\n",
      "  \"issued\": {\n",
      "    \"date-parts\": [\n",
      "      [\n",
      "        2017,\n",
      "        8,\n",
      "        14\n",
      "      ]\n",
      "    ]\n",
      "  },\n",
      "  \"abstract\": \"AMT data from Cuerda del Pozo Reservoir in 2010. It includes: Temperature, Pressure, Conductivity, Dissolved Oxygen, raw O2, Oxygen saturation, ph and redex values.\",\n",
      "  \"DOI\": \"10.5281/zenodo.842715\",\n",
      "  \"publisher\": \"Zenodo\",\n",
      "  \"title\": \"Amt Cuerda Del Pozo 2010\",\n",
      "  \"URL\": \"https://zenodo.org/record/842715\"\n",
      "}\n"
     ]
    }
   ],
   "source": [
    "url = \"https://doi.org/10.5281/zenodo.842715\" #DOI solver URL\n",
    "headers = {'Accept': 'application/vnd.citationstyles.csl+json;q=1.0'} #Type of response accpeted\n",
    "r = requests.post(url, headers=headers) #POST with headers\n",
    "print(r.status_code)\n",
    "print(r.text)"
   ]
  },
  {
   "cell_type": "markdown",
   "metadata": {
    "colab_type": "text",
    "id": "rAFNgVLNfv0_"
   },
   "source": [
    "::GMG::**nota**:  Estas son las cabeceras de la *respuesta* del servidor según me aparecen en RESTED:\n",
    "\n",
    "```txt\n",
    "date: Mon, 03 Dec 2018 19:14:43 GMT\n",
    "content-type: application/vnd.citationstyles.csl+json; charset=utf-8\n",
    "status: 200 OK\n",
    "cache-control: max-age=0, private, must-revalidate\n",
    "access-control-allow-origin: *\n",
    "vary: Accept-Encoding, Origin\n",
    "content-encoding: gzip\n",
    "access-control-max-age: 1728000\n",
    "x-request-id: 17d30ca8-fcbe-456c-ab60-be529d35e925\n",
    "accept: application/vnd.citationstyles.csl+json\n",
    "access-control-allow-methods: GET, POST, PUT, PATCH, DELETE, OPTIONS, HEAD\n",
    "etag: W/\"c24cdef43f0fadbd8cd938d70b1caa6c\"\n",
    "x-runtime: 0.103430\n",
    "x-powered-by: Phusion Passenger 5.3.7\n",
    "server: nginx/1.14.0 + Phusion Passenger 5.3.7\n",
    "X-Firefox-Spdy: h2\n",
    "```"
   ]
  },
  {
   "cell_type": "markdown",
   "metadata": {
    "colab_type": "text",
    "id": "iCfi_hFjSeWL"
   },
   "source": [
    "## ::GMG::Exercise 1\n",
    "\n",
    "Show title and description."
   ]
  },
  {
   "cell_type": "code",
   "execution_count": 0,
   "metadata": {
    "colab": {
     "base_uri": "https://localhost:8080/",
     "height": 991
    },
    "colab_type": "code",
    "executionInfo": {
     "elapsed": 626,
     "status": "ok",
     "timestamp": 1543909435425,
     "user": {
      "displayName": "Gerardo de Miguel",
      "photoUrl": "https://lh3.googleusercontent.com/-LmFLfSn0ThU/AAAAAAAAAAI/AAAAAAAAAkg/xGe-_jxkcZA/s64/photo.jpg",
      "userId": "12735548512534412210"
     },
     "user_tz": -60
    },
    "id": "hRoCwFBlSeWM",
    "outputId": "7a789395-fea1-4642-bc8d-bf3ac5d29b3c"
   },
   "outputs": [
    {
     "name": "stdout",
     "output_type": "stream",
     "text": [
      "Type: <class 'dict'>\n",
      "\n",
      "Metadata: \n",
      "{\n",
      "  \"type\": \"dataset\",\n",
      "  \"id\": \"https://doi.org/10.5281/zenodo.842715\",\n",
      "  \"categories\": [\n",
      "    \"Cuerda del Pozo\",\n",
      "    \"Reservoir\",\n",
      "    \"Freshwater\",\n",
      "    \"Water Quality\",\n",
      "    \"AMT\",\n",
      "    \"beginDate:'2010-01-01'\",\n",
      "    \"endDate:'2010-12-31'\",\n",
      "    \"location:'CdP'\",\n",
      "    \"attributeLabel:'Temp'\",\n",
      "    \"attributeLabel:'Press'\",\n",
      "    \"attributeLabel:'Cond'\",\n",
      "    \"attributeLabel:'Salinity'\",\n",
      "    \"attributeLabel:'DO'\",\n",
      "    \"attributeLabel:'rawO2'\",\n",
      "    \"attributeLabel:'OxySat'\",\n",
      "    \"attributeLabel:'ph'\",\n",
      "    \"attributeLabel:'redox'\",\n",
      "    \"gnd:2010-01-01\"\n",
      "  ],\n",
      "  \"author\": [\n",
      "    {\n",
      "      \"family\": \"Aguilar\",\n",
      "      \"given\": \"Fernando\"\n",
      "    },\n",
      "    {\n",
      "      \"family\": \"Marco\",\n",
      "      \"given\": \"Jes\\u00fas\"\n",
      "    },\n",
      "    {\n",
      "      \"family\": \"Monteoliva\",\n",
      "      \"given\": \"Agust\\u00edn\"\n",
      "    }\n",
      "  ],\n",
      "  \"issued\": {\n",
      "    \"date-parts\": [\n",
      "      [\n",
      "        2017,\n",
      "        8,\n",
      "        14\n",
      "      ]\n",
      "    ]\n",
      "  },\n",
      "  \"abstract\": \"AMT data from Cuerda del Pozo Reservoir in 2010. It includes: Temperature, Pressure, Conductivity, Dissolved Oxygen, raw O2, Oxygen saturation, ph and redex values.\",\n",
      "  \"DOI\": \"10.5281/zenodo.842715\",\n",
      "  \"publisher\": \"Zenodo\",\n",
      "  \"title\": \"Amt Cuerda Del Pozo 2010\",\n",
      "  \"URL\": \"https://zenodo.org/record/842715\"\n",
      "}\n"
     ]
    }
   ],
   "source": [
    "#::GMG::The starting point is a plain text response from the server encoded\n",
    "#       in json, then I import them as a Python native dict object\n",
    "json_zenodo = json.loads(r.text)\n",
    "print('Type: {}\\n\\nMetadata: \\n{}'\n",
    "      .format(type(json_zenodo), json.dumps(json_zenodo, indent=2))\n",
    "     )"
   ]
  },
  {
   "cell_type": "code",
   "execution_count": 0,
   "metadata": {
    "colab": {
     "base_uri": "https://localhost:8080/",
     "height": 211
    },
    "colab_type": "code",
    "executionInfo": {
     "elapsed": 521,
     "status": "ok",
     "timestamp": 1543909752615,
     "user": {
      "displayName": "Gerardo de Miguel",
      "photoUrl": "https://lh3.googleusercontent.com/-LmFLfSn0ThU/AAAAAAAAAAI/AAAAAAAAAkg/xGe-_jxkcZA/s64/photo.jpg",
      "userId": "12735548512534412210"
     },
     "user_tz": -60
    },
    "id": "jsHkhIgaJbUW",
    "outputId": "75438134-587a-43e3-bd8d-379b5b0f7d05"
   },
   "outputs": [
    {
     "name": "stdout",
     "output_type": "stream",
     "text": [
      "type: dataset\n",
      "id: https://doi.org/10.5281/zenodo.842715\n",
      "categories: ['Cuerda del Pozo', 'Reservoir', 'Freshwater', 'Water Quality', 'AMT', \"beginDate:'2010-01-01'\", \"endDate:'2010-12-31'\", \"location:'CdP'\", \"attributeLabel:'Temp'\", \"attributeLabel:'Press'\", \"attributeLabel:'Cond'\", \"attributeLabel:'Salinity'\", \"attributeLabel:'DO'\", \"attributeLabel:'rawO2'\", \"attributeLabel:'OxySat'\", \"attributeLabel:'ph'\", \"attributeLabel:'redox'\", 'gnd:2010-01-01']\n",
      "author: [{'family': 'Aguilar', 'given': 'Fernando'}, {'family': 'Marco', 'given': 'Jesús'}, {'family': 'Monteoliva', 'given': 'Agustín'}]\n",
      "issued: {'date-parts': [[2017, 8, 14]]}\n",
      "abstract: AMT data from Cuerda del Pozo Reservoir in 2010. It includes: Temperature, Pressure, Conductivity, Dissolved Oxygen, raw O2, Oxygen saturation, ph and redex values.\n",
      "DOI: 10.5281/zenodo.842715\n",
      "publisher: Zenodo\n",
      "title: Amt Cuerda Del Pozo 2010\n",
      "URL: https://zenodo.org/record/842715\n"
     ]
    }
   ],
   "source": [
    "#::GMG::I iterate over the dict keys to see what I'm goint to single out\n",
    "# https://stackoverflow.com/questions/17793364/python-iterate-dictionary-by-index\n",
    "#for elem in data:\n",
    "#    print(elem)\n",
    "for key in json_zenodo.keys():\n",
    "    print ('{}: {}'.format(key, json_zenodo[key]))"
   ]
  },
  {
   "cell_type": "code",
   "execution_count": 0,
   "metadata": {
    "colab": {
     "base_uri": "https://localhost:8080/",
     "height": 107
    },
    "colab_type": "code",
    "executionInfo": {
     "elapsed": 562,
     "status": "ok",
     "timestamp": 1543910212919,
     "user": {
      "displayName": "Gerardo de Miguel",
      "photoUrl": "https://lh3.googleusercontent.com/-LmFLfSn0ThU/AAAAAAAAAAI/AAAAAAAAAkg/xGe-_jxkcZA/s64/photo.jpg",
      "userId": "12735548512534412210"
     },
     "user_tz": -60
    },
    "id": "kDgkJ_jcMaT-",
    "outputId": "6dbcc9c8-b20e-498b-8f0f-8dc3ecdfe925"
   },
   "outputs": [
    {
     "name": "stdout",
     "output_type": "stream",
     "text": [
      "Dataset:\n",
      "Title: Amt Cuerda Del Pozo 2010 \n",
      "Description (a.k.a. Abstract): \n",
      "AMT data from Cuerda del Pozo Reservoir in 2010. It includes: Temperature, Pressure, Conductivity, Dissolved Oxygen, raw O2, Oxygen saturation, ph and redex values.\n"
     ]
    }
   ],
   "source": [
    "#::GMG::I've been asked to print out 'title'and 'description'.\n",
    "#       I take the latter meaning 'abstract' as there is no \n",
    "#       'description' key to be seen :)\n",
    "print('Dataset:\\nTitle: {} \\nDescription (a.k.a. Abstract): \\n{}'.format(json_zenodo['title'],json_zenodo['abstract']))\n"
   ]
  },
  {
   "cell_type": "markdown",
   "metadata": {
    "colab_type": "text",
    "id": "RIfMzltwSeWP"
   },
   "source": [
    "## 5. Solving PIDs"
   ]
  },
  {
   "cell_type": "markdown",
   "metadata": {
    "colab_type": "text",
    "id": "3yOgHumDdX5U"
   },
   "source": [
    "### **Handle HTTP GET request**"
   ]
  },
  {
   "cell_type": "markdown",
   "metadata": {
    "colab_type": "text",
    "id": "xj5T3QYZSeWQ"
   },
   "source": [
    "By default, [handle](http://www.handle.net/) redirects you to the URL field in PID"
   ]
  },
  {
   "cell_type": "code",
   "execution_count": 0,
   "metadata": {
    "colab": {
     "base_uri": "https://localhost:8080/",
     "height": 768
    },
    "colab_type": "code",
    "executionInfo": {
     "elapsed": 1289,
     "status": "ok",
     "timestamp": 1543997314749,
     "user": {
      "displayName": "Gerardo de Miguel",
      "photoUrl": "https://lh3.googleusercontent.com/-LmFLfSn0ThU/AAAAAAAAAAI/AAAAAAAAAkg/xGe-_jxkcZA/s64/photo.jpg",
      "userId": "12735548512534412210"
     },
     "user_tz": -60
    },
    "id": "lajGxiD4SeWR",
    "outputId": "87ce7050-67c1-4e89-c1a3-a988333097ef"
   },
   "outputs": [
    {
     "name": "stdout",
     "output_type": "stream",
     "text": [
      "200\n",
      "<HTML>\n",
      "<HEAD>\n",
      "<META HTTP-EQUIV=\"Content-Type\" CONTENT=\"text/html; charset=windows-1252\">\n",
      "<META NAME=\"Generator\" CONTENT=\"Microsoft Word 97\">\n",
      "<TITLE>License for PYTHON 1.6.1</TITLE>\n",
      "</HEAD>\n",
      "<BODY LINK=\"#0000ff\" VLINK=\"#800080\">\n",
      "\n",
      "<FONT FACE=\"Century Schoolbook\">\n",
      "<P>&nbsp;</P>\n",
      "<P ALIGN=\"CENTER\">PYTHON 1.6.1</P>\n",
      "<P ALIGN=\"CENTER\">PYTHON 1.6.1 LICENSE AGREEMENT<BR>\n",
      "</P>\n",
      "<P>1. This LICENSE AGREEMENT is between the Corporation for National Research Initiatives, having an office at 1895 Preston White Drive, Reston, VA 20191 (\"CNRI\"), and the Individual or Organization (\"Licensee\") accessing and otherwise using Python 1.6.1 software in source or binary form and its associated documentation.</P>\n",
      "\n",
      "<P>2. Subject to the terms and conditions of this License Agreement, CNRI hereby grants Licensee a nonexclusive, royalty-free, world-wide license to reproduce, analyze, test, perform and/or display publicly, prepare derivative works, distribute, and otherwise use Python 1.6.1 alone or in any derivative version, provided, however, that CNRI's License Agreement and CNRI's notice of copyright, i.e., \"Copyright(c) 1995-2001 Corporation for National Research Initiatives; All Rights Reserved\" are retained in Python 1.6.1 alone or in any derivative version prepared by Licensee. Alternately, in lieu of CNRI's License Agreement, Licensee may substitute the following text (omitting the quotes): \"Python 1.6.1 is made available subject to the terms and conditions in CNRI's License Agreement. This Agreement together with Python 1.6.1 may be located on the Internet using the following unique, persistent identifier (known as a handle): 1895.22/1013. This Agreement may also be obtained from a proxy server on the Internet using the following URL: </FONT><A HREF=\"http://hdl.handle.net/1895.22/1013\"><FONT FACE=\"Century Schoolbook\">http://hdl.handle.net/1895.22/1013</FONT></A><FONT FACE=\"Century Schoolbook\">\".</P>\n",
      "\n",
      "<P>3. In the event Licensee prepares a derivative work that is based on or incorporates Python 1.6.1 or any part thereof, and wants to make the derivative work available to others as provided herein, then Licensee hereby agrees to include in any such work a brief summary of the changes made to Python 1.6.1.</P>\n",
      "\n",
      "<P>4. CNRI is making Python 1.6.1 available to Licensee on an \"AS IS\" basis. CNRI MAKES NO REPRESENTATIONS OR WARRANTIES, EXPRESS OR IMPLIED. BY WAY OF EXAMPLE, BUT NOT LIMITATION, CNRI MAKES NO AND DISCLAIMS ANY REPRESENTATION OR WARRANTY OF MERCHANTABILITY OR FITNESS FOR ANY PARTICULAR PURPOSE OR THAT THE USE OF PYTHON 1.6.1 WILL NOT INFRINGE ANY THIRD PARTY RIGHTS.</P>\n",
      "\n",
      "<P>5. CNRI SHALL NOT BE LIABLE TO LICENSEE OR ANY OTHER USERS OF PYTHON 1.6.1 FOR ANY INCIDENTAL, SPECIAL, OR CONSEQUENTIAL DAMAGES OR LOSS AS A RESULT OF MODIFYING, DISTRIBUTING, OR OTHERWISE USING PYTHON 1.6.1, OR ANY DERIVATIVE THEREOF, EVEN IF ADVISED OF THE POSSIBILITY THEREOF.</P>\n",
      "\n",
      "<P>6. This License Agreement will automatically terminate upon a material breach of its terms and conditions.</P>\n",
      "\n",
      "<P>7. This License Agreement shall be governed by the federal intellectual \n",
      "property law of the United States, including without limitation the federal \n",
      "copyright law, and, to the extent such U.S. federal law does not apply, by \n",
      "the law of the Commonwealth of Virginia, excluding Virginia's conflict of law\n",
      "provisions.  Notwithstanding the foregoing, with regard to derivative works \n",
      "based on Python 1.6.1 that incorporate non-separable material that was\n",
      "previously distributed under the GNU General Public License (GPL), the law\n",
      "of the Commonwealth of Virginia shall govern this License Agreement only \n",
      "as to issues arising under or with respect to Paragraphs 4, 5, and 7 of this \n",
      "License Agreement. Nothing in this License Agreement shall be deemed to create any relationship of agency, partnership, or joint venture between CNRI and Licensee. This License Agreement does not grant permission to use CNRI trademarks or trade name in a trademark sense to endorse or promote products or services of Licensee, or any third party.</P>\n",
      "\n",
      "<P>8. By clicking on the \"ACCEPT\" button where indicated, or by copying, installing or otherwise using Python 1.6.1, Licensee agrees to be bound by the terms and conditions of this License Agreement.</P>\n",
      "\n",
      "<P ALIGN=\"CENTER\">ACCEPT</P>\n",
      "<P></P></FONT></BODY>\n",
      "</HTML>\n",
      "\n"
     ]
    }
   ],
   "source": [
    "url = \"http://hdl.handle.net/1895.22/1013\" #PID solver URL\n",
    "r = requests.get(url) #GET\n",
    "print(r.status_code)\n",
    "print(r.text)"
   ]
  },
  {
   "cell_type": "markdown",
   "metadata": {
    "colab_type": "text",
    "id": "YThYwHmydejy"
   },
   "source": [
    "::GMG::**note**: [screen capture](https://drive.google.com/open?id=1sPRUL938dXh8q-G84kVxwJ6CQACaSIrY) of firefox [RESTED](https://addons.mozilla.org/en-US/firefox/addon/rested/).."
   ]
  },
  {
   "cell_type": "markdown",
   "metadata": {
    "colab_type": "text",
    "id": "qTIEPTUseb71"
   },
   "source": [
    "### Noredirect Query Parameter"
   ]
  },
  {
   "cell_type": "markdown",
   "metadata": {
    "colab_type": "text",
    "id": "idGcU7FCSeWU"
   },
   "source": [
    "The handle System has different options that we can manage:\n",
    "\n",
    "http://www.handle.net/proxy_servlet.html\n",
    "\n",
    "For example, we can tell the server not to redirect to URL field:"
   ]
  },
  {
   "cell_type": "code",
   "execution_count": 0,
   "metadata": {
    "colab": {
     "base_uri": "https://localhost:8080/",
     "height": 598
    },
    "colab_type": "code",
    "executionInfo": {
     "elapsed": 807,
     "status": "ok",
     "timestamp": 1543997431698,
     "user": {
      "displayName": "Gerardo de Miguel",
      "photoUrl": "https://lh3.googleusercontent.com/-LmFLfSn0ThU/AAAAAAAAAAI/AAAAAAAAAkg/xGe-_jxkcZA/s64/photo.jpg",
      "userId": "12735548512534412210"
     },
     "user_tz": -60
    },
    "id": "Pg6jSrpJSeWV",
    "outputId": "26af5b97-0510-4d6f-81c6-17f8dd1fa8fb"
   },
   "outputs": [
    {
     "name": "stdout",
     "output_type": "stream",
     "text": [
      "200\n",
      "<!DOCTYPE HTML PUBLIC \"-//W3C//DTD HTML 4.01 Transitional//EN\">\n",
      "\n",
      "<html><head><title>Handle Proxy</title></head>\n",
      "\n",
      "<body bgcolor=\"#ffffff\">\n",
      "\n",
      "<a href=\"http://www.handle.net\">\n",
      "<img src=\"/static/images/res_tool.gif\" width=\"270\" height=\"40\" alt=\"Handle.net Logo\" border=0></a>\n",
      "\n",
      "<table width=\"100%\">\n",
      "<tbody>\n",
      "<tr><th colspan=\"4\" align=\"left\" bgcolor=\"#dddddd\">Handle Values for: 1895.22/1013</th></tr>\n",
      "<tr><td align=\"left\" valign=\"top\">Index</td><td align=\"left\" valign=\"top\">Type</td><td align=\"left\" valign=\"top\">Timestamp</td><td align=\"left\" valign=\"top\">Data</td></tr>\n",
      "<tr bgcolor=\"#dddddd\"><td align=\"left\" valign=\"top\"><b>100</b></td><td align=\"left\" valign=\"top\"><b><a href=\"http://hdl.handle.net/0.TYPE/HS_ADMIN\">HS_ADMIN</a></b></td><td valign=\"top\"><span style='white-space:nowrap'>2015-04-03&nbsp;21:20:10Z</span></td>\n",
      "<td>handle=200/1; index=300; [create hdl,delete hdl,create derived prefix,delete derived prefix,read val,modify val,del val,add val,modify admin,del admin,add admin,list]</td></tr>\n",
      "<tr bgcolor=\"#ffffff\"><td align=\"left\" valign=\"top\"><b>3</b></td><td align=\"left\" valign=\"top\"><b><a href=\"http://hdl.handle.net/0.TYPE/URL\">URL</a></b></td><td valign=\"top\"><span style='white-space:nowrap'>2015-04-03&nbsp;21:20:10Z</span></td>\n",
      "<td><a href=\"http://www.handle.net/python_licenses/python1.6.1-2-23-01.html\">http://www.handle.net/python_licenses/python1.6.1-2-23-01.html</a></td></tr>\n",
      "\n",
      "\n",
      "</tbody></table>\n",
      "\n",
      "\n",
      "<p><strong><em><small>\n",
      "<a href=\"/help.html\">Handle Proxy Server Documentation</a><br/>\n",
      "<a href=\"http://www.handle.net/\">Handle.net Web Site</a>\n",
      "</small>\n",
      "</em></strong></p>\n",
      "<p><i>Please contact <a href=\"mailto:hdladmin@cnri.reston.va.us?subject=Handle%20Questions%20and%20Comments\">hdladmin@cnri.reston.va.us</a> for your handle questions and comments</i>.\n",
      "\n",
      "</body></html>\n",
      "\n",
      "\n"
     ]
    }
   ],
   "source": [
    "url = \"http://hdl.handle.net/1895.22/1013?noredirect\" #PID URL with ?noredirect\n",
    "r = requests.get(url) #POST with headers\n",
    "print(r.status_code)\n",
    "print(r.text)"
   ]
  },
  {
   "cell_type": "markdown",
   "metadata": {
    "colab_type": "text",
    "id": "JdfZoCjherHL"
   },
   "source": [
    "::GMG::**note**: [screen capture](https://drive.google.com/open?id=1m-_UzZR8GjEOPm5YqhzQBslGroU4ExW4) of firefox [RESTED](https://addons.mozilla.org/en-US/firefox/addon/rested/)."
   ]
  },
  {
   "cell_type": "markdown",
   "metadata": {
    "colab_type": "text",
    "id": "kDMGO0xblB8h"
   },
   "source": [
    "### Query Parameters"
   ]
  },
  {
   "cell_type": "markdown",
   "metadata": {
    "colab_type": "text",
    "id": "tOj_um43SeWX"
   },
   "source": [
    "This proxy server system REST API is [CORS-compliant,](https://en.wikipedia.org/wiki/Cross-origin_resource_sharing) however, [JSONP callbacks](https://en.wikipedia.org/wiki/JSONP) are also supported using a \"callback\" query parameter.\n",
    "\n",
    "The presence of the \"pretty\" query parameter instructs the server to pretty-print the JSON output.\n",
    "\n",
    "The \"auth\" query parameter instructs the proxy server to bypass its cache and query a primary handle server directly for the newest handle data.\n",
    "\n",
    "The \"cert\" query parameter instructs the proxy server to request an authenticated response from the source handle server. Not generally needed by end users.\n",
    "\n",
    "The \"type\" and \"index\" query parameters allow the resolution response to be restricted to specific types and indexes of interest. \"Type\" is the key defined by the user to store a metadata term. \"Index\" is a number associated to that term. Multiple \"type\" and \"index\" parameters are allowed and values are returned which match any of the specified types or indexes. For example,\n",
    "\n",
    "For example, http://hdl.handle.net/api/handles/4263537/4000?type=URL&type=EMAIL&callback=processResponse yields the response\n",
    "\n",
    "```JSON\n",
    "processResponse({\n",
    "   \"responseCode\":1,\n",
    "   \"handle\":\"4263537/4000\",\n",
    "   \"values\":[\n",
    "      {\n",
    "         \"index\":1,\n",
    "         \"type\":\"URL\",\n",
    "         \"data\":{ \"format\":\"string\", \"value\":\"http://www.handle.net/index.html\" },\n",
    "         \"ttl\":86400,\n",
    "         \"timestamp\":\"2001-11-21T16:21:35Z\"\n",
    "      },\n",
    "      {\n",
    "         \"index\":2,\n",
    "         \"type\":\"EMAIL\",\n",
    "         \"data\":{ \"format\":\"string\", \"value\":\"hdladmin@cnri.reston.va.us\" },\n",
    "         \"ttl\":86400,\n",
    "         \"timestamp\":\"2000-04-10T22:41:46Z\"\n",
    "      }\n",
    "   ]\n",
    "});\n",
    "```"
   ]
  },
  {
   "cell_type": "markdown",
   "metadata": {
    "colab_type": "text",
    "id": "LQTw-o6ah2jt"
   },
   "source": [
    "::GMG::**note**: [screen capture](https://drive.google.com/open?id=1HR4kwwkXoBov68n8LQQHm5LRyLBBIuzZ) from firefox [RESTED](https://addons.mozilla.org/en-US/firefox/addon/rested/)."
   ]
  },
  {
   "cell_type": "markdown",
   "metadata": {
    "colab_type": "text",
    "id": "7vXk0eIJSeWb"
   },
   "source": [
    "<div class=\"alert alert-warning\" role=\"alert\" style=\"margin: 10px\">\n",
    "Recuerda!<br>\n",
    "Si no indicas el Content-type, el servidor actuará como si recibiera una petición por navegador, devolviendo un html\n",
    "</div>"
   ]
  },
  {
   "cell_type": "code",
   "execution_count": 0,
   "metadata": {
    "colab": {
     "base_uri": "https://localhost:8080/",
     "height": 54
    },
    "colab_type": "code",
    "executionInfo": {
     "elapsed": 780,
     "status": "ok",
     "timestamp": 1543999510697,
     "user": {
      "displayName": "Gerardo de Miguel",
      "photoUrl": "https://lh3.googleusercontent.com/-LmFLfSn0ThU/AAAAAAAAAAI/AAAAAAAAAkg/xGe-_jxkcZA/s64/photo.jpg",
      "userId": "12735548512534412210"
     },
     "user_tz": -60
    },
    "id": "5ZBvtmNCSeWd",
    "outputId": "3caef649-a92f-4b7a-cbde-584ed51aaea8"
   },
   "outputs": [
    {
     "name": "stdout",
     "output_type": "stream",
     "text": [
      "processResponse({\"responseCode\":1,\"handle\":\"4263537/4000\",\"values\":[{\"index\":1,\"type\":\"URL\",\"data\":{\"format\":\"string\",\"value\":\"http://www.handle.net/index.html\"},\"ttl\":86400,\"timestamp\":\"2015-04-03T21:20:22Z\"},{\"index\":2,\"type\":\"EMAIL\",\"data\":{\"format\":\"string\",\"value\":\"hdladmin@cnri.reston.va.us\"},\"ttl\":86400,\"timestamp\":\"2015-04-03T21:20:22Z\"}]});\n"
     ]
    }
   ],
   "source": [
    "url = \"http://hdl.handle.net/api/handles/4263537/4000?type=URL&type=EMAIL&callback=processResponse\" #PID URL with ?noredirect\n",
    "headers = {'Content-Type': 'application/json'} #Type of response accpeted\n",
    "r = requests.get(url, headers=headers) #POST with headers\n",
    "print(r.text) \n"
   ]
  },
  {
   "cell_type": "markdown",
   "metadata": {
    "colab_type": "text",
    "id": "oOu5KDtEmVv-"
   },
   "source": [
    "### ::GMG::REST API"
   ]
  },
  {
   "cell_type": "markdown",
   "metadata": {
    "colab_type": "text",
    "id": "R8U_hRP6f8v8"
   },
   "source": [
    "The handle proxy REST API allows programmatic access to handle resolution using HTTP.\n",
    "\n",
    "Example Request/Response\n",
    "\n",
    "A REST API request can be made by performing a standard HTTP GET of\n",
    "\n",
    "```\n",
    "/api/handles/<handle>\n",
    "```\n",
    "\n",
    "The API returns JSON.\n",
    "\n",
    "For example, \n",
    "\n",
    "http://hdl.handle.net/api/handles/1895.22/1013\n",
    "\n",
    "yields the response\n",
    "\n",
    "```json\n",
    "{\n",
    "  \"responseCode\": 1,\n",
    "  \"handle\": \"1895.22/1013\",\n",
    "  \"values\": [\n",
    "    {\n",
    "      \"index\": 100,\n",
    "      \"type\": \"HS_ADMIN\",\n",
    "      \"data\": {\n",
    "        \"format\": \"admin\",\n",
    "        \"value\": {\n",
    "          \"handle\": \"200/1\",\n",
    "          \"index\": 300,\n",
    "          \"permissions\": \"111111111111\",\n",
    "          \"legacyByteLength\": true\n",
    "        }\n",
    "      },\n",
    "      \"ttl\": 86400,\n",
    "      \"timestamp\": \"2015-04-03T21:20:10Z\"\n",
    "    },\n",
    "    {\n",
    "      \"index\": 3,\n",
    "      \"type\": \"URL\",\n",
    "      \"data\": {\n",
    "        \"format\": \"string\",\n",
    "        \"value\": \"http://www.handle.net/python_licenses/python1.6.1-2-23-01.html\"\n",
    "      },\n",
    "      \"ttl\": 86400,\n",
    "      \"timestamp\": \"2015-04-03T21:20:10Z\"\n",
    "    }\n",
    "  ]\n",
    "}\n",
    "```\n",
    "\n",
    "with `headers` (from RESTED)\n",
    "\n",
    "```\n",
    "Access-Control-Expose-Headers: Content-Length\n",
    "Access-Control-Allow-Origin: moz-extension://859432ef-e049-43ef-8ebf-8cdcb4c6224c\n",
    "Content-Type: application/json;charset=UTF-8\n",
    "Content-Length: 422\n",
    "Date: Wed, 05 Dec 2018 08:32:20 GMT\n",
    "```"
   ]
  },
  {
   "cell_type": "code",
   "execution_count": 0,
   "metadata": {
    "colab": {
     "base_uri": "https://localhost:8080/",
     "height": 561
    },
    "colab_type": "code",
    "executionInfo": {
     "elapsed": 794,
     "status": "ok",
     "timestamp": 1544000433418,
     "user": {
      "displayName": "Gerardo de Miguel",
      "photoUrl": "https://lh3.googleusercontent.com/-LmFLfSn0ThU/AAAAAAAAAAI/AAAAAAAAAkg/xGe-_jxkcZA/s64/photo.jpg",
      "userId": "12735548512534412210"
     },
     "user_tz": -60
    },
    "id": "azSTEniAkXdP",
    "outputId": "6417fbaa-39cb-4197-a7d8-cee22420c170"
   },
   "outputs": [
    {
     "name": "stdout",
     "output_type": "stream",
     "text": [
      "Status code: 200\n",
      "{\n",
      "  \"responseCode\": 1,\n",
      "  \"handle\": \"1895.22/1013\",\n",
      "  \"values\": [\n",
      "    {\n",
      "      \"index\": 100,\n",
      "      \"type\": \"HS_ADMIN\",\n",
      "      \"data\": {\n",
      "        \"format\": \"admin\",\n",
      "        \"value\": {\n",
      "          \"handle\": \"200/1\",\n",
      "          \"index\": 300,\n",
      "          \"permissions\": \"111111111111\",\n",
      "          \"legacyByteLength\": true\n",
      "        }\n",
      "      },\n",
      "      \"ttl\": 86400,\n",
      "      \"timestamp\": \"2015-04-03T21:20:10Z\"\n",
      "    },\n",
      "    {\n",
      "      \"index\": 3,\n",
      "      \"type\": \"URL\",\n",
      "      \"data\": {\n",
      "        \"format\": \"string\",\n",
      "        \"value\": \"http://www.handle.net/python_licenses/python1.6.1-2-23-01.html\"\n",
      "      },\n",
      "      \"ttl\": 86400,\n",
      "      \"timestamp\": \"2015-04-03T21:20:10Z\"\n",
      "    }\n",
      "  ]\n",
      "}\n"
     ]
    }
   ],
   "source": [
    "#::GMG::Lo hacemos en Python también ... \n",
    "url = \"http://hdl.handle.net/api/handles/1895.22/1013\"\n",
    "r = requests.get(url)\n",
    "print(\"Status code: %s\" % r.status_code)\n",
    "#print('Status Code: {}\\n\\nJSON response:\\n{}'.format(r.status_code,r.text))\n",
    "json_handle = json.loads(r.text)\n",
    "print(json.dumps(json_handle, indent=2))"
   ]
  },
  {
   "cell_type": "markdown",
   "metadata": {
    "colab_type": "text",
    "id": "YbCNLuxVSeWh"
   },
   "source": [
    "## ::GMG::Exercise 2"
   ]
  },
  {
   "cell_type": "markdown",
   "metadata": {
    "colab_type": "text",
    "id": "GcBmTH5xr8l3"
   },
   "source": [
    "### 1: Try to find *TWO* different repositories that manage PIDs or DOIs (e.g figshare.com, DataONE, zenodo, etc.)"
   ]
  },
  {
   "cell_type": "markdown",
   "metadata": {
    "colab_type": "text",
    "id": "jzebgnsaoTIO"
   },
   "source": [
    "I've chosen [Figshare](https://figshare.com/) and  [Zenodo](https://zenodo.org) as repositories.\n",
    "\n",
    "I've searched interesting references of assets to use for this exercise. I've found out two references from  [Figshare](https://figshare.com/):\n",
    "\n",
    "1. https://figshare.com/articles/7368278/1/citations/datacite\n",
    "2. https://figshare.com/articles/7007153/1/citations/datacite\n",
    "\n",
    "and [another one](https://zenodo.org/search?page=1&size=20&q=cortaderia%20selloana&access_right=open&file_type=xml) from [Zenodo](https://zenodo.org):\n",
    "\n",
    "3. https://zenodo.org/record/238999\n"
   ]
  },
  {
   "cell_type": "markdown",
   "metadata": {
    "colab_type": "text",
    "id": "MHzGgV52rrOQ"
   },
   "source": [
    "### 2: Check an example file or the documentation to get the identifier from a resource"
   ]
  },
  {
   "cell_type": "markdown",
   "metadata": {
    "colab_type": "text",
    "id": "wwm41oxedF7V"
   },
   "source": [
    "#### Zenodo \n"
   ]
  },
  {
   "cell_type": "markdown",
   "metadata": {
    "colab_type": "text",
    "id": "wJEXL14rsNpo"
   },
   "source": [
    "It has a fairly good documentation to ease our task:\n",
    "\n",
    "- [Developers REST API](http://developers.zenodo.org/)\n",
    "- [ReadTheDocs](https://zenodo.readthedocs.io/en/latest/)\n"
   ]
  },
  {
   "cell_type": "markdown",
   "metadata": {
    "colab_type": "text",
    "id": "AaK8G9pGdK8N"
   },
   "source": [
    "#### Figshare"
   ]
  },
  {
   "cell_type": "markdown",
   "metadata": {
    "colab_type": "text",
    "id": "NyT8NKLEdM6x"
   },
   "source": [
    "Figshare dicumentation is trickier to find. In its main web page there is a section about its API:\n",
    "\n",
    ">**Use the figshare API**\n",
    ">\n",
    "> automate your research workflows [check out some examples](https://github.com/search?utf8=%E2%9C%93&q=figshare) of how others are using it.\n",
    "\n",
    "The link however is a proxy search on Github that yields **71** repository results. I've skimmed the list and found out these two references:\n",
    "\n",
    "- [figshare](https://github.com/figshare)/[user_documentation](https://github.com/figshare/user_documentation),  ( [API feature list](https://github.com/figshare/user_documentation/blob/master/docs/api/index.md) )\n",
    "- [rmcgibbo](https://github.com/rmcgibbo)/[figshare](https://github.com/rmcgibbo/figshare), Command line client for figshare\n",
    "\n",
    "In the *first reference* there is [a documentation file](https://github.com/figshare/user_documentation/blob/master/docs/index.md) with an external link to [the main documenation web page](https://docs.figshare.com/)."
   ]
  },
  {
   "cell_type": "markdown",
   "metadata": {
    "colab_type": "text",
    "id": "316jia9Uza3h"
   },
   "source": [
    "### 3: Resolve the identifier using python request"
   ]
  },
  {
   "cell_type": "markdown",
   "metadata": {
    "colab_type": "text",
    "id": "O0nbddnomFic"
   },
   "source": [
    "#### Zenodo (REST API)"
   ]
  },
  {
   "cell_type": "markdown",
   "metadata": {
    "colab_type": "text",
    "id": "dpwBknv0zf0i"
   },
   "source": [
    "Zenodo provides the DOI identifier of their records. For example [the scientific article](https://zenodo.org/record/238999) I've chosen from Zenodo:\n",
    "\n",
    "- https://doi.org/10.3897/phytokeys.76.10808\n",
    "\n",
    "and also it can be found in the Datacite (XML) *formatted citation*:\n",
    "\n",
    "- https://zenodo.org/record/238999/export/dcite4\n",
    "\n",
    "which has the `DOI` in `<relatedIdentifiers>`:\n",
    "\n",
    "```xml\n",
    "<relatedIdentifier relatedIdentifierType=\"DOI\" relationType=\"IsIdenticalTo\">10.3897/phytokeys.76.10808</relatedIdentifier>\n",
    "```\n"
   ]
  },
  {
   "cell_type": "code",
   "execution_count": 16,
   "metadata": {
    "colab": {
     "base_uri": "https://localhost:8080/",
     "height": 1164
    },
    "colab_type": "code",
    "executionInfo": {
     "elapsed": 1443,
     "status": "ok",
     "timestamp": 1544079962003,
     "user": {
      "displayName": "Gerardo de Miguel",
      "photoUrl": "https://lh3.googleusercontent.com/-LmFLfSn0ThU/AAAAAAAAAAI/AAAAAAAAAkg/xGe-_jxkcZA/s64/photo.jpg",
      "userId": "12735548512534412210"
     },
     "user_tz": -60
    },
    "id": "AfhgvLaM0FGZ",
    "outputId": "20a5f7e2-dc8b-499a-e5c5-07bfaec51347"
   },
   "outputs": [
    {
     "data": {
      "text/plain": [
       "{'conceptrecid': '724496',\n",
       " 'created': '2017-01-11T14:41:40.056743+00:00',\n",
       " 'doi': '10.3897/phytokeys.76.10808',\n",
       " 'files': [{'bucket': 'f10053f9-a92c-4e18-bea8-e5306049aa48',\n",
       "   'checksum': 'md5:56ad51eabdaf0e64091169c234bb9664',\n",
       "   'key': 'PK_article_10808.pdf',\n",
       "   'links': {'self': 'https://zenodo.org/api/files/f10053f9-a92c-4e18-bea8-e5306049aa48/PK_article_10808.pdf'},\n",
       "   'size': 4824689,\n",
       "   'type': 'pdf'},\n",
       "  {'bucket': 'f10053f9-a92c-4e18-bea8-e5306049aa48',\n",
       "   'checksum': 'md5:7aa488cee4bdf327d7ae09e7cd1cd092',\n",
       "   'key': 'PK_article_10808.xml',\n",
       "   'links': {'self': 'https://zenodo.org/api/files/f10053f9-a92c-4e18-bea8-e5306049aa48/PK_article_10808.xml'},\n",
       "   'size': 254837,\n",
       "   'type': 'xml'}],\n",
       " 'id': 238999,\n",
       " 'links': {'badge': 'https://zenodo.org/badge/doi/10.3897/phytokeys.76.10808.svg',\n",
       "  'bucket': 'https://zenodo.org/api/files/f10053f9-a92c-4e18-bea8-e5306049aa48',\n",
       "  'doi': 'https://doi.org/10.3897/phytokeys.76.10808',\n",
       "  'html': 'https://zenodo.org/record/238999',\n",
       "  'latest': 'https://zenodo.org/api/records/238999',\n",
       "  'latest_html': 'https://zenodo.org/record/238999',\n",
       "  'self': 'https://zenodo.org/api/records/238999'},\n",
       " 'metadata': {'access_right': 'open',\n",
       "  'access_right_category': 'success',\n",
       "  'communities': [{'id': 'biosyslit'}],\n",
       "  'creators': [{'affiliation': '<div>Universidad Nacional del Sur, Bahía Blanca, Argentina</div>',\n",
       "    'name': 'Testoni, Daniel'},\n",
       "   {'affiliation': '<div>University of Zurich, Zürich, Switzerland</div>',\n",
       "    'name': 'Linder, H. Peter'}],\n",
       "  'description': '<p>Cortaderia (Poaceae; Danthonioideae) is a medium-sized genus of C3 tussock grasses, widespread in the temperate to tropic-alpine regions of South America. It is particularly important in the subalpine and alpine zones of the Andes. We revised the classification of the genus, and recognize 17 species grouped into five informal groups. We describe one new species, Cortaderia echinata H.P.Linder, from Peru. We provide a key to the groups and the species, complete nomenclature for each species including new lectotypes, and notes on the ecology, distribution and diagnostic morphological and anatomical characters.</p>',\n",
       "  'doi': '10.3897/phytokeys.76.10808',\n",
       "  'journal': {'issue': '',\n",
       "   'pages': '39-69',\n",
       "   'title': 'PhytoKeys',\n",
       "   'volume': '76'},\n",
       "  'keywords': ['Leaf anatomy',\n",
       "   'key',\n",
       "   'nomenclature',\n",
       "   'South America',\n",
       "   'taxonomy'],\n",
       "  'license': {'id': 'CC-BY-4.0'},\n",
       "  'publication_date': '2017-01-11',\n",
       "  'relations': {'version': [{'count': 1,\n",
       "     'index': 0,\n",
       "     'is_last': True,\n",
       "     'last_child': {'pid_type': 'recid', 'pid_value': '238999'},\n",
       "     'parent': {'pid_type': 'recid', 'pid_value': '724496'}}]},\n",
       "  'resource_type': {'subtype': 'article',\n",
       "   'title': 'Journal article',\n",
       "   'type': 'publication'},\n",
       "  'title': 'Synoptic taxonomy of Cortaderia Stapf (Danthonioideae, Poaceae)'},\n",
       " 'owners': [22270],\n",
       " 'revision': 4,\n",
       " 'stats': {'downloads': 7.0,\n",
       "  'unique_downloads': 5.0,\n",
       "  'unique_views': 6.0,\n",
       "  'version_downloads': 7.0,\n",
       "  'version_unique_downloads': 5.0,\n",
       "  'version_unique_views': 6.0,\n",
       "  'version_views': 10.0,\n",
       "  'version_volume': 29202971.0,\n",
       "  'views': 10.0,\n",
       "  'volume': 29202971.0},\n",
       " 'updated': '2017-09-08T08:30:13.070184+00:00'}"
      ]
     },
     "execution_count": 16,
     "metadata": {
      "tags": []
     },
     "output_type": "execute_result"
    }
   ],
   "source": [
    "#::GMG::Fisrt I've successfully managed to get the DOI from the URL\n",
    "#       resource record using the Zenodo REST API with Python\n",
    "headers = {\"Content-Type\": \"application/json\"}\n",
    "r = requests.get(\"https://zenodo.org/api/records/238999\",headers=headers)\n",
    "r.json()"
   ]
  },
  {
   "cell_type": "code",
   "execution_count": 17,
   "metadata": {
    "colab": {
     "base_uri": "https://localhost:8080/",
     "height": 228
    },
    "colab_type": "code",
    "executionInfo": {
     "elapsed": 607,
     "status": "ok",
     "timestamp": 1544079967123,
     "user": {
      "displayName": "Gerardo de Miguel",
      "photoUrl": "https://lh3.googleusercontent.com/-LmFLfSn0ThU/AAAAAAAAAAI/AAAAAAAAAkg/xGe-_jxkcZA/s64/photo.jpg",
      "userId": "12735548512534412210"
     },
     "user_tz": -60
    },
    "id": "R1NC-AKB1ZKZ",
    "outputId": "26bd0f5c-afa0-4bd8-af8f-75348821f687"
   },
   "outputs": [
    {
     "name": "stdout",
     "output_type": "stream",
     "text": [
      "conceptrecid: 724496\n",
      "created: 2017-01-11T14:41:40.056743+00:00\n",
      "doi: 10.3897/phytokeys.76.10808\n",
      "files: [{'bucket': 'f10053f9-a92c-4e18-bea8-e5306049aa48', 'checksum': 'md5:56ad51eabdaf0e64091169c234bb9664', 'key': 'PK_article_10808.pdf', 'links': {'self': 'https://zenodo.org/api/files/f10053f9-a92c-4e18-bea8-e5306049aa48/PK_article_10808.pdf'}, 'size': 4824689, 'type': 'pdf'}, {'bucket': 'f10053f9-a92c-4e18-bea8-e5306049aa48', 'checksum': 'md5:7aa488cee4bdf327d7ae09e7cd1cd092', 'key': 'PK_article_10808.xml', 'links': {'self': 'https://zenodo.org/api/files/f10053f9-a92c-4e18-bea8-e5306049aa48/PK_article_10808.xml'}, 'size': 254837, 'type': 'xml'}]\n",
      "id: 238999\n",
      "links: {'badge': 'https://zenodo.org/badge/doi/10.3897/phytokeys.76.10808.svg', 'bucket': 'https://zenodo.org/api/files/f10053f9-a92c-4e18-bea8-e5306049aa48', 'doi': 'https://doi.org/10.3897/phytokeys.76.10808', 'html': 'https://zenodo.org/record/238999', 'latest': 'https://zenodo.org/api/records/238999', 'latest_html': 'https://zenodo.org/record/238999', 'self': 'https://zenodo.org/api/records/238999'}\n",
      "metadata: {'access_right': 'open', 'access_right_category': 'success', 'communities': [{'id': 'biosyslit'}], 'creators': [{'affiliation': '<div>Universidad Nacional del Sur, Bahía Blanca, Argentina</div>', 'name': 'Testoni, Daniel'}, {'affiliation': '<div>University of Zurich, Zürich, Switzerland</div>', 'name': 'Linder, H. Peter'}], 'description': '<p>Cortaderia (Poaceae; Danthonioideae) is a medium-sized genus of C3 tussock grasses, widespread in the temperate to tropic-alpine regions of South America. It is particularly important in the subalpine and alpine zones of the Andes. We revised the classification of the genus, and recognize 17 species grouped into five informal groups. We describe one new species, Cortaderia echinata H.P.Linder, from Peru. We provide a key to the groups and the species, complete nomenclature for each species including new lectotypes, and notes on the ecology, distribution and diagnostic morphological and anatomical characters.</p>', 'doi': '10.3897/phytokeys.76.10808', 'journal': {'issue': '', 'pages': '39-69', 'title': 'PhytoKeys', 'volume': '76'}, 'keywords': ['Leaf anatomy', 'key', 'nomenclature', 'South America', 'taxonomy'], 'license': {'id': 'CC-BY-4.0'}, 'publication_date': '2017-01-11', 'relations': {'version': [{'count': 1, 'index': 0, 'is_last': True, 'last_child': {'pid_type': 'recid', 'pid_value': '238999'}, 'parent': {'pid_type': 'recid', 'pid_value': '724496'}}]}, 'resource_type': {'subtype': 'article', 'title': 'Journal article', 'type': 'publication'}, 'title': 'Synoptic taxonomy of Cortaderia Stapf (Danthonioideae, Poaceae)'}\n",
      "owners: [22270]\n",
      "revision: 4\n",
      "stats: {'downloads': 7.0, 'unique_downloads': 5.0, 'unique_views': 6.0, 'version_downloads': 7.0, 'version_unique_downloads': 5.0, 'version_unique_views': 6.0, 'version_views': 10.0, 'version_volume': 29202971.0, 'views': 10.0, 'volume': 29202971.0}\n",
      "updated: 2017-09-08T08:30:13.070184+00:00\n"
     ]
    }
   ],
   "source": [
    "#::GMG::Using JSON library and Python Dict iteration I've been able to\n",
    "#       locate the DOI identifier from the metadata Zenodo record\n",
    "json_record = json.loads(r.text)\n",
    "for key in json_record.keys():\n",
    "    print ('{}: {}'.format(key, json_record[key]))\n"
   ]
  },
  {
   "cell_type": "code",
   "execution_count": 18,
   "metadata": {
    "colab": {
     "base_uri": "https://localhost:8080/",
     "height": 35
    },
    "colab_type": "code",
    "executionInfo": {
     "elapsed": 516,
     "status": "ok",
     "timestamp": 1544079970864,
     "user": {
      "displayName": "Gerardo de Miguel",
      "photoUrl": "https://lh3.googleusercontent.com/-LmFLfSn0ThU/AAAAAAAAAAI/AAAAAAAAAkg/xGe-_jxkcZA/s64/photo.jpg",
      "userId": "12735548512534412210"
     },
     "user_tz": -60
    },
    "id": "XEVSAVcG2jCJ",
    "outputId": "73079aef-ab8e-4d05-d961-0d5fde3a43be"
   },
   "outputs": [
    {
     "name": "stdout",
     "output_type": "stream",
     "text": [
      "Record DOI: 10.3897/phytokeys.76.10808\n"
     ]
    }
   ],
   "source": [
    "print('Record DOI: {}'.format(json_record['doi']))"
   ]
  },
  {
   "cell_type": "markdown",
   "metadata": {
    "colab_type": "text",
    "id": "16oKj43YjT0M"
   },
   "source": [
    "#### Zenodo (handle)"
   ]
  },
  {
   "cell_type": "code",
   "execution_count": 19,
   "metadata": {
    "colab": {
     "base_uri": "https://localhost:8080/",
     "height": 89
    },
    "colab_type": "code",
    "executionInfo": {
     "elapsed": 535,
     "status": "ok",
     "timestamp": 1544079974152,
     "user": {
      "displayName": "Gerardo de Miguel",
      "photoUrl": "https://lh3.googleusercontent.com/-LmFLfSn0ThU/AAAAAAAAAAI/AAAAAAAAAkg/xGe-_jxkcZA/s64/photo.jpg",
      "userId": "12735548512534412210"
     },
     "user_tz": -60
    },
    "id": "nVTJzgqGmQ-U",
    "outputId": "2949b41e-3ff6-4262-9952-ae438e2c9384"
   },
   "outputs": [
    {
     "name": "stdout",
     "output_type": "stream",
     "text": [
      "responseCode: 1\n",
      "handle: 10.3897/phytokeys.76.10808\n",
      "values: [{'index': 1, 'type': 'URL', 'data': {'format': 'string', 'value': 'http://phytokeys.pensoft.net/articles.php?id=10808'}, 'ttl': 86400, 'timestamp': '2017-01-11T14:38:26Z'}, {'index': 700050, 'type': '700050', 'data': {'format': 'string', 'value': '1484145481'}, 'ttl': 86400, 'timestamp': '2017-01-11T14:38:26Z'}, {'index': 100, 'type': 'HS_ADMIN', 'data': {'format': 'admin', 'value': {'handle': '0.na/10.3897', 'index': 200, 'permissions': '111111110010'}}, 'ttl': 86400, 'timestamp': '2017-01-11T14:38:26Z'}]\n"
     ]
    }
   ],
   "source": [
    "#::GMG::Solving the Zenodo record DOI identifier with handle\n",
    "# \n",
    "url = \"http://hdl.handle.net/api/handles/\"\n",
    "doi = json_record['doi']\n",
    "r = requests.get(url +  doi)\n",
    "json_handle_zenodo = json.loads(r.text)\n",
    "for key in json_handle_zenodo.keys():\n",
    "    print ('{}: {}'.format(key, json_handle_zenodo[key]))"
   ]
  },
  {
   "cell_type": "code",
   "execution_count": 20,
   "metadata": {
    "colab": {
     "base_uri": "https://localhost:8080/",
     "height": 35
    },
    "colab_type": "code",
    "executionInfo": {
     "elapsed": 541,
     "status": "ok",
     "timestamp": 1544079977115,
     "user": {
      "displayName": "Gerardo de Miguel",
      "photoUrl": "https://lh3.googleusercontent.com/-LmFLfSn0ThU/AAAAAAAAAAI/AAAAAAAAAkg/xGe-_jxkcZA/s64/photo.jpg",
      "userId": "12735548512534412210"
     },
     "user_tz": -60
    },
    "id": "gI41suKipZ-7",
    "outputId": "a504affc-fcfd-4aef-f53c-3b091a8b7e38"
   },
   "outputs": [
    {
     "name": "stdout",
     "output_type": "stream",
     "text": [
      "handle: 10.3897/phytokeys.76.10808 solves to url: http://phytokeys.pensoft.net/articles.php?id=10808\n"
     ]
    }
   ],
   "source": [
    "#::GMG::Here we get the URL to the online digital publication landing page\n",
    "print('handle: {} solves to url: {}'.format(json_handle_zenodo['handle'], \n",
    "                json_handle_zenodo['values'][0]['data']['value']))"
   ]
  },
  {
   "cell_type": "markdown",
   "metadata": {
    "colab_type": "text",
    "id": "VYSD4fBbjYUp"
   },
   "source": [
    "#### Zenodo (doi.org)"
   ]
  },
  {
   "cell_type": "code",
   "execution_count": 21,
   "metadata": {
    "colab": {
     "base_uri": "https://localhost:8080/",
     "height": 55
    },
    "colab_type": "code",
    "executionInfo": {
     "elapsed": 727,
     "status": "ok",
     "timestamp": 1544079980826,
     "user": {
      "displayName": "Gerardo de Miguel",
      "photoUrl": "https://lh3.googleusercontent.com/-LmFLfSn0ThU/AAAAAAAAAAI/AAAAAAAAAkg/xGe-_jxkcZA/s64/photo.jpg",
      "userId": "12735548512534412210"
     },
     "user_tz": -60
    },
    "id": "CI1kwtCjq1et",
    "outputId": "f2085096-a5ba-4952-f6f1-69c56dcd2ea0"
   },
   "outputs": [
    {
     "name": "stdout",
     "output_type": "stream",
     "text": [
      "{\"indexed\":{\"date-parts\":[[2018,4,18]],\"date-time\":\"2018-04-18T02:13:05Z\",\"timestamp\":1524017585964},\"reference-count\":40,\"publisher\":\"Pensoft Publishers\",\"license\":[{\"URL\":\"http:\\/\\/creativecommons.org\\/licenses\\/by\\/4.0\\/\",\"start\":{\"date-parts\":[[2017,1,11]],\"date-time\":\"2017-01-11T00:00:00Z\",\"timestamp\":1484092800000},\"delay-in-days\":0,\"content-version\":\"vor\"}],\"content-domain\":{\"domain\":[],\"crossmark-restriction\":false},\"DOI\":\"10.3897\\/phytokeys.76.10808\",\"type\":\"article-journal\",\"created\":{\"date-parts\":[[2017,1,11]],\"date-time\":\"2017-01-11T14:38:26Z\",\"timestamp\":1484145506000},\"page\":\"39-69\",\"source\":\"Crossref\",\"is-referenced-by-count\":0,\"title\":\"Synoptic taxonomy of Cortaderia Stapf (Danthonioideae, Poaceae)\",\"prefix\":\"10.3897\",\"volume\":\"76\",\"author\":[{\"given\":\"Daniel\",\"family\":\"Testoni\",\"sequence\":\"first\",\"affiliation\":[]},{\"given\":\"H. Peter\",\"family\":\"Linder\",\"sequence\":\"additional\",\"affiliation\":[]}],\"member\":\"2258\",\"published-online\":{\"date-parts\":[[2017,1,11]]},\"reference\":[{\"key\":\"10808_B1\",\"first-page\":\"204\",\"article-title\":\"Las especies de Gramineas del genero Cortaderia en Chile.\",\"volume\":\"27\",\"author\":\"Acevedo de Vargas\",\"year\":\"1959\",\"journal-title\":\"Boletin del Museo Nacional de Historia Natural\"},{\"key\":\"10808_B2\",\"first-page\":\"43\",\"article-title\":\"Sinopsis del genero Cortaderia (Poaceae) en Argentina.\",\"volume\":\"33\",\"author\":\"Astegiano\",\"year\":\"1995\",\"journal-title\":\"Darwiniana\"},{\"key\":\"10808_B3\",\"DOI\":\"10.2307\\/3298522\",\"doi-asserted-by\":\"publisher\"},{\"key\":\"10808_B4\",\"first-page\":\"119\",\"article-title\":\"Sobre del g\\u00e9nero Lamprothyrsus (Poaceae) en Argentina.\",\"volume\":\"12-13\",\"author\":\"Bernardello\",\"year\":\"1979\",\"journal-title\":\"Kurtziana\"},{\"key\":\"10808_B5\",\"author\":\"Conert\",\"year\":\"1961\",\"journal-title\":\"Die Systematik und Anatomie der Arundineae. J.\"},{\"key\":\"10808_B6\",\"DOI\":\"10.1080\\/0028825X.1965.10428709\",\"doi-asserted-by\":\"publisher\"},{\"key\":\"10808_B7\",\"DOI\":\"10.2307\\/2407199\",\"doi-asserted-by\":\"publisher\"},{\"key\":\"10808_B8\",\"DOI\":\"10.1038\\/hdy.1989.111\",\"doi-asserted-by\":\"publisher\"},{\"key\":\"10808_B9\",\"DOI\":\"10.2307\\/2399797\",\"doi-asserted-by\":\"publisher\"},{\"key\":\"10808_B10\",\"DOI\":\"10.2307\\/1218786\",\"doi-asserted-by\":\"publisher\"},{\"key\":\"10808_B11\",\"first-page\":\"78\",\"article-title\":\"Cortaderia.\",\"volume\":\"vol 8\",\"author\":\"Davidse\",\"year\":\"2004\",\"journal-title\":\"Flora of the Venezuelan Guayana\"},{\"key\":\"10808_B12\",\"first-page\":\"1\",\"article-title\":\"Beitr\\u00e4ge zur Flora des Itatiaia.\",\"volume\":\"9\",\"author\":\"Dus\\u00e9n\",\"year\":\"1909\",\"journal-title\":\"Arkiv f\\u00fcr Botanik\"},{\"key\":\"10808_B13\",\"DOI\":\"10.4102\\/abc.v12i1.1382\",\"doi-asserted-by\":\"publisher\"},{\"key\":\"10808_B14\",\"DOI\":\"10.4102\\/abc.v12i4.1441\",\"doi-asserted-by\":\"publisher\"},{\"key\":\"10808_B15\",\"first-page\":\"176\",\"article-title\":\"Growth of the pampas grass Cortaderia spp in New Zealand Pinus radiata forests.\",\"volume\":\"20\",\"author\":\"Gadgil\",\"year\":\"1990\",\"journal-title\":\"New Zealand Journal of Forestry Science\"},{\"key\":\"10808_B16\",\"author\":\"Grounds\",\"year\":\"1979\",\"journal-title\":\"Ornamental Grasses.\"},{\"key\":\"10808_B17\",\"first-page\":\"111\",\"article-title\":\"The impact of pampas grasses as weeds in southern Australa.\",\"volume\":\"6\",\"author\":\"Harradine\",\"year\":\"1991\",\"journal-title\":\"Plant Protection Quarterly\"},{\"issue\":\"8\",\"key\":\"10808_B18\",\"first-page\":\"291\",\"article-title\":\"The grasses of Ecuador, Peru, and Bolivia.\",\"volume\":\"24\",\"author\":\"Hitchcock\",\"year\":\"1927\",\"journal-title\":\"Contrib US Natl Herb\"},{\"key\":\"10808_B19\",\"author\":\"Laegaard\",\"first-page\":\"3\",\"year\":\"1997\",\"article-title\":\"Gramineae (part 1).\",\"journal-title\":\"Flora of Ecuador\"},{\"key\":\"10808_B20\",\"DOI\":\"10.1046\\/j.1365-2745.2001.00524.x\",\"doi-asserted-by\":\"publisher\"},{\"key\":\"10808_B21\",\"DOI\":\"10.3417\\/2009006\",\"doi-asserted-by\":\"publisher\"},{\"key\":\"10808_B22\",\"DOI\":\"10.2307\\/3392215\",\"doi-asserted-by\":\"publisher\"},{\"key\":\"10808_B23\",\"DOI\":\"10.12705\\/635.7\",\"doi-asserted-by\":\"publisher\"},{\"key\":\"10808_B24\",\"author\":\"Moore\",\"year\":\"1983\",\"journal-title\":\"Flora of Tierra del Fuego.\"},{\"key\":\"10808_B25\",\"author\":\"Nees ab Esenbeck\",\"year\":\"1841\",\"journal-title\":\"Florae Africae Australioris. Illustrationis monographicae. I. Gramineae\",\"DOI\":\"10.5962\\/bhl.title.7585\",\"doi-asserted-by\":\"crossref\"},{\"key\":\"10808_B26\",\"author\":\"Nicora\",\"year\":\"1978\",\"journal-title\":\"Flora Patagonica, parte III, Gramineae\"},{\"key\":\"10808_B27\",\"DOI\":\"10.1111\\/j.1365-294X.2007.03568.x\",\"doi-asserted-by\":\"publisher\"},{\"key\":\"10808_B28\",\"first-page\":\"58\",\"article-title\":\"Lamprothyrsus, eine neue Gattung der Gr\\u00e4ser und ihre Verwandten.\",\"volume\":\"85\",\"author\":\"Pilger\",\"year\":\"1906\",\"journal-title\":\"Botanische Jahrb\\u00fccher f\\u00fcr Systematik, Beiblatt\"},{\"key\":\"10808_B29\",\"DOI\":\"10.1093\\/sysbio\\/syp068\",\"doi-asserted-by\":\"publisher\"},{\"key\":\"10808_B30\",\"DOI\":\"10.1016\\/j.ympev.2008.05.030\",\"doi-asserted-by\":\"publisher\"},{\"key\":\"10808_B31\",\"author\":\"Renvoize\",\"year\":\"1998\",\"journal-title\":\"Gramineas de Bolivia.\"},{\"key\":\"10808_B32\",\"DOI\":\"10.1016\\/S0022-4618(16)30023-7\",\"doi-asserted-by\":\"publisher\"},{\"key\":\"10808_B33\",\"author\":\"Stapf\",\"year\":\"1897\",\"article-title\":\"The botanical history of the Uva, Pampas Grass and their allies.\",\"journal-title\":\"The Gardener\\u2019s Chronicle\"},{\"key\":\"10808_B34\",\"first-page\":\"251\",\"article-title\":\"New grasses from Honduras, Colombia, Venezuela, Ecuador, Bolivia, and Brazil.\",\"volume\":\"29\",\"author\":\"Swallen\",\"year\":\"1948\",\"journal-title\":\"Contributions from the United States National Herbarium\"},{\"key\":\"10808_B35\",\"first-page\":\"7\",\"article-title\":\"New grasses from Santa Catarina.\",\"volume\":\"7\",\"author\":\"Swallen\",\"year\":\"1956\",\"journal-title\":\"Sellowia\"},{\"key\":\"10808_B36\",\"first-page\":\"359\",\"article-title\":\"Studies in the genus Cortaderia (Poaceae) Ill. Cortaderia peruviana, a new synonym of C. hieronymi.\",\"volume\":\"51\",\"author\":\"Testoni\",\"year\":\"2016\",\"journal-title\":\"Boletin De La Sociedad Argentina De Botanica\"},{\"key\":\"10808_B37\",\"DOI\":\"10.14522\\/darwiniana\\/2014.22.591\",\"doi-asserted-by\":\"publisher\"},{\"key\":\"10808_B38\",\"author\":\"Thiers\",\"year\":\"continuously updated\",\"journal-title\":\"Index Herbariorum: A global directory of public herbaria and associated staff\"},{\"key\":\"10808_B39\",\"DOI\":\"10.1111\\/j.1365-2818.1987.tb02859.x\",\"doi-asserted-by\":\"publisher\"},{\"key\":\"10808_B40\",\"author\":\"Tovar\",\"year\":\"1993\",\"journal-title\":\"Las Gramineas (Poaceae) del Peru\"}],\"container-title\":\"PhytoKeys\",\"original-title\":[],\"link\":[{\"URL\":\"http:\\/\\/phytokeys.pensoft.net\\/lib\\/ajax_srv\\/article_elements_srv.php?action=download_pdf&item_id=10808\",\"content-type\":\"application\\/pdf\",\"content-version\":\"vor\",\"intended-application\":\"text-mining\"},{\"URL\":\"http:\\/\\/phytokeys.pensoft.net\\/lib\\/ajax_srv\\/article_elements_srv.php?action=download_xml&item_id=10808\",\"content-type\":\"application\\/xml\",\"content-version\":\"vor\",\"intended-application\":\"text-mining\"},{\"URL\":\"http:\\/\\/phytokeys.pensoft.net\\/article_preview.php?id=10808&skip_redirect=1\",\"content-type\":\"unspecified\",\"content-version\":\"vor\",\"intended-application\":\"similarity-checking\"}],\"deposited\":{\"date-parts\":[[2017,6,25]],\"date-time\":\"2017-06-25T07:57:19Z\",\"timestamp\":1498377439000},\"score\":1.0,\"subtitle\":[],\"short-title\":[],\"issued\":{\"date-parts\":[[2017,1,11]]},\"references-count\":40,\"URL\":\"http:\\/\\/dx.doi.org\\/10.3897\\/phytokeys.76.10808\",\"relation\":{\"cites\":[]},\"ISSN\":[\"1314-2003\",\"1314-2011\"],\"container-title-short\":\"PK\"}\n"
     ]
    }
   ],
   "source": [
    "#::GMG::Solving also the identifier with doi.org REST API\n",
    "url = \"https://dx.doi.org/\"\n",
    "headers = {'Accept': 'application/vnd.citationstyles.csl+json;q=1.0'}\n",
    "r = requests.post(url + doi, headers=headers)\n",
    "#print(r.status_code)\n",
    "print(r.text)"
   ]
  },
  {
   "cell_type": "code",
   "execution_count": 22,
   "metadata": {
    "colab": {
     "base_uri": "https://localhost:8080/",
     "height": 575
    },
    "colab_type": "code",
    "executionInfo": {
     "elapsed": 549,
     "status": "ok",
     "timestamp": 1544079991040,
     "user": {
      "displayName": "Gerardo de Miguel",
      "photoUrl": "https://lh3.googleusercontent.com/-LmFLfSn0ThU/AAAAAAAAAAI/AAAAAAAAAkg/xGe-_jxkcZA/s64/photo.jpg",
      "userId": "12735548512534412210"
     },
     "user_tz": -60
    },
    "id": "Khv04p2GslOy",
    "outputId": "93a883c1-8237-4095-9462-4957e398f633"
   },
   "outputs": [
    {
     "name": "stdout",
     "output_type": "stream",
     "text": [
      "indexed: {'date-parts': [[2018, 4, 18]], 'date-time': '2018-04-18T02:13:05Z', 'timestamp': 1524017585964}\n",
      "reference-count: 40\n",
      "publisher: Pensoft Publishers\n",
      "license: [{'URL': 'http://creativecommons.org/licenses/by/4.0/', 'start': {'date-parts': [[2017, 1, 11]], 'date-time': '2017-01-11T00:00:00Z', 'timestamp': 1484092800000}, 'delay-in-days': 0, 'content-version': 'vor'}]\n",
      "content-domain: {'domain': [], 'crossmark-restriction': False}\n",
      "DOI: 10.3897/phytokeys.76.10808\n",
      "type: article-journal\n",
      "created: {'date-parts': [[2017, 1, 11]], 'date-time': '2017-01-11T14:38:26Z', 'timestamp': 1484145506000}\n",
      "page: 39-69\n",
      "source: Crossref\n",
      "is-referenced-by-count: 0\n",
      "title: Synoptic taxonomy of Cortaderia Stapf (Danthonioideae, Poaceae)\n",
      "prefix: 10.3897\n",
      "volume: 76\n",
      "author: [{'given': 'Daniel', 'family': 'Testoni', 'sequence': 'first', 'affiliation': []}, {'given': 'H. Peter', 'family': 'Linder', 'sequence': 'additional', 'affiliation': []}]\n",
      "member: 2258\n",
      "published-online: {'date-parts': [[2017, 1, 11]]}\n",
      "reference: [{'key': '10808_B1', 'first-page': '204', 'article-title': 'Las especies de Gramineas del genero Cortaderia en Chile.', 'volume': '27', 'author': 'Acevedo de Vargas', 'year': '1959', 'journal-title': 'Boletin del Museo Nacional de Historia Natural'}, {'key': '10808_B2', 'first-page': '43', 'article-title': 'Sinopsis del genero Cortaderia (Poaceae) en Argentina.', 'volume': '33', 'author': 'Astegiano', 'year': '1995', 'journal-title': 'Darwiniana'}, {'key': '10808_B3', 'DOI': '10.2307/3298522', 'doi-asserted-by': 'publisher'}, {'key': '10808_B4', 'first-page': '119', 'article-title': 'Sobre del género Lamprothyrsus (Poaceae) en Argentina.', 'volume': '12-13', 'author': 'Bernardello', 'year': '1979', 'journal-title': 'Kurtziana'}, {'key': '10808_B5', 'author': 'Conert', 'year': '1961', 'journal-title': 'Die Systematik und Anatomie der Arundineae. J.'}, {'key': '10808_B6', 'DOI': '10.1080/0028825X.1965.10428709', 'doi-asserted-by': 'publisher'}, {'key': '10808_B7', 'DOI': '10.2307/2407199', 'doi-asserted-by': 'publisher'}, {'key': '10808_B8', 'DOI': '10.1038/hdy.1989.111', 'doi-asserted-by': 'publisher'}, {'key': '10808_B9', 'DOI': '10.2307/2399797', 'doi-asserted-by': 'publisher'}, {'key': '10808_B10', 'DOI': '10.2307/1218786', 'doi-asserted-by': 'publisher'}, {'key': '10808_B11', 'first-page': '78', 'article-title': 'Cortaderia.', 'volume': 'vol 8', 'author': 'Davidse', 'year': '2004', 'journal-title': 'Flora of the Venezuelan Guayana'}, {'key': '10808_B12', 'first-page': '1', 'article-title': 'Beiträge zur Flora des Itatiaia.', 'volume': '9', 'author': 'Dusén', 'year': '1909', 'journal-title': 'Arkiv für Botanik'}, {'key': '10808_B13', 'DOI': '10.4102/abc.v12i1.1382', 'doi-asserted-by': 'publisher'}, {'key': '10808_B14', 'DOI': '10.4102/abc.v12i4.1441', 'doi-asserted-by': 'publisher'}, {'key': '10808_B15', 'first-page': '176', 'article-title': 'Growth of the pampas grass Cortaderia spp in New Zealand Pinus radiata forests.', 'volume': '20', 'author': 'Gadgil', 'year': '1990', 'journal-title': 'New Zealand Journal of Forestry Science'}, {'key': '10808_B16', 'author': 'Grounds', 'year': '1979', 'journal-title': 'Ornamental Grasses.'}, {'key': '10808_B17', 'first-page': '111', 'article-title': 'The impact of pampas grasses as weeds in southern Australa.', 'volume': '6', 'author': 'Harradine', 'year': '1991', 'journal-title': 'Plant Protection Quarterly'}, {'issue': '8', 'key': '10808_B18', 'first-page': '291', 'article-title': 'The grasses of Ecuador, Peru, and Bolivia.', 'volume': '24', 'author': 'Hitchcock', 'year': '1927', 'journal-title': 'Contrib US Natl Herb'}, {'key': '10808_B19', 'author': 'Laegaard', 'first-page': '3', 'year': '1997', 'article-title': 'Gramineae (part 1).', 'journal-title': 'Flora of Ecuador'}, {'key': '10808_B20', 'DOI': '10.1046/j.1365-2745.2001.00524.x', 'doi-asserted-by': 'publisher'}, {'key': '10808_B21', 'DOI': '10.3417/2009006', 'doi-asserted-by': 'publisher'}, {'key': '10808_B22', 'DOI': '10.2307/3392215', 'doi-asserted-by': 'publisher'}, {'key': '10808_B23', 'DOI': '10.12705/635.7', 'doi-asserted-by': 'publisher'}, {'key': '10808_B24', 'author': 'Moore', 'year': '1983', 'journal-title': 'Flora of Tierra del Fuego.'}, {'key': '10808_B25', 'author': 'Nees ab Esenbeck', 'year': '1841', 'journal-title': 'Florae Africae Australioris. Illustrationis monographicae. I. Gramineae', 'DOI': '10.5962/bhl.title.7585', 'doi-asserted-by': 'crossref'}, {'key': '10808_B26', 'author': 'Nicora', 'year': '1978', 'journal-title': 'Flora Patagonica, parte III, Gramineae'}, {'key': '10808_B27', 'DOI': '10.1111/j.1365-294X.2007.03568.x', 'doi-asserted-by': 'publisher'}, {'key': '10808_B28', 'first-page': '58', 'article-title': 'Lamprothyrsus, eine neue Gattung der Gräser und ihre Verwandten.', 'volume': '85', 'author': 'Pilger', 'year': '1906', 'journal-title': 'Botanische Jahrbücher für Systematik, Beiblatt'}, {'key': '10808_B29', 'DOI': '10.1093/sysbio/syp068', 'doi-asserted-by': 'publisher'}, {'key': '10808_B30', 'DOI': '10.1016/j.ympev.2008.05.030', 'doi-asserted-by': 'publisher'}, {'key': '10808_B31', 'author': 'Renvoize', 'year': '1998', 'journal-title': 'Gramineas de Bolivia.'}, {'key': '10808_B32', 'DOI': '10.1016/S0022-4618(16)30023-7', 'doi-asserted-by': 'publisher'}, {'key': '10808_B33', 'author': 'Stapf', 'year': '1897', 'article-title': 'The botanical history of the Uva, Pampas Grass and their allies.', 'journal-title': 'The Gardener’s Chronicle'}, {'key': '10808_B34', 'first-page': '251', 'article-title': 'New grasses from Honduras, Colombia, Venezuela, Ecuador, Bolivia, and Brazil.', 'volume': '29', 'author': 'Swallen', 'year': '1948', 'journal-title': 'Contributions from the United States National Herbarium'}, {'key': '10808_B35', 'first-page': '7', 'article-title': 'New grasses from Santa Catarina.', 'volume': '7', 'author': 'Swallen', 'year': '1956', 'journal-title': 'Sellowia'}, {'key': '10808_B36', 'first-page': '359', 'article-title': 'Studies in the genus Cortaderia (Poaceae) Ill. Cortaderia peruviana, a new synonym of C. hieronymi.', 'volume': '51', 'author': 'Testoni', 'year': '2016', 'journal-title': 'Boletin De La Sociedad Argentina De Botanica'}, {'key': '10808_B37', 'DOI': '10.14522/darwiniana/2014.22.591', 'doi-asserted-by': 'publisher'}, {'key': '10808_B38', 'author': 'Thiers', 'year': 'continuously updated', 'journal-title': 'Index Herbariorum: A global directory of public herbaria and associated staff'}, {'key': '10808_B39', 'DOI': '10.1111/j.1365-2818.1987.tb02859.x', 'doi-asserted-by': 'publisher'}, {'key': '10808_B40', 'author': 'Tovar', 'year': '1993', 'journal-title': 'Las Gramineas (Poaceae) del Peru'}]\n",
      "container-title: PhytoKeys\n",
      "original-title: []\n",
      "link: [{'URL': 'http://phytokeys.pensoft.net/lib/ajax_srv/article_elements_srv.php?action=download_pdf&item_id=10808', 'content-type': 'application/pdf', 'content-version': 'vor', 'intended-application': 'text-mining'}, {'URL': 'http://phytokeys.pensoft.net/lib/ajax_srv/article_elements_srv.php?action=download_xml&item_id=10808', 'content-type': 'application/xml', 'content-version': 'vor', 'intended-application': 'text-mining'}, {'URL': 'http://phytokeys.pensoft.net/article_preview.php?id=10808&skip_redirect=1', 'content-type': 'unspecified', 'content-version': 'vor', 'intended-application': 'similarity-checking'}]\n",
      "deposited: {'date-parts': [[2017, 6, 25]], 'date-time': '2017-06-25T07:57:19Z', 'timestamp': 1498377439000}\n",
      "score: 1.0\n",
      "subtitle: []\n",
      "short-title: []\n",
      "issued: {'date-parts': [[2017, 1, 11]]}\n",
      "references-count: 40\n",
      "URL: http://dx.doi.org/10.3897/phytokeys.76.10808\n",
      "relation: {'cites': []}\n",
      "ISSN: ['1314-2003', '1314-2011']\n",
      "container-title-short: PK\n"
     ]
    }
   ],
   "source": [
    "json_doi_zenodo = json.loads(r.text)\n",
    "for key in json_doi_zenodo.keys():\n",
    "    print ('{}: {}'.format(key, json_doi_zenodo[key]))"
   ]
  },
  {
   "cell_type": "code",
   "execution_count": 23,
   "metadata": {
    "colab": {
     "base_uri": "https://localhost:8080/",
     "height": 52
    },
    "colab_type": "code",
    "executionInfo": {
     "elapsed": 581,
     "status": "ok",
     "timestamp": 1544079997969,
     "user": {
      "displayName": "Gerardo de Miguel",
      "photoUrl": "https://lh3.googleusercontent.com/-LmFLfSn0ThU/AAAAAAAAAAI/AAAAAAAAAkg/xGe-_jxkcZA/s64/photo.jpg",
      "userId": "12735548512534412210"
     },
     "user_tz": -60
    },
    "id": "rljvzQGduJIi",
    "outputId": "a52fa63e-b9ec-4691-e160-fe3e032adc08"
   },
   "outputs": [
    {
     "name": "stdout",
     "output_type": "stream",
     "text": [
      "doi: 10.3897/phytokeys.76.10808 solves to \n",
      "url: http://phytokeys.pensoft.net/lib/ajax_srv/article_elements_srv.php?action=download_pdf&item_id=10808\n"
     ]
    }
   ],
   "source": [
    "#::GMG::Here we get the URL to the actual pdf digital scintific paper document\n",
    "#       Note that with handle we didn't get the actual document (!)\n",
    "print('doi: {} solves to \\nurl: {}'.format(json_doi_zenodo['DOI'], \n",
    "                json_doi_zenodo['link'][0]['URL']))"
   ]
  },
  {
   "cell_type": "markdown",
   "metadata": {
    "colab_type": "text",
    "id": "tEnD5G0T0kVs"
   },
   "source": [
    "#### Figshare (REST API)\n",
    "\n"
   ]
  },
  {
   "cell_type": "markdown",
   "metadata": {
    "colab_type": "text",
    "id": "1U7e4RLBmMC7"
   },
   "source": [
    "With fighare I must use [its API](https://docs.figshare.com/#articles_search). Documenttaion gives an example with the following Python Template:\n",
    "\n",
    "```python\n",
    "from __future__ import print_statement\n",
    "import time\n",
    "import swagger_client\n",
    "from swagger_client.rest import ApiException\n",
    "from pprint import pprint\n",
    "\n",
    "# create an instance of the API class\n",
    "api_instance = swagger_client.ArticlesApi()\n",
    "articleId = 789 # Long | Article Unique identifier\n",
    "\n",
    "try: \n",
    "    # View article details\n",
    "    api_response = api_instance.article_details(articleId)\n",
    "    pprint(api_response)\n",
    "except ApiException as e:\n",
    "    print(\"Exception when calling ArticlesApi->articleDetails: %s\\n\" % e)\n",
    "```\n",
    "\n",
    "or `curl` from command-line *shell*:\n",
    "\n",
    "```bash\n",
    "curl -X GET \"https://api.figshare.com/v2/articles/{article_id}\"\n",
    "```\n"
   ]
  },
  {
   "cell_type": "code",
   "execution_count": 30,
   "metadata": {
    "colab": {
     "base_uri": "https://localhost:8080/",
     "height": 2863
    },
    "colab_type": "code",
    "executionInfo": {
     "elapsed": 1098,
     "status": "ok",
     "timestamp": 1544080955730,
     "user": {
      "displayName": "Gerardo de Miguel",
      "photoUrl": "https://lh3.googleusercontent.com/-LmFLfSn0ThU/AAAAAAAAAAI/AAAAAAAAAkg/xGe-_jxkcZA/s64/photo.jpg",
      "userId": "12735548512534412210"
     },
     "user_tz": -60
    },
    "id": "N-PHa1XPJSkd",
    "outputId": "ae6dc521-1329-4ad4-c15e-affee9b1d117"
   },
   "outputs": [
    {
     "data": {
      "text/plain": [
       "{'authors': [{'full_name': 'David Brandão Nunes',\n",
       "   'id': 5996879,\n",
       "   'is_active': False,\n",
       "   'orcid_id': '',\n",
       "   'url_name': '_'},\n",
       "  {'full_name': 'José de Paula Barros Neto',\n",
       "   'id': 4702705,\n",
       "   'is_active': False,\n",
       "   'orcid_id': '',\n",
       "   'url_name': '_'},\n",
       "  {'full_name': 'Silvia Maria de Freitas',\n",
       "   'id': 5996882,\n",
       "   'is_active': False,\n",
       "   'orcid_id': '',\n",
       "   'url_name': '_'}],\n",
       " 'categories': [{'id': 548,\n",
       "   'parent_id': 5,\n",
       "   'title': 'Civil Geotechnical Engineering'},\n",
       "  {'id': 549, 'parent_id': 5, 'title': 'Construction Engineering'},\n",
       "  {'id': 1109,\n",
       "   'parent_id': 1101,\n",
       "   'title': 'Architecture not elsewhere classified'}],\n",
       " 'citation': 'Nunes, David Brandão; Barros Neto, José de Paula; Freitas, Silvia Maria de (2019): Multiple linear regression model to evaluate the market value of residential apartments in Fortaleza, CE. SciELO journals. Fileset.',\n",
       " 'confidential_reason': '',\n",
       " 'created_date': '2018-11-21T02:51:21Z',\n",
       " 'custom_fields': [{'name': 'Read full text',\n",
       "   'value': ['http://www.scielo.br/scielo.php?script=sci_arttext&pid=S1678-86212019000100089&lng=en&tlng=en']}],\n",
       " 'defined_type': 4,\n",
       " 'description': '<p></p><p>Abstract The valuation of real estate, which assists in the definition of market value, is an important science with a wide field of action, which includes the collection of taxes, commercial transactions, insurance and judicial expertise. This study presents the construction of a linear regression model to determine the market value (dependent variable) of residential apartments in the city of Fortaleza-CE. The studied database presents 17,493 apartments, divided into 227 plan types in a total of 154 projects launched between the years of 2011 and 2014. The model developed was obtained using Multiple Linear Regression associated with the Ridge Regression technique to solve the existing multicollinearity problem. In the analysis of 30 variables (12 quantitative and 18 dummy type qualitative variables), an equation with 6 variables was reached, which meets the theoretical assumptions for its existence.</p><p></p>',\n",
       " 'doi': '10.6084/m9.figshare.7368278.v1',\n",
       " 'embargo_date': None,\n",
       " 'embargo_reason': '',\n",
       " 'embargo_type': None,\n",
       " 'figshare_url': 'https://figshare.com/articles/Multiple_linear_regression_model_to_evaluate_the_market_value_of_residential_apartments_in_Fortaleza_CE/7368278',\n",
       " 'files': [{'computed_md5': 'ac8d5880ddbed2b50c558ef6184d3655',\n",
       "   'download_url': 'https://ndownloader.figshare.com/files/13622501',\n",
       "   'id': 13622501,\n",
       "   'is_link_only': False,\n",
       "   'name': '1678-8621-ac-19-01-0089-gf01.jpg',\n",
       "   'size': 602667,\n",
       "   'supplied_md5': 'ac8d5880ddbed2b50c558ef6184d3655'},\n",
       "  {'computed_md5': '35215590790578c15e734adec9d5bf07',\n",
       "   'download_url': 'https://ndownloader.figshare.com/files/13622504',\n",
       "   'id': 13622504,\n",
       "   'is_link_only': False,\n",
       "   'name': '1678-8621-ac-19-01-0089-gf02.jpg',\n",
       "   'size': 252065,\n",
       "   'supplied_md5': '35215590790578c15e734adec9d5bf07'},\n",
       "  {'computed_md5': 'b0acbd356e4a8b856dc5df71050981fa',\n",
       "   'download_url': 'https://ndownloader.figshare.com/files/13622507',\n",
       "   'id': 13622507,\n",
       "   'is_link_only': False,\n",
       "   'name': '1678-8621-ac-19-01-0089-gf03.jpg',\n",
       "   'size': 202970,\n",
       "   'supplied_md5': 'b0acbd356e4a8b856dc5df71050981fa'},\n",
       "  {'computed_md5': 'd6a576bf66c585587c1388fcac50fc85',\n",
       "   'download_url': 'https://ndownloader.figshare.com/files/13622510',\n",
       "   'id': 13622510,\n",
       "   'is_link_only': False,\n",
       "   'name': '1678-8621-ac-19-01-0089-gf04.jpg',\n",
       "   'size': 214838,\n",
       "   'supplied_md5': 'd6a576bf66c585587c1388fcac50fc85'},\n",
       "  {'computed_md5': '460713ce430aeb4e65cff84c860fc99b',\n",
       "   'download_url': 'https://ndownloader.figshare.com/files/13622513',\n",
       "   'id': 13622513,\n",
       "   'is_link_only': False,\n",
       "   'name': 'Table_1.xls',\n",
       "   'size': 5632,\n",
       "   'supplied_md5': '460713ce430aeb4e65cff84c860fc99b'},\n",
       "  {'computed_md5': '590a9861b9901583c26da60a69c7c7cf',\n",
       "   'download_url': 'https://ndownloader.figshare.com/files/13622516',\n",
       "   'id': 13622516,\n",
       "   'is_link_only': False,\n",
       "   'name': 'Table_2.xls',\n",
       "   'size': 5632,\n",
       "   'supplied_md5': '590a9861b9901583c26da60a69c7c7cf'},\n",
       "  {'computed_md5': '7d9003cb82984df55a10256774925be4',\n",
       "   'download_url': 'https://ndownloader.figshare.com/files/13622519',\n",
       "   'id': 13622519,\n",
       "   'is_link_only': False,\n",
       "   'name': 'Table_3.xls',\n",
       "   'size': 9728,\n",
       "   'supplied_md5': '7d9003cb82984df55a10256774925be4'},\n",
       "  {'computed_md5': '6ac7edb5b01213dc2a11be8bcc2404f3',\n",
       "   'download_url': 'https://ndownloader.figshare.com/files/13622522',\n",
       "   'id': 13622522,\n",
       "   'is_link_only': False,\n",
       "   'name': 'Table_4.xls',\n",
       "   'size': 5632,\n",
       "   'supplied_md5': '6ac7edb5b01213dc2a11be8bcc2404f3'},\n",
       "  {'computed_md5': 'de9ea652956a6f9d5dcbaf6343d444c9',\n",
       "   'download_url': 'https://ndownloader.figshare.com/files/13622528',\n",
       "   'id': 13622528,\n",
       "   'is_link_only': False,\n",
       "   'name': 'Table_5.xls',\n",
       "   'size': 9728,\n",
       "   'supplied_md5': 'de9ea652956a6f9d5dcbaf6343d444c9'},\n",
       "  {'computed_md5': '61a73831e3089d66e4c2aed4a84edad9',\n",
       "   'download_url': 'https://ndownloader.figshare.com/files/13622534',\n",
       "   'id': 13622534,\n",
       "   'is_link_only': False,\n",
       "   'name': 'Table_6.xls',\n",
       "   'size': 5632,\n",
       "   'supplied_md5': '61a73831e3089d66e4c2aed4a84edad9'},\n",
       "  {'computed_md5': 'b44327e604b95e776a963bb64a58bd01',\n",
       "   'download_url': 'https://ndownloader.figshare.com/files/13622540',\n",
       "   'id': 13622540,\n",
       "   'is_link_only': False,\n",
       "   'name': 'Table_7.xls',\n",
       "   'size': 5632,\n",
       "   'supplied_md5': 'b44327e604b95e776a963bb64a58bd01'},\n",
       "  {'computed_md5': '11ed4804306d354ce9fcb0c861690873',\n",
       "   'download_url': 'https://ndownloader.figshare.com/files/13622546',\n",
       "   'id': 13622546,\n",
       "   'is_link_only': False,\n",
       "   'name': 'Table_8.xls',\n",
       "   'size': 5632,\n",
       "   'supplied_md5': '11ed4804306d354ce9fcb0c861690873'},\n",
       "  {'computed_md5': 'e98bdf22e592e75b3d0c8e0e5f9547bc',\n",
       "   'download_url': 'https://ndownloader.figshare.com/files/13622552',\n",
       "   'id': 13622552,\n",
       "   'is_link_only': False,\n",
       "   'name': 'Table_9.xls',\n",
       "   'size': 5632,\n",
       "   'supplied_md5': 'e98bdf22e592e75b3d0c8e0e5f9547bc'},\n",
       "  {'computed_md5': 'fbcf2d6de76db54fb705795e2f6ad965',\n",
       "   'download_url': 'https://ndownloader.figshare.com/files/13622561',\n",
       "   'id': 13622561,\n",
       "   'is_link_only': False,\n",
       "   'name': 'Table_10.xls',\n",
       "   'size': 5632,\n",
       "   'supplied_md5': 'fbcf2d6de76db54fb705795e2f6ad965'}],\n",
       " 'funding': None,\n",
       " 'funding_list': [],\n",
       " 'group_id': 12631,\n",
       " 'has_linked_file': False,\n",
       " 'id': 7368278,\n",
       " 'is_active': True,\n",
       " 'is_confidential': False,\n",
       " 'is_embargoed': False,\n",
       " 'is_metadata_record': False,\n",
       " 'is_public': True,\n",
       " 'license': {'name': 'CC BY 4.0',\n",
       "  'url': 'https://creativecommons.org/licenses/by/4.0/',\n",
       "  'value': 1},\n",
       " 'metadata_reason': '',\n",
       " 'modified_date': '2018-11-21T02:51:22Z',\n",
       " 'published_date': '2019-03-01T02:51:07Z',\n",
       " 'references': [],\n",
       " 'size': 1337052,\n",
       " 'status': 'public',\n",
       " 'tags': ['Real estate',\n",
       "  'Market value',\n",
       "  'Property valuers',\n",
       "  'Multiple linear regression'],\n",
       " 'thumb': 'https://s3-eu-west-1.amazonaws.com/ppreviews-scielo-87127105408/13622510/thumb.png',\n",
       " 'title': 'Multiple linear regression model to evaluate the market value of residential apartments in Fortaleza, CE',\n",
       " 'url': 'https://api.figshare.com/v2/articles/7368278',\n",
       " 'url_private_api': 'https://api.figshare.com/v2/account/articles/7368278',\n",
       " 'url_private_html': 'https://figshare.com/account/articles/7368278',\n",
       " 'url_public_api': 'https://api.figshare.com/v2/articles/7368278',\n",
       " 'url_public_html': 'https://figshare.com/articles/Multiple_linear_regression_model_to_evaluate_the_market_value_of_residential_apartments_in_Fortaleza_CE/7368278',\n",
       " 'version': 1}"
      ]
     },
     "execution_count": 30,
     "metadata": {
      "tags": []
     },
     "output_type": "execute_result"
    }
   ],
   "source": [
    "#::GMG::I'm going to use only requests and json Python libraries instead of\n",
    "#       the swagger client ...\n",
    "#\n",
    "headers = {\"Content-Type\": \"application/json\"}\n",
    "r = requests.get(\"https://api.figshare.com/v2/articles/7368278\",\n",
    "                 headers=headers)\n",
    "r.json()"
   ]
  },
  {
   "cell_type": "code",
   "execution_count": 31,
   "metadata": {
    "colab": {
     "base_uri": "https://localhost:8080/",
     "height": 731
    },
    "colab_type": "code",
    "executionInfo": {
     "elapsed": 506,
     "status": "ok",
     "timestamp": 1544080961359,
     "user": {
      "displayName": "Gerardo de Miguel",
      "photoUrl": "https://lh3.googleusercontent.com/-LmFLfSn0ThU/AAAAAAAAAAI/AAAAAAAAAkg/xGe-_jxkcZA/s64/photo.jpg",
      "userId": "12735548512534412210"
     },
     "user_tz": -60
    },
    "id": "xyKrmcSsLCO6",
    "outputId": "63650ba0-b0bf-475e-8ae7-043349c510b3"
   },
   "outputs": [
    {
     "name": "stdout",
     "output_type": "stream",
     "text": [
      "status: public\n",
      "embargo_date: None\n",
      "citation: Nunes, David Brandão; Barros Neto, José de Paula; Freitas, Silvia Maria de (2019): Multiple linear regression model to evaluate the market value of residential apartments in Fortaleza, CE. SciELO journals. Fileset.\n",
      "url_private_api: https://api.figshare.com/v2/account/articles/7368278\n",
      "embargo_reason: \n",
      "references: []\n",
      "funding_list: []\n",
      "url_public_api: https://api.figshare.com/v2/articles/7368278\n",
      "id: 7368278\n",
      "custom_fields: [{'name': 'Read full text', 'value': ['http://www.scielo.br/scielo.php?script=sci_arttext&pid=S1678-86212019000100089&lng=en&tlng=en']}]\n",
      "size: 1337052\n",
      "metadata_reason: \n",
      "funding: None\n",
      "figshare_url: https://figshare.com/articles/Multiple_linear_regression_model_to_evaluate_the_market_value_of_residential_apartments_in_Fortaleza_CE/7368278\n",
      "embargo_type: None\n",
      "title: Multiple linear regression model to evaluate the market value of residential apartments in Fortaleza, CE\n",
      "defined_type: 4\n",
      "is_embargoed: False\n",
      "version: 1\n",
      "confidential_reason: \n",
      "files: [{'is_link_only': False, 'name': '1678-8621-ac-19-01-0089-gf01.jpg', 'supplied_md5': 'ac8d5880ddbed2b50c558ef6184d3655', 'computed_md5': 'ac8d5880ddbed2b50c558ef6184d3655', 'id': 13622501, 'download_url': 'https://ndownloader.figshare.com/files/13622501', 'size': 602667}, {'is_link_only': False, 'name': '1678-8621-ac-19-01-0089-gf02.jpg', 'supplied_md5': '35215590790578c15e734adec9d5bf07', 'computed_md5': '35215590790578c15e734adec9d5bf07', 'id': 13622504, 'download_url': 'https://ndownloader.figshare.com/files/13622504', 'size': 252065}, {'is_link_only': False, 'name': '1678-8621-ac-19-01-0089-gf03.jpg', 'supplied_md5': 'b0acbd356e4a8b856dc5df71050981fa', 'computed_md5': 'b0acbd356e4a8b856dc5df71050981fa', 'id': 13622507, 'download_url': 'https://ndownloader.figshare.com/files/13622507', 'size': 202970}, {'is_link_only': False, 'name': '1678-8621-ac-19-01-0089-gf04.jpg', 'supplied_md5': 'd6a576bf66c585587c1388fcac50fc85', 'computed_md5': 'd6a576bf66c585587c1388fcac50fc85', 'id': 13622510, 'download_url': 'https://ndownloader.figshare.com/files/13622510', 'size': 214838}, {'is_link_only': False, 'name': 'Table_1.xls', 'supplied_md5': '460713ce430aeb4e65cff84c860fc99b', 'computed_md5': '460713ce430aeb4e65cff84c860fc99b', 'id': 13622513, 'download_url': 'https://ndownloader.figshare.com/files/13622513', 'size': 5632}, {'is_link_only': False, 'name': 'Table_2.xls', 'supplied_md5': '590a9861b9901583c26da60a69c7c7cf', 'computed_md5': '590a9861b9901583c26da60a69c7c7cf', 'id': 13622516, 'download_url': 'https://ndownloader.figshare.com/files/13622516', 'size': 5632}, {'is_link_only': False, 'name': 'Table_3.xls', 'supplied_md5': '7d9003cb82984df55a10256774925be4', 'computed_md5': '7d9003cb82984df55a10256774925be4', 'id': 13622519, 'download_url': 'https://ndownloader.figshare.com/files/13622519', 'size': 9728}, {'is_link_only': False, 'name': 'Table_4.xls', 'supplied_md5': '6ac7edb5b01213dc2a11be8bcc2404f3', 'computed_md5': '6ac7edb5b01213dc2a11be8bcc2404f3', 'id': 13622522, 'download_url': 'https://ndownloader.figshare.com/files/13622522', 'size': 5632}, {'is_link_only': False, 'name': 'Table_5.xls', 'supplied_md5': 'de9ea652956a6f9d5dcbaf6343d444c9', 'computed_md5': 'de9ea652956a6f9d5dcbaf6343d444c9', 'id': 13622528, 'download_url': 'https://ndownloader.figshare.com/files/13622528', 'size': 9728}, {'is_link_only': False, 'name': 'Table_6.xls', 'supplied_md5': '61a73831e3089d66e4c2aed4a84edad9', 'computed_md5': '61a73831e3089d66e4c2aed4a84edad9', 'id': 13622534, 'download_url': 'https://ndownloader.figshare.com/files/13622534', 'size': 5632}, {'is_link_only': False, 'name': 'Table_7.xls', 'supplied_md5': 'b44327e604b95e776a963bb64a58bd01', 'computed_md5': 'b44327e604b95e776a963bb64a58bd01', 'id': 13622540, 'download_url': 'https://ndownloader.figshare.com/files/13622540', 'size': 5632}, {'is_link_only': False, 'name': 'Table_8.xls', 'supplied_md5': '11ed4804306d354ce9fcb0c861690873', 'computed_md5': '11ed4804306d354ce9fcb0c861690873', 'id': 13622546, 'download_url': 'https://ndownloader.figshare.com/files/13622546', 'size': 5632}, {'is_link_only': False, 'name': 'Table_9.xls', 'supplied_md5': 'e98bdf22e592e75b3d0c8e0e5f9547bc', 'computed_md5': 'e98bdf22e592e75b3d0c8e0e5f9547bc', 'id': 13622552, 'download_url': 'https://ndownloader.figshare.com/files/13622552', 'size': 5632}, {'is_link_only': False, 'name': 'Table_10.xls', 'supplied_md5': 'fbcf2d6de76db54fb705795e2f6ad965', 'computed_md5': 'fbcf2d6de76db54fb705795e2f6ad965', 'id': 13622561, 'download_url': 'https://ndownloader.figshare.com/files/13622561', 'size': 5632}]\n",
      "description: <p></p><p>Abstract The valuation of real estate, which assists in the definition of market value, is an important science with a wide field of action, which includes the collection of taxes, commercial transactions, insurance and judicial expertise. This study presents the construction of a linear regression model to determine the market value (dependent variable) of residential apartments in the city of Fortaleza-CE. The studied database presents 17,493 apartments, divided into 227 plan types in a total of 154 projects launched between the years of 2011 and 2014. The model developed was obtained using Multiple Linear Regression associated with the Ridge Regression technique to solve the existing multicollinearity problem. In the analysis of 30 variables (12 quantitative and 18 dummy type qualitative variables), an equation with 6 variables was reached, which meets the theoretical assumptions for its existence.</p><p></p>\n",
      "tags: ['Real estate', 'Market value', 'Property valuers', 'Multiple linear regression']\n",
      "url_private_html: https://figshare.com/account/articles/7368278\n",
      "published_date: 2019-03-01T02:51:07Z\n",
      "is_active: True\n",
      "authors: [{'url_name': '_', 'is_active': False, 'id': 5996879, 'full_name': 'David Brandão Nunes', 'orcid_id': ''}, {'url_name': '_', 'is_active': False, 'id': 4702705, 'full_name': 'José de Paula Barros Neto', 'orcid_id': ''}, {'url_name': '_', 'is_active': False, 'id': 5996882, 'full_name': 'Silvia Maria de Freitas', 'orcid_id': ''}]\n",
      "is_public: True\n",
      "categories: [{'parent_id': 5, 'id': 548, 'title': 'Civil Geotechnical Engineering'}, {'parent_id': 5, 'id': 549, 'title': 'Construction Engineering'}, {'parent_id': 1101, 'id': 1109, 'title': 'Architecture not elsewhere classified'}]\n",
      "thumb: https://s3-eu-west-1.amazonaws.com/ppreviews-scielo-87127105408/13622510/thumb.png\n",
      "is_confidential: False\n",
      "doi: 10.6084/m9.figshare.7368278.v1\n",
      "has_linked_file: False\n",
      "license: {'url': 'https://creativecommons.org/licenses/by/4.0/', 'name': 'CC BY 4.0', 'value': 1}\n",
      "url: https://api.figshare.com/v2/articles/7368278\n",
      "url_public_html: https://figshare.com/articles/Multiple_linear_regression_model_to_evaluate_the_market_value_of_residential_apartments_in_Fortaleza_CE/7368278\n",
      "created_date: 2018-11-21T02:51:21Z\n",
      "group_id: 12631\n",
      "is_metadata_record: False\n",
      "modified_date: 2018-11-21T02:51:22Z\n"
     ]
    }
   ],
   "source": [
    "json_article_figshare = json.loads(r.text)\n",
    "for key in json_article_figshare.keys():\n",
    "    print ('{}: {}'.format(key, json_article_figshare[key]))"
   ]
  },
  {
   "cell_type": "code",
   "execution_count": 32,
   "metadata": {
    "colab": {
     "base_uri": "https://localhost:8080/",
     "height": 35
    },
    "colab_type": "code",
    "executionInfo": {
     "elapsed": 596,
     "status": "ok",
     "timestamp": 1544080968714,
     "user": {
      "displayName": "Gerardo de Miguel",
      "photoUrl": "https://lh3.googleusercontent.com/-LmFLfSn0ThU/AAAAAAAAAAI/AAAAAAAAAkg/xGe-_jxkcZA/s64/photo.jpg",
      "userId": "12735548512534412210"
     },
     "user_tz": -60
    },
    "id": "mEuzWGJ7MiIC",
    "outputId": "442e5e0a-7a0a-4f44-ed5c-cdc3ced08542"
   },
   "outputs": [
    {
     "name": "stdout",
     "output_type": "stream",
     "text": [
      "Figshare article DOI: 10.6084/m9.figshare.7368278.v1\n"
     ]
    }
   ],
   "source": [
    "#::GMG::I get the DOI\n",
    "print('Figshare article DOI: {}'.format(json_article_figshare['doi']))"
   ]
  },
  {
   "cell_type": "markdown",
   "metadata": {
    "colab_type": "text",
    "id": "kXVLL5SSjskj"
   },
   "source": [
    "#### Figshare (handle)"
   ]
  },
  {
   "cell_type": "code",
   "execution_count": 33,
   "metadata": {
    "colab": {
     "base_uri": "https://localhost:8080/",
     "height": 89
    },
    "colab_type": "code",
    "executionInfo": {
     "elapsed": 761,
     "status": "ok",
     "timestamp": 1544080973389,
     "user": {
      "displayName": "Gerardo de Miguel",
      "photoUrl": "https://lh3.googleusercontent.com/-LmFLfSn0ThU/AAAAAAAAAAI/AAAAAAAAAkg/xGe-_jxkcZA/s64/photo.jpg",
      "userId": "12735548512534412210"
     },
     "user_tz": -60
    },
    "id": "ic3PZzs1Mx9N",
    "outputId": "10a15c75-104c-44c0-add2-33a03b99b07a"
   },
   "outputs": [
    {
     "name": "stdout",
     "output_type": "stream",
     "text": [
      "responseCode: 1\n",
      "handle: 10.6084/m9.figshare.7368278.v1\n",
      "values: [{'index': 100, 'type': 'HS_ADMIN', 'data': {'format': 'admin', 'value': {'handle': '10.admin/codata', 'index': 300, 'permissions': '111111111111'}}, 'ttl': 86400, 'timestamp': '2018-11-21T02:51:22Z'}, {'index': 1, 'type': 'URL', 'data': {'format': 'string', 'value': 'https://figshare.com/articles/Multiple_linear_regression_model_to_evaluate_the_market_value_of_residential_apartments_in_Fortaleza_CE/7368278/1'}, 'ttl': 86400, 'timestamp': '2018-11-21T02:51:22Z'}]\n"
     ]
    }
   ],
   "source": [
    "#::GMG::I resolve the DOI with handle\n",
    "#::GMG::Solving the figshare DOI identifier with handle\n",
    "# \n",
    "url = \"http://hdl.handle.net/api/handles/\"\n",
    "doi = json_article_figshare['doi']\n",
    "r = requests.get(url +  doi)\n",
    "json_handle_figshare = json.loads(r.text)\n",
    "for key in json_handle_figshare.keys():\n",
    "    print ('{}: {}'.format(key, json_handle_figshare[key]))"
   ]
  },
  {
   "cell_type": "code",
   "execution_count": 34,
   "metadata": {
    "colab": {
     "base_uri": "https://localhost:8080/",
     "height": 55
    },
    "colab_type": "code",
    "executionInfo": {
     "elapsed": 518,
     "status": "ok",
     "timestamp": 1544080976814,
     "user": {
      "displayName": "Gerardo de Miguel",
      "photoUrl": "https://lh3.googleusercontent.com/-LmFLfSn0ThU/AAAAAAAAAAI/AAAAAAAAAkg/xGe-_jxkcZA/s64/photo.jpg",
      "userId": "12735548512534412210"
     },
     "user_tz": -60
    },
    "id": "VFeiT1zXOyPl",
    "outputId": "4cadc8bb-27b4-4f3a-f606-71985be89394"
   },
   "outputs": [
    {
     "name": "stdout",
     "output_type": "stream",
     "text": [
      "handle: 10.6084/m9.figshare.7368278.v1 solves to url: https://figshare.com/articles/Multiple_linear_regression_model_to_evaluate_the_market_value_of_residential_apartments_in_Fortaleza_CE/7368278/1\n"
     ]
    }
   ],
   "source": [
    "#::GMG::Then I get the URL\n",
    "#::note::The member of the list of values that holds the digital asset URL\n",
    "#        here has changed to the second place ...\n",
    "print('handle: {} solves to url: {}'.format(json_handle_figshare['handle'], \n",
    "                json_handle_figshare['values'][1]['data']['value']))"
   ]
  },
  {
   "cell_type": "markdown",
   "metadata": {
    "colab_type": "text",
    "id": "P5XZk1ifjvml"
   },
   "source": [
    "#### Figshare (doi.org)"
   ]
  },
  {
   "cell_type": "code",
   "execution_count": 38,
   "metadata": {
    "colab": {
     "base_uri": "https://localhost:8080/",
     "height": 627
    },
    "colab_type": "code",
    "executionInfo": {
     "elapsed": 1248,
     "status": "ok",
     "timestamp": 1544081401832,
     "user": {
      "displayName": "Gerardo de Miguel",
      "photoUrl": "https://lh3.googleusercontent.com/-LmFLfSn0ThU/AAAAAAAAAAI/AAAAAAAAAkg/xGe-_jxkcZA/s64/photo.jpg",
      "userId": "12735548512534412210"
     },
     "user_tz": -60
    },
    "id": "TelviQJsQUdh",
    "outputId": "6f593d00-d17a-4d01-8fa6-64271b27ded7"
   },
   "outputs": [
    {
     "name": "stdout",
     "output_type": "stream",
     "text": [
      "{\n",
      "  \"type\": \"article\",\n",
      "  \"id\": \"https://doi.org/10.6084/m9.figshare.7368278.v1\",\n",
      "  \"categories\": [\n",
      "    \"90501 Civil Geotechnical Engineering\",\n",
      "    \"90502 Construction Engineering\",\n",
      "    \"120199 Architecture not elsewhere classified\"\n",
      "  ],\n",
      "  \"author\": [\n",
      "    {\n",
      "      \"family\": \"Nunes\",\n",
      "      \"given\": \"David Brandão\"\n",
      "    },\n",
      "    {\n",
      "      \"family\": \"Neto\",\n",
      "      \"given\": \"José De Paula Barros\"\n",
      "    },\n",
      "    {\n",
      "      \"family\": \"Freitas\",\n",
      "      \"given\": \"Silvia Maria De\"\n",
      "    }\n",
      "  ],\n",
      "  \"issued\": {\n",
      "    \"date-parts\": [\n",
      "      [\n",
      "        2019\n",
      "      ]\n",
      "    ]\n",
      "  },\n",
      "  \"abstract\": \"Abstract The valuation of real estate, which assists in the definition of market value, is an important science with a wide field of action, which includes the collection of taxes, commercial transactions, insurance and judicial expertise. This study presents the construction of a linear regression model to determine the market value (dependent variable) of residential apartments in the city of Fortaleza-CE. The studied database presents 17,493 apartments, divided into 227 plan types in a total of 154 projects launched between the years of 2011 and 2014. The model developed was obtained using Multiple Linear Regression associated with the Ridge Regression technique to solve the existing multicollinearity problem. In the analysis of 30 variables (12 quantitative and 18 dummy type qualitative variables), an equation with 6 variables was reached, which meets the theoretical assumptions for its existence.\",\n",
      "  \"DOI\": \"10.6084/m9.figshare.7368278.v1\",\n",
      "  \"publisher\": \"Figshare\",\n",
      "  \"title\": \"Multiple linear regression model to evaluate the market value of residential apartments in Fortaleza, CE\"\n",
      "}\n"
     ]
    }
   ],
   "source": [
    "#::GMG::I resolve DOI now with DOI.org REST API\n",
    "url = \"https://dx.doi.org/\"\n",
    "headers = {'Accept': 'application/vnd.citationstyles.csl+json;q=1.0'}\n",
    "r = requests.post(url + doi, headers=headers)\n",
    "#print(r.status_code)\n",
    "print(r.text)"
   ]
  },
  {
   "cell_type": "code",
   "execution_count": 36,
   "metadata": {
    "colab": {
     "base_uri": "https://localhost:8080/",
     "height": 193
    },
    "colab_type": "code",
    "executionInfo": {
     "elapsed": 537,
     "status": "ok",
     "timestamp": 1544080987100,
     "user": {
      "displayName": "Gerardo de Miguel",
      "photoUrl": "https://lh3.googleusercontent.com/-LmFLfSn0ThU/AAAAAAAAAAI/AAAAAAAAAkg/xGe-_jxkcZA/s64/photo.jpg",
      "userId": "12735548512534412210"
     },
     "user_tz": -60
    },
    "id": "8URl7BMYRLme",
    "outputId": "2df8139b-6062-4d6a-e70b-ee6fa35a54ec"
   },
   "outputs": [
    {
     "name": "stdout",
     "output_type": "stream",
     "text": [
      "type: article\n",
      "id: https://doi.org/10.6084/m9.figshare.7368278.v1\n",
      "categories: ['90501 Civil Geotechnical Engineering', '90502 Construction Engineering', '120199 Architecture not elsewhere classified']\n",
      "author: [{'family': 'Nunes', 'given': 'David Brandão'}, {'family': 'Neto', 'given': 'José De Paula Barros'}, {'family': 'Freitas', 'given': 'Silvia Maria De'}]\n",
      "issued: {'date-parts': [[2019]]}\n",
      "abstract: Abstract The valuation of real estate, which assists in the definition of market value, is an important science with a wide field of action, which includes the collection of taxes, commercial transactions, insurance and judicial expertise. This study presents the construction of a linear regression model to determine the market value (dependent variable) of residential apartments in the city of Fortaleza-CE. The studied database presents 17,493 apartments, divided into 227 plan types in a total of 154 projects launched between the years of 2011 and 2014. The model developed was obtained using Multiple Linear Regression associated with the Ridge Regression technique to solve the existing multicollinearity problem. In the analysis of 30 variables (12 quantitative and 18 dummy type qualitative variables), an equation with 6 variables was reached, which meets the theoretical assumptions for its existence.\n",
      "DOI: 10.6084/m9.figshare.7368278.v1\n",
      "publisher: Figshare\n",
      "title: Multiple linear regression model to evaluate the market value of residential apartments in Fortaleza, CE\n"
     ]
    }
   ],
   "source": [
    "json_doi_figshare = json.loads(r.text)\n",
    "for key in json_doi_figshare.keys():\n",
    "    print ('{}: {}'.format(key, json_doi_figshare[key]))"
   ]
  },
  {
   "cell_type": "code",
   "execution_count": 39,
   "metadata": {
    "colab": {
     "base_uri": "https://localhost:8080/",
     "height": 52
    },
    "colab_type": "code",
    "executionInfo": {
     "elapsed": 555,
     "status": "ok",
     "timestamp": 1544081444200,
     "user": {
      "displayName": "Gerardo de Miguel",
      "photoUrl": "https://lh3.googleusercontent.com/-LmFLfSn0ThU/AAAAAAAAAAI/AAAAAAAAAkg/xGe-_jxkcZA/s64/photo.jpg",
      "userId": "12735548512534412210"
     },
     "user_tz": -60
    },
    "id": "iHXEN_uaRMlo",
    "outputId": "947bccd5-7b04-4fa3-ffb8-6af670e0d704"
   },
   "outputs": [
    {
     "name": "stdout",
     "output_type": "stream",
     "text": [
      "doi: 10.6084/m9.figshare.7368278.v1 solves to \n",
      "url: https://doi.org/10.6084/m9.figshare.7368278.v1\n"
     ]
    }
   ],
   "source": [
    "#::GMG::Here we get the article indirect URL (id) which redirects \n",
    "#       to the figshare article's landing page ...\n",
    "print('doi: {} solves to \\nurl: {}'.format(json_doi_figshare['DOI'], \n",
    "                json_doi_figshare['id']))"
   ]
  },
  {
   "cell_type": "markdown",
   "metadata": {
    "colab_type": "text",
    "id": "upmeMomAhdHk"
   },
   "source": [
    "### 4: Show relevant information, like author, title, description..."
   ]
  },
  {
   "cell_type": "markdown",
   "metadata": {
    "colab_type": "text",
    "id": "nVKl9UEshr69"
   },
   "source": [
    "#### Zenodo (REST API)"
   ]
  },
  {
   "cell_type": "code",
   "execution_count": 0,
   "metadata": {
    "colab": {
     "base_uri": "https://localhost:8080/",
     "height": 540
    },
    "colab_type": "code",
    "executionInfo": {
     "elapsed": 2525,
     "status": "ok",
     "timestamp": 1544051506038,
     "user": {
      "displayName": "Gerardo de Miguel",
      "photoUrl": "https://lh3.googleusercontent.com/-LmFLfSn0ThU/AAAAAAAAAAI/AAAAAAAAAkg/xGe-_jxkcZA/s64/photo.jpg",
      "userId": "12735548512534412210"
     },
     "user_tz": -60
    },
    "id": "rA00M4IthpPj",
    "outputId": "cb1556e4-d1ae-4728-85e3-d48483d4ab5c"
   },
   "outputs": [
    {
     "data": {
      "text/plain": [
       "{'access_right': 'open',\n",
       " 'access_right_category': 'success',\n",
       " 'communities': [{'id': 'biosyslit'}],\n",
       " 'creators': [{'affiliation': '<div>Universidad Nacional del Sur, Bahía Blanca, Argentina</div>',\n",
       "   'name': 'Testoni, Daniel'},\n",
       "  {'affiliation': '<div>University of Zurich, Zürich, Switzerland</div>',\n",
       "   'name': 'Linder, H. Peter'}],\n",
       " 'description': '<p>Cortaderia (Poaceae; Danthonioideae) is a medium-sized genus of C3 tussock grasses, widespread in the temperate to tropic-alpine regions of South America. It is particularly important in the subalpine and alpine zones of the Andes. We revised the classification of the genus, and recognize 17 species grouped into five informal groups. We describe one new species, Cortaderia echinata H.P.Linder, from Peru. We provide a key to the groups and the species, complete nomenclature for each species including new lectotypes, and notes on the ecology, distribution and diagnostic morphological and anatomical characters.</p>',\n",
       " 'doi': '10.3897/phytokeys.76.10808',\n",
       " 'journal': {'issue': '',\n",
       "  'pages': '39-69',\n",
       "  'title': 'PhytoKeys',\n",
       "  'volume': '76'},\n",
       " 'keywords': ['Leaf anatomy',\n",
       "  'key',\n",
       "  'nomenclature',\n",
       "  'South America',\n",
       "  'taxonomy'],\n",
       " 'license': {'id': 'CC-BY-4.0'},\n",
       " 'publication_date': '2017-01-11',\n",
       " 'relations': {'version': [{'count': 1,\n",
       "    'index': 0,\n",
       "    'is_last': True,\n",
       "    'last_child': {'pid_type': 'recid', 'pid_value': '238999'},\n",
       "    'parent': {'pid_type': 'recid', 'pid_value': '724496'}}]},\n",
       " 'resource_type': {'subtype': 'article',\n",
       "  'title': 'Journal article',\n",
       "  'type': 'publication'},\n",
       " 'title': 'Synoptic taxonomy of Cortaderia Stapf (Danthonioideae, Poaceae)'}"
      ]
     },
     "execution_count": 8,
     "metadata": {
      "tags": []
     },
     "output_type": "execute_result"
    }
   ],
   "source": [
    "#::GMG::I use 'metadata' key from Zenodo REST API response here\n",
    "zenodo_json_metadata = json_record['metadata']\n",
    "zenodo_json_metadata\n"
   ]
  },
  {
   "cell_type": "code",
   "execution_count": 0,
   "metadata": {
    "colab": {
     "base_uri": "https://localhost:8080/",
     "height": 89
    },
    "colab_type": "code",
    "executionInfo": {
     "elapsed": 516,
     "status": "ok",
     "timestamp": 1544052238418,
     "user": {
      "displayName": "Gerardo de Miguel",
      "photoUrl": "https://lh3.googleusercontent.com/-LmFLfSn0ThU/AAAAAAAAAAI/AAAAAAAAAkg/xGe-_jxkcZA/s64/photo.jpg",
      "userId": "12735548512534412210"
     },
     "user_tz": -60
    },
    "id": "N0WOQK8Wpa4X",
    "outputId": "d4b6403f-05b4-43dc-ee1f-9a0daef01385"
   },
   "outputs": [
    {
     "name": "stdout",
     "output_type": "stream",
     "text": [
      "Title: Synoptic taxonomy of Cortaderia Stapf (Danthonioideae, Poaceae)\n",
      "Description: Cortaderia (Poaceae; Danthonioideae) is a medium-sized genus of C3 tussock grasses, widespread in the temperate to tropic-alpine regions of South America. It is particularly important in the subalpine and alpine zones of the Andes. We revised the classification of the genus, and recognize 17 species grouped into five informal groups. We describe one new species, Cortaderia echinata H.P.Linder, from Peru. We provide a key to the groups and the species, complete nomenclature for each species including new lectotypes, and notes on the ecology, distribution and diagnostic morphological and anatomical characters.\n",
      "Authors: Testoni, Daniel and Linder, H. Peter\n"
     ]
    }
   ],
   "source": [
    "#::GMG::I must strip out the alien tags embedded in the description ... :)\n",
    "# https://stackoverflow.com/questions/753052/strip-html-from-strings-in-python\n",
    "import re\n",
    "print('Title: {}\\nDescription: {}\\nAuthors: {} and {}'.format(\n",
    "    json_record['metadata']['title'],\n",
    "    re.sub('<[^<]+?>', '', json_record['metadata']['description']),\n",
    "    json_record['metadata']['creators'][0]['name'],\n",
    "    json_record['metadata']['creators'][1]['name']\n",
    "    )\n",
    ")\n",
    "#::note::I'm curious abut the most pythonic way of accessing values in this \n",
    "#        type of nested complex dictionaries ....\n",
    "#\n",
    "# https://www.programiz.com/python-programming/nested-dictionary\n",
    "# https://www.haykranen.nl/2016/02/13/handling-complex-nested-dicts-in-python/\n",
    "# https://stackoverflow.com/questions/14692690/access-nested-dictionary-items-via-a-list-of-keys"
   ]
  },
  {
   "cell_type": "markdown",
   "metadata": {
    "colab_type": "text",
    "id": "D7Lkj9BGUh5C"
   },
   "source": [
    "#### Zenodo (doi.org)"
   ]
  },
  {
   "cell_type": "code",
   "execution_count": 29,
   "metadata": {
    "colab": {
     "base_uri": "https://localhost:8080/",
     "height": 69
    },
    "colab_type": "code",
    "executionInfo": {
     "elapsed": 543,
     "status": "ok",
     "timestamp": 1544080680717,
     "user": {
      "displayName": "Gerardo de Miguel",
      "photoUrl": "https://lh3.googleusercontent.com/-LmFLfSn0ThU/AAAAAAAAAAI/AAAAAAAAAkg/xGe-_jxkcZA/s64/photo.jpg",
      "userId": "12735548512534412210"
     },
     "user_tz": -60
    },
    "id": "QhX8jrOEUoFu",
    "outputId": "cc621ac2-2af8-4284-dc0e-cbc372dc1d3c"
   },
   "outputs": [
    {
     "name": "stdout",
     "output_type": "stream",
     "text": [
      "Title: Synoptic taxonomy of Cortaderia Stapf (Danthonioideae, Poaceae)\n",
      "Description: --> ::GMG::No description available\n",
      "Authors: Daniel Testoni and H. Peter Linder\n"
     ]
    }
   ],
   "source": [
    "#::GMG::The resolved DOI also has metadata ...\n",
    "print('Title: {}\\nDescription: {}\\nAuthors: {} and {}'.format(\n",
    "    json_doi_zenodo['title'],\n",
    "    '--> ::GMG::No description available',\n",
    "    json_doi_zenodo['author'][0]['given'] + ' ' +\n",
    "    json_doi_zenodo['author'][0]['family'],\n",
    "    json_doi_zenodo['author'][1]['given'] + ' ' +\n",
    "    json_doi_zenodo['author'][1]['family']    \n",
    "    )\n",
    ")"
   ]
  },
  {
   "cell_type": "markdown",
   "metadata": {
    "colab_type": "text",
    "id": "fTkIOYu5UkXR"
   },
   "source": [
    "#### Figshare (REST API)"
   ]
  },
  {
   "cell_type": "code",
   "execution_count": 42,
   "metadata": {
    "colab": {
     "base_uri": "https://localhost:8080/",
     "height": 89
    },
    "colab_type": "code",
    "executionInfo": {
     "elapsed": 594,
     "status": "ok",
     "timestamp": 1544082186253,
     "user": {
      "displayName": "Gerardo de Miguel",
      "photoUrl": "https://lh3.googleusercontent.com/-LmFLfSn0ThU/AAAAAAAAAAI/AAAAAAAAAkg/xGe-_jxkcZA/s64/photo.jpg",
      "userId": "12735548512534412210"
     },
     "user_tz": -60
    },
    "id": "OkvzMcGzZVRm",
    "outputId": "a1505b4f-3420-4cdf-a2f3-c29a05abc731"
   },
   "outputs": [
    {
     "name": "stdout",
     "output_type": "stream",
     "text": [
      "Title: Multiple linear regression model to evaluate the market value of residential apartments in Fortaleza, CE\n",
      "Description: Abstract The valuation of real estate, which assists in the definition of market value, is an important science with a wide field of action, which includes the collection of taxes, commercial transactions, insurance and judicial expertise. This study presents the construction of a linear regression model to determine the market value (dependent variable) of residential apartments in the city of Fortaleza-CE. The studied database presents 17,493 apartments, divided into 227 plan types in a total of 154 projects launched between the years of 2011 and 2014. The model developed was obtained using Multiple Linear Regression associated with the Ridge Regression technique to solve the existing multicollinearity problem. In the analysis of 30 variables (12 quantitative and 18 dummy type qualitative variables), an equation with 6 variables was reached, which meets the theoretical assumptions for its existence.\n",
      "Authors: David Brandão Nunes and José de Paula Barros Neto\n"
     ]
    }
   ],
   "source": [
    "#::GMG::The figshare REST API provides the metadata requested\n",
    "#  I must strip out the alien tags embedded in the description ...again! ;)\n",
    "# https://stackoverflow.com/questions/753052/strip-html-from-strings-in-python\n",
    "import re\n",
    "print('Title: {}\\nDescription: {}\\nAuthors: {} and {}'.format(\n",
    "    json_article_figshare['title'],\n",
    "    re.sub('<[^<]+?>', '', json_article_figshare['description']),\n",
    "    json_article_figshare['authors'][0]['full_name'],\n",
    "    json_article_figshare['authors'][1]['full_name']\n",
    "    )\n",
    ")"
   ]
  },
  {
   "cell_type": "markdown",
   "metadata": {
    "colab_type": "text",
    "id": "76GVR8zsZFAA"
   },
   "source": [
    "#### Figshare (doi.org)"
   ]
  },
  {
   "cell_type": "code",
   "execution_count": 43,
   "metadata": {
    "colab": {
     "base_uri": "https://localhost:8080/",
     "height": 89
    },
    "colab_type": "code",
    "executionInfo": {
     "elapsed": 698,
     "status": "ok",
     "timestamp": 1544083049982,
     "user": {
      "displayName": "Gerardo de Miguel",
      "photoUrl": "https://lh3.googleusercontent.com/-LmFLfSn0ThU/AAAAAAAAAAI/AAAAAAAAAkg/xGe-_jxkcZA/s64/photo.jpg",
      "userId": "12735548512534412210"
     },
     "user_tz": -60
    },
    "id": "KHmB-dkteJpX",
    "outputId": "04377db4-659e-4b36-bf61-c6dee10ecc7c"
   },
   "outputs": [
    {
     "name": "stdout",
     "output_type": "stream",
     "text": [
      "Title: Multiple linear regression model to evaluate the market value of residential apartments in Fortaleza, CE\n",
      "Description: Abstract The valuation of real estate, which assists in the definition of market value, is an important science with a wide field of action, which includes the collection of taxes, commercial transactions, insurance and judicial expertise. This study presents the construction of a linear regression model to determine the market value (dependent variable) of residential apartments in the city of Fortaleza-CE. The studied database presents 17,493 apartments, divided into 227 plan types in a total of 154 projects launched between the years of 2011 and 2014. The model developed was obtained using Multiple Linear Regression associated with the Ridge Regression technique to solve the existing multicollinearity problem. In the analysis of 30 variables (12 quantitative and 18 dummy type qualitative variables), an equation with 6 variables was reached, which meets the theoretical assumptions for its existence.\n",
      "Authors: David Brandão Nunes and José De Paula Barros Neto\n"
     ]
    }
   ],
   "source": [
    "#::GMG::I have more metadata info available here than in Zenodo (DOI)\n",
    "print('Title: {}\\nDescription: {}\\nAuthors: {} and {}'.format(\n",
    "    json_doi_figshare['title'],\n",
    "    json_doi_figshare['abstract'],\n",
    "    json_doi_figshare['author'][0]['given'] + ' ' +\n",
    "    json_doi_figshare['author'][0]['family'],\n",
    "    json_doi_figshare['author'][1]['given'] + ' ' +\n",
    "    json_doi_figshare['author'][1]['family'],\n",
    "    )\n",
    ")"
   ]
  },
  {
   "cell_type": "markdown",
   "metadata": {
    "colab_type": "text",
    "id": "FsxqlPLnUdS8"
   },
   "source": [
    "### Others (pending)"
   ]
  },
  {
   "cell_type": "markdown",
   "metadata": {
    "colab_type": "text",
    "id": "05qYDLdCSeWh"
   },
   "source": [
    "* 5: Which kind of \"types\" are defined in the PIDs?\n",
    "* 6: Is there any difference managing the DOIs/PIDs between the different repositories? (textual answer)"
   ]
  }
 ],
 "metadata": {
  "colab": {
   "collapsed_sections": [
    "Ab6Qryh6h58S",
    "V5GYRihYh_5x",
    "cY285qYFiLeK",
    "GeXnXTjcQhZi",
    "LtSNx2m7Qodc",
    "-iCIJTbDQwxL",
    "R6JOGFKJiXBI",
    "8GOJSNNhSeVk",
    "npRsYaBEZwa1",
    "wJM3D76ckTVz",
    "Zj-bH3VVHsrm",
    "iCfi_hFjSeWL",
    "RIfMzltwSeWP",
    "3yOgHumDdX5U",
    "qTIEPTUseb71",
    "kDMGO0xblB8h",
    "oOu5KDtEmVv-",
    "GcBmTH5xr8l3",
    "MHzGgV52rrOQ",
    "wwm41oxedF7V",
    "AaK8G9pGdK8N",
    "316jia9Uza3h",
    "O0nbddnomFic",
    "16oKj43YjT0M",
    "VYSD4fBbjYUp",
    "tEnD5G0T0kVs",
    "kXVLL5SSjskj",
    "P5XZk1ifjvml",
    "upmeMomAhdHk",
    "nVKl9UEshr69",
    "D7Lkj9BGUh5C",
    "fTkIOYu5UkXR",
    "76GVR8zsZFAA",
    "FsxqlPLnUdS8"
   ],
   "name": "DOI.ipynb",
   "provenance": [],
   "version": "0.3.2"
  },
  "kernelspec": {
   "display_name": "Python 3",
   "language": "python",
   "name": "python3"
  }
 },
 "nbformat": 4,
 "nbformat_minor": 0
}
