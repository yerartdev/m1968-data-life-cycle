{
 "cells": [
  {
   "cell_type": "markdown",
   "metadata": {},
   "source": [
    "## Modelos de mapeado: LAV\n",
    "\n",
    "ETL03-Mapeado (S13_S17)"
   ]
  },
  {
   "cell_type": "code",
   "execution_count": 1,
   "metadata": {},
   "outputs": [],
   "source": [
    "import sqlite3"
   ]
  },
  {
   "cell_type": "markdown",
   "metadata": {},
   "source": [
    "### 1. Esquema global "
   ]
  },
  {
   "cell_type": "markdown",
   "metadata": {},
   "source": [
    "con dos tablas:\n",
    "\n",
    "- Libro\n",
    "- Autor\n",
    "\n",
    "Y una relación m-m entre ellas."
   ]
  },
  {
   "cell_type": "code",
   "execution_count": null,
   "metadata": {},
   "outputs": [],
   "source": [
    "conn = sqlite3.connect('integrada-lav.db')\n",
    "c = conn.cursor()\n",
    "\n",
    "# Creamos la tabla\n",
    "c.execute('''create table Libro\n",
    "             (\n",
    "               idLibro integer not null unique primary_key, \n",
    "               titulo varchar(255), \n",
    "               editorial varchar(45),\n",
    "               fecha date,\n",
    "               isbn varhcar(13)\n",
    "             );\n",
    "          \n",
    "          create table Autor\n",
    "          (\n",
    "            idAutor integer not null unique primary key,\n",
    "            nombre varchar(75)\n",
    "          );\n",
    "          \n",
    "          create table Autor_has_Libro\n",
    "          (\n",
    "            Autor_idAutor integer not null,\n",
    "            Libro_idLibro interger not null,\n",
    "            foreign key (Autor_idAutor) references Autor (idAutor),\n",
    "            foreign key (Libro_idLibro) references Libro (idLibro),\n",
    "            primary key (Autor_idAutor, Libro_idLibro)\n",
    "          );\n",
    "          ''')\n",
    "\n",
    "conn.commit()\n",
    "\n",
    "conn.close()"
   ]
  },
  {
   "cell_type": "markdown",
   "metadata": {},
   "source": [
    "### 2. Fuentes"
   ]
  },
  {
   "cell_type": "markdown",
   "metadata": {},
   "source": [
    "Tres fuentes distintas:"
   ]
  },
  {
   "cell_type": "markdown",
   "metadata": {},
   "source": [
    "#### Librería 1: base de datos relacional."
   ]
  },
  {
   "cell_type": "code",
   "execution_count": null,
   "metadata": {},
   "outputs": [],
   "source": [
    "#::GMG::Creamos la tabla de la fuente library-uk\n",
    "conn = sqlite3.connect('library-uk.db')\n",
    "c = conn.cursor()\n",
    "\n",
    "# Creamos la tabla\n",
    "c.execute('''CREATE TABLE Book\n",
    "             (idBook integer not null unique primary_key, \n",
    "              title varchar(245), \n",
    "              authors text,\n",
    "              publisher varchar(45),\n",
    "              year integer,\n",
    "              price varchar(45),\n",
    "              ISBN varchar(13)\n",
    "             );''')\n",
    "\n",
    "conn.commit()\n",
    "\n",
    "conn.close()"
   ]
  },
  {
   "cell_type": "code",
   "execution_count": null,
   "metadata": {},
   "outputs": [],
   "source": [
    "#::GMG::Crear los datos para rellernar con faker(?)"
   ]
  },
  {
   "cell_type": "markdown",
   "metadata": {},
   "source": [
    "#### Librería 2: base de datos relacional."
   ]
  },
  {
   "cell_type": "code",
   "execution_count": null,
   "metadata": {},
   "outputs": [],
   "source": [
    "#::GMG::Crear el modelo de la fuente library-es\n",
    "conn = sqlite3.connect('library-es.db')\n",
    "c = conn.cursor()\n",
    "\n",
    "# Creamos la tabla\n",
    "c.execute('''CREATE TABLE Publicacion(\n",
    "   idPublicacion int not null UNIQUE PRIMARY KEY,\n",
    "   Titulo varchar(255) null,\n",
    "   Editorial varchar(45) null,\n",
    "   Lengua varchar(45) null,\n",
    "   FechaPublicacion date null,\n",
    "   Precio float null);\n",
    "\n",
    "CREATE TABLE Rol(\n",
    "   idRol int not null UNIQUE PRIMARY KEY,\n",
    "   rol varchar(45) null);\n",
    "\n",
    "CREATE TABLE Persona(\n",
    "   idPersona int not null UNIQUE PRIMARY KEY,\n",
    "   Nombre varchar(45) null,\n",
    "   Apellido1 varchar(45) null,\n",
    "   Apellido2 varchar(45) null,\n",
    "   FechaNacimiento date);\n",
    "\n",
    "CREATE TABLE Persona_has_Publicacion(\n",
    "   Persona_ idPersona int not null,\n",
    "   Publicacion_idPublicacion int not null,\n",
    "   Rol_idRol int not null,\n",
    "   PRIMARY KEY (Persona_idPersona, Publicacion_idPublicacion),\n",
    "   FOREIGN KEY (Rol_idRol) REFERENCES Rol (idRol),   \t \n",
    "   FOREIGN KEY (Persona_idPersona) REFERENCES Persona (idPersona),\n",
    "   FOREIGN KEY (Publicacion_idPublicacion) REFERENCES Publicacion (idPublicacion));''')\n",
    "\n",
    "conn.commit()\n",
    "conn.close()"
   ]
  },
  {
   "cell_type": "code",
   "execution_count": null,
   "metadata": {},
   "outputs": [],
   "source": [
    "#::GMG::Rellenar los datos de las tablas con Faker\n"
   ]
  },
  {
   "cell_type": "markdown",
   "metadata": {},
   "source": [
    "#### Librería 3: catalogo XML."
   ]
  },
  {
   "cell_type": "code",
   "execution_count": null,
   "metadata": {},
   "outputs": [],
   "source": [
    "#::GMG::Aquí hay que construir el modelo XML con Element Tree\n",
    "# https://docs.python.org/3/library/xml.etree.elementtree.html"
   ]
  },
  {
   "cell_type": "code",
   "execution_count": null,
   "metadata": {},
   "outputs": [],
   "source": [
    "#::GMG::Generar datos para rellenar el tree con faker\n",
    "# https://faker.readthedocs.io/en/master/"
   ]
  }
 ],
 "metadata": {
  "kernelspec": {
   "display_name": "Python 3",
   "language": "python",
   "name": "python3"
  },
  "language_info": {
   "codemirror_mode": {
    "name": "ipython",
    "version": 3
   },
   "file_extension": ".py",
   "mimetype": "text/x-python",
   "name": "python",
   "nbconvert_exporter": "python",
   "pygments_lexer": "ipython3",
   "version": "3.6.5"
  }
 },
 "nbformat": 4,
 "nbformat_minor": 2
}
